{
 "cells": [
  {
   "cell_type": "markdown",
   "id": "aa1a844f-c2da-499b-ad4c-ae89fdb460e8",
   "metadata": {},
   "source": [
    "## 01 - Variables are Memory References"
   ]
  },
  {
   "cell_type": "code",
   "execution_count": null,
   "id": "5d039728-e6b5-4b96-a863-770d28a16893",
   "metadata": {},
   "outputs": [],
   "source": [
    "import sys"
   ]
  },
  {
   "cell_type": "code",
   "execution_count": null,
   "id": "1ee48bfa-34e7-4f8a-bac7-4093c0d95c01",
   "metadata": {},
   "outputs": [],
   "source": [
    "my_var = 10\n",
    "print('my_var = {0}'.format(my_var))\n",
    "print('memory address of my_var (decimal): {0}'.format(id(my_var)))\n",
    "print('memory address of my_var (hex): {0}'.format(hex(id(my_var))))\n",
    "sys.getsizeof(my_var)"
   ]
  },
  {
   "cell_type": "code",
   "execution_count": null,
   "id": "d5e8916d-5573-42c0-8f35-bcc141684117",
   "metadata": {},
   "outputs": [],
   "source": [
    "greeting = 'Hello'\n",
    "print('greeting = {0}'.format(greeting))\n",
    "print('memory address of my_var (decimal): {0}'.format(id(greeting)))\n",
    "print('memory address of my_var (hex): {0}'.format(hex(id(greeting))))\n",
    "sys.getsizeof(greeting)"
   ]
  },
  {
   "cell_type": "markdown",
   "id": "29c794c8-214d-4f62-9c6a-f78ea7ca3541",
   "metadata": {},
   "source": [
    "## 02 - Reference Counting"
   ]
  },
  {
   "cell_type": "code",
   "execution_count": null,
   "id": "3bde8d6c-ef57-4e75-bfc7-1d8aa8993d2f",
   "metadata": {},
   "outputs": [],
   "source": [
    "import sys\n",
    "import ctypes"
   ]
  },
  {
   "cell_type": "code",
   "execution_count": null,
   "id": "0c0b2cf4-b4be-4223-916c-a2273c00cff7",
   "metadata": {},
   "outputs": [],
   "source": [
    "def object_size(var_name):\n",
    "    return sys.getsizeof(var_name)\n",
    "\n",
    "def ref_count(address: int):\n",
    "    return ctypes.c_long.from_address(address).value\n",
    "\n",
    "# def print_obj_stats(var):\n",
    "#     obj_type = type(var)\n",
    "#     obj_addr = id(var)\n",
    "#     obj_addr_hex = hex(obj_addr)\n",
    "#     obj_size = object_size(obj_addr)\n",
    "#     obj_ref_cnt = ref_count(obj_addr)\n",
    "    \n",
    "#     print(f\"var: {var}\")\n",
    "#     print(f\"type: {obj_type}\")\n",
    "#     print(f\"addr: {obj_addr_hex}\")\n",
    "#     print(f\"size: {obj_size}\")\n",
    "#     print(f\"ref_count: {obj_ref_cnt}\")\n",
    "#     return None"
   ]
  },
  {
   "cell_type": "code",
   "execution_count": null,
   "id": "d953a8a4-a1d0-4640-852c-b11eea638dec",
   "metadata": {},
   "outputs": [],
   "source": [
    "var = [1, 2, 3, 4]\n",
    "\n",
    "obj_type = type(var)\n",
    "obj_size = object_size(var)\n",
    "obj_addr = id(var)\n",
    "obj_addr_hex = hex(obj_addr)\n",
    "obj_ref_cnt = ref_count(obj_addr)\n",
    "\n",
    "print(f\"var: {var}\")\n",
    "print(f\"type: {obj_type}\")\n",
    "print(f\"size: {obj_size}\")\n",
    "print(f\"addr: {obj_addr_hex}\")\n",
    "print(f\"ref_count: {obj_ref_cnt}\")\n",
    "# object_size(var)"
   ]
  },
  {
   "cell_type": "code",
   "execution_count": null,
   "id": "a058076f-f3a1-4141-9686-8058c4491355",
   "metadata": {},
   "outputs": [],
   "source": [
    "other_var = var\n",
    "\n",
    "obj_type = type(other_var)\n",
    "obj_addr = id(other_var)\n",
    "obj_addr_hex = hex(obj_addr)\n",
    "obj_size = object_size(other_var)\n",
    "obj_ref_cnt = ref_count(obj_addr)\n",
    "\n",
    "print(f\"var: {var}\")\n",
    "print(f\"type: {obj_type}\")\n",
    "print(f\"addr: {obj_addr_hex}\")\n",
    "print(f\"size: {obj_size}\")\n",
    "print(f\"ref_count: {obj_ref_cnt}\")"
   ]
  },
  {
   "cell_type": "code",
   "execution_count": null,
   "id": "815ae931-4129-4dde-ae19-510c4d4f528b",
   "metadata": {},
   "outputs": [],
   "source": [
    "other_var = None\n",
    "\n",
    "obj_type = type(other_var)\n",
    "obj_size = object_size(other_var)\n",
    "obj_addr = id(other_var)\n",
    "obj_addr_hex = hex(obj_addr)\n",
    "obj_ref_cnt = ref_count(obj_addr)\n",
    "\n",
    "print(f\"var: {other_var}\")\n",
    "print(f\"type: {obj_type}\")\n",
    "print(f\"size: {obj_size}\")\n",
    "print(f\"addr: {obj_addr_hex}\")\n",
    "print(f\"ref_count: {obj_ref_cnt}\")"
   ]
  },
  {
   "cell_type": "code",
   "execution_count": null,
   "id": "3666f05d-3ed2-4e77-ab76-d05bd6233d7f",
   "metadata": {},
   "outputs": [],
   "source": [
    "var = None\n",
    "\n",
    "obj_type = type(var)\n",
    "obj_size = object_size(var)\n",
    "obj_addr = id(var)\n",
    "obj_addr_hex = hex(obj_addr)\n",
    "obj_ref_cnt = ref_count(obj_addr)\n",
    "\n",
    "print(f\"var: {var}\")\n",
    "print(f\"type: {obj_type}\")\n",
    "print(f\"size: {obj_size}\")\n",
    "print(f\"addr: {obj_addr_hex}\")\n",
    "print(f\"ref_count: {obj_ref_cnt}\")"
   ]
  },
  {
   "cell_type": "code",
   "execution_count": null,
   "id": "d7950698-df9e-4447-b2a8-19097e29b62c",
   "metadata": {},
   "outputs": [],
   "source": [
    "print(type(var))\n",
    "print(id(var))"
   ]
  },
  {
   "cell_type": "code",
   "execution_count": null,
   "id": "abed078f-42e0-43f8-a711-b022534fbe0f",
   "metadata": {},
   "outputs": [],
   "source": [
    "print(type(other_var))\n",
    "print(id(other_var))"
   ]
  },
  {
   "cell_type": "code",
   "execution_count": null,
   "id": "da72325d-5666-4895-8818-37a6a75bef1a",
   "metadata": {},
   "outputs": [],
   "source": [
    "dir()"
   ]
  },
  {
   "cell_type": "code",
   "execution_count": null,
   "id": "8d539bd4-f0a2-4510-acc2-49234422523d",
   "metadata": {},
   "outputs": [],
   "source": []
  },
  {
   "cell_type": "markdown",
   "id": "84f791d9-bfb4-4bd4-ba48-392d2cf75f11",
   "metadata": {},
   "source": [
    "## 03 - Garbage Collection"
   ]
  },
  {
   "cell_type": "code",
   "execution_count": null,
   "id": "f4783b65-ac97-4db7-83fd-ff8822c64175",
   "metadata": {},
   "outputs": [],
   "source": [
    "import ctypes\n",
    "import gc"
   ]
  },
  {
   "cell_type": "code",
   "execution_count": null,
   "id": "c9aa5786-27ec-42d6-a5e8-40c8497ce776",
   "metadata": {},
   "outputs": [],
   "source": [
    "def ref_count(address):\n",
    "    return ctypes.c_long.from_address(address).value"
   ]
  },
  {
   "cell_type": "code",
   "execution_count": null,
   "id": "da4f1298-e7a5-45ba-942c-0df6b67995e1",
   "metadata": {},
   "outputs": [],
   "source": [
    "def object_by_id(object_id):\n",
    "    for obj in gc.get_objects():\n",
    "        if id(obj) == object_id:\n",
    "            return \"Objects exists\"\n",
    "    return \"Not found\""
   ]
  },
  {
   "cell_type": "code",
   "execution_count": null,
   "id": "43fc7383-696e-422f-9235-5468078d62c5",
   "metadata": {},
   "outputs": [],
   "source": [
    "class A:\n",
    "    def __init__(self):\n",
    "        self.b =B(self)\n",
    "        print('A: self: {0}, b: {1}'.format(hex(id(self)), hex(id(self.b))))"
   ]
  },
  {
   "cell_type": "code",
   "execution_count": null,
   "id": "9fe924fe-0dd6-4846-a466-d5391fca1ccd",
   "metadata": {},
   "outputs": [],
   "source": [
    "class B:\n",
    "    def __init__(self, a):\n",
    "        self.a = a\n",
    "        print('B: self: {0}, a: {1}'.format(hex(id(self)), hex(id(self.a))))"
   ]
  },
  {
   "cell_type": "code",
   "execution_count": null,
   "id": "64b7243a-b7f0-4397-9c52-1a2bda34a1e9",
   "metadata": {},
   "outputs": [],
   "source": [
    "gc.disable()"
   ]
  },
  {
   "cell_type": "code",
   "execution_count": null,
   "id": "0643a92e-97a5-4b8b-87ab-88b9430d424f",
   "metadata": {},
   "outputs": [],
   "source": [
    "my_var = A()"
   ]
  },
  {
   "cell_type": "code",
   "execution_count": null,
   "id": "14c0c7eb-1a8b-4c54-a0db-57f0bf23b78f",
   "metadata": {},
   "outputs": [],
   "source": [
    "hex(id(my_var))"
   ]
  },
  {
   "cell_type": "code",
   "execution_count": null,
   "id": "54016540-4f7f-47a5-9817-d439be22b0ac",
   "metadata": {},
   "outputs": [],
   "source": [
    "print(hex(id(my_var.b)))\n",
    "print(hex(id(my_var.b.a)))"
   ]
  },
  {
   "cell_type": "code",
   "execution_count": null,
   "id": "7aa3d768-23cb-4b9c-b8ff-d062867abcf7",
   "metadata": {},
   "outputs": [],
   "source": [
    "a_id = id(my_var)\n",
    "b_id = id(my_var.b)"
   ]
  },
  {
   "cell_type": "code",
   "execution_count": null,
   "id": "afcfaebc-1415-4287-9b89-1dbf3e36c27a",
   "metadata": {},
   "outputs": [],
   "source": [
    "print(hex(a_id))\n",
    "print(hex(b_id))"
   ]
  },
  {
   "cell_type": "code",
   "execution_count": null,
   "id": "0bc3d936-9601-41e0-a304-214c277f3ba5",
   "metadata": {},
   "outputs": [],
   "source": [
    "ref_count(a_id)"
   ]
  },
  {
   "cell_type": "code",
   "execution_count": null,
   "id": "e268529a-9dca-40e1-84cd-d1201f5bcd18",
   "metadata": {},
   "outputs": [],
   "source": [
    "ref_count(b_id)"
   ]
  },
  {
   "cell_type": "code",
   "execution_count": null,
   "id": "74d5369b-7c0d-4cad-a5ed-0c712fd4ab0a",
   "metadata": {},
   "outputs": [],
   "source": [
    "object_by_id(a_id)"
   ]
  },
  {
   "cell_type": "code",
   "execution_count": null,
   "id": "38a08e30-5506-4575-ae5c-4464fd10cd17",
   "metadata": {},
   "outputs": [],
   "source": [
    "object_by_id(b_id)"
   ]
  },
  {
   "cell_type": "code",
   "execution_count": null,
   "id": "aeec9814-7b5e-4e81-8d7d-3fdffe31896b",
   "metadata": {},
   "outputs": [],
   "source": [
    "my_var = None"
   ]
  },
  {
   "cell_type": "code",
   "execution_count": null,
   "id": "75e12c17-ba6c-43e0-89ea-525288cd54da",
   "metadata": {},
   "outputs": [],
   "source": [
    "ref_count(a_id)"
   ]
  },
  {
   "cell_type": "code",
   "execution_count": null,
   "id": "b017832c-17f5-4c70-a71b-a9ae68f038b6",
   "metadata": {},
   "outputs": [],
   "source": [
    "ref_count(b_id)"
   ]
  },
  {
   "cell_type": "code",
   "execution_count": null,
   "id": "416e9649-9252-4234-88f4-efc1a84360b4",
   "metadata": {},
   "outputs": [],
   "source": [
    "object_by_id(a_id)"
   ]
  },
  {
   "cell_type": "code",
   "execution_count": null,
   "id": "a6e29dfe-0e10-4ea3-bbb1-9b7d837861b5",
   "metadata": {},
   "outputs": [],
   "source": [
    "object_by_id(b_id)"
   ]
  },
  {
   "cell_type": "code",
   "execution_count": null,
   "id": "5defcb1f-81ba-4aeb-a026-272b4d6d7bec",
   "metadata": {},
   "outputs": [],
   "source": [
    "gc.collect() # executes garbage collection; looks for circular references"
   ]
  },
  {
   "cell_type": "code",
   "execution_count": null,
   "id": "41a7644e-ee89-435f-8894-4abb47de031b",
   "metadata": {},
   "outputs": [],
   "source": [
    "object_by_id(a_id)"
   ]
  },
  {
   "cell_type": "code",
   "execution_count": null,
   "id": "2015403c-927c-4633-9a2d-522bf32f4ea0",
   "metadata": {},
   "outputs": [],
   "source": [
    "object_by_id(b_id)"
   ]
  },
  {
   "cell_type": "code",
   "execution_count": null,
   "id": "fb0d059a-cac6-4fd8-a6fe-8e0e1f1ff6b1",
   "metadata": {},
   "outputs": [],
   "source": [
    "ref_count(a_id)"
   ]
  },
  {
   "cell_type": "code",
   "execution_count": null,
   "id": "90436d54-cb33-41eb-b662-e186b5f9624b",
   "metadata": {},
   "outputs": [],
   "source": [
    "ref_count(b_id)"
   ]
  },
  {
   "cell_type": "code",
   "execution_count": null,
   "id": "3a10ce2f-4ee2-4ad8-806d-d4653ace7cfd",
   "metadata": {},
   "outputs": [],
   "source": []
  },
  {
   "cell_type": "markdown",
   "id": "54526181-e7fb-4dc1-a760-8f854ad7d928",
   "metadata": {},
   "source": [
    "## 08. Object Mutability"
   ]
  },
  {
   "cell_type": "code",
   "execution_count": null,
   "id": "53c7a7bb-9736-4ed4-b357-faf62228163d",
   "metadata": {},
   "outputs": [],
   "source": [
    "a = [1, 2]"
   ]
  },
  {
   "cell_type": "code",
   "execution_count": null,
   "id": "1dcfe99f-facd-41a6-a306-59d1e21f4542",
   "metadata": {},
   "outputs": [],
   "source": [
    "b = [3, 4]"
   ]
  },
  {
   "cell_type": "code",
   "execution_count": null,
   "id": "f1f8d6b2-dc37-49bd-97fd-e764ef73fb87",
   "metadata": {},
   "outputs": [],
   "source": [
    "t = (a, b)\n",
    "t"
   ]
  },
  {
   "cell_type": "code",
   "execution_count": null,
   "id": "812de47e-f90f-4380-ba02-cda476b7555c",
   "metadata": {},
   "outputs": [],
   "source": [
    "print(hex(id(a)))\n",
    "print(hex(id(b)))\n",
    "print(hex(id(t)))"
   ]
  },
  {
   "cell_type": "code",
   "execution_count": null,
   "id": "e8aa1520-f094-411c-b76a-4e4ee3a2670c",
   "metadata": {},
   "outputs": [],
   "source": [
    "a.append(3)\n",
    "a"
   ]
  },
  {
   "cell_type": "code",
   "execution_count": null,
   "id": "fa5dcc97-d8a9-4575-a354-3fb430cb9caa",
   "metadata": {},
   "outputs": [],
   "source": [
    "b.append(5)\n",
    "b"
   ]
  },
  {
   "cell_type": "code",
   "execution_count": null,
   "id": "a11bffa6-ceeb-4de6-8558-5c9f6817ed91",
   "metadata": {},
   "outputs": [],
   "source": [
    "t"
   ]
  },
  {
   "cell_type": "code",
   "execution_count": null,
   "id": "f53d44ca-bcf2-4b34-b352-dc418f7eb0af",
   "metadata": {},
   "outputs": [],
   "source": [
    "print(hex(id(a)))\n",
    "print(hex(id(b)))\n",
    "print(hex(id(t)))"
   ]
  },
  {
   "cell_type": "code",
   "execution_count": null,
   "id": "a6aa2bcd-7577-4e0c-8efa-3cf994b30643",
   "metadata": {},
   "outputs": [],
   "source": []
  },
  {
   "cell_type": "code",
   "execution_count": null,
   "id": "a269c727-c368-4216-b4c5-9a73550342bf",
   "metadata": {},
   "outputs": [],
   "source": [
    "my_list_1 = [1, 2, 3]"
   ]
  },
  {
   "cell_type": "code",
   "execution_count": null,
   "id": "94c2e890-6568-4ac1-83ed-9c0379bc2ca6",
   "metadata": {},
   "outputs": [],
   "source": [
    "hex(id(my_list_1))"
   ]
  },
  {
   "cell_type": "code",
   "execution_count": null,
   "id": "ddc88cb4-1f60-4c79-afb0-9c5675376d77",
   "metadata": {},
   "outputs": [],
   "source": [
    "my_list_1 = my_list_1 + [4]"
   ]
  },
  {
   "cell_type": "code",
   "execution_count": null,
   "id": "1e096469-ad46-4075-8766-5e7013d78d2b",
   "metadata": {},
   "outputs": [],
   "source": [
    "my_list_1"
   ]
  },
  {
   "cell_type": "code",
   "execution_count": null,
   "id": "3b136ac2-45e2-4212-9765-ea9b2bfd0913",
   "metadata": {},
   "outputs": [],
   "source": [
    "hex(id(my_list_1))"
   ]
  },
  {
   "cell_type": "code",
   "execution_count": null,
   "id": "d7fb5ea0-bd8d-49c5-90c1-ff305d913fc5",
   "metadata": {},
   "outputs": [],
   "source": []
  },
  {
   "cell_type": "code",
   "execution_count": null,
   "id": "3a543539-fd2a-408e-9196-c325cee9ada0",
   "metadata": {},
   "outputs": [],
   "source": [
    "my_dict = dict(key1=1, key2='a')"
   ]
  },
  {
   "cell_type": "code",
   "execution_count": null,
   "id": "6957dc2a-0b16-43ea-81dc-aee2e21e4825",
   "metadata": {},
   "outputs": [],
   "source": [
    "my_dict"
   ]
  },
  {
   "cell_type": "code",
   "execution_count": null,
   "id": "6a37662c-577b-4ae9-962a-13b4f445135d",
   "metadata": {},
   "outputs": [],
   "source": [
    "hex(id(my_dict))"
   ]
  },
  {
   "cell_type": "code",
   "execution_count": null,
   "id": "142dedb9-bb57-4d9d-b81c-3a48b88da1a7",
   "metadata": {},
   "outputs": [],
   "source": [
    "my_dict['key3'] = 10.5"
   ]
  },
  {
   "cell_type": "code",
   "execution_count": null,
   "id": "1661b705-72ba-455b-b2f6-ffdb426de30a",
   "metadata": {},
   "outputs": [],
   "source": [
    "my_dict"
   ]
  },
  {
   "cell_type": "code",
   "execution_count": null,
   "id": "390e317f-0f99-4e5e-84af-322c57b590f6",
   "metadata": {},
   "outputs": [],
   "source": [
    "hex(id(my_dict))"
   ]
  },
  {
   "cell_type": "code",
   "execution_count": null,
   "id": "39f8f43a-473f-444a-94a8-d5ddc1c49934",
   "metadata": {},
   "outputs": [],
   "source": []
  },
  {
   "cell_type": "code",
   "execution_count": null,
   "id": "8cf04bdd-e1cc-478c-b474-bc7e8bddb67c",
   "metadata": {},
   "outputs": [],
   "source": [
    "t = (1, 2, 3)"
   ]
  },
  {
   "cell_type": "code",
   "execution_count": null,
   "id": "b4c9dcd8-6502-478e-8f6c-d7b7768ada5a",
   "metadata": {},
   "outputs": [],
   "source": [
    "hex(id(t))"
   ]
  },
  {
   "cell_type": "code",
   "execution_count": null,
   "id": "4d986245-4616-48d9-a0dc-45190b631872",
   "metadata": {},
   "outputs": [],
   "source": [
    "t[0]"
   ]
  },
  {
   "cell_type": "code",
   "execution_count": null,
   "id": "3a1a83f0-b62b-45b6-9478-9a3ab687cd6b",
   "metadata": {},
   "outputs": [],
   "source": [
    "hex(id(t[0]))"
   ]
  },
  {
   "cell_type": "code",
   "execution_count": null,
   "id": "8a8fa182-60e6-4014-bd48-fda4754add52",
   "metadata": {},
   "outputs": [],
   "source": [
    "hex(id(t[1]))"
   ]
  },
  {
   "cell_type": "code",
   "execution_count": null,
   "id": "0160f67f-1a73-40ac-bd56-e1765753be00",
   "metadata": {},
   "outputs": [],
   "source": []
  },
  {
   "cell_type": "code",
   "execution_count": null,
   "id": "fc875680-5872-4167-a446-fb140771d8a3",
   "metadata": {},
   "outputs": [],
   "source": [
    "t = ([1, 2], [3, 4])"
   ]
  },
  {
   "cell_type": "code",
   "execution_count": null,
   "id": "3ad16739-f031-41d7-8546-471c0424ed7b",
   "metadata": {},
   "outputs": [],
   "source": [
    "hex(id(t))"
   ]
  },
  {
   "cell_type": "code",
   "execution_count": null,
   "id": "19e95cf9-f88c-4dc6-932e-1835f9861953",
   "metadata": {},
   "outputs": [],
   "source": [
    "t[0]"
   ]
  },
  {
   "cell_type": "code",
   "execution_count": null,
   "id": "9b0db987-386f-4013-9e18-69bcd8a80fa8",
   "metadata": {},
   "outputs": [],
   "source": [
    "t[1]"
   ]
  },
  {
   "cell_type": "code",
   "execution_count": null,
   "id": "9c4406aa-1528-47fc-b030-066bec71ab72",
   "metadata": {},
   "outputs": [],
   "source": [
    "t[0].append(3)"
   ]
  },
  {
   "cell_type": "code",
   "execution_count": null,
   "id": "50ef1097-b33a-4d49-b2b6-7e9ca5ad02aa",
   "metadata": {},
   "outputs": [],
   "source": [
    "t"
   ]
  },
  {
   "cell_type": "code",
   "execution_count": null,
   "id": "f6869465-b46e-4264-ae8f-9708901b7673",
   "metadata": {},
   "outputs": [],
   "source": [
    "hex(id(t))"
   ]
  },
  {
   "cell_type": "markdown",
   "id": "553a7555-ad83-4fa0-9b46-fc4083b5a28a",
   "metadata": {},
   "source": [
    "## 07. Function Arguments and Mutability"
   ]
  },
  {
   "cell_type": "code",
   "execution_count": null,
   "id": "ab52eafe-4fc3-4f47-939d-d01bec9ee585",
   "metadata": {},
   "outputs": [],
   "source": [
    "# immutable string object s\n",
    "def process(s):\n",
    "    print(f\"\\nInitial s: {hex(id(s))}\")\n",
    "    s = s + ' world'\n",
    "    print(f\"Final s: {hex(id(s))}\")\n",
    "    return None"
   ]
  },
  {
   "cell_type": "code",
   "execution_count": null,
   "id": "40531626-5bb1-4a77-ba91-99b5212bcb4d",
   "metadata": {},
   "outputs": [],
   "source": [
    "my_var = 'hello'\n",
    "print(my_var)\n",
    "print(hex(id(my_var)))\n",
    "process(my_var)\n",
    "\n",
    "print(f\"\\n{s}\")\n",
    "print(hex(id(my_var)))"
   ]
  },
  {
   "cell_type": "code",
   "execution_count": null,
   "id": "1b876763-3916-4609-bd27-220b4938fa28",
   "metadata": {},
   "outputs": [],
   "source": [
    "# mutable list object items\n",
    "def  modify_list(items):\n",
    "    print(f\"initial items: {items}, {hex(id(items))}\")\n",
    "    if len(items) > 0:\n",
    "        items[0] = items[0] ** 2\n",
    "    items.pop()\n",
    "    items.append(5)\n",
    "    print(f\"final items: {items}, {hex(id(items))}\")\n",
    "    return None"
   ]
  },
  {
   "cell_type": "code",
   "execution_count": null,
   "id": "b508449d-0cf2-40a7-8209-a0fe64a898ee",
   "metadata": {},
   "outputs": [],
   "source": [
    "my_list = [2, 3, 4]\n",
    "print(f\"{my_list}, {hex(id(my_list))}\")"
   ]
  },
  {
   "cell_type": "code",
   "execution_count": null,
   "id": "dbd88db2-472d-4c16-921d-7963d3910a26",
   "metadata": {},
   "outputs": [],
   "source": [
    "modify_list(my_list)"
   ]
  },
  {
   "cell_type": "code",
   "execution_count": null,
   "id": "d60c2e55-cc97-4cd2-9978-4ae968f9584b",
   "metadata": {},
   "outputs": [],
   "source": [
    "print(f\"{my_list}, {hex(id(my_list))}\")"
   ]
  },
  {
   "cell_type": "code",
   "execution_count": null,
   "id": "8688bb27-c015-4eec-b2da-225428e7e57f",
   "metadata": {},
   "outputs": [],
   "source": []
  },
  {
   "cell_type": "markdown",
   "id": "7d454f87-5e3d-43eb-a899-f8cd1819650f",
   "metadata": {},
   "source": [
    "## 08. Shared References and Mutability"
   ]
  },
  {
   "cell_type": "code",
   "execution_count": null,
   "id": "7af38b41-a1b7-4c4b-847f-985b0471196a",
   "metadata": {},
   "outputs": [],
   "source": [
    "# ..."
   ]
  },
  {
   "cell_type": "code",
   "execution_count": null,
   "id": "e00cf85b-3576-4df7-bb5b-2c491099701d",
   "metadata": {},
   "outputs": [],
   "source": [
    "my_list_1 = [1, 2, 3]\n",
    "my_list_2 = [1, 2, 3]"
   ]
  },
  {
   "cell_type": "code",
   "execution_count": null,
   "id": "dd20772a-52ad-4cec-96b8-eed1d46292c9",
   "metadata": {},
   "outputs": [],
   "source": [
    "print(hex(id(my_list_1)))\n",
    "print(hex(id(my_list_2)))"
   ]
  },
  {
   "cell_type": "code",
   "execution_count": null,
   "id": "9b680733-1a89-40c1-a26b-083cd0295662",
   "metadata": {},
   "outputs": [],
   "source": [
    "!python --version"
   ]
  },
  {
   "cell_type": "code",
   "execution_count": null,
   "id": "987be874-0ad2-49e2-b058-0c53230f63a0",
   "metadata": {},
   "outputs": [],
   "source": [
    "# ..."
   ]
  },
  {
   "cell_type": "markdown",
   "id": "5dced2f4-cbc7-46f2-8d71-62ea1c82fce3",
   "metadata": {},
   "source": [
    "## 12 - Python Optimizations -String Interning"
   ]
  },
  {
   "cell_type": "code",
   "execution_count": null,
   "id": "15d57a98-1113-48ec-ae83-6d17894a8b3b",
   "metadata": {},
   "outputs": [],
   "source": [
    "a = 'hello'\n",
    "b = 'hello'"
   ]
  },
  {
   "cell_type": "code",
   "execution_count": null,
   "id": "f0ba7d5b-9397-40a7-bf14-4b337d517a01",
   "metadata": {},
   "outputs": [],
   "source": [
    "print(id(a), id(b))"
   ]
  },
  {
   "cell_type": "code",
   "execution_count": null,
   "id": "90dc45da-723e-4171-8a09-f65c4bba0ab7",
   "metadata": {},
   "outputs": [],
   "source": [
    "a = 'hello world'\n",
    "b = 'hello world'"
   ]
  },
  {
   "cell_type": "code",
   "execution_count": null,
   "id": "1dc81371-2042-472a-a926-a8eb1367896a",
   "metadata": {},
   "outputs": [],
   "source": [
    "print(id(a), id(b))"
   ]
  },
  {
   "cell_type": "code",
   "execution_count": null,
   "id": "73774abc-5e10-434d-8fce-307d38a4b760",
   "metadata": {},
   "outputs": [],
   "source": [
    "a == b"
   ]
  },
  {
   "cell_type": "code",
   "execution_count": null,
   "id": "269d865f-aa50-405d-9414-da5031ddf431",
   "metadata": {},
   "outputs": [],
   "source": [
    "a is b"
   ]
  },
  {
   "cell_type": "code",
   "execution_count": null,
   "id": "ee9c5c8a-3828-4d4f-844d-4bf3fcf038ac",
   "metadata": {},
   "outputs": [],
   "source": [
    "import sys"
   ]
  },
  {
   "cell_type": "code",
   "execution_count": null,
   "id": "6aa79b57-9adb-4975-a4a2-591cf070a21c",
   "metadata": {},
   "outputs": [],
   "source": [
    "dir(sys)"
   ]
  },
  {
   "cell_type": "code",
   "execution_count": null,
   "id": "b9db918a-d577-40da-b46b-7c0a18da7faa",
   "metadata": {},
   "outputs": [],
   "source": [
    "def compare_using_equals(n):\n",
    "    a = 'a long string that is not interned' * 200\n",
    "    b = 'a long string that is not interned' * 200\n",
    "    for i in range(n):\n",
    "        if a == b:\n",
    "            pass"
   ]
  },
  {
   "cell_type": "code",
   "execution_count": null,
   "id": "cbe99c85-5f86-414d-aab7-c17c83442a01",
   "metadata": {},
   "outputs": [],
   "source": [
    "def compare_using_interning(n):\n",
    "    a = 'a long string that is not interned' * 200\n",
    "    b = 'a long string that is not interned' * 200   \n",
    "    for i in range(n):\n",
    "        if a is b:\n",
    "            pass"
   ]
  },
  {
   "cell_type": "code",
   "execution_count": null,
   "id": "ead4f7f7-fddb-42e8-9046-bd9dd28fba3c",
   "metadata": {},
   "outputs": [],
   "source": [
    "import time"
   ]
  },
  {
   "cell_type": "code",
   "execution_count": null,
   "id": "7dec1fcf-e932-45a0-8b38-dc28835fc298",
   "metadata": {},
   "outputs": [],
   "source": [
    "start = time.perf_counter()\n",
    "compare_using_equals(10_000_000)\n",
    "end = time.perf_counter()\n",
    "\n",
    "print('equality', end - start)"
   ]
  },
  {
   "cell_type": "code",
   "execution_count": null,
   "id": "2fd7ec72-a635-4456-8dce-5ec60daf088a",
   "metadata": {},
   "outputs": [],
   "source": [
    "start = time.perf_counter()\n",
    "compare_using_interning(10_000_000)\n",
    "end = time.perf_counter()\n",
    "\n",
    "print('identity', end - start)"
   ]
  },
  {
   "cell_type": "code",
   "execution_count": null,
   "id": "2146bcc3-1ca1-4e09-b715-45bf5a99cf43",
   "metadata": {},
   "outputs": [],
   "source": [
    "help(time.perf_counter)"
   ]
  },
  {
   "cell_type": "markdown",
   "id": "769e93c0-5a16-4675-b35c-1e6653a12716",
   "metadata": {},
   "source": [
    "## 13 Python Optimizations - Peephole"
   ]
  },
  {
   "cell_type": "code",
   "execution_count": null,
   "id": "1e311e9b-2794-4b59-bf66-bcd119137ebd",
   "metadata": {},
   "outputs": [],
   "source": [
    "def my_func():\n",
    "    a = 24 * 60\n",
    "    b = (1, 2) * 5\n",
    "    c = 'abc' * 3\n",
    "    d = 'ab' * 11\n",
    "    e = 'the quick brown fox' * 10\n",
    "    f = [1, 2] * 5"
   ]
  },
  {
   "cell_type": "code",
   "execution_count": null,
   "id": "f2b084b5-0e2f-4056-9641-3425aa8173c0",
   "metadata": {},
   "outputs": [],
   "source": [
    "my_func.__annotations__.__class__"
   ]
  },
  {
   "cell_type": "code",
   "execution_count": null,
   "id": "803c21ed-d496-4214-9402-bdb7b8cdd657",
   "metadata": {},
   "outputs": [],
   "source": [
    "def func_props(f):\n",
    "    f_name = f.__name__\n",
    "    print(f_name)\n",
    "    \n",
    "    expr1 = \"lst1 = dir(\" + f_name + \")\"\n",
    "    #print(expr)\n",
    "    exec(expr1)\n",
    "    #print(lst1)\n",
    "    for attr1 in lst1:\n",
    "        f_attr1 = f_name + \".\" + attr1\n",
    "        print(f_attr1)\n",
    "        expr2 = \"lst2 = dir(\" + f_attr1 + \")\"\n",
    "        print(expr2)\n",
    "        exec(expr2)\n",
    "        print(lst2)\n",
    "        for a in lst2:\n",
    "            print(a)\n",
    "    return None\n",
    "    \n",
    "\n",
    "func_props(my_func)"
   ]
  },
  {
   "cell_type": "code",
   "execution_count": null,
   "id": "f90f48f5-46ee-406d-9387-f14c0d7004c0",
   "metadata": {},
   "outputs": [],
   "source": []
  },
  {
   "cell_type": "code",
   "execution_count": null,
   "id": "324225f3-1fc1-4b75-8e67-6d64578e1d10",
   "metadata": {},
   "outputs": [],
   "source": []
  },
  {
   "cell_type": "code",
   "execution_count": null,
   "id": "3779305d-0def-4ae2-ac47-a63c552e2da3",
   "metadata": {},
   "outputs": [],
   "source": [
    "dir(my_func)"
   ]
  },
  {
   "cell_type": "code",
   "execution_count": null,
   "id": "fa6532df-8a7a-4cc2-867b-e88c3dd097e2",
   "metadata": {},
   "outputs": [],
   "source": [
    "my_func.__code__"
   ]
  },
  {
   "cell_type": "code",
   "execution_count": null,
   "id": "e52be785-71bf-4865-b282-da8cf49fb62e",
   "metadata": {},
   "outputs": [],
   "source": [
    "dir(my_func.__code__)"
   ]
  },
  {
   "cell_type": "code",
   "execution_count": null,
   "id": "d15327fe-0c0d-4807-ab01-72d413f5e0fe",
   "metadata": {},
   "outputs": [],
   "source": [
    "for attr in dir(my_func.__code__):\n",
    "    a = 'my_func.__code__.' + attr\n",
    "    print('\\n',a)    \n",
    "    a = 'print(' + a + ')'\n",
    "    try:\n",
    "        exec(a)\n",
    "    except:\n",
    "        print('error occurred')\n",
    "    "
   ]
  },
  {
   "cell_type": "code",
   "execution_count": null,
   "id": "5fe4e6db-09e9-469c-adbf-588d91682697",
   "metadata": {},
   "outputs": [],
   "source": [
    "exec('my_func.__code__.co_consts')"
   ]
  },
  {
   "cell_type": "code",
   "execution_count": null,
   "id": "67cc8dde-8f0b-4b85-8ea9-2228cc20f4fd",
   "metadata": {},
   "outputs": [],
   "source": [
    "print(my_func.__code__.co_consts)"
   ]
  },
  {
   "cell_type": "code",
   "execution_count": null,
   "id": "be311957-974d-4422-869e-a787f801fb93",
   "metadata": {},
   "outputs": [],
   "source": [
    "exec('print(my_func.__code__.co_consts)')"
   ]
  },
  {
   "cell_type": "code",
   "execution_count": null,
   "id": "c18872be-a160-494a-8f48-43fd60428eed",
   "metadata": {},
   "outputs": [],
   "source": [
    "for a1 in dir(my_func):\n",
    "    a = 'my_func.' + a1\n",
    "    print('\\n',attr)    \n",
    "    a = 'print(' + a + ')'\n",
    "    try:\n",
    "        exec(a)\n",
    "    except AttributeError as e:\n",
    "        print(\"AttributeError\")\n"
   ]
  },
  {
   "cell_type": "code",
   "execution_count": null,
   "id": "96a5fae8-2c6c-46a3-99ef-6eafa9641323",
   "metadata": {},
   "outputs": [],
   "source": []
  },
  {
   "cell_type": "code",
   "execution_count": null,
   "id": "feddc71f-af2b-4e6f-a594-d31f78874fc0",
   "metadata": {},
   "outputs": [],
   "source": []
  },
  {
   "cell_type": "code",
   "execution_count": null,
   "id": "9668177e-6b44-41d5-9a03-ab0121a4a992",
   "metadata": {},
   "outputs": [],
   "source": []
  },
  {
   "cell_type": "code",
   "execution_count": null,
   "id": "6f45d3eb-73b2-4ad2-8c2f-1ac4a0e1101c",
   "metadata": {},
   "outputs": [],
   "source": []
  }
 ],
 "metadata": {
  "kernelspec": {
   "display_name": "Python 3 (ipykernel)",
   "language": "python",
   "name": "python3"
  },
  "language_info": {
   "codemirror_mode": {
    "name": "ipython",
    "version": 3
   },
   "file_extension": ".py",
   "mimetype": "text/x-python",
   "name": "python",
   "nbconvert_exporter": "python",
   "pygments_lexer": "ipython3",
   "version": "3.12.2"
  }
 },
 "nbformat": 4,
 "nbformat_minor": 5
}
