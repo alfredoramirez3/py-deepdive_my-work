{
 "cells": [
  {
   "cell_type": "markdown",
   "id": "54273840-d850-40fa-b06a-668cb927f028",
   "metadata": {},
   "source": [
    "## 01 - Docstrings and Annotations"
   ]
  },
  {
   "cell_type": "code",
   "execution_count": null,
   "id": "75adaf6b-fc89-4da0-a6c4-cf3981e61c4d",
   "metadata": {},
   "outputs": [],
   "source": [
    "help(print)"
   ]
  },
  {
   "cell_type": "code",
   "execution_count": null,
   "id": "9788c762-a7d9-41df-8d73-5c58401c28bc",
   "metadata": {},
   "outputs": [],
   "source": [
    "# PEP 3107 -> an additional way to document functions\n",
    "# def my_func(a: <expression>, b: expression) -> <expression>:\n",
    "#     pass\n",
    "\n",
    "def my_func(a: 'a string', b: 'a positive integer') -> 'a string':\n",
    "    \"\"\"\"\"\"\n",
    "    Args:\n",
    "        a (a string): _description_\n",
    "        b (a positive integer): _description_\n",
    "\n",
    "    Returns:\n",
    "        a string: _description_\n",
    "    \"\"\"\n",
    "    return a * b\n",
    "\n",
    "# my_func.__doc__ -> empty string\n",
    "# metadata"
   ]
  },
  {
   "cell_type": "code",
   "execution_count": null,
   "id": "b140dbce",
   "metadata": {},
   "outputs": [],
   "source": [
    "def my_func(a, b):\n",
    "    \"\"\"takes in two arguments and returns a * b\n",
    "    \n",
    "    Usage:\n",
    "    >>> my_func('one', 3)\n",
    "    'oneoneone'\n",
    "    \n",
    "    >>> my_func(2, 3)\n",
    "    6\n",
    "    \n",
    "    Args:\n",
    "        a (any): any type\n",
    "        b (any): any type\n",
    "\n",
    "    Returns:\n",
    "        any: returns a * b\n",
    "    \"\"\"\n",
    "    return a * b"
   ]
  },
  {
   "cell_type": "code",
   "execution_count": null,
   "id": "bc997a1a",
   "metadata": {},
   "outputs": [],
   "source": [
    "help(my_func)"
   ]
  },
  {
   "cell_type": "code",
   "execution_count": null,
   "id": "b997382a",
   "metadata": {},
   "outputs": [],
   "source": [
    "my_func.__doc__"
   ]
  },
  {
   "cell_type": "code",
   "execution_count": null,
   "id": "0e80ad4d",
   "metadata": {},
   "outputs": [],
   "source": [
    "my_func.__annotations__"
   ]
  },
  {
   "cell_type": "code",
   "execution_count": null,
   "id": "64c70635",
   "metadata": {},
   "outputs": [],
   "source": [
    "[line.strip() for line in my_func.__doc__.splitlines() if line.strip() != '']"
   ]
  },
  {
   "cell_type": "code",
   "execution_count": null,
   "id": "f55e7723",
   "metadata": {},
   "outputs": [],
   "source": [
    "help(str)"
   ]
  },
  {
   "cell_type": "code",
   "execution_count": null,
   "id": "630d03ad",
   "metadata": {},
   "outputs": [],
   "source": [
    "my_func('one', 3)"
   ]
  },
  {
   "cell_type": "code",
   "execution_count": null,
   "id": "550ed8c5",
   "metadata": {},
   "outputs": [],
   "source": [
    "my_func(2, 3)"
   ]
  },
  {
   "cell_type": "code",
   "execution_count": null,
   "id": "2c1ff4ea",
   "metadata": {},
   "outputs": [],
   "source": [
    "my_func(True, 3)"
   ]
  },
  {
   "cell_type": "code",
   "execution_count": null,
   "id": "e022c6e6",
   "metadata": {},
   "outputs": [],
   "source": [
    "my_func(False, 3)"
   ]
  },
  {
   "cell_type": "code",
   "execution_count": null,
   "id": "f7a28efa",
   "metadata": {},
   "outputs": [],
   "source": [
    "my_func(1.0, 3)"
   ]
  },
  {
   "cell_type": "markdown",
   "id": "1d082dc3-043f-4d06-8287-baa56bf11949",
   "metadata": {},
   "source": [
    "## 02 - Lambda Expressions"
   ]
  },
  {
   "cell_type": "code",
   "execution_count": null,
   "id": "649c7cf5-6d18-43d3-b723-be0582097715",
   "metadata": {},
   "outputs": [],
   "source": [
    "lambda x: x**2"
   ]
  },
  {
   "cell_type": "code",
   "execution_count": null,
   "id": "aae05080-4c63-47a8-b28b-0cf9fff32a75",
   "metadata": {},
   "outputs": [],
   "source": [
    "func = lambda x: x**2"
   ]
  },
  {
   "cell_type": "code",
   "execution_count": null,
   "id": "7a321964",
   "metadata": {},
   "outputs": [],
   "source": [
    "type(func)"
   ]
  },
  {
   "cell_type": "code",
   "execution_count": null,
   "id": "99eb2de9",
   "metadata": {},
   "outputs": [],
   "source": [
    "func(3)"
   ]
  },
  {
   "cell_type": "code",
   "execution_count": null,
   "id": "e62ba550",
   "metadata": {},
   "outputs": [],
   "source": [
    "h = lambda : \"hello\""
   ]
  },
  {
   "cell_type": "code",
   "execution_count": null,
   "id": "a5c89d75",
   "metadata": {},
   "outputs": [],
   "source": [
    "h()"
   ]
  },
  {
   "cell_type": "code",
   "execution_count": null,
   "id": "2ddae666",
   "metadata": {},
   "outputs": [],
   "source": [
    "func_s = lambda s: s[::-1].upper()"
   ]
  },
  {
   "cell_type": "code",
   "execution_count": null,
   "id": "7b69bce0",
   "metadata": {},
   "outputs": [],
   "source": [
    "func_s('hello')"
   ]
  },
  {
   "cell_type": "code",
   "execution_count": null,
   "id": "2dbe30a3",
   "metadata": {},
   "outputs": [],
   "source": [
    "f = lambda x, *args, y, **kwargs: (x, args, y, kwargs)"
   ]
  },
  {
   "cell_type": "code",
   "execution_count": null,
   "id": "bca0167f",
   "metadata": {},
   "outputs": [],
   "source": [
    "f(1, 'a', 'b', y=5, h=1, w=2, d=3)"
   ]
  },
  {
   "cell_type": "code",
   "execution_count": null,
   "id": "e9aa010e",
   "metadata": {},
   "outputs": [],
   "source": [
    "g = lambda x, *args, y, **kwargs: (x, *args, y, kwargs)"
   ]
  },
  {
   "cell_type": "code",
   "execution_count": null,
   "id": "e16172a8",
   "metadata": {},
   "outputs": [],
   "source": [
    "g(1, 'a', 'b', y=5, h=1, w=2, d=3)"
   ]
  },
  {
   "cell_type": "code",
   "execution_count": null,
   "id": "65629113",
   "metadata": {},
   "outputs": [],
   "source": [
    "def apply_func(x, fn):\n",
    "    return fn(x)"
   ]
  },
  {
   "cell_type": "code",
   "execution_count": null,
   "id": "d12a8162",
   "metadata": {},
   "outputs": [],
   "source": [
    "apply_func(5, lambda x: x**2)"
   ]
  },
  {
   "cell_type": "code",
   "execution_count": null,
   "id": "91d55ffa",
   "metadata": {},
   "outputs": [],
   "source": [
    "apply_func(5, lambda x: x**3)"
   ]
  },
  {
   "cell_type": "code",
   "execution_count": null,
   "id": "ddc291c8",
   "metadata": {},
   "outputs": [],
   "source": [
    "def apply_func(fn, *args, **kwargs):\n",
    "    return fn(*args, **kwargs)"
   ]
  },
  {
   "cell_type": "code",
   "execution_count": null,
   "id": "e8a61d16",
   "metadata": {},
   "outputs": [],
   "source": [
    "apply_func(lambda x: x**2, 3)"
   ]
  },
  {
   "cell_type": "code",
   "execution_count": null,
   "id": "a8bd3f4d",
   "metadata": {},
   "outputs": [],
   "source": [
    "apply_func(lambda x, y: x+y, 5, 10)"
   ]
  },
  {
   "cell_type": "code",
   "execution_count": null,
   "id": "ee9fa8dc",
   "metadata": {},
   "outputs": [],
   "source": [
    "apply_func(lambda x, *, y: x+y, 10, y=20)"
   ]
  },
  {
   "cell_type": "code",
   "execution_count": null,
   "id": "4777527b",
   "metadata": {},
   "outputs": [],
   "source": [
    "apply_func(lambda *args: sum(args), 1, 2, 3)"
   ]
  },
  {
   "cell_type": "code",
   "execution_count": null,
   "id": "78a18341",
   "metadata": {},
   "outputs": [],
   "source": [
    "apply_func(sum, (1, 2, 3))"
   ]
  },
  {
   "cell_type": "markdown",
   "id": "8625a78d-562f-4eb3-9692-2e7040e1dfe2",
   "metadata": {},
   "source": [
    "## 03 - Lambdas and Sorting"
   ]
  },
  {
   "cell_type": "code",
   "execution_count": null,
   "id": "753b1a68-174a-4557-8c11-be252bb29b6b",
   "metadata": {},
   "outputs": [],
   "source": [
    "l = ['a', 'B', 'c', 'D']"
   ]
  },
  {
   "cell_type": "code",
   "execution_count": null,
   "id": "b24a21ea-5288-4e98-a245-1ec6f022c410",
   "metadata": {},
   "outputs": [],
   "source": [
    "sorted(l)"
   ]
  },
  {
   "cell_type": "code",
   "execution_count": null,
   "id": "0a4ef5ef-87a6-4430-8bba-9a708a96e952",
   "metadata": {},
   "outputs": [],
   "source": [
    "l"
   ]
  },
  {
   "cell_type": "code",
   "execution_count": null,
   "id": "43eb2091",
   "metadata": {},
   "outputs": [],
   "source": [
    "sorted(l, key=str.upper)"
   ]
  },
  {
   "cell_type": "code",
   "execution_count": null,
   "id": "9a036ff4",
   "metadata": {},
   "outputs": [],
   "source": [
    "help(sorted)"
   ]
  },
  {
   "cell_type": "code",
   "execution_count": null,
   "id": "4ee804fc",
   "metadata": {},
   "outputs": [],
   "source": [
    "d = {'def': 300, 'abc': 200, 'ghi': 100}"
   ]
  },
  {
   "cell_type": "code",
   "execution_count": null,
   "id": "b7ac6ed1",
   "metadata": {},
   "outputs": [],
   "source": [
    "d"
   ]
  },
  {
   "cell_type": "code",
   "execution_count": null,
   "id": "5295cd77",
   "metadata": {},
   "outputs": [],
   "source": [
    "sorted(d)"
   ]
  },
  {
   "cell_type": "code",
   "execution_count": null,
   "id": "d39ee63f",
   "metadata": {},
   "outputs": [],
   "source": [
    "sorted(d, key=lambda k: d[k])"
   ]
  },
  {
   "cell_type": "code",
   "execution_count": null,
   "id": "320571cf",
   "metadata": {},
   "outputs": [],
   "source": [
    "l = ['Cleese', 'Idle', 'Palin', 'Chapman', 'Gilliam', 'Jones']\n",
    "l"
   ]
  },
  {
   "cell_type": "code",
   "execution_count": null,
   "id": "61ec3428",
   "metadata": {},
   "outputs": [],
   "source": [
    "sorted(l)"
   ]
  },
  {
   "cell_type": "code",
   "execution_count": null,
   "id": "92f419ac",
   "metadata": {},
   "outputs": [],
   "source": [
    "sorted(l, key=lambda s: s[-1])"
   ]
  },
  {
   "cell_type": "code",
   "execution_count": null,
   "id": "63a5658e",
   "metadata": {},
   "outputs": [],
   "source": [
    "t = [('five', 5), ('three', 3), ('one', 1)]\n",
    "t"
   ]
  },
  {
   "cell_type": "code",
   "execution_count": null,
   "id": "c1f0a5d9",
   "metadata": {},
   "outputs": [],
   "source": [
    "sorted(t)"
   ]
  },
  {
   "cell_type": "code",
   "execution_count": null,
   "id": "60c64266",
   "metadata": {},
   "outputs": [],
   "source": [
    "sorted(t, key=lambda t: t[1])"
   ]
  },
  {
   "cell_type": "code",
   "execution_count": null,
   "id": "c786102a",
   "metadata": {},
   "outputs": [],
   "source": [
    "NAME=0\n",
    "VALUE=1\n",
    "print(\"sorted by value\",sorted(t, key=lambda t: t[VALUE]))\n",
    "print(\"sorted by name\", sorted(t, key=lambda t: t[NAME]))"
   ]
  },
  {
   "cell_type": "code",
   "execution_count": null,
   "id": "06b4a9a0",
   "metadata": {},
   "outputs": [],
   "source": []
  },
  {
   "cell_type": "markdown",
   "id": "457f3781-e6ec-4367-aee3-9dbdb6d0ee84",
   "metadata": {},
   "source": [
    "## 04 - Challendge - Randomizing using Sorted"
   ]
  },
  {
   "cell_type": "code",
   "execution_count": null,
   "id": "4f5ce667-d328-4781-b556-97b42dcc20f6",
   "metadata": {},
   "outputs": [],
   "source": [
    "import random"
   ]
  },
  {
   "cell_type": "code",
   "execution_count": null,
   "id": "e3045f5d-fe62-43e2-98c9-b8d07d5bca0a",
   "metadata": {},
   "outputs": [],
   "source": [
    "l = list(range(1, 11))\n",
    "l"
   ]
  },
  {
   "cell_type": "code",
   "execution_count": null,
   "id": "7b4cbce8-2acf-46b2-9c42-6c6620a49b1f",
   "metadata": {},
   "outputs": [],
   "source": [
    "sorted(l, key=lambda x: random.random())"
   ]
  },
  {
   "cell_type": "markdown",
   "id": "a4d2b546-74eb-4e6c-a0d6-0bbfb2fb1fde",
   "metadata": {},
   "source": [
    "## 05 - Function Introspection"
   ]
  },
  {
   "cell_type": "code",
   "execution_count": null,
   "id": "def6da3f-88e4-49c8-9f07-e1a7ed72e697",
   "metadata": {},
   "outputs": [],
   "source": [
    "def my_func(a, b):\n",
    "    return a + b\n",
    "\n",
    "my_func.category = 'math'\n",
    "my_func.sub_category = 'arithmetic'\n",
    "\n",
    "print(my_func.category)\n",
    "print(my_func.sub_category)"
   ]
  },
  {
   "cell_type": "code",
   "execution_count": null,
   "id": "d90f3d54-bb0a-4670-adb5-52a356e1c6a5",
   "metadata": {},
   "outputs": [],
   "source": [
    "dir(my_func)"
   ]
  },
  {
   "cell_type": "code",
   "execution_count": null,
   "id": "dae077e9",
   "metadata": {},
   "outputs": [],
   "source": [
    "my_func.__name__\n",
    "my_func.__qualname__\n",
    "print(my_func.__hash__)\n",
    "my_func.__hash__('temp')"
   ]
  },
  {
   "cell_type": "code",
   "execution_count": null,
   "id": "9205b0a9",
   "metadata": {},
   "outputs": [],
   "source": [
    "x = my_func\n",
    "print(x.__name__)\n",
    "print(my_func.__defaults__)\n",
    "print(type(my_func.__defaults__))\n",
    "print(my_func.__kwdefaults__)"
   ]
  },
  {
   "cell_type": "code",
   "execution_count": null,
   "id": "b5680256",
   "metadata": {},
   "outputs": [],
   "source": [
    "def my_func(a, b=2, c=3, *, kw1, kw2=2):\n",
    "    pass\n",
    "\n",
    "my_func.__name__\n",
    "my_func.__defaults__\n",
    "my_func.__kwdefaults__"
   ]
  },
  {
   "cell_type": "code",
   "execution_count": null,
   "id": "35c9f548",
   "metadata": {},
   "outputs": [],
   "source": [
    "def my_func(a, b=1, *args, **kwargs):\n",
    "    i = 10\n",
    "    b = min(i, b)\n",
    "    return a * b\n",
    "\n",
    "my_func.__code__\n",
    "my_func.__code__.co_varnames # parameter and local variables\n",
    "my_func.__code__.co_argcount\n"
   ]
  },
  {
   "cell_type": "code",
   "execution_count": null,
   "id": "47d79676",
   "metadata": {},
   "outputs": [],
   "source": [
    "# The inspect Module\n",
    "import inspect\n",
    "\n",
    "inspect.isfunction(my_func)\n",
    "inspect.getsource(my_func).split('\\n')\n",
    "inspect.getmodule(my_func)"
   ]
  },
  {
   "cell_type": "code",
   "execution_count": null,
   "id": "c90776bd",
   "metadata": {},
   "outputs": [],
   "source": []
  },
  {
   "cell_type": "code",
   "execution_count": null,
   "id": "7bee302e",
   "metadata": {},
   "outputs": [],
   "source": []
  },
  {
   "cell_type": "code",
   "execution_count": null,
   "id": "f0284e23",
   "metadata": {},
   "outputs": [],
   "source": [
    "# dummy code\n",
    "i = 100\n",
    "\n",
    "# TODO: Fix this function\n",
    "# currently does nothing, but should do ...\n",
    "def my_func(a: \"mandatory positional\", \n",
    "            b: \"optional positional\"=3, \n",
    "            c=4, \n",
    "            *args: \"add extra positional here\", \n",
    "            kw1, \n",
    "            kw2=100, \n",
    "            kw3=200, \n",
    "            **kwargs: \"provide extra kw-only here\") -> \"does nothing\":\n",
    "    \"\"\"This function does nothing but does have various parameters\n",
    "    and annotations\n",
    "    \"\"\"\n",
    "    i = 10\n",
    "    j = 20\n",
    "    "
   ]
  },
  {
   "cell_type": "code",
   "execution_count": null,
   "id": "fd10a2fd",
   "metadata": {},
   "outputs": [],
   "source": [
    "my_func.__doc__"
   ]
  },
  {
   "cell_type": "code",
   "execution_count": null,
   "id": "2b44fd99",
   "metadata": {},
   "outputs": [],
   "source": [
    "my_func.__annotations__"
   ]
  },
  {
   "cell_type": "code",
   "execution_count": null,
   "id": "c7708d0f",
   "metadata": {},
   "outputs": [],
   "source": [
    "my_func.short_description = \"this is a string that does nothing much\""
   ]
  },
  {
   "cell_type": "code",
   "execution_count": null,
   "id": "faffdeeb",
   "metadata": {},
   "outputs": [],
   "source": [
    "my_func.short_description"
   ]
  },
  {
   "cell_type": "code",
   "execution_count": null,
   "id": "c5f76e52",
   "metadata": {},
   "outputs": [],
   "source": [
    "dir(my_func)"
   ]
  },
  {
   "cell_type": "code",
   "execution_count": null,
   "id": "f0b84d54",
   "metadata": {},
   "outputs": [],
   "source": [
    "my_func.__name__"
   ]
  },
  {
   "cell_type": "code",
   "execution_count": null,
   "id": "764eb83b",
   "metadata": {},
   "outputs": [],
   "source": [
    "id(my_func)"
   ]
  },
  {
   "cell_type": "code",
   "execution_count": null,
   "id": "8b87bca2",
   "metadata": {},
   "outputs": [],
   "source": [
    "def func_call(f):\n",
    "    print(id(f))\n",
    "    print(f.__name__)"
   ]
  },
  {
   "cell_type": "code",
   "execution_count": null,
   "id": "a89cf87b",
   "metadata": {},
   "outputs": [],
   "source": [
    "func_call(my_func)"
   ]
  },
  {
   "cell_type": "code",
   "execution_count": null,
   "id": "59b2a3aa",
   "metadata": {},
   "outputs": [],
   "source": [
    "my_func.__defaults__"
   ]
  },
  {
   "cell_type": "code",
   "execution_count": null,
   "id": "65026a46",
   "metadata": {},
   "outputs": [],
   "source": [
    "my_func.__kwdefaults__"
   ]
  },
  {
   "cell_type": "code",
   "execution_count": null,
   "id": "66eb4b6b",
   "metadata": {},
   "outputs": [],
   "source": [
    "my_func.__code__"
   ]
  },
  {
   "cell_type": "code",
   "execution_count": null,
   "id": "9bba50b2",
   "metadata": {},
   "outputs": [],
   "source": [
    "dir(my_func.__code__)"
   ]
  },
  {
   "cell_type": "code",
   "execution_count": null,
   "id": "ea3bb251",
   "metadata": {},
   "outputs": [],
   "source": [
    "my_func.__code__.co_name"
   ]
  },
  {
   "cell_type": "code",
   "execution_count": null,
   "id": "12b986a0",
   "metadata": {},
   "outputs": [],
   "source": [
    "my_func.__code__.co_varnames"
   ]
  },
  {
   "cell_type": "code",
   "execution_count": null,
   "id": "13c69c25",
   "metadata": {},
   "outputs": [],
   "source": [
    "my_func.__code__.co_argcount # count of positional arguments"
   ]
  },
  {
   "cell_type": "code",
   "execution_count": null,
   "id": "f802c0f9",
   "metadata": {},
   "outputs": [],
   "source": [
    "import inspect"
   ]
  },
  {
   "cell_type": "code",
   "execution_count": null,
   "id": "c02c9f96",
   "metadata": {},
   "outputs": [],
   "source": [
    "from inspect import isfunction, ismethod, isroutine"
   ]
  },
  {
   "cell_type": "code",
   "execution_count": null,
   "id": "0a90e0be",
   "metadata": {},
   "outputs": [],
   "source": [
    "a = 10"
   ]
  },
  {
   "cell_type": "code",
   "execution_count": null,
   "id": "479c0d03",
   "metadata": {},
   "outputs": [],
   "source": [
    "isfunction(a)"
   ]
  },
  {
   "cell_type": "code",
   "execution_count": null,
   "id": "09b23675",
   "metadata": {},
   "outputs": [],
   "source": [
    "isfunction(my_func)"
   ]
  },
  {
   "cell_type": "code",
   "execution_count": null,
   "id": "a966a2ed",
   "metadata": {},
   "outputs": [],
   "source": [
    "ismethod(my_func)"
   ]
  },
  {
   "cell_type": "code",
   "execution_count": null,
   "id": "23b7bff3",
   "metadata": {},
   "outputs": [],
   "source": [
    "class MyClass:\n",
    "    def f(self):\n",
    "        pass"
   ]
  },
  {
   "cell_type": "code",
   "execution_count": null,
   "id": "7e1df9a5",
   "metadata": {},
   "outputs": [],
   "source": [
    "isfunction(MyClass.f)"
   ]
  },
  {
   "cell_type": "code",
   "execution_count": null,
   "id": "225a9016",
   "metadata": {},
   "outputs": [],
   "source": [
    "my_obj = MyClass()"
   ]
  },
  {
   "cell_type": "code",
   "execution_count": null,
   "id": "d239b18b",
   "metadata": {},
   "outputs": [],
   "source": [
    "isfunction(my_obj.f)"
   ]
  },
  {
   "cell_type": "code",
   "execution_count": null,
   "id": "889d4322",
   "metadata": {},
   "outputs": [],
   "source": [
    "ismethod(my_obj.f)"
   ]
  },
  {
   "cell_type": "code",
   "execution_count": null,
   "id": "6fdaf506",
   "metadata": {},
   "outputs": [],
   "source": [
    "isroutine(my_obj.f)"
   ]
  },
  {
   "cell_type": "code",
   "execution_count": null,
   "id": "73c23b6f",
   "metadata": {},
   "outputs": [],
   "source": [
    "isroutine(MyClass.f)"
   ]
  },
  {
   "cell_type": "code",
   "execution_count": null,
   "id": "fcd177a4",
   "metadata": {},
   "outputs": [],
   "source": [
    "inspect.getsource(my_func)"
   ]
  },
  {
   "cell_type": "code",
   "execution_count": null,
   "id": "da02a80b",
   "metadata": {},
   "outputs": [],
   "source": [
    "type(inspect.getsource(my_func))\n",
    "# inspect.getsource(my_func).split('\\n')\n",
    "print(inspect.getsource(my_func))"
   ]
  },
  {
   "cell_type": "code",
   "execution_count": null,
   "id": "6321d23e",
   "metadata": {},
   "outputs": [],
   "source": [
    "inspect.getmodule(my_func)"
   ]
  },
  {
   "cell_type": "code",
   "execution_count": null,
   "id": "9002b5aa",
   "metadata": {},
   "outputs": [],
   "source": [
    "inspect.getmodule(print)"
   ]
  },
  {
   "cell_type": "code",
   "execution_count": null,
   "id": "9a6421b1",
   "metadata": {},
   "outputs": [],
   "source": [
    "import math"
   ]
  },
  {
   "cell_type": "code",
   "execution_count": null,
   "id": "daaf7570",
   "metadata": {},
   "outputs": [],
   "source": [
    "inspect.getmodule(math.sin)"
   ]
  },
  {
   "cell_type": "code",
   "execution_count": null,
   "id": "33dfb897",
   "metadata": {},
   "outputs": [],
   "source": [
    "inspect.getcomments(my_func)"
   ]
  },
  {
   "cell_type": "code",
   "execution_count": null,
   "id": "d03697d6",
   "metadata": {},
   "outputs": [],
   "source": [
    "inspect.getcomments(my_func)\n",
    "print(inspect.getcomments(my_func))"
   ]
  },
  {
   "cell_type": "code",
   "execution_count": null,
   "id": "910f90a7",
   "metadata": {},
   "outputs": [],
   "source": [
    "inspect.signature(my_func)"
   ]
  },
  {
   "cell_type": "code",
   "execution_count": null,
   "id": "e7c40fa3",
   "metadata": {},
   "outputs": [],
   "source": [
    "dir(inspect.signature(my_func))"
   ]
  },
  {
   "cell_type": "code",
   "execution_count": null,
   "id": "0f4b84e0",
   "metadata": {},
   "outputs": [],
   "source": [
    "sig = inspect.signature(my_func)"
   ]
  },
  {
   "cell_type": "code",
   "execution_count": null,
   "id": "c8ffec23",
   "metadata": {},
   "outputs": [],
   "source": [
    "sig.parameters"
   ]
  },
  {
   "cell_type": "code",
   "execution_count": null,
   "id": "23d26285",
   "metadata": {},
   "outputs": [],
   "source": [
    "for k,v in sig.parameters.items():\n",
    "    print(k, v)"
   ]
  },
  {
   "cell_type": "code",
   "execution_count": null,
   "id": "42bcf6c1",
   "metadata": {},
   "outputs": [],
   "source": [
    "for param in sig.parameters.values():\n",
    "    print('Name:', param.name)\n",
    "    print('Default:', param.default)\n",
    "    print('Annotation:', param.annotation)\n",
    "    print('Kind:', param.kind)\n",
    "    print()"
   ]
  },
  {
   "cell_type": "code",
   "execution_count": null,
   "id": "9fd4a3f6",
   "metadata": {},
   "outputs": [],
   "source": [
    "help(divmod) # divmod(x, y, /) => x, y are positional Only"
   ]
  },
  {
   "cell_type": "code",
   "execution_count": null,
   "id": "ec18ebeb",
   "metadata": {},
   "outputs": [],
   "source": [
    "divmod(4, 3)"
   ]
  },
  {
   "cell_type": "code",
   "execution_count": null,
   "id": "97332e36",
   "metadata": {},
   "outputs": [],
   "source": [
    "divmod(x=4, y=3)"
   ]
  },
  {
   "cell_type": "code",
   "execution_count": null,
   "id": "36ba7e32",
   "metadata": {},
   "outputs": [],
   "source": [
    "for param in inspect.signature(divmod).parameters.values():\n",
    "    print(param.kind)"
   ]
  },
  {
   "cell_type": "markdown",
   "id": "86f71bfe-c233-406b-82ee-db56ee679de0",
   "metadata": {},
   "source": [
    "## 06 - Callables"
   ]
  },
  {
   "cell_type": "code",
   "execution_count": null,
   "id": "99cfdee9",
   "metadata": {},
   "outputs": [],
   "source": [
    "result = print('hello')\n",
    "print(type(result))\n",
    "print(result)"
   ]
  },
  {
   "cell_type": "code",
   "execution_count": null,
   "id": "6587554b",
   "metadata": {},
   "outputs": [],
   "source": [
    "class MyClass:\n",
    "    def __init__(self, x=0):\n",
    "        print('initializing')\n",
    "        self.counter = x\n",
    "        \n",
    "    def __call__(self, x=1):\n",
    "        self.counter += x\n",
    "        # print(self.counter)\n",
    "        return self.counter"
   ]
  },
  {
   "cell_type": "code",
   "execution_count": null,
   "id": "ac9858e4",
   "metadata": {},
   "outputs": [],
   "source": [
    "incr = MyClass()"
   ]
  },
  {
   "cell_type": "code",
   "execution_count": null,
   "id": "294a3f41",
   "metadata": {},
   "outputs": [],
   "source": [
    "incr()"
   ]
  },
  {
   "cell_type": "code",
   "execution_count": null,
   "id": "ff8a179f",
   "metadata": {},
   "outputs": [],
   "source": [
    "i = incr()\n",
    "print(i)"
   ]
  },
  {
   "cell_type": "code",
   "execution_count": null,
   "id": "34a65dc6",
   "metadata": {},
   "outputs": [],
   "source": [
    "i = incr(10)\n",
    "print(i)"
   ]
  },
  {
   "cell_type": "code",
   "execution_count": null,
   "id": "2b386a96",
   "metadata": {},
   "outputs": [],
   "source": []
  },
  {
   "cell_type": "markdown",
   "id": "4059bef4-6b6b-431d-b852-a0ed297350fd",
   "metadata": {},
   "source": [
    "## 07 - Map, Filter, Zip and List Comprehensions"
   ]
  },
  {
   "cell_type": "code",
   "execution_count": null,
   "id": "3e87a62b",
   "metadata": {},
   "outputs": [],
   "source": [
    "# my testing"
   ]
  },
  {
   "cell_type": "code",
   "execution_count": null,
   "id": "c048fb98-4443-407f-a2c3-776754038027",
   "metadata": {},
   "outputs": [],
   "source": [
    "c = [(1,6), (2,5), (3,4)]"
   ]
  },
  {
   "cell_type": "code",
   "execution_count": null,
   "id": "fc8bdef8-e10d-4590-a6b5-e290ef413006",
   "metadata": {},
   "outputs": [],
   "source": [
    "sorted(c,key=lambda t: t[1])"
   ]
  },
  {
   "cell_type": "code",
   "execution_count": null,
   "id": "847e6be4",
   "metadata": {},
   "outputs": [],
   "source": [
    "list(map(lambda x: x**2, [1,2,3]))"
   ]
  },
  {
   "cell_type": "code",
   "execution_count": null,
   "id": "1a9b6c82",
   "metadata": {},
   "outputs": [],
   "source": [
    "list(map(lambda x, y: x + y, [1,2,3], [1,2,3]))"
   ]
  },
  {
   "cell_type": "code",
   "execution_count": null,
   "id": "bdc92b1b",
   "metadata": {},
   "outputs": [],
   "source": [
    "a = b = [1,2,3]"
   ]
  },
  {
   "cell_type": "code",
   "execution_count": null,
   "id": "9d190ba8",
   "metadata": {},
   "outputs": [],
   "source": [
    "list(zip(a,b))"
   ]
  },
  {
   "cell_type": "code",
   "execution_count": null,
   "id": "95582862-8f04-4f02-b2fd-75bc4db57ebf",
   "metadata": {},
   "outputs": [],
   "source": [
    "[x + y for x, y in zip(a,b)]"
   ]
  },
  {
   "cell_type": "code",
   "execution_count": null,
   "id": "d6cf6820",
   "metadata": {},
   "outputs": [],
   "source": [
    "# lecture\n",
    "# map builtin function"
   ]
  },
  {
   "cell_type": "code",
   "execution_count": null,
   "id": "94731302",
   "metadata": {},
   "outputs": [],
   "source": [
    "l = [2, 3, 4]\n",
    "\n",
    "def sq(x):\n",
    "    return x**2\n",
    "\n",
    "list(map(sq, l))"
   ]
  },
  {
   "cell_type": "code",
   "execution_count": null,
   "id": "123e2ca6",
   "metadata": {},
   "outputs": [],
   "source": [
    "l1 = [1, 2, 3]\n",
    "l2 = [10, 20, 30]\n",
    "\n",
    "def add(x: int, y: int) -> int:\n",
    "    return x + y\n"
   ]
  },
  {
   "cell_type": "code",
   "execution_count": null,
   "id": "65f5e92b",
   "metadata": {},
   "outputs": [],
   "source": [
    "list(map(add, l1, l2))"
   ]
  },
  {
   "cell_type": "code",
   "execution_count": null,
   "id": "10b040bb",
   "metadata": {},
   "outputs": [],
   "source": [
    "list(map(lambda x, y: x + y, l1, l2))"
   ]
  },
  {
   "cell_type": "code",
   "execution_count": null,
   "id": "5fd2d863",
   "metadata": {},
   "outputs": [],
   "source": [
    "[x + y for x, y in zip(l1, l2)]"
   ]
  },
  {
   "cell_type": "code",
   "execution_count": null,
   "id": "0f1d0469",
   "metadata": {},
   "outputs": [],
   "source": [
    "[x + y for x in l1 for y in l2] # l1 cross join l2"
   ]
  },
  {
   "cell_type": "code",
   "execution_count": null,
   "id": "be068d60",
   "metadata": {},
   "outputs": [],
   "source": [
    "# filter builtin function\n",
    "# my tests"
   ]
  },
  {
   "cell_type": "code",
   "execution_count": null,
   "id": "70f034f2",
   "metadata": {},
   "outputs": [],
   "source": [
    "list(filter(lambda x: divmod(x,2)[1], [1,2,3,4,5, 6])) # odd numbers"
   ]
  },
  {
   "cell_type": "code",
   "execution_count": null,
   "id": "355e767a",
   "metadata": {},
   "outputs": [],
   "source": [
    "list(filter(lambda x: not divmod(x,2)[1], [1,2,3,4,5,6])) # even numbers"
   ]
  },
  {
   "cell_type": "code",
   "execution_count": null,
   "id": "ace27fc5",
   "metadata": {},
   "outputs": [],
   "source": [
    "5%2"
   ]
  },
  {
   "cell_type": "code",
   "execution_count": null,
   "id": "520cffe6",
   "metadata": {},
   "outputs": [],
   "source": [
    "5 // 2"
   ]
  },
  {
   "cell_type": "code",
   "execution_count": null,
   "id": "a915a496",
   "metadata": {},
   "outputs": [],
   "source": [
    "list(filter(None,[0,1,2,3]))"
   ]
  },
  {
   "cell_type": "code",
   "execution_count": null,
   "id": "bef083d3",
   "metadata": {},
   "outputs": [],
   "source": [
    "line1 = '1,,3'\n",
    "row1 = line1.split(',')\n",
    "row1\n",
    "\n",
    "\n"
   ]
  },
  {
   "cell_type": "code",
   "execution_count": null,
   "id": "56b79c7a",
   "metadata": {},
   "outputs": [],
   "source": [
    "list(map(lambda x: float(x) if x != '' else None, row1))"
   ]
  },
  {
   "cell_type": "code",
   "execution_count": null,
   "id": "fb918344",
   "metadata": {},
   "outputs": [],
   "source": [
    "l = range(10)\n",
    "print(list(map(lambda x: x**2, l)))\n",
    "list(filter(lambda y: y < 25, map(lambda x: x**2, l)))"
   ]
  },
  {
   "cell_type": "code",
   "execution_count": null,
   "id": "ba90080b",
   "metadata": {},
   "outputs": [],
   "source": [
    "[x**2 for x in l if x**2 < 25]"
   ]
  },
  {
   "cell_type": "code",
   "execution_count": null,
   "id": "9589c7cb",
   "metadata": {},
   "outputs": [],
   "source": [
    "# coding session Map, Filter, and Zip"
   ]
  },
  {
   "cell_type": "code",
   "execution_count": null,
   "id": "53683239",
   "metadata": {},
   "outputs": [],
   "source": []
  },
  {
   "cell_type": "code",
   "execution_count": null,
   "id": "053020ab",
   "metadata": {},
   "outputs": [],
   "source": []
  },
  {
   "cell_type": "markdown",
   "id": "3fd9c9d6-4eb0-4ef6-8b1c-b9596a63ae45",
   "metadata": {},
   "source": [
    "## 08 - Reducing Functions"
   ]
  },
  {
   "cell_type": "code",
   "execution_count": null,
   "id": "bbd14550-c785-4bca-ab3e-10db2d2e90c8",
   "metadata": {},
   "outputs": [],
   "source": [
    "# Lecture\n",
    "# my testing\n",
    "\n",
    "l = [5, 8, 6, 10, 9]"
   ]
  },
  {
   "cell_type": "code",
   "execution_count": null,
   "id": "94747ef1-b41a-4e7f-aaca-0a53a20fd923",
   "metadata": {},
   "outputs": [],
   "source": [
    "_max = lambda a, b: a if a > b else b\n",
    "\n",
    "def max_seq(seq):\n",
    "    result = seq[0]\n",
    "    for x in seq[1:]:\n",
    "        result = _max(result, x)\n",
    "    return result"
   ]
  },
  {
   "cell_type": "code",
   "execution_count": null,
   "id": "e855e9f0",
   "metadata": {},
   "outputs": [],
   "source": [
    "max_seq(l)"
   ]
  },
  {
   "cell_type": "code",
   "execution_count": null,
   "id": "1b697fe7",
   "metadata": {},
   "outputs": [],
   "source": [
    "_min = lambda a, b: a if a < b else b\n",
    "\n",
    "def min_seq(seq):\n",
    "    result = seq[0]\n",
    "    for x in seq[1:]:\n",
    "        result = _min(result, x)\n",
    "    return result"
   ]
  },
  {
   "cell_type": "code",
   "execution_count": null,
   "id": "4597870d",
   "metadata": {},
   "outputs": [],
   "source": [
    "min_seq(l)"
   ]
  },
  {
   "cell_type": "code",
   "execution_count": null,
   "id": "67dce69b",
   "metadata": {},
   "outputs": [],
   "source": [
    "def _reduce(fn, seq):\n",
    "    result = seq[0]\n",
    "    for x in seq[1:]:\n",
    "        result = fn(result, x)\n",
    "    return result"
   ]
  },
  {
   "cell_type": "code",
   "execution_count": null,
   "id": "15bdc8d0",
   "metadata": {},
   "outputs": [],
   "source": [
    "_reduce(_max, l)"
   ]
  },
  {
   "cell_type": "code",
   "execution_count": null,
   "id": "014d7fc1",
   "metadata": {},
   "outputs": [],
   "source": [
    "_reduce(_min, l)"
   ]
  },
  {
   "cell_type": "code",
   "execution_count": null,
   "id": "8313ac28",
   "metadata": {},
   "outputs": [],
   "source": [
    "_reduce(lambda a, b: a if a > b else b, l) # max"
   ]
  },
  {
   "cell_type": "code",
   "execution_count": null,
   "id": "b8d7adaa",
   "metadata": {},
   "outputs": [],
   "source": [
    "_reduce(lambda a, b: a if a < b else b, l) # min"
   ]
  },
  {
   "cell_type": "code",
   "execution_count": null,
   "id": "ec15fd5e",
   "metadata": {},
   "outputs": [],
   "source": [
    "_reduce(lambda a, b: a + b, l) # sum"
   ]
  },
  {
   "cell_type": "code",
   "execution_count": null,
   "id": "83b23a98",
   "metadata": {},
   "outputs": [],
   "source": [
    "_reduce(lambda a, b: a * b, l) # mult"
   ]
  },
  {
   "cell_type": "code",
   "execution_count": null,
   "id": "08311666",
   "metadata": {},
   "outputs": [],
   "source": [
    "from functools import reduce"
   ]
  },
  {
   "cell_type": "code",
   "execution_count": null,
   "id": "eb46cf15",
   "metadata": {},
   "outputs": [],
   "source": [
    "reduce(lambda a, b: a if a > b else b, l) # returns max value"
   ]
  },
  {
   "cell_type": "code",
   "execution_count": null,
   "id": "52ecccf9",
   "metadata": {},
   "outputs": [],
   "source": [
    "reduce(lambda a, b: a if a < b else b, l) # returns min value"
   ]
  },
  {
   "cell_type": "code",
   "execution_count": null,
   "id": "678a757d",
   "metadata": {},
   "outputs": [],
   "source": [
    "reduce(lambda a, b: a + b, l) # returns sum of values"
   ]
  },
  {
   "cell_type": "code",
   "execution_count": null,
   "id": "b3a3fa5a",
   "metadata": {},
   "outputs": [],
   "source": [
    "reduce(lambda a, b: a * b, l) # returns mult of values"
   ]
  },
  {
   "cell_type": "code",
   "execution_count": null,
   "id": "36075e82",
   "metadata": {},
   "outputs": [],
   "source": [
    "s = {5, 8, 6, 10, 9}\n",
    "reduce(lambda a, b: a if a < b else b, s) # returns min value"
   ]
  },
  {
   "cell_type": "code",
   "execution_count": null,
   "id": "f1b26499",
   "metadata": {},
   "outputs": [],
   "source": [
    "reduce(lambda a, b: a if a < b else b, 'python') "
   ]
  },
  {
   "cell_type": "code",
   "execution_count": null,
   "id": "bc11772a",
   "metadata": {},
   "outputs": [],
   "source": [
    "sorted('python')"
   ]
  },
  {
   "cell_type": "code",
   "execution_count": null,
   "id": "b4439810",
   "metadata": {},
   "outputs": [],
   "source": [
    "reduce(lambda a, b: a if a < b else b, ('python', 'is', 'awesome'))"
   ]
  },
  {
   "cell_type": "code",
   "execution_count": null,
   "id": "7032ad8e",
   "metadata": {},
   "outputs": [],
   "source": [
    "sorted(('python', 'is', 'awesome'))"
   ]
  },
  {
   "cell_type": "code",
   "execution_count": null,
   "id": "77ce04b4",
   "metadata": {},
   "outputs": [],
   "source": [
    "reduce(lambda a, b: a + ' ' + b, ('python', 'is', 'awesome'))"
   ]
  },
  {
   "cell_type": "code",
   "execution_count": null,
   "id": "4c214d3e",
   "metadata": {},
   "outputs": [],
   "source": [
    "' '.join(('python', 'is', 'awesome'))"
   ]
  },
  {
   "cell_type": "code",
   "execution_count": null,
   "id": "772216ea",
   "metadata": {},
   "outputs": [],
   "source": [
    "min([5, 8, 6, 10, 9]) # min of list"
   ]
  },
  {
   "cell_type": "code",
   "execution_count": null,
   "id": "8f904941",
   "metadata": {},
   "outputs": [],
   "source": [
    "min((5, 8, 6, 10, 9)) # min of tuple"
   ]
  },
  {
   "cell_type": "code",
   "execution_count": null,
   "id": "17ed784a",
   "metadata": {},
   "outputs": [],
   "source": [
    "min({5, 8, 6, 10, 9}) # min of set"
   ]
  },
  {
   "cell_type": "code",
   "execution_count": null,
   "id": "06dcc00e",
   "metadata": {},
   "outputs": [],
   "source": [
    "# builtin functions\n",
    "min([5, 8, 6, 10, 9])\n",
    "max([5, 8, 6, 10, 9])\n",
    "sum([5, 8, 6, 10, 9])\n",
    "any([5, 8, 6, 10, 9])\n",
    "all([5, 8, 6, 10, 9])"
   ]
  },
  {
   "cell_type": "code",
   "execution_count": null,
   "id": "97831445",
   "metadata": {},
   "outputs": [],
   "source": [
    "any([0, 8, 6, 10, 9])\n"
   ]
  },
  {
   "cell_type": "code",
   "execution_count": null,
   "id": "50d02fc2",
   "metadata": {},
   "outputs": [],
   "source": [
    "all([5, 8, 6, 10, 0])"
   ]
  },
  {
   "cell_type": "code",
   "execution_count": null,
   "id": "cef511c5",
   "metadata": {},
   "outputs": [],
   "source": [
    "help(all)"
   ]
  },
  {
   "cell_type": "code",
   "execution_count": null,
   "id": "9aa938c1",
   "metadata": {},
   "outputs": [],
   "source": [
    "lt = [(1,2), (3,4), (5,6)]\n",
    "list(map(lambda x: x[0] != 0, lt))"
   ]
  },
  {
   "cell_type": "code",
   "execution_count": null,
   "id": "9e383c83",
   "metadata": {},
   "outputs": [],
   "source": [
    "lt = [(1,2), (3,4), (5,6)]\n",
    "list(map(lambda x: x[1] != 0, lt))"
   ]
  },
  {
   "cell_type": "code",
   "execution_count": null,
   "id": "14dc8ab3",
   "metadata": {},
   "outputs": [],
   "source": [
    "lt = [(0,2), (3,4), (0,6)]\n",
    "list(map(lambda x: x[0] != 0, lt))"
   ]
  },
  {
   "cell_type": "code",
   "execution_count": null,
   "id": "c4b4ddd7",
   "metadata": {},
   "outputs": [],
   "source": [
    "lt = [(1,2), (3,0), (5,6)]\n",
    "list(map(lambda x: x[1] != 0, lt))"
   ]
  },
  {
   "cell_type": "code",
   "execution_count": null,
   "id": "1b909e04",
   "metadata": {},
   "outputs": [],
   "source": [
    "lt = [(1,2), (3,0), (5,6)]\n",
    "any(map(lambda x: x[1] != 0, lt))"
   ]
  },
  {
   "cell_type": "code",
   "execution_count": null,
   "id": "970622ac",
   "metadata": {},
   "outputs": [],
   "source": [
    "lt = [(1,2), (3,0), (5,6)]\n",
    "all(map(lambda x: x[1] != 0, lt))"
   ]
  },
  {
   "cell_type": "code",
   "execution_count": null,
   "id": "c9780abb",
   "metadata": {},
   "outputs": [],
   "source": [
    "lt = [(1,2), (3,4), (5,6)]\n",
    "all(map(lambda x: x[0] != 0 and x[1] != 0, lt))"
   ]
  },
  {
   "cell_type": "code",
   "execution_count": null,
   "id": "8830c155",
   "metadata": {},
   "outputs": [],
   "source": [
    "lt = [(0,0), (0,0), (0,0)]\n",
    "any(map(lambda x: x[0] != 0 and x[1] != 0, lt))"
   ]
  },
  {
   "cell_type": "code",
   "execution_count": null,
   "id": "cfaee40c",
   "metadata": {},
   "outputs": [],
   "source": []
  },
  {
   "cell_type": "markdown",
   "id": "1bcc9d2c-ef42-4493-81fc-f2319d5267a8",
   "metadata": {},
   "source": [
    "## 09 = Partial Functions"
   ]
  },
  {
   "cell_type": "code",
   "execution_count": null,
   "id": "2da01913-2907-4ea9-86ad-e8a39ecf1de4",
   "metadata": {},
   "outputs": [],
   "source": [
    "# lecture"
   ]
  },
  {
   "cell_type": "code",
   "execution_count": null,
   "id": "e4ed5004",
   "metadata": {},
   "outputs": [],
   "source": [
    "def my_func(a, b,c ):\n",
    "    print(a, b, c)\n",
    "    \n",
    "def fn(b,c ):\n",
    "    return my_func(10, b, c)"
   ]
  },
  {
   "cell_type": "code",
   "execution_count": null,
   "id": "c023aa65",
   "metadata": {},
   "outputs": [],
   "source": [
    "my_func(1, 2, 3)\n",
    "fn(20, 30)"
   ]
  },
  {
   "cell_type": "code",
   "execution_count": null,
   "id": "6cdef203",
   "metadata": {},
   "outputs": [],
   "source": [
    "f = lambda b, c: my_func(10, b, c)\n",
    "f(20, 30)"
   ]
  },
  {
   "cell_type": "code",
   "execution_count": null,
   "id": "fa4baf63",
   "metadata": {},
   "outputs": [],
   "source": [
    "from functools import partial\n",
    "\n",
    "f = partial(my_func, 10)"
   ]
  },
  {
   "cell_type": "code",
   "execution_count": null,
   "id": "7db68db3-19e9-4b95-8a68-20e437e57b32",
   "metadata": {},
   "outputs": [],
   "source": [
    "f(20, 30)"
   ]
  },
  {
   "cell_type": "code",
   "execution_count": null,
   "id": "2f9fc048-eb43-4c66-9081-9ebadf5d60f3",
   "metadata": {},
   "outputs": [],
   "source": [
    "def my_func(a, b, *args, k1, k2, **kwargs):\n",
    "    print(a, b, args, k1, k2, kwargs)\n",
    "    \n",
    "def f(b, *args, k2, **kwargs):\n",
    "    return my_func(10, b, *args, k1='a', k2=k2, **kwargs)\n",
    "\n",
    "my_func(10, 20, 30, 40, k1='e1', k2='e2', p1='e3', p2='e4')\n",
    "f(20, 30, 40, k2='e2', t1='o1', t2='o2')"
   ]
  },
  {
   "cell_type": "code",
   "execution_count": null,
   "id": "e27956ed",
   "metadata": {},
   "outputs": [],
   "source": [
    "from functools import partial\n",
    "def pow(base, exponent):\n",
    "    return base ** exponent\n",
    "\n",
    "square = partial(pow, exponent=2)\n",
    "cube = partial(pow, exponent=3)\n",
    "\n",
    "square(5)\n",
    "cube(5)\n",
    "\n",
    "square(5, exponent=3)"
   ]
  },
  {
   "cell_type": "code",
   "execution_count": null,
   "id": "96a82dbe",
   "metadata": {},
   "outputs": [],
   "source": [
    "# coding exercise"
   ]
  },
  {
   "cell_type": "code",
   "execution_count": null,
   "id": "b927710a",
   "metadata": {},
   "outputs": [],
   "source": [
    "from functools import partial"
   ]
  },
  {
   "cell_type": "code",
   "execution_count": 2,
   "id": "754c295e",
   "metadata": {},
   "outputs": [],
   "source": [
    "def my_func(a, b, c):\n",
    "    print(a, b, c)"
   ]
  },
  {
   "cell_type": "code",
   "execution_count": 3,
   "id": "03c72b17",
   "metadata": {},
   "outputs": [
    {
     "name": "stdout",
     "output_type": "stream",
     "text": [
      "10 20 30\n"
     ]
    }
   ],
   "source": [
    "f = partial(my_func, 10)\n",
    "f(20, 30)"
   ]
  },
  {
   "cell_type": "code",
   "execution_count": 11,
   "id": "f753e7fc",
   "metadata": {},
   "outputs": [],
   "source": [
    "def my_func(a, b, *args, k1, k2, **kwargs):\n",
    "    print(a, b, args, k1, k2, kwargs)"
   ]
  },
  {
   "cell_type": "code",
   "execution_count": 12,
   "id": "7ecf8e5d",
   "metadata": {},
   "outputs": [
    {
     "name": "stdout",
     "output_type": "stream",
     "text": [
      "10 20 (30, 40) a b {'k3': 1000, 'k4': 2000}\n"
     ]
    }
   ],
   "source": [
    "my_func(10, 20, 30, 40, k1='a', k2='b', k3=1000, k4=2000)"
   ]
  },
  {
   "cell_type": "code",
   "execution_count": 14,
   "id": "89da0472",
   "metadata": {},
   "outputs": [],
   "source": [
    "f = partial(my_func, 10, k1='a') # (b, *args, k2=.., **kwargs)"
   ]
  },
  {
   "cell_type": "code",
   "execution_count": 15,
   "id": "d6d8f554",
   "metadata": {},
   "outputs": [
    {
     "name": "stdout",
     "output_type": "stream",
     "text": [
      "10 20 (100, 200) a b {'k3': 1000, 'k4': 2000}\n"
     ]
    }
   ],
   "source": [
    "# b, *args, k2=.., **kwargs\n",
    "f(20, 100, 200, k2='b', k3=1000, k4=2000)"
   ]
  },
  {
   "cell_type": "code",
   "execution_count": 14,
   "id": "12b0e74e",
   "metadata": {},
   "outputs": [],
   "source": [
    "origin = (0, 0)\n",
    "l = [(1, 1), (0, 2), (-3, 2), (0, 0), (10, 10)]"
   ]
  },
  {
   "cell_type": "code",
   "execution_count": 11,
   "id": "3caef473",
   "metadata": {},
   "outputs": [],
   "source": [
    "dist_sq = lambda p1, p2: ((p1[0] - p2[0])**2 + (p1[1] - p2[1])**2)"
   ]
  },
  {
   "cell_type": "code",
   "execution_count": 15,
   "id": "35c2df0c",
   "metadata": {},
   "outputs": [
    {
     "data": {
      "text/plain": [
       "2"
      ]
     },
     "execution_count": 15,
     "metadata": {},
     "output_type": "execute_result"
    }
   ],
   "source": [
    "dist_sq((1, 1), origin)"
   ]
  },
  {
   "cell_type": "code",
   "execution_count": 16,
   "id": "e16e3971",
   "metadata": {},
   "outputs": [
    {
     "data": {
      "text/plain": [
       "[(-3, 2), (0, 0), (0, 2), (1, 1), (10, 10)]"
      ]
     },
     "execution_count": 16,
     "metadata": {},
     "output_type": "execute_result"
    }
   ],
   "source": [
    "sorted(l) # sorted by e[0]"
   ]
  },
  {
   "cell_type": "code",
   "execution_count": 18,
   "id": "4dbd264b",
   "metadata": {},
   "outputs": [],
   "source": [
    "from functools import partial\n",
    "\n",
    "dist_from_origin = partial(dist_sq, origin)"
   ]
  },
  {
   "cell_type": "code",
   "execution_count": 19,
   "id": "3675fbbf",
   "metadata": {},
   "outputs": [
    {
     "data": {
      "text/plain": [
       "[(0, 0), (1, 1), (0, 2), (-3, 2), (10, 10)]"
      ]
     },
     "execution_count": 19,
     "metadata": {},
     "output_type": "execute_result"
    }
   ],
   "source": [
    "sorted(l, key=dist_from_origin)"
   ]
  },
  {
   "cell_type": "code",
   "execution_count": 20,
   "id": "7680c983",
   "metadata": {},
   "outputs": [
    {
     "data": {
      "text/plain": [
       "[(0, 0), (1, 1), (0, 2), (-3, 2), (10, 10)]"
      ]
     },
     "execution_count": 20,
     "metadata": {},
     "output_type": "execute_result"
    }
   ],
   "source": [
    "sorted(l, key=lambda p: dist_sq(p, origin))"
   ]
  },
  {
   "cell_type": "code",
   "execution_count": 21,
   "id": "f8287db2",
   "metadata": {},
   "outputs": [
    {
     "data": {
      "text/plain": [
       "[(0, 0), (1, 1), (0, 2), (-3, 2), (10, 10)]"
      ]
     },
     "execution_count": 21,
     "metadata": {},
     "output_type": "execute_result"
    }
   ],
   "source": [
    "sorted(l, key=partial(dist_sq, origin))"
   ]
  },
  {
   "cell_type": "markdown",
   "id": "ff9ea489-8c03-4850-81e8-ebdf5e6c2b13",
   "metadata": {},
   "source": [
    "## 10 - The operator Module"
   ]
  },
  {
   "cell_type": "code",
   "execution_count": 37,
   "id": "3815785c",
   "metadata": {},
   "outputs": [],
   "source": [
    "# lecture"
   ]
  },
  {
   "cell_type": "code",
   "execution_count": 27,
   "id": "e4c6f70c-7b24-4124-8bbf-f6c65086ae0d",
   "metadata": {},
   "outputs": [
    {
     "data": {
      "text/plain": [
       "['__abs__',\n",
       " '__add__',\n",
       " '__all__',\n",
       " '__and__',\n",
       " '__builtins__',\n",
       " '__cached__',\n",
       " '__call__',\n",
       " '__concat__',\n",
       " '__contains__',\n",
       " '__delitem__',\n",
       " '__doc__',\n",
       " '__eq__',\n",
       " '__file__',\n",
       " '__floordiv__',\n",
       " '__ge__',\n",
       " '__getitem__',\n",
       " '__gt__',\n",
       " '__iadd__',\n",
       " '__iand__',\n",
       " '__iconcat__',\n",
       " '__ifloordiv__',\n",
       " '__ilshift__',\n",
       " '__imatmul__',\n",
       " '__imod__',\n",
       " '__imul__',\n",
       " '__index__',\n",
       " '__inv__',\n",
       " '__invert__',\n",
       " '__ior__',\n",
       " '__ipow__',\n",
       " '__irshift__',\n",
       " '__isub__',\n",
       " '__itruediv__',\n",
       " '__ixor__',\n",
       " '__le__',\n",
       " '__loader__',\n",
       " '__lshift__',\n",
       " '__lt__',\n",
       " '__matmul__',\n",
       " '__mod__',\n",
       " '__mul__',\n",
       " '__name__',\n",
       " '__ne__',\n",
       " '__neg__',\n",
       " '__not__',\n",
       " '__or__',\n",
       " '__package__',\n",
       " '__pos__',\n",
       " '__pow__',\n",
       " '__rshift__',\n",
       " '__setitem__',\n",
       " '__spec__',\n",
       " '__sub__',\n",
       " '__truediv__',\n",
       " '__xor__',\n",
       " '_abs',\n",
       " 'abs',\n",
       " 'add',\n",
       " 'and_',\n",
       " 'attrgetter',\n",
       " 'call',\n",
       " 'concat',\n",
       " 'contains',\n",
       " 'countOf',\n",
       " 'delitem',\n",
       " 'eq',\n",
       " 'floordiv',\n",
       " 'ge',\n",
       " 'getitem',\n",
       " 'gt',\n",
       " 'iadd',\n",
       " 'iand',\n",
       " 'iconcat',\n",
       " 'ifloordiv',\n",
       " 'ilshift',\n",
       " 'imatmul',\n",
       " 'imod',\n",
       " 'imul',\n",
       " 'index',\n",
       " 'indexOf',\n",
       " 'inv',\n",
       " 'invert',\n",
       " 'ior',\n",
       " 'ipow',\n",
       " 'irshift',\n",
       " 'is_',\n",
       " 'is_not',\n",
       " 'isub',\n",
       " 'itemgetter',\n",
       " 'itruediv',\n",
       " 'ixor',\n",
       " 'le',\n",
       " 'length_hint',\n",
       " 'lshift',\n",
       " 'lt',\n",
       " 'matmul',\n",
       " 'methodcaller',\n",
       " 'mod',\n",
       " 'mul',\n",
       " 'ne',\n",
       " 'neg',\n",
       " 'not_',\n",
       " 'or_',\n",
       " 'pos',\n",
       " 'pow',\n",
       " 'rshift',\n",
       " 'setitem',\n",
       " 'sub',\n",
       " 'truediv',\n",
       " 'truth',\n",
       " 'xor']"
      ]
     },
     "execution_count": 27,
     "metadata": {},
     "output_type": "execute_result"
    }
   ],
   "source": [
    "import operator\n",
    "# from operator import imatmul\n",
    "\n",
    "dir(operator)\n",
    "# help(imatmul)"
   ]
  },
  {
   "cell_type": "code",
   "execution_count": 36,
   "id": "a8831318-ce5f-4e29-a86f-dd711437c95b",
   "metadata": {},
   "outputs": [
    {
     "data": {
      "text/plain": [
       "(2, 1)"
      ]
     },
     "execution_count": 36,
     "metadata": {},
     "output_type": "execute_result"
    }
   ],
   "source": [
    "from operator import add, mul, floordiv, mod\n",
    "a = 5\n",
    "b = 5\n",
    "\n",
    "add(a, b)\n",
    "mul(a, b)\n",
    "floordiv(5, 2)\n",
    "5 // 2\n",
    "mod(5, 2)\n",
    "divmod(5, 2)"
   ]
  },
  {
   "cell_type": "code",
   "execution_count": 38,
   "id": "b5da6e20-6ceb-4e8f-9961-87e7871bcd31",
   "metadata": {},
   "outputs": [],
   "source": [
    "# code session"
   ]
  },
  {
   "cell_type": "code",
   "execution_count": 39,
   "id": "8e627eac-1b50-4775-ac5f-52f835c2d378",
   "metadata": {},
   "outputs": [],
   "source": [
    "import operator"
   ]
  },
  {
   "cell_type": "code",
   "execution_count": 41,
   "id": "b09dfe49",
   "metadata": {},
   "outputs": [
    {
     "data": {
      "text/plain": [
       "3"
      ]
     },
     "execution_count": 41,
     "metadata": {},
     "output_type": "execute_result"
    }
   ],
   "source": [
    "operator.add(1, 2)"
   ]
  },
  {
   "cell_type": "code",
   "execution_count": 42,
   "id": "09aabe56",
   "metadata": {},
   "outputs": [],
   "source": [
    "from functools import reduce"
   ]
  },
  {
   "cell_type": "code",
   "execution_count": 43,
   "id": "6b198c2c",
   "metadata": {},
   "outputs": [
    {
     "data": {
      "text/plain": [
       "24"
      ]
     },
     "execution_count": 43,
     "metadata": {},
     "output_type": "execute_result"
    }
   ],
   "source": [
    "reduce(lambda x, y: x * y, [1, 2, 3, 4])"
   ]
  },
  {
   "cell_type": "code",
   "execution_count": 44,
   "id": "71f9c3fb",
   "metadata": {},
   "outputs": [
    {
     "data": {
      "text/plain": [
       "24"
      ]
     },
     "execution_count": 44,
     "metadata": {},
     "output_type": "execute_result"
    }
   ],
   "source": [
    "reduce(operator.mul, [1, 2, 3, 4])"
   ]
  },
  {
   "cell_type": "code",
   "execution_count": 46,
   "id": "c949ec49",
   "metadata": {},
   "outputs": [
    {
     "ename": "TypeError",
     "evalue": "lt expected 2 arguments, got 1",
     "output_type": "error",
     "traceback": [
      "\u001b[0;31m---------------------------------------------------------------------------\u001b[0m",
      "\u001b[0;31mTypeError\u001b[0m                                 Traceback (most recent call last)",
      "Cell \u001b[0;32mIn[46], line 1\u001b[0m\n\u001b[0;32m----> 1\u001b[0m \u001b[38;5;28mlist\u001b[39m(\u001b[38;5;28mmap\u001b[39m(operator\u001b[38;5;241m.\u001b[39mlt, [\u001b[38;5;241m1\u001b[39m, \u001b[38;5;241m2\u001b[39m, \u001b[38;5;241m3\u001b[39m, \u001b[38;5;241m4\u001b[39m]))\n",
      "\u001b[0;31mTypeError\u001b[0m: lt expected 2 arguments, got 1"
     ]
    }
   ],
   "source": [
    "list(map(operator.lt, [1, 2, 3, 4]))"
   ]
  },
  {
   "cell_type": "code",
   "execution_count": 56,
   "id": "770f6b16",
   "metadata": {},
   "outputs": [
    {
     "data": {
      "text/plain": [
       "[(1, 2), (2, 3), (3, 4)]"
      ]
     },
     "execution_count": 56,
     "metadata": {},
     "output_type": "execute_result"
    }
   ],
   "source": [
    "l = [1, 2, 3, 4]\n",
    "[(x,y) for x,y in zip(l[:-1], l[1:])]"
   ]
  },
  {
   "cell_type": "code",
   "execution_count": 57,
   "id": "738fd4c1",
   "metadata": {},
   "outputs": [
    {
     "data": {
      "text/plain": [
       "[True, True, True]"
      ]
     },
     "execution_count": 57,
     "metadata": {},
     "output_type": "execute_result"
    }
   ],
   "source": [
    "[operator.le(x,y) for x,y in zip(l[:-1], l[1:])]"
   ]
  },
  {
   "cell_type": "code",
   "execution_count": 61,
   "id": "164963ba",
   "metadata": {},
   "outputs": [
    {
     "data": {
      "text/plain": [
       "[(0, True), (1, True), (2, True)]"
      ]
     },
     "execution_count": 61,
     "metadata": {},
     "output_type": "execute_result"
    }
   ],
   "source": [
    "[(k,v) for k,v in enumerate([operator.le(x,y) for x,y in zip(l[:-1], l[1:])])]"
   ]
  },
  {
   "cell_type": "code",
   "execution_count": 78,
   "id": "7459557e",
   "metadata": {},
   "outputs": [
    {
     "data": {
      "text/plain": [
       "[(5, 1), (1, 5), (5, 2), (2, 7), (7, 3), (3, 9)]"
      ]
     },
     "execution_count": 78,
     "metadata": {},
     "output_type": "execute_result"
    }
   ],
   "source": [
    "l = [5, 1, 5, 2, 7, 3, 9]\n",
    "[(c,n) for c,n in zip(l[:-1], l[1:])]"
   ]
  },
  {
   "cell_type": "code",
   "execution_count": 75,
   "id": "434570d6",
   "metadata": {},
   "outputs": [
    {
     "data": {
      "text/plain": [
       "[-4, 4, -3, 5, -4, 6]"
      ]
     },
     "execution_count": 75,
     "metadata": {},
     "output_type": "execute_result"
    }
   ],
   "source": [
    "[n-c for c,n in [(c,n) for c,n in zip(l[:-1], l[1:])]]"
   ]
  },
  {
   "cell_type": "code",
   "execution_count": 62,
   "id": "2d3640ce",
   "metadata": {},
   "outputs": [],
   "source": [
    "my_list = [1, 2, 3, 4]"
   ]
  },
  {
   "cell_type": "code",
   "execution_count": 63,
   "id": "524fecaf",
   "metadata": {},
   "outputs": [
    {
     "data": {
      "text/plain": [
       "2"
      ]
     },
     "execution_count": 63,
     "metadata": {},
     "output_type": "execute_result"
    }
   ],
   "source": [
    "my_list[1]"
   ]
  },
  {
   "cell_type": "code",
   "execution_count": 64,
   "id": "b13d546b",
   "metadata": {},
   "outputs": [
    {
     "data": {
      "text/plain": [
       "2"
      ]
     },
     "execution_count": 64,
     "metadata": {},
     "output_type": "execute_result"
    }
   ],
   "source": [
    "operator.getitem(my_list,1)"
   ]
  },
  {
   "cell_type": "code",
   "execution_count": 65,
   "id": "621ece5f",
   "metadata": {},
   "outputs": [],
   "source": [
    "f = operator.itemgetter(2)"
   ]
  },
  {
   "cell_type": "code",
   "execution_count": 66,
   "id": "822ef084",
   "metadata": {},
   "outputs": [
    {
     "data": {
      "text/plain": [
       "3"
      ]
     },
     "execution_count": 66,
     "metadata": {},
     "output_type": "execute_result"
    }
   ],
   "source": [
    "f(my_list)"
   ]
  },
  {
   "cell_type": "code",
   "execution_count": 67,
   "id": "4bca333d",
   "metadata": {},
   "outputs": [
    {
     "data": {
      "text/plain": [
       "'t'"
      ]
     },
     "execution_count": 67,
     "metadata": {},
     "output_type": "execute_result"
    }
   ],
   "source": [
    "f('python')"
   ]
  },
  {
   "cell_type": "code",
   "execution_count": 79,
   "id": "91186ee9",
   "metadata": {},
   "outputs": [],
   "source": [
    "f = operator.itemgetter(2,3)"
   ]
  },
  {
   "cell_type": "code",
   "execution_count": 81,
   "id": "59cc4294",
   "metadata": {},
   "outputs": [
    {
     "name": "stdout",
     "output_type": "stream",
     "text": [
      "[1, 2, 3, 4]\n"
     ]
    },
    {
     "data": {
      "text/plain": [
       "(3, 4)"
      ]
     },
     "execution_count": 81,
     "metadata": {},
     "output_type": "execute_result"
    }
   ],
   "source": [
    "print(my_list)\n",
    "f(my_list)"
   ]
  },
  {
   "cell_type": "code",
   "execution_count": 82,
   "id": "702886f4",
   "metadata": {},
   "outputs": [],
   "source": [
    "class MyClass:\n",
    "    def __init__(self):\n",
    "        self.a = 10\n",
    "        self.b = 20\n",
    "        self.c = 30\n",
    "        \n",
    "    def test(self):\n",
    "        print('test method running...')"
   ]
  },
  {
   "cell_type": "code",
   "execution_count": 84,
   "id": "2d8217fa",
   "metadata": {},
   "outputs": [],
   "source": [
    "obj = MyClass()"
   ]
  },
  {
   "cell_type": "code",
   "execution_count": null,
   "id": "209ffdd2",
   "metadata": {},
   "outputs": [],
   "source": [
    "p = lambda *args: print(*args)"
   ]
  },
  {
   "cell_type": "code",
   "execution_count": 106,
   "id": "5c2277f1",
   "metadata": {},
   "outputs": [
    {
     "name": "stdout",
     "output_type": "stream",
     "text": [
      "10 20 30\n",
      "test method running...\n"
     ]
    }
   ],
   "source": [
    "p(obj.a, obj.b, obj.c)\n",
    "obj.test()"
   ]
  },
  {
   "cell_type": "code",
   "execution_count": 107,
   "id": "03925957",
   "metadata": {},
   "outputs": [
    {
     "name": "stdout",
     "output_type": "stream",
     "text": [
      "10\n",
      "(10, 20, 30)\n"
     ]
    }
   ],
   "source": [
    "p(operator.attrgetter('a')(obj))\n",
    "p(operator.attrgetter('a', 'b', 'c')(obj))"
   ]
  },
  {
   "cell_type": "code",
   "execution_count": 108,
   "id": "b701d987",
   "metadata": {},
   "outputs": [],
   "source": [
    "class MyClass:\n",
    "    def __init__(self):\n",
    "        self.a = 10\n",
    "        self.b = 20\n",
    "        self.c = 30\n",
    "        \n",
    "    def test(self):\n",
    "        print('test method running...')"
   ]
  },
  {
   "cell_type": "code",
   "execution_count": 109,
   "id": "0e1a9481",
   "metadata": {},
   "outputs": [],
   "source": [
    "obj = MyClass()"
   ]
  },
  {
   "cell_type": "code",
   "execution_count": 110,
   "id": "f6834fca",
   "metadata": {},
   "outputs": [],
   "source": [
    "f = operator.attrgetter('test')"
   ]
  },
  {
   "cell_type": "code",
   "execution_count": 111,
   "id": "55cd6a56",
   "metadata": {},
   "outputs": [
    {
     "data": {
      "text/plain": [
       "<bound method MyClass.test of <__main__.MyClass object at 0x7f2236f67ad0>>"
      ]
     },
     "execution_count": 111,
     "metadata": {},
     "output_type": "execute_result"
    }
   ],
   "source": [
    "f(obj)"
   ]
  },
  {
   "cell_type": "code",
   "execution_count": 112,
   "id": "f80c4253",
   "metadata": {},
   "outputs": [
    {
     "name": "stdout",
     "output_type": "stream",
     "text": [
      "test method running...\n"
     ]
    }
   ],
   "source": [
    "f(obj)()"
   ]
  },
  {
   "cell_type": "code",
   "execution_count": 117,
   "id": "5f3bdaba",
   "metadata": {},
   "outputs": [
    {
     "name": "stdout",
     "output_type": "stream",
     "text": [
      "test method running...\n",
      "None\n"
     ]
    }
   ],
   "source": [
    "ret = operator.methodcaller('test')(obj)\n",
    "p(ret)"
   ]
  },
  {
   "cell_type": "code",
   "execution_count": 126,
   "id": "1b9caef1",
   "metadata": {},
   "outputs": [],
   "source": [
    "class MyClass:\n",
    "    def __init__(self):\n",
    "        self.a = 10\n",
    "        self.b = 20\n",
    "        \n",
    "    def test(self, c):\n",
    "        print(self.a, self.b, c)"
   ]
  },
  {
   "cell_type": "code",
   "execution_count": 127,
   "id": "0db27adf",
   "metadata": {},
   "outputs": [],
   "source": [
    "obj = MyClass()"
   ]
  },
  {
   "cell_type": "code",
   "execution_count": 128,
   "id": "758e8b2e",
   "metadata": {},
   "outputs": [
    {
     "data": {
      "text/plain": [
       "10"
      ]
     },
     "execution_count": 128,
     "metadata": {},
     "output_type": "execute_result"
    }
   ],
   "source": [
    "obj.a"
   ]
  },
  {
   "cell_type": "code",
   "execution_count": 129,
   "id": "381adbda",
   "metadata": {},
   "outputs": [
    {
     "data": {
      "text/plain": [
       "20"
      ]
     },
     "execution_count": 129,
     "metadata": {},
     "output_type": "execute_result"
    }
   ],
   "source": [
    "obj.b"
   ]
  },
  {
   "cell_type": "code",
   "execution_count": 131,
   "id": "0eb6b3cf",
   "metadata": {},
   "outputs": [
    {
     "name": "stdout",
     "output_type": "stream",
     "text": [
      "10 20 100\n"
     ]
    }
   ],
   "source": [
    "# obj.test()\n",
    "obj.test(100)"
   ]
  },
  {
   "cell_type": "code",
   "execution_count": 133,
   "id": "3fb94a25",
   "metadata": {},
   "outputs": [
    {
     "name": "stdout",
     "output_type": "stream",
     "text": [
      "10 20 100\n"
     ]
    }
   ],
   "source": [
    "operator.methodcaller('test', 100)(obj)"
   ]
  },
  {
   "cell_type": "code",
   "execution_count": null,
   "id": "308f43cb",
   "metadata": {},
   "outputs": [],
   "source": []
  }
 ],
 "metadata": {
  "kernelspec": {
   "display_name": "Python 3 (ipykernel)",
   "language": "python",
   "name": "python3"
  },
  "language_info": {
   "codemirror_mode": {
    "name": "ipython",
    "version": 3
   },
   "file_extension": ".py",
   "mimetype": "text/x-python",
   "name": "python",
   "nbconvert_exporter": "python",
   "pygments_lexer": "ipython3",
   "version": "3.12.2"
  }
 },
 "nbformat": 4,
 "nbformat_minor": 5
}
