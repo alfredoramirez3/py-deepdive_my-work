{
 "cells": [
  {
   "cell_type": "markdown",
   "id": "44cccb61-edb6-4691-9665-6cb8ce0daedc",
   "metadata": {},
   "source": [
    "### Decorators Application (Memoization)"
   ]
  },
  {
   "cell_type": "code",
   "execution_count": 9,
   "id": "ed57e66a-a7fb-4de4-bcf4-04c09d09f549",
   "metadata": {},
   "outputs": [],
   "source": [
    "# my imports\n",
    "import wat"
   ]
  },
  {
   "cell_type": "code",
   "execution_count": 1,
   "id": "db4162e9-b4c3-4ad0-b9a6-b5cce54556ce",
   "metadata": {},
   "outputs": [],
   "source": [
    "def fib(n):\n",
    "    print('Calculating fib({0})'.format(n))\n",
    "    return 1 if n < 3 else fib(n-1) + fib(n-2)"
   ]
  },
  {
   "cell_type": "code",
   "execution_count": 2,
   "id": "1ee21beb-5d90-4b3d-bc38-7bc8d53aaa1e",
   "metadata": {},
   "outputs": [
    {
     "name": "stdout",
     "output_type": "stream",
     "text": [
      "Calculating fib(6)\n",
      "Calculating fib(5)\n",
      "Calculating fib(4)\n",
      "Calculating fib(3)\n",
      "Calculating fib(2)\n",
      "Calculating fib(1)\n",
      "Calculating fib(2)\n",
      "Calculating fib(3)\n",
      "Calculating fib(2)\n",
      "Calculating fib(1)\n",
      "Calculating fib(4)\n",
      "Calculating fib(3)\n",
      "Calculating fib(2)\n",
      "Calculating fib(1)\n",
      "Calculating fib(2)\n"
     ]
    },
    {
     "data": {
      "text/plain": [
       "8"
      ]
     },
     "execution_count": 2,
     "metadata": {},
     "output_type": "execute_result"
    }
   ],
   "source": [
    "fib(6)"
   ]
  },
  {
   "cell_type": "markdown",
   "id": "49a6e1e9-bea2-4f96-99c0-712fe9118988",
   "metadata": {},
   "source": [
    "Improve efficiency with a simple class and a dictionary"
   ]
  },
  {
   "cell_type": "code",
   "execution_count": 3,
   "id": "c53105e6-d3d2-41fd-9acc-1f0aa013ca1c",
   "metadata": {},
   "outputs": [],
   "source": [
    "class Fib:\n",
    "    def __init__(self):\n",
    "        self.cache = {1: 1, 2: 1}\n",
    "\n",
    "    def fib(self, n):\n",
    "        if n not in self.cache:\n",
    "            print('Calculating fib({0})'.format(n))\n",
    "            self.cache[n] = self.fib(n-1) + self.fib(n-2)\n",
    "\n",
    "        return self.cache[n]"
   ]
  },
  {
   "cell_type": "code",
   "execution_count": 4,
   "id": "c416a0c2-58ba-48d2-8324-fc52055390b9",
   "metadata": {},
   "outputs": [],
   "source": [
    "f = Fib()"
   ]
  },
  {
   "cell_type": "code",
   "execution_count": 5,
   "id": "3df78b89-7bc4-49b9-a0ae-36aea618c088",
   "metadata": {},
   "outputs": [
    {
     "data": {
      "text/plain": [
       "1"
      ]
     },
     "execution_count": 5,
     "metadata": {},
     "output_type": "execute_result"
    }
   ],
   "source": [
    "f.fib(1)"
   ]
  },
  {
   "cell_type": "code",
   "execution_count": 6,
   "id": "45805b0f-ad12-4418-8601-16bd62367b04",
   "metadata": {},
   "outputs": [
    {
     "name": "stdout",
     "output_type": "stream",
     "text": [
      "Calculating fib(10)\n",
      "Calculating fib(9)\n",
      "Calculating fib(8)\n",
      "Calculating fib(7)\n",
      "Calculating fib(6)\n",
      "Calculating fib(5)\n",
      "Calculating fib(4)\n",
      "Calculating fib(3)\n"
     ]
    },
    {
     "data": {
      "text/plain": [
       "55"
      ]
     },
     "execution_count": 6,
     "metadata": {},
     "output_type": "execute_result"
    }
   ],
   "source": [
    "f.fib(10)"
   ]
  },
  {
   "cell_type": "code",
   "execution_count": 7,
   "id": "25a7b3e7-4fc7-46fd-b690-edd0aa8a0f96",
   "metadata": {},
   "outputs": [
    {
     "data": {
      "text/plain": [
       "13"
      ]
     },
     "execution_count": 7,
     "metadata": {},
     "output_type": "execute_result"
    }
   ],
   "source": [
    "f.fib(7)"
   ]
  },
  {
   "cell_type": "code",
   "execution_count": 8,
   "id": "a679f3ce-3eb7-4f05-942b-2633d230dc15",
   "metadata": {},
   "outputs": [
    {
     "data": {
      "text/plain": [
       "{1: 1, 2: 1, 3: 2, 4: 3, 5: 5, 6: 8, 7: 13, 8: 21, 9: 34, 10: 55}"
      ]
     },
     "execution_count": 8,
     "metadata": {},
     "output_type": "execute_result"
    }
   ],
   "source": [
    "f.cache"
   ]
  },
  {
   "cell_type": "code",
   "execution_count": 15,
   "id": "6e3c90ef-6e6c-4d61-baec-9799125519f6",
   "metadata": {
    "collapsed": true,
    "jupyter": {
     "outputs_hidden": true
    }
   },
   "outputs": [
    {
     "name": "stdout",
     "output_type": "stream",
     "text": [
      "caller file: /tmp/ipykernel_55256/275946278.py:1\n",
      "caller expression: wat.all / f\n",
      "value: <__main__.Fib object at 0x7fd5dc1e92b0>\n",
      "type: __main__.Fib\n",
      "\n",
      "Public attributes:\n",
      "  cache: dict = {\n",
      "    1: 1,\n",
      "    2: 1,\n",
      "    3: 2,\n",
      "    4: 3,\n",
      "    5: 5,\n",
      "    6: 8,\n",
      "    7: 13,\n",
      "    8: 21,\n",
      "    9: 34,\n",
      "    10: 55,\n",
      "}\n",
      "\n",
      "  def fib(n)\n",
      "\n",
      "Dunder attributes:\n",
      "  __dict__: dict = {\n",
      "    'cache': {\n",
      "        1: 1,\n",
      "        2: 1,\n",
      "        3: 2,\n",
      "        4: 3,\n",
      "        5: 5,\n",
      "        6: 8,\n",
      "        7: 13,\n",
      "        8: 21,\n",
      "        9: 34,\n",
      "        10: 55,\n",
      "    },\n",
      "}\n",
      "  __doc__: NoneType = None\n",
      "  __firstlineno__: int = 1\n",
      "  __module__: str = '__main__'\n",
      "  __static_attributes__: tuple = ('cache',)\n",
      "  __weakref__: NoneType = None\n",
      "\n",
      "  class __class__()\n",
      "  def __delattr__(name, /) # Implement delattr(self, name).\n",
      "  def __dir__() # Default dir() implementation.\n",
      "  def __eq__(value, /) # Return self==value.\n",
      "  def __format__(format_spec, /):\n",
      "\"\"\"\n",
      "Default object formatter.\n",
      "\n",
      "Return str(self) if format_spec is empty. Raise TypeError otherwise.\n",
      "\"\"\"\n",
      "  def __ge__(value, /) # Return self>=value.\n",
      "  def __getattribute__(name, /) # Return getattr(self, name).\n",
      "  def __getstate__() # Helper for pickle.\n",
      "  def __gt__(value, /) # Return self>value.\n",
      "  def __hash__() # Return hash(self).\n",
      "  def __init__() # Initialize self.  See help(type(self)) for accurate signature.\n",
      "  def __init_subclass__():\n",
      "\"\"\"\n",
      "This method is called when a class is subclassed.\n",
      "\n",
      "The default implementation does nothing. It may be\n",
      "overridden to extend subclasses.\n",
      "\"\"\"\n",
      "  def __le__(value, /) # Return self<=value.\n",
      "  def __lt__(value, /) # Return self<value.\n",
      "  def __ne__(value, /) # Return self!=value.\n",
      "  def __new__(*args, **kwargs) # Create and return a new object.  See help(type) for accurate signature.\n",
      "  def __reduce__() # Helper for pickle.\n",
      "  def __reduce_ex__(protocol, /) # Helper for pickle.\n",
      "  def __repr__() # Return repr(self).\n",
      "  def __setattr__(name, value, /) # Implement setattr(self, name, value).\n",
      "  def __sizeof__() # Size of object in memory, in bytes.\n",
      "  def __str__() # Return str(self).\n",
      "  def __subclasshook__(object, /):\n",
      "\"\"\"\n",
      "Abstract classes can override this to customize issubclass().\n",
      "\n",
      "This is invoked early on by abc.ABCMeta.__subclasscheck__().\n",
      "It should return True, False or NotImplemented.  If it returns\n",
      "NotImplemented, the normal algorithm is used.  Otherwise, it\n",
      "overrides the normal algorithm (and the outcome is cached).\n",
      "\"\"\"\n"
     ]
    }
   ],
   "source": [
    "wat.all / f"
   ]
  },
  {
   "cell_type": "code",
   "execution_count": null,
   "id": "651488f6-90b8-4af1-bfcc-10003fa706b9",
   "metadata": {},
   "outputs": [],
   "source": []
  },
  {
   "cell_type": "markdown",
   "id": "514ff216-a62d-471b-a2c3-54a33dc07b15",
   "metadata": {},
   "source": [
    "Implement using a closure"
   ]
  },
  {
   "cell_type": "code",
   "execution_count": null,
   "id": "0818a1d0-5467-4f41-96d0-3973164f12a9",
   "metadata": {},
   "outputs": [],
   "source": [
    "def fib():\n",
    "    cache = {1:1, 2:1}\n",
    "\n",
    "    def calc_fib(n):\n",
    "        if n not in cache:\n",
    "            print('Calculating fib({0})'.format(n))\n",
    "            cache[n] = calc_fib(n-1) + calc_fib(n-2)\n",
    "\n",
    "        return cache[n]\n",
    "\n",
    "    return calc_fib"
   ]
  },
  {
   "cell_type": "code",
   "execution_count": null,
   "id": "7a325fcd-2c72-4a15-ab65-adb508935f8d",
   "metadata": {},
   "outputs": [],
   "source": [
    "f = fib()"
   ]
  },
  {
   "cell_type": "code",
   "execution_count": null,
   "id": "ac590c3b-76fa-45fb-ab0f-92c04cf2b6b3",
   "metadata": {},
   "outputs": [],
   "source": [
    "f(10)"
   ]
  },
  {
   "cell_type": "code",
   "execution_count": null,
   "id": "cf5f6a33-f0d5-4112-b030-3d9afb7b6599",
   "metadata": {},
   "outputs": [],
   "source": [
    "f(9)"
   ]
  },
  {
   "cell_type": "code",
   "execution_count": null,
   "id": "e1adf975-be52-47b5-9c61-861fe580e4e1",
   "metadata": {},
   "outputs": [],
   "source": [
    "f(11)"
   ]
  },
  {
   "cell_type": "markdown",
   "id": "6ead2389-e55d-46a1-803f-74950c89d6b3",
   "metadata": {},
   "source": [
    "Implement using a decorator"
   ]
  },
  {
   "cell_type": "code",
   "execution_count": 35,
   "id": "1b95fbf4-fbb7-4bf7-be9a-c73b6692ca1f",
   "metadata": {},
   "outputs": [],
   "source": [
    "from functools import wraps\n",
    "\n",
    "def memoize_fib(fib):\n",
    "    \"\"\"\n",
    "    Use dictionary to cache fibanacci values\n",
    "    \"\"\"\n",
    "    cache = dict()\n",
    "\n",
    "    @wraps(fib)\n",
    "    def inner(n):\n",
    "        if n not in cache:\n",
    "            cache[n] = fib(n)\n",
    "\n",
    "        return cache[n]\n",
    "\n",
    "    return inner"
   ]
  },
  {
   "cell_type": "code",
   "execution_count": 36,
   "id": "67231f8b-7dc1-49c5-83bb-5b8bf85a0625",
   "metadata": {},
   "outputs": [],
   "source": [
    "@memoize_fib\n",
    "def fib(n):\n",
    "    \"\"\"\n",
    "    Returns fibanacci of n\n",
    "    \"\"\"\n",
    "    print('Calculating fib({0})'.format(n))\n",
    "\n",
    "    return 1 if n < 3 else fib(n-1) + fib(n-2)"
   ]
  },
  {
   "cell_type": "code",
   "execution_count": 37,
   "id": "8707a721-ba85-438a-b6ea-9170c09f8573",
   "metadata": {},
   "outputs": [
    {
     "name": "stdout",
     "output_type": "stream",
     "text": [
      "Calculating fib(3)\n",
      "Calculating fib(2)\n",
      "Calculating fib(1)\n"
     ]
    },
    {
     "data": {
      "text/plain": [
       "2"
      ]
     },
     "execution_count": 37,
     "metadata": {},
     "output_type": "execute_result"
    }
   ],
   "source": [
    "fib(3)"
   ]
  },
  {
   "cell_type": "code",
   "execution_count": 38,
   "id": "076424e5-e4ac-411a-941c-dfd0d5b2e05b",
   "metadata": {},
   "outputs": [
    {
     "name": "stdout",
     "output_type": "stream",
     "text": [
      "Calculating fib(10)\n",
      "Calculating fib(9)\n",
      "Calculating fib(8)\n",
      "Calculating fib(7)\n",
      "Calculating fib(6)\n",
      "Calculating fib(5)\n",
      "Calculating fib(4)\n"
     ]
    },
    {
     "data": {
      "text/plain": [
       "55"
      ]
     },
     "execution_count": 38,
     "metadata": {},
     "output_type": "execute_result"
    }
   ],
   "source": [
    "fib(10)"
   ]
  },
  {
   "cell_type": "code",
   "execution_count": 39,
   "id": "6b6b2b12-1111-4c6a-bd5d-33d79368f093",
   "metadata": {},
   "outputs": [
    {
     "data": {
      "text/plain": [
       "34"
      ]
     },
     "execution_count": 39,
     "metadata": {},
     "output_type": "execute_result"
    }
   ],
   "source": [
    "fib(9)"
   ]
  },
  {
   "cell_type": "code",
   "execution_count": 40,
   "id": "365b55be-dcbf-470a-be04-d2617b649ca9",
   "metadata": {},
   "outputs": [
    {
     "name": "stdout",
     "output_type": "stream",
     "text": [
      "Calculating fib(11)\n"
     ]
    },
    {
     "data": {
      "text/plain": [
       "89"
      ]
     },
     "execution_count": 40,
     "metadata": {},
     "output_type": "execute_result"
    }
   ],
   "source": [
    "fib(11)"
   ]
  },
  {
   "cell_type": "code",
   "execution_count": 41,
   "id": "5751b012-d4ba-40e3-8023-822fe7539604",
   "metadata": {},
   "outputs": [
    {
     "name": "stdout",
     "output_type": "stream",
     "text": [
      "value: <function fib at 0x7fd5c5c97240>\n",
      "type: function\n",
      "signature: def fib(n)\n",
      "\"\"\"Returns fibanacci of n\"\"\"\n",
      "source code:\n",
      "@memoize_fib\n",
      "def fib(n):\n",
      "    \"\"\"\n",
      "    Returns fibanacci of n\n",
      "    \"\"\"\n",
      "    print('Calculating fib({0})'.format(n))\n",
      "\n",
      "    return 1 if n < 3 else fib(n-1) + fib(n-2)\n",
      "\n"
     ]
    }
   ],
   "source": [
    "wat.code / fib"
   ]
  },
  {
   "cell_type": "code",
   "execution_count": 42,
   "id": "0069fbb9-9e1f-414b-9473-838f9a05ad90",
   "metadata": {},
   "outputs": [],
   "source": [
    "# generalize decorator for any function fn\n",
    "# from functools import wraps\n",
    "\n",
    "def memoize(fn):\n",
    "    \"\"\"\n",
    "    Use dictionary to cache values\n",
    "    \"\"\"\n",
    "    cache = dict()\n",
    "\n",
    "    # @wraps(fn)\n",
    "    def inner(n):\n",
    "        if n not in cache:\n",
    "            cache[n] = fn(n)\n",
    "\n",
    "        return cache[n]\n",
    "\n",
    "    return inner"
   ]
  },
  {
   "cell_type": "code",
   "execution_count": 43,
   "id": "9cb89977-970c-432a-94ab-e6fceac3db4a",
   "metadata": {},
   "outputs": [],
   "source": [
    "@memoize\n",
    "def fib(n):\n",
    "    \"\"\"\n",
    "    Returns fibanacci of n\n",
    "    \"\"\"\n",
    "    print('Calculating fib({0})'.format(n))\n",
    "\n",
    "    return 1 if n < 3 else fib(n-1) + fib(n-2)"
   ]
  },
  {
   "cell_type": "code",
   "execution_count": 44,
   "id": "1746c8b9-78c0-44ae-8cd6-f921b618076e",
   "metadata": {},
   "outputs": [
    {
     "name": "stdout",
     "output_type": "stream",
     "text": [
      "Calculating fib(10)\n",
      "Calculating fib(9)\n",
      "Calculating fib(8)\n",
      "Calculating fib(7)\n",
      "Calculating fib(6)\n",
      "Calculating fib(5)\n",
      "Calculating fib(4)\n",
      "Calculating fib(3)\n",
      "Calculating fib(2)\n",
      "Calculating fib(1)\n"
     ]
    },
    {
     "data": {
      "text/plain": [
       "55"
      ]
     },
     "execution_count": 44,
     "metadata": {},
     "output_type": "execute_result"
    }
   ],
   "source": [
    "fib(10)"
   ]
  },
  {
   "cell_type": "code",
   "execution_count": 46,
   "id": "3be70069-4107-46b9-889d-29a8b6a1021d",
   "metadata": {},
   "outputs": [
    {
     "name": "stdout",
     "output_type": "stream",
     "text": [
      "Calculating fib(11)\n"
     ]
    },
    {
     "data": {
      "text/plain": [
       "89"
      ]
     },
     "execution_count": 46,
     "metadata": {},
     "output_type": "execute_result"
    }
   ],
   "source": [
    "fib(11)"
   ]
  },
  {
   "cell_type": "markdown",
   "id": "7156d518-0814-4471-86bf-4e9df4f5bf30",
   "metadata": {},
   "source": [
    "exploratory .."
   ]
  },
  {
   "cell_type": "code",
   "execution_count": 53,
   "id": "124bbd53-8fb7-4851-af4d-1f42b5b1be7b",
   "metadata": {},
   "outputs": [
    {
     "name": "stdout",
     "output_type": "stream",
     "text": [
      "value: <function memoize.<locals>.inner at 0x7fd5c5c97a60>\n",
      "type: function\n",
      "signature: def inner(n)\n",
      "source code:\n",
      "    def inner(n):\n",
      "        if n not in cache:\n",
      "            cache[n] = fn(n)\n",
      "\n",
      "        return cache[n]\n",
      "\n"
     ]
    }
   ],
   "source": [
    "wat.code / fib"
   ]
  },
  {
   "cell_type": "code",
   "execution_count": 56,
   "id": "9535d4e0-d952-4ca7-8b46-6cedc296b90b",
   "metadata": {},
   "outputs": [
    {
     "data": {
      "text/plain": [
       "{2: 1, 1: 1, 3: 2, 4: 3, 5: 5, 6: 8, 7: 13, 8: 21, 9: 34, 10: 55, 11: 89}"
      ]
     },
     "execution_count": 56,
     "metadata": {},
     "output_type": "execute_result"
    }
   ],
   "source": [
    "fib.__closure__[0].cell_contents"
   ]
  },
  {
   "cell_type": "code",
   "execution_count": 57,
   "id": "99b31f9e-54cb-4fe7-baee-46b46c48fa98",
   "metadata": {},
   "outputs": [
    {
     "name": "stdout",
     "output_type": "stream",
     "text": [
      "value: (<cell at 0x7fd5dc165090: dict object at 0x7fd5c5ca4340>, <cell at 0x7fd5dc164ee0: function object at 0x7fd5c5c95580>)\n",
      "type: tuple\n",
      "len: 2\n",
      "\n",
      "Public attributes:\n",
      "  def count(value, /) # Return number of occurrences of value.\n",
      "  def index(value, start=0, stop=9223372036854775807, /) # Return first index of value.…\n"
     ]
    }
   ],
   "source": [
    "wat / fib.__closure__"
   ]
  },
  {
   "cell_type": "code",
   "execution_count": 58,
   "id": "35182c42-6d23-455a-8029-900a50b402a0",
   "metadata": {},
   "outputs": [
    {
     "name": "stdout",
     "output_type": "stream",
     "text": [
      "value: <function memoize.<locals>.inner at 0x7fd5c5c97a60>\n",
      "type: function\n",
      "signature: def inner(n)\n",
      "\n",
      "Dunder attributes:\n",
      "  __annotations__: dict = {}\n",
      "  __builtins__: dict = {…\n",
      "  __closure__: tuple = (<cell at 0x7fd5dc165090: dict object at 0x7fd5c5ca4340>, <cell at 0x7fd5dc164ee0: function o…\n",
      "  __code__: code = <code object inner at 0x7fd5dc42e330, file \"/tmp/ipykernel_55256/4154269090.py\", line …\n",
      "  __defaults__: NoneType = None\n",
      "  __dict__: dict = {}\n",
      "  __doc__: NoneType = None\n",
      "  __globals__: dict = {…\n",
      "  __kwdefaults__: NoneType = None\n",
      "  __module__: str = '__main__'\n",
      "  __name__: str = 'inner'\n",
      "  __qualname__: str = 'memoize.<locals>.inner'\n",
      "  __type_params__: tuple = ()\n",
      "\n",
      "  def __call__(*args, **kwargs) # Call self as a function.\n",
      "  class __class__(code, globals, name=None, argdefs=None, closure=None, kwdefaults=None) # Create a function object.…\n",
      "  def __delattr__(name, /) # Implement delattr(self, name).\n",
      "  def __dir__() # Default dir() implementation.\n",
      "  def __eq__(value, /) # Return self==value.\n",
      "  def __format__(format_spec, /) # Default object formatter.…\n",
      "  def __ge__(value, /) # Return self>=value.\n",
      "  def __get__(instance, owner=None, /) # Return an attribute of instance, which is of type owner.\n",
      "  def __getattribute__(name, /) # Return getattr(self, name).\n",
      "  def __getstate__() # Helper for pickle.\n",
      "  def __gt__(value, /) # Return self>value.\n",
      "  def __hash__() # Return hash(self).\n",
      "  def __init__(*args, **kwargs) # Initialize self.  See help(type(self)) for accurate signature.\n",
      "  def __init_subclass__() # This method is called when a class is subclassed.…\n",
      "  def __le__(value, /) # Return self<=value.\n",
      "  def __lt__(value, /) # Return self<value.\n",
      "  def __ne__(value, /) # Return self!=value.\n",
      "  def __new__(*args, **kwargs) # Create and return a new object.  See help(type) for accurate signature.\n",
      "  def __reduce__() # Helper for pickle.\n",
      "  def __reduce_ex__(protocol, /) # Helper for pickle.\n",
      "  def __repr__() # Return repr(self).\n",
      "  def __setattr__(name, value, /) # Implement setattr(self, name, value).\n",
      "  def __sizeof__() # Size of object in memory, in bytes.\n",
      "  def __str__() # Return str(self).\n",
      "  def __subclasshook__(object, /) # Abstract classes can override this to customize issubclass().…\n"
     ]
    }
   ],
   "source": [
    "wat.dunder / fib"
   ]
  },
  {
   "cell_type": "markdown",
   "id": "a456c46e-5688-4627-99ad-6000252599d7",
   "metadata": {},
   "source": [
    "end exploratory"
   ]
  },
  {
   "cell_type": "markdown",
   "id": "d5708b36-1dd7-4501-8c3d-b18cacf25a07",
   "metadata": {},
   "source": [
    "Generic memoize decorator so can memoize othe functions"
   ]
  },
  {
   "cell_type": "code",
   "execution_count": 62,
   "id": "479b68d1-43d1-4460-a9c0-076d834429c5",
   "metadata": {},
   "outputs": [],
   "source": [
    "@memoize\n",
    "def fact(n):\n",
    "    print('Calculating {0}!'.format(n))\n",
    "    return 1 if n < 2 else n * fact(n-1)"
   ]
  },
  {
   "cell_type": "code",
   "execution_count": 64,
   "id": "23b76126-3cf1-4076-8d22-fc950f23e3f6",
   "metadata": {},
   "outputs": [
    {
     "data": {
      "text/plain": [
       "6"
      ]
     },
     "execution_count": 64,
     "metadata": {},
     "output_type": "execute_result"
    }
   ],
   "source": [
    "fact(3)"
   ]
  },
  {
   "cell_type": "code",
   "execution_count": 65,
   "id": "c870b994-647b-4c26-996c-ba0b7d094c83",
   "metadata": {},
   "outputs": [
    {
     "data": {
      "text/plain": [
       "2"
      ]
     },
     "execution_count": 65,
     "metadata": {},
     "output_type": "execute_result"
    }
   ],
   "source": [
    "fact(2)"
   ]
  },
  {
   "cell_type": "code",
   "execution_count": 66,
   "id": "d2821ef6-ed9d-4d1a-99e6-0bacb0f0008d",
   "metadata": {},
   "outputs": [
    {
     "name": "stdout",
     "output_type": "stream",
     "text": [
      "Calculating 4!\n"
     ]
    },
    {
     "data": {
      "text/plain": [
       "24"
      ]
     },
     "execution_count": 66,
     "metadata": {},
     "output_type": "execute_result"
    }
   ],
   "source": [
    "fact(4)"
   ]
  },
  {
   "cell_type": "code",
   "execution_count": 67,
   "id": "5c190d40-9d9c-412e-9a3b-3b541c2eee1a",
   "metadata": {},
   "outputs": [
    {
     "data": {
      "text/plain": [
       "24"
      ]
     },
     "execution_count": 67,
     "metadata": {},
     "output_type": "execute_result"
    }
   ],
   "source": [
    "fact(4)"
   ]
  },
  {
   "cell_type": "markdown",
   "id": "48dcddce-c38e-4c96-9d92-da81b27368cd",
   "metadata": {},
   "source": [
    "The functools module has lru_cache decorator (lru => least recently used caching since not unlimited)"
   ]
  },
  {
   "cell_type": "code",
   "execution_count": 68,
   "id": "75a9edda-8920-403d-99c1-6ac7330f0830",
   "metadata": {},
   "outputs": [],
   "source": [
    "from functools import lru_cache"
   ]
  },
  {
   "cell_type": "code",
   "execution_count": 69,
   "id": "e2406511-fbb2-4fd6-98f9-c18ded38d1f9",
   "metadata": {},
   "outputs": [
    {
     "name": "stdout",
     "output_type": "stream",
     "text": [
      "value: <function lru_cache at 0x7fd5e201bf60>\n",
      "type: function\n",
      "signature: def lru_cache(maxsize=128, typed=False)\n",
      "\"\"\"\n",
      "Least-recently-used cache decorator.\n",
      "\n",
      "If *maxsize* is set to None, the LRU features are disabled and the cache\n",
      "can grow without bound.\n",
      "\n",
      "If *typed* is True, arguments of different types will be cached separately.\n",
      "For example, f(decimal.Decimal(\"3.0\")) and f(3.0) will be treated as\n",
      "distinct calls with distinct results. Some types such as str and int may\n",
      "be cached separately even when typed is false.\n",
      "\n",
      "Arguments to the cached function must be hashable.\n",
      "\n",
      "View the cache statistics named tuple (hits, misses, maxsize, currsize)\n",
      "with f.cache_info().  Clear the cache and statistics with f.cache_clear().\n",
      "Access the underlying function with f.__wrapped__.\n",
      "\n",
      "See:  https://en.wikipedia.org/wiki/Cache_replacement_policies#Least_recently_used_(LRU)\n",
      "\"\"\"\n"
     ]
    }
   ],
   "source": [
    "wat / lru_cache"
   ]
  },
  {
   "cell_type": "code",
   "execution_count": 70,
   "id": "1bd4a7db-8ab9-4f10-b035-35fd5afb5f1e",
   "metadata": {},
   "outputs": [],
   "source": [
    "@lru_cache()\n",
    "def fact(n):\n",
    "    print('Calculating {0}!'.format(n))\n",
    "    return 1 if n < 2 else n * fact(n-1)"
   ]
  },
  {
   "cell_type": "code",
   "execution_count": 71,
   "id": "ef63bfce-9977-4dbc-9d54-6de2e519210c",
   "metadata": {},
   "outputs": [
    {
     "name": "stdout",
     "output_type": "stream",
     "text": [
      "Calculating 5!\n",
      "Calculating 4!\n",
      "Calculating 3!\n",
      "Calculating 2!\n",
      "Calculating 1!\n"
     ]
    },
    {
     "data": {
      "text/plain": [
       "120"
      ]
     },
     "execution_count": 71,
     "metadata": {},
     "output_type": "execute_result"
    }
   ],
   "source": [
    "fact(5)"
   ]
  },
  {
   "cell_type": "code",
   "execution_count": 72,
   "id": "27e8a19a-b40a-4d77-85d0-5c652bda18a0",
   "metadata": {},
   "outputs": [
    {
     "data": {
      "text/plain": [
       "120"
      ]
     },
     "execution_count": 72,
     "metadata": {},
     "output_type": "execute_result"
    }
   ],
   "source": [
    "fact(5)"
   ]
  },
  {
   "cell_type": "code",
   "execution_count": 73,
   "id": "32ce948a-a7b0-48ff-a65c-7bb0d81d7a51",
   "metadata": {},
   "outputs": [
    {
     "name": "stdout",
     "output_type": "stream",
     "text": [
      "Calculating 6!\n"
     ]
    },
    {
     "data": {
      "text/plain": [
       "720"
      ]
     },
     "execution_count": 73,
     "metadata": {},
     "output_type": "execute_result"
    }
   ],
   "source": [
    "fact(6)"
   ]
  },
  {
   "cell_type": "code",
   "execution_count": 79,
   "id": "a6eb13d5-7206-4a41-ad11-ff2ba0339eb1",
   "metadata": {},
   "outputs": [
    {
     "name": "stdout",
     "output_type": "stream",
     "text": [
      "Calculating 8!\n"
     ]
    },
    {
     "data": {
      "text/plain": [
       "40320"
      ]
     },
     "execution_count": 79,
     "metadata": {},
     "output_type": "execute_result"
    }
   ],
   "source": [
    "fact(8)"
   ]
  },
  {
   "cell_type": "code",
   "execution_count": 85,
   "id": "aa62e81a-6c53-4d54-baa8-22678991559d",
   "metadata": {},
   "outputs": [
    {
     "data": {
      "text/plain": [
       "CacheInfo(hits=8, misses=8, maxsize=128, currsize=8)"
      ]
     },
     "execution_count": 85,
     "metadata": {},
     "output_type": "execute_result"
    }
   ],
   "source": [
    "fact.cache_info()"
   ]
  },
  {
   "cell_type": "code",
   "execution_count": 81,
   "id": "134cc560-a89e-48c0-91aa-3027ac7756a9",
   "metadata": {},
   "outputs": [
    {
     "data": {
      "text/plain": [
       "<function __main__.fact(n)>"
      ]
     },
     "execution_count": 81,
     "metadata": {},
     "output_type": "execute_result"
    }
   ],
   "source": [
    "fact.__wrapped__"
   ]
  },
  {
   "cell_type": "code",
   "execution_count": 86,
   "id": "96196434-4997-4a54-8466-1f2db1fbbdbf",
   "metadata": {},
   "outputs": [
    {
     "name": "stdout",
     "output_type": "stream",
     "text": [
      "caller file: /tmp/ipykernel_55256/1930327363.py:1\n",
      "caller expression: wat.all / fact\n",
      "value: <functools._lru_cache_wrapper object at 0x7fd5c5b3c510>\n",
      "type: functools._lru_cache_wrapper\n",
      "signature: def fact(n)\n",
      "source code:\n",
      "@lru_cache()\n",
      "def fact(n):\n",
      "    print('Calculating {0}!'.format(n))\n",
      "    return 1 if n < 2 else n * fact(n-1)\n",
      "\n",
      "\n",
      "Public attributes:\n",
      "  def cache_clear() # Clear the cache and cache statistics\n",
      "  def cache_info() # Report cache statistics\n",
      "  def cache_parameters()\n",
      "\n",
      "Dunder attributes:\n",
      "  __annotations__: dict = {}\n",
      "  __dict__: dict = {\n",
      "    'cache_parameters': <function lru_cache.<locals>.decorating_function.<locals>.<lambda> at 0x7fd5c5cc2160>,\n",
      "    '__module__': '__main__',\n",
      "    '__name__': 'fact',\n",
      "    '__qualname__': 'fact',\n",
      "    '__doc__': None,\n",
      "    '__annotations__': {},\n",
      "    '__type_params__': (),\n",
      "    '__wrapped__': <function fact at 0x7fd5c5cc1f80>,\n",
      "}\n",
      "  __doc__: NoneType = None\n",
      "  __module__: str = '__main__'\n",
      "  __name__: str = 'fact'\n",
      "  __qualname__: str = 'fact'\n",
      "  __type_params__: tuple = ()\n",
      "\n",
      "  def __call__(*args, **kwargs) # Call self as a function.\n",
      "  class __class__(…):\n",
      "\"\"\"\n",
      "Create a cached callable that wraps another function.\n",
      "\n",
      "user_function:      the function being cached\n",
      "\n",
      "maxsize:  0         for no caching\n",
      "          None      for unlimited cache size\n",
      "          n         for a bounded cache\n",
      "\n",
      "typed:    False     cache f(3) and f(3.0) as identical calls\n",
      "          True      cache f(3) and f(3.0) as distinct calls\n",
      "\n",
      "cache_info_type:    namedtuple class with the fields:\n",
      "                        hits misses currsize maxsize\n",
      "\"\"\"\n",
      "  def __copy__(…)\n",
      "  def __deepcopy__(…)\n",
      "  def __delattr__(name, /) # Implement delattr(self, name).\n",
      "  def __dir__() # Default dir() implementation.\n",
      "  def __eq__(value, /) # Return self==value.\n",
      "  def __format__(format_spec, /):\n",
      "\"\"\"\n",
      "Default object formatter.\n",
      "\n",
      "Return str(self) if format_spec is empty. Raise TypeError otherwise.\n",
      "\"\"\"\n",
      "  def __ge__(value, /) # Return self>=value.\n",
      "  def __get__(instance, owner=None, /) # Return an attribute of instance, which is of type owner.\n",
      "  def __getattribute__(name, /) # Return getattr(self, name).\n",
      "  def __getstate__() # Helper for pickle.\n",
      "  def __gt__(value, /) # Return self>value.\n",
      "  def __hash__() # Return hash(self).\n",
      "  def __init__(*args, **kwargs) # Initialize self.  See help(type(self)) for accurate signature.\n",
      "  def __init_subclass__():\n",
      "\"\"\"\n",
      "This method is called when a class is subclassed.\n",
      "\n",
      "The default implementation does nothing. It may be\n",
      "overridden to extend subclasses.\n",
      "\"\"\"\n",
      "  def __le__(value, /) # Return self<=value.\n",
      "  def __lt__(value, /) # Return self<value.\n",
      "  def __ne__(value, /) # Return self!=value.\n",
      "  def __new__(*args, **kwargs) # Create and return a new object.  See help(type) for accurate signature.\n",
      "  def __reduce__() # Helper for pickle.\n",
      "  def __reduce_ex__(protocol, /) # Helper for pickle.\n",
      "  def __repr__() # Return repr(self).\n",
      "  def __setattr__(name, value, /) # Implement setattr(self, name, value).\n",
      "  def __sizeof__() # Size of object in memory, in bytes.\n",
      "  def __str__() # Return str(self).\n",
      "  def __subclasshook__(object, /):\n",
      "\"\"\"\n",
      "Abstract classes can override this to customize issubclass().\n",
      "\n",
      "This is invoked early on by abc.ABCMeta.__subclasscheck__().\n",
      "It should return True, False or NotImplemented.  If it returns\n",
      "NotImplemented, the normal algorithm is used.  Otherwise, it\n",
      "overrides the normal algorithm (and the outcome is cached).\n",
      "\"\"\"\n",
      "  def __wrapped__(n)\n"
     ]
    }
   ],
   "source": [
    "wat.all / fact"
   ]
  },
  {
   "cell_type": "code",
   "execution_count": 88,
   "id": "11a39a39-cc9f-4f7a-b377-7aee6bb0c82a",
   "metadata": {},
   "outputs": [
    {
     "name": "stdout",
     "output_type": "stream",
     "text": [
      "value: <functools._lru_cache_wrapper object at 0x7fd5c5b3c510>\n",
      "type: functools._lru_cache_wrapper\n",
      "signature: def fact(n)\n",
      "\n",
      "Public attributes:\n",
      "  def cache_clear() # Clear the cache and cache statistics\n",
      "  def cache_info() # Report cache statistics\n",
      "  def cache_parameters()\n",
      "\n",
      "Dunder attributes:\n",
      "  __annotations__: dict = {}\n",
      "  __dict__: dict = {…\n",
      "  __doc__: NoneType = None\n",
      "  __module__: str = '__main__'\n",
      "  __name__: str = 'fact'\n",
      "  __qualname__: str = 'fact'\n",
      "  __type_params__: tuple = ()\n",
      "\n",
      "  def __call__(*args, **kwargs) # Call self as a function.\n",
      "  class __class__(…) # Create a cached callable that wraps another function.…\n",
      "  def __copy__(…)\n",
      "  def __deepcopy__(…)\n",
      "  def __delattr__(name, /) # Implement delattr(self, name).\n",
      "  def __dir__() # Default dir() implementation.\n",
      "  def __eq__(value, /) # Return self==value.\n",
      "  def __format__(format_spec, /) # Default object formatter.…\n",
      "  def __ge__(value, /) # Return self>=value.\n",
      "  def __get__(instance, owner=None, /) # Return an attribute of instance, which is of type owner.\n",
      "  def __getattribute__(name, /) # Return getattr(self, name).\n",
      "  def __getstate__() # Helper for pickle.\n",
      "  def __gt__(value, /) # Return self>value.\n",
      "  def __hash__() # Return hash(self).\n",
      "  def __init__(*args, **kwargs) # Initialize self.  See help(type(self)) for accurate signature.\n",
      "  def __init_subclass__() # This method is called when a class is subclassed.…\n",
      "  def __le__(value, /) # Return self<=value.\n",
      "  def __lt__(value, /) # Return self<value.\n",
      "  def __ne__(value, /) # Return self!=value.\n",
      "  def __new__(*args, **kwargs) # Create and return a new object.  See help(type) for accurate signature.\n",
      "  def __reduce__() # Helper for pickle.\n",
      "  def __reduce_ex__(protocol, /) # Helper for pickle.\n",
      "  def __repr__() # Return repr(self).\n",
      "  def __setattr__(name, value, /) # Implement setattr(self, name, value).\n",
      "  def __sizeof__() # Size of object in memory, in bytes.\n",
      "  def __str__() # Return str(self).\n",
      "  def __subclasshook__(object, /) # Abstract classes can override this to customize issubclass().…\n",
      "  def __wrapped__(n)\n"
     ]
    }
   ],
   "source": [
    "wat.dunder / fact"
   ]
  },
  {
   "cell_type": "code",
   "execution_count": 93,
   "id": "36e55a55-d67c-4c38-90ef-63269daf9486",
   "metadata": {},
   "outputs": [
    {
     "data": {
      "text/plain": [
       "<method-wrapper '__hash__' of functools._lru_cache_wrapper object at 0x7fd5c5b3c510>"
      ]
     },
     "execution_count": 93,
     "metadata": {},
     "output_type": "execute_result"
    }
   ],
   "source": [
    "fact.__hash__"
   ]
  },
  {
   "cell_type": "code",
   "execution_count": null,
   "id": "04826072-d1fe-4bfb-b1cc-806bd9dfff3e",
   "metadata": {},
   "outputs": [],
   "source": []
  },
  {
   "cell_type": "code",
   "execution_count": null,
   "id": "c6fddd88-25db-4ff1-b20a-1218856837f2",
   "metadata": {},
   "outputs": [],
   "source": []
  },
  {
   "cell_type": "code",
   "execution_count": null,
   "id": "f9716358-2699-48df-a1f8-9818718cfadd",
   "metadata": {},
   "outputs": [],
   "source": []
  }
 ],
 "metadata": {
  "kernelspec": {
   "display_name": "Python 3 (ipykernel)",
   "language": "python",
   "name": "python3"
  },
  "language_info": {
   "codemirror_mode": {
    "name": "ipython",
    "version": 3
   },
   "file_extension": ".py",
   "mimetype": "text/x-python",
   "name": "python",
   "nbconvert_exporter": "python",
   "pygments_lexer": "ipython3",
   "version": "3.13.1"
  }
 },
 "nbformat": 4,
 "nbformat_minor": 5
}
