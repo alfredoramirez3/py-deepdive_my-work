{
 "cells": [
  {
   "cell_type": "markdown",
   "id": "40ba174b-dadf-4857-bbd6-c79ad7ab2c9c",
   "metadata": {},
   "source": [
    "### Decorator Application: Decorating Classes"
   ]
  },
  {
   "cell_type": "code",
   "execution_count": 2,
   "id": "9415cadc-8229-4de6-8d48-13afeb2234d0",
   "metadata": {},
   "outputs": [],
   "source": [
    "# my imports"
   ]
  },
  {
   "cell_type": "code",
   "execution_count": null,
   "id": "6aa7b101-c7b0-433f-b6b6-e4b19f99a031",
   "metadata": {},
   "outputs": [],
   "source": []
  }
 ],
 "metadata": {
  "kernelspec": {
   "display_name": "Python 3 (ipykernel)",
   "language": "python",
   "name": "python3"
  },
  "language_info": {
   "codemirror_mode": {
    "name": "ipython",
    "version": 3
   },
   "file_extension": ".py",
   "mimetype": "text/x-python",
   "name": "python",
   "nbconvert_exporter": "python",
   "pygments_lexer": "ipython3",
   "version": "3.13.1"
  }
 },
 "nbformat": 4,
 "nbformat_minor": 5
}
