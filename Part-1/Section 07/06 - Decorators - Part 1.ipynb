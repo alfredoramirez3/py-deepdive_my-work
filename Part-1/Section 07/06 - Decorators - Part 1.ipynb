{
 "cells": [
  {
   "cell_type": "markdown",
   "id": "185751f5-e456-410c-a8e8-2f5c112ad102",
   "metadata": {},
   "source": [
    "### Decorators (Part 1)"
   ]
  },
  {
   "cell_type": "code",
   "execution_count": 1,
   "id": "bcdc3cd5-e85f-4cdb-adc0-a61d3710d61a",
   "metadata": {},
   "outputs": [],
   "source": [
    "def counter(fn):\n",
    "    count = 0\n",
    "\n",
    "    def inner(*args, **kwargs):\n",
    "        nonlocal count\n",
    "        count += 1\n",
    "        print('Function {0} was called {1} times'.format(fn.__name__, count))\n",
    "        return fn(*args, **kwargs)\n",
    "    return inner\n",
    "        "
   ]
  },
  {
   "cell_type": "code",
   "execution_count": 2,
   "id": "7f167c94-80eb-4997-8a3c-caf83016d0d7",
   "metadata": {},
   "outputs": [],
   "source": [
    "def add(a, b=0):\n",
    "    \"\"\"\n",
    "    returns the sum of a and b\n",
    "    \"\"\"\n",
    "    return a + b"
   ]
  },
  {
   "cell_type": "code",
   "execution_count": 3,
   "id": "a1e15f70-c1be-4fb7-bdda-5d38108dbf78",
   "metadata": {},
   "outputs": [
    {
     "name": "stdout",
     "output_type": "stream",
     "text": [
      "Help on function add in module __main__:\n",
      "\n",
      "add(a, b=0)\n",
      "    returns the sum of a and b\n",
      "\n"
     ]
    }
   ],
   "source": [
    "help(add)"
   ]
  },
  {
   "cell_type": "code",
   "execution_count": 13,
   "id": "6f88de9d-1a60-49c6-8761-9b56e30c3200",
   "metadata": {},
   "outputs": [
    {
     "data": {
      "text/plain": [
       "'0x7f30d85128e0'"
      ]
     },
     "execution_count": 13,
     "metadata": {},
     "output_type": "execute_result"
    }
   ],
   "source": [
    "hex(id(add))"
   ]
  },
  {
   "cell_type": "markdown",
   "id": "bfbf74fe-ecbd-410d-9bb7-40f2a3dac0b0",
   "metadata": {},
   "source": [
    "Create closure using add function as argument to counter function"
   ]
  },
  {
   "cell_type": "code",
   "execution_count": 5,
   "id": "28144903-fb58-4167-8e19-dba5695d8da9",
   "metadata": {},
   "outputs": [],
   "source": [
    "# add function decoratorated with counter\n",
    "counter_add = counter(add)"
   ]
  },
  {
   "cell_type": "code",
   "execution_count": 6,
   "id": "96471016-4164-4d43-b3d6-97783e84f911",
   "metadata": {},
   "outputs": [
    {
     "name": "stdout",
     "output_type": "stream",
     "text": [
      "Function add was called 1 times\n"
     ]
    },
    {
     "data": {
      "text/plain": [
       "3"
      ]
     },
     "execution_count": 6,
     "metadata": {},
     "output_type": "execute_result"
    }
   ],
   "source": [
    "counter_add(1,2)"
   ]
  },
  {
   "cell_type": "code",
   "execution_count": 7,
   "id": "9051a63b-96a8-4330-b6d1-42417f76ac43",
   "metadata": {},
   "outputs": [],
   "source": [
    "import wat"
   ]
  },
  {
   "cell_type": "code",
   "execution_count": 11,
   "id": "abcc0c9b-74e4-4860-9cb9-e72253d56caf",
   "metadata": {},
   "outputs": [
    {
     "name": "stdout",
     "output_type": "stream",
     "text": [
      "value: <function counter.<locals>.inner at 0x7f30d8512480>\n",
      "type: function\n",
      "signature: def inner(*args, **kwargs)\n",
      "source code:\n",
      "    def inner(*args, **kwargs):\n",
      "        nonlocal count\n",
      "        count += 1\n",
      "        print('Function {0} was called {1} times'.format(fn.__name__, count))\n",
      "        return fn(*args, **kwargs)\n",
      "\n"
     ]
    }
   ],
   "source": [
    "wat.code / counter_add"
   ]
  },
  {
   "cell_type": "code",
   "execution_count": 12,
   "id": "0555677e-ed8d-4275-b758-dddd47669e61",
   "metadata": {},
   "outputs": [
    {
     "name": "stdout",
     "output_type": "stream",
     "text": [
      "Function add was called 2 times\n"
     ]
    },
    {
     "data": {
      "text/plain": [
       "4"
      ]
     },
     "execution_count": 12,
     "metadata": {},
     "output_type": "execute_result"
    }
   ],
   "source": [
    "counter_add(2,2)"
   ]
  },
  {
   "cell_type": "code",
   "execution_count": null,
   "id": "83a8ab0f-0367-4104-96da-68bb8c9239a3",
   "metadata": {},
   "outputs": [],
   "source": []
  }
 ],
 "metadata": {
  "kernelspec": {
   "display_name": "Python 3 (ipykernel)",
   "language": "python",
   "name": "python3"
  },
  "language_info": {
   "codemirror_mode": {
    "name": "ipython",
    "version": 3
   },
   "file_extension": ".py",
   "mimetype": "text/x-python",
   "name": "python",
   "nbconvert_exporter": "python",
   "pygments_lexer": "ipython3",
   "version": "3.13.1"
  }
 },
 "nbformat": 4,
 "nbformat_minor": 5
}
