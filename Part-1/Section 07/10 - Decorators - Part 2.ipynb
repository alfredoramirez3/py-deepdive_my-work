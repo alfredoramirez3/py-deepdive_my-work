{
 "cells": [
  {
   "cell_type": "markdown",
   "id": "d13f66be-67b9-4dcc-82c0-110bc63925dd",
   "metadata": {},
   "source": [
    "### Decorators 2\n",
    "\n",
    "How to parameterize decorators"
   ]
  },
  {
   "cell_type": "code",
   "execution_count": 39,
   "id": "a7e70f26-9211-452f-8ccf-0c215b422520",
   "metadata": {},
   "outputs": [],
   "source": [
    "# my imports\n",
    "import wat"
   ]
  },
  {
   "cell_type": "code",
   "execution_count": 1,
   "id": "79c24710-8469-4bcd-ad60-16deb3768d2b",
   "metadata": {},
   "outputs": [],
   "source": [
    "# decorator\n",
    "def timed(fn):\n",
    "    from time import perf_counter\n",
    "\n",
    "    def inner(*args, **kwargs):\n",
    "        start = perf_counter()\n",
    "        result = fn(*args, **kwargs)\n",
    "        time_elapsed = perf_counter() - start\n",
    "        print(f'Run time: {time_elapsed:.6f}s / {time_elapsed*1000:.6f}ms')\n",
    "        return result\n",
    "\n",
    "    return inner"
   ]
  },
  {
   "cell_type": "code",
   "execution_count": 2,
   "id": "21f5c9d9-fdd4-4a6f-bf34-8970cc5673ff",
   "metadata": {},
   "outputs": [],
   "source": [
    "def calc_fib_recurse(n):\n",
    "    return 1 if n < 3 else calc_fib_recurse(n-1) + calc_fib_recurse(n-2)\n",
    "\n",
    "def fib(n):\n",
    "    return calc_fib_recurse(n)"
   ]
  },
  {
   "cell_type": "code",
   "execution_count": 3,
   "id": "7d81cf95-e717-4355-bca0-e999874337e3",
   "metadata": {},
   "outputs": [
    {
     "data": {
      "text/plain": [
       "6765"
      ]
     },
     "execution_count": 3,
     "metadata": {},
     "output_type": "execute_result"
    }
   ],
   "source": [
    "fib(20)"
   ]
  },
  {
   "cell_type": "code",
   "execution_count": 4,
   "id": "06f5d5aa-5734-4cdf-8228-f2e98fdd274e",
   "metadata": {},
   "outputs": [],
   "source": [
    "# decorate fib with timed decorator using long syntax\n",
    "fib = timed(fib)"
   ]
  },
  {
   "cell_type": "code",
   "execution_count": 6,
   "id": "ded57758-5666-47d9-baa8-017c7e466fe2",
   "metadata": {},
   "outputs": [
    {
     "name": "stdout",
     "output_type": "stream",
     "text": [
      "Run time: 0.084710s / 84.710193ms\n"
     ]
    },
    {
     "data": {
      "text/plain": [
       "832040"
      ]
     },
     "execution_count": 6,
     "metadata": {},
     "output_type": "execute_result"
    }
   ],
   "source": [
    "fib(30)"
   ]
  },
  {
   "cell_type": "code",
   "execution_count": 7,
   "id": "6005048b-a4dd-4967-98b6-a855082e5624",
   "metadata": {},
   "outputs": [],
   "source": [
    "# decorator\n",
    "def timed(fn):\n",
    "    from time import perf_counter\n",
    "\n",
    "    def inner(*args, **kwargs):\n",
    "        total_elapsed = 0\n",
    "        for i in range(10):\n",
    "            start = perf_counter()\n",
    "            result = fn(*args, **kwargs)\n",
    "            end = perf_counter()\n",
    "            time_elapsed = end - start\n",
    "            total_elapsed += time_elapsed\n",
    "        avg_elapsed = total_elapsed / 10\n",
    "        print(f'Avg run time: {avg_elapsed:.6f}s / {avg_elapsed*1000:.6f}ms')\n",
    "        return result\n",
    "    return inner "
   ]
  },
  {
   "cell_type": "code",
   "execution_count": 8,
   "id": "7c2e2ff3-1f9c-495a-afdf-7b444d00414e",
   "metadata": {},
   "outputs": [],
   "source": [
    "def fib(n):\n",
    "    return calc_fib_recurse(n)"
   ]
  },
  {
   "cell_type": "code",
   "execution_count": 9,
   "id": "c6878d5f-0e93-40e2-a8fd-26419d0fecea",
   "metadata": {},
   "outputs": [],
   "source": [
    "# decorate fib with timed decorator using long syntax\n",
    "fib = timed(fib)"
   ]
  },
  {
   "cell_type": "code",
   "execution_count": 10,
   "id": "45ac0c56-2a12-4e86-964a-66d41904756d",
   "metadata": {},
   "outputs": [
    {
     "name": "stdout",
     "output_type": "stream",
     "text": [
      "Avg run time: 0.027735s / 27.735200ms\n"
     ]
    },
    {
     "data": {
      "text/plain": [
       "317811"
      ]
     },
     "execution_count": 10,
     "metadata": {},
     "output_type": "execute_result"
    }
   ],
   "source": [
    "fib(28)"
   ]
  },
  {
   "cell_type": "markdown",
   "id": "e19af840-e340-42ba-a765-e85d0afe5ff6",
   "metadata": {},
   "source": [
    "Iterator value of 10 has been hardcoded. Make it a parameter."
   ]
  },
  {
   "cell_type": "code",
   "execution_count": 12,
   "id": "89c89509-ce0b-488e-a67b-60aa592b72b3",
   "metadata": {},
   "outputs": [],
   "source": [
    "# decorator\n",
    "def timed(fn, num_reps):\n",
    "    from time import perf_counter\n",
    "\n",
    "    def inner(*args, **kwargs):\n",
    "        total_elapsed = 0\n",
    "        for i in range(num_reps):\n",
    "            start = perf_counter()\n",
    "            result = fn(*args, **kwargs)\n",
    "            time_elapsed = perf_counter() - start\n",
    "            total_elapsed += time_elapsed\n",
    "        avg_elapsed = total_elapsed / num_reps\n",
    "        print(f'Avg run time over {num_reps} iterations: {avg_elapsed:.6f}s / {avg_elapsed*1000:.6f}ms')\n",
    "        return result\n",
    "\n",
    "    return inner "
   ]
  },
  {
   "cell_type": "markdown",
   "id": "6fba5c37-7df4-4179-9feb-b39604205f04",
   "metadata": {},
   "source": [
    "Decorate fib function using long syntax @syntax will not work"
   ]
  },
  {
   "cell_type": "code",
   "execution_count": 13,
   "id": "31ab237b-4525-477c-888e-1f3969f5d4f8",
   "metadata": {},
   "outputs": [],
   "source": [
    "def fib(n):\n",
    "    return calc_fib_recurse(n)"
   ]
  },
  {
   "cell_type": "code",
   "execution_count": 14,
   "id": "c5bb9450-4e94-476f-b092-c539109a9adf",
   "metadata": {},
   "outputs": [],
   "source": [
    "fib = timed(fib, 5)"
   ]
  },
  {
   "cell_type": "code",
   "execution_count": 15,
   "id": "8d5e30ea-2ed8-4013-a93c-c140f098efd4",
   "metadata": {},
   "outputs": [
    {
     "name": "stdout",
     "output_type": "stream",
     "text": [
      "Avg run time over 5 iterations: 0.032290s / 32.290467ms\n"
     ]
    },
    {
     "data": {
      "text/plain": [
       "317811"
      ]
     },
     "execution_count": 15,
     "metadata": {},
     "output_type": "execute_result"
    }
   ],
   "source": [
    "fib(28)"
   ]
  },
  {
   "cell_type": "code",
   "execution_count": 16,
   "id": "7685dec6-81ea-45fd-9862-5f689adf87fd",
   "metadata": {},
   "outputs": [
    {
     "ename": "TypeError",
     "evalue": "timed() missing 1 required positional argument: 'num_reps'",
     "output_type": "error",
     "traceback": [
      "\u001b[0;31m---------------------------------------------------------------------------\u001b[0m",
      "\u001b[0;31mTypeError\u001b[0m                                 Traceback (most recent call last)",
      "Cell \u001b[0;32mIn[16], line 1\u001b[0m\n\u001b[0;32m----> 1\u001b[0m \u001b[38;5;129m@timed\u001b[39m\u001b[43m(\u001b[49m\u001b[38;5;241;43m5\u001b[39;49m\u001b[43m)\u001b[49m\n\u001b[1;32m      2\u001b[0m \u001b[38;5;28;01mdef\u001b[39;00m\u001b[38;5;250m \u001b[39m\u001b[38;5;21mfib\u001b[39m(n):\n\u001b[1;32m      3\u001b[0m     \u001b[38;5;28;01mreturn\u001b[39;00m calc_fib_recurse(n)\n",
      "\u001b[0;31mTypeError\u001b[0m: timed() missing 1 required positional argument: 'num_reps'"
     ]
    }
   ],
   "source": [
    "@timed(5)\n",
    "def fib(n):\n",
    "    return calc_fib_recurse(n)"
   ]
  },
  {
   "cell_type": "markdown",
   "id": "fb8cb405-6824-48bb-8db7-9b5590a50054",
   "metadata": {},
   "source": [
    "Let's explore"
   ]
  },
  {
   "cell_type": "code",
   "execution_count": 28,
   "id": "c9948f30-b05e-4869-8594-ebfdc8b5d880",
   "metadata": {},
   "outputs": [],
   "source": [
    "def dec(fn):\n",
    "    print('running dec')\n",
    "\n",
    "    def inner(*args, **kwargs):\n",
    "        print('running inner')\n",
    "        return fn(*args, **kwargs)\n",
    "    \n",
    "    return inner\n",
    "    "
   ]
  },
  {
   "cell_type": "code",
   "execution_count": 29,
   "id": "b8aefeb4-0310-4a87-a3ec-185cee88ef01",
   "metadata": {},
   "outputs": [
    {
     "name": "stdout",
     "output_type": "stream",
     "text": [
      "running dec\n"
     ]
    }
   ],
   "source": [
    "@dec\n",
    "def my_func():\n",
    "    print('running my_func')"
   ]
  },
  {
   "cell_type": "markdown",
   "id": "738423bc-bd61-481e-9c4c-caec8e35ff03",
   "metadata": {},
   "source": [
    "note running dec was printed above.\n",
    "`@dec` decorator is a call to the `dec` decorator"
   ]
  },
  {
   "cell_type": "markdown",
   "id": "486b2e02-ffe5-4e64-a55c-ff29b2dc0d1e",
   "metadata": {},
   "source": [
    "this is the same as the below hard syntax below"
   ]
  },
  {
   "cell_type": "code",
   "execution_count": 30,
   "id": "4a0eee23-23ea-491a-a2b0-86ae66b12cae",
   "metadata": {},
   "outputs": [
    {
     "name": "stdout",
     "output_type": "stream",
     "text": [
      "running dec\n"
     ]
    }
   ],
   "source": [
    "def my_func():\n",
    "    print('running my_func')\n",
    "\n",
    "my_func = dec(my_func)"
   ]
  },
  {
   "cell_type": "code",
   "execution_count": 31,
   "id": "aa33460a-e05a-48bd-9fa9-0f4cfea07255",
   "metadata": {},
   "outputs": [
    {
     "name": "stdout",
     "output_type": "stream",
     "text": [
      "running inner\n",
      "running my_func\n"
     ]
    }
   ],
   "source": [
    "my_func()"
   ]
  },
  {
   "cell_type": "markdown",
   "id": "9b9a17a8-4dc4-4cae-9b07-0a728beead56",
   "metadata": {},
   "source": [
    "What if `dec` was not the decorator, but instead created and returned a decorator"
   ]
  },
  {
   "cell_type": "code",
   "execution_count": 37,
   "id": "448d5eac-1c5f-443d-ac14-96e2d044f281",
   "metadata": {},
   "outputs": [],
   "source": [
    "def dec_factory():\n",
    "    print('running dec_factory')\n",
    "    \n",
    "    def dec(fn):\n",
    "        print('running dec')\n",
    "        \n",
    "        def inner(*args, **kwargs):\n",
    "            print('running inner')\n",
    "            return fn(*args, **kwargs)\n",
    "            \n",
    "        return inner\n",
    "        \n",
    "    return dec"
   ]
  },
  {
   "cell_type": "code",
   "execution_count": 38,
   "id": "4010ac29-b5c6-4726-8d3b-56ed1162f79d",
   "metadata": {},
   "outputs": [
    {
     "name": "stdout",
     "output_type": "stream",
     "text": [
      "running dec_factory\n"
     ]
    }
   ],
   "source": [
    "# the decorator is being returned by the factory function\n",
    "dec = dec_factory()"
   ]
  },
  {
   "cell_type": "code",
   "execution_count": 43,
   "id": "d9e7ccda-0205-4535-b684-2e1366411182",
   "metadata": {},
   "outputs": [
    {
     "name": "stdout",
     "output_type": "stream",
     "text": [
      "value: <function dec_factory.<locals>.dec at 0x7f737d3a2480>\n",
      "type: function\n",
      "signature: def dec(fn)\n",
      "source code:\n",
      "    def dec(fn):\n",
      "        print('running dec')\n",
      "        \n",
      "        def inner(*args, **kwargs):\n",
      "            print('running inner')\n",
      "            return fn(*args, **kwargs)\n",
      "            \n",
      "        return inner\n",
      "\n"
     ]
    }
   ],
   "source": [
    "wat.code / dec"
   ]
  },
  {
   "cell_type": "code",
   "execution_count": 44,
   "id": "e08b8a6f-0e81-433a-9bb6-e5dde80758a3",
   "metadata": {},
   "outputs": [],
   "source": [
    "def my_func():\n",
    "    print('running my_func')"
   ]
  },
  {
   "cell_type": "code",
   "execution_count": 45,
   "id": "75a1e729-87d7-4bb1-8edd-e317ca57cb20",
   "metadata": {},
   "outputs": [
    {
     "name": "stdout",
     "output_type": "stream",
     "text": [
      "running dec\n"
     ]
    }
   ],
   "source": [
    "my_func = dec(my_func)"
   ]
  },
  {
   "cell_type": "code",
   "execution_count": 46,
   "id": "ab8d3401-1925-4ac1-b29f-f7ce40298b90",
   "metadata": {},
   "outputs": [
    {
     "name": "stdout",
     "output_type": "stream",
     "text": [
      "value: <function dec_factory.<locals>.dec.<locals>.inner at 0x7f737d3eb6a0>\n",
      "type: function\n",
      "signature: def inner(*args, **kwargs)\n",
      "source code:\n",
      "        def inner(*args, **kwargs):\n",
      "            print('running inner')\n",
      "            return fn(*args, **kwargs)\n",
      "\n"
     ]
    }
   ],
   "source": [
    "wat.code / my_func"
   ]
  },
  {
   "cell_type": "code",
   "execution_count": 47,
   "id": "3bd815d3-65fa-4c23-a7d0-2723051e66b1",
   "metadata": {},
   "outputs": [
    {
     "name": "stdout",
     "output_type": "stream",
     "text": [
      "running inner\n",
      "running my_func\n"
     ]
    }
   ],
   "source": [
    "my_func()"
   ]
  },
  {
   "cell_type": "code",
   "execution_count": 50,
   "id": "4149f8cc-d872-4b46-99f7-0f19b56e4dde",
   "metadata": {},
   "outputs": [
    {
     "name": "stdout",
     "output_type": "stream",
     "text": [
      "running dec\n"
     ]
    }
   ],
   "source": [
    "@dec\n",
    "def my_func():\n",
    "    print('running my_func')"
   ]
  },
  {
   "cell_type": "code",
   "execution_count": 51,
   "id": "79a4402f-231e-4865-b7c0-3cde674626e2",
   "metadata": {},
   "outputs": [
    {
     "name": "stdout",
     "output_type": "stream",
     "text": [
      "running inner\n",
      "running my_func\n"
     ]
    }
   ],
   "source": [
    "my_func()"
   ]
  },
  {
   "cell_type": "code",
   "execution_count": 52,
   "id": "9e2feb1a-6c95-4916-94e0-735bebd2dd12",
   "metadata": {},
   "outputs": [
    {
     "name": "stdout",
     "output_type": "stream",
     "text": [
      "running dec_factory\n",
      "running dec\n"
     ]
    }
   ],
   "source": [
    "@dec_factory()\n",
    "def my_func():\n",
    "    print('running my_func')"
   ]
  },
  {
   "cell_type": "code",
   "execution_count": 53,
   "id": "1ee571d1-cfd0-4e9a-beba-6d04d693a964",
   "metadata": {},
   "outputs": [
    {
     "name": "stdout",
     "output_type": "stream",
     "text": [
      "running inner\n",
      "running my_func\n"
     ]
    }
   ],
   "source": [
    "my_func()"
   ]
  },
  {
   "cell_type": "code",
   "execution_count": 54,
   "id": "0cd53c32-627c-45fe-a685-92af058ae0f4",
   "metadata": {},
   "outputs": [
    {
     "name": "stdout",
     "output_type": "stream",
     "text": [
      "running dec_factory\n",
      "running dec\n"
     ]
    }
   ],
   "source": [
    "def my_func():\n",
    "    print('running my_func')\n",
    "\n",
    "my_func = dec_factory()(my_func)"
   ]
  },
  {
   "cell_type": "code",
   "execution_count": 55,
   "id": "7cfdd11b-c950-4db4-87b2-7d6dfec1bdb3",
   "metadata": {},
   "outputs": [
    {
     "name": "stdout",
     "output_type": "stream",
     "text": [
      "running inner\n",
      "running my_func\n"
     ]
    }
   ],
   "source": [
    "my_func()"
   ]
  },
  {
   "cell_type": "markdown",
   "id": "2724f2d5-f89a-4cbf-813f-123c6de74b19",
   "metadata": {},
   "source": [
    "Now inject some parameters"
   ]
  },
  {
   "cell_type": "code",
   "execution_count": 56,
   "id": "46cedc8c-1629-4a6d-86b5-19cbc0071203",
   "metadata": {},
   "outputs": [],
   "source": [
    "def dec_factory(a, b):\n",
    "    print('running dec_factory')\n",
    "    \n",
    "    def dec(fn):\n",
    "        print('running dec')\n",
    "        \n",
    "        def inner(*args, **kwargs):\n",
    "            print('running inner')\n",
    "            print(f'a={a}, b={b}')\n",
    "            return fn(*args, **kwargs)\n",
    "            \n",
    "        return inner\n",
    "        \n",
    "    return dec"
   ]
  },
  {
   "cell_type": "code",
   "execution_count": 57,
   "id": "a1d19118-4d42-4249-b81e-9223c1450271",
   "metadata": {},
   "outputs": [
    {
     "name": "stdout",
     "output_type": "stream",
     "text": [
      "running dec_factory\n"
     ]
    }
   ],
   "source": [
    "dec = dec_factory(10, 20)"
   ]
  },
  {
   "cell_type": "code",
   "execution_count": 59,
   "id": "3a427337-5356-489d-9db5-d448eb922dbc",
   "metadata": {},
   "outputs": [
    {
     "name": "stdout",
     "output_type": "stream",
     "text": [
      "running dec\n"
     ]
    }
   ],
   "source": [
    "@dec\n",
    "def my_func():\n",
    "    print('running my_func')"
   ]
  },
  {
   "cell_type": "code",
   "execution_count": 60,
   "id": "9226c7c3-dc05-4a17-ab72-cc52fdd6f675",
   "metadata": {},
   "outputs": [
    {
     "name": "stdout",
     "output_type": "stream",
     "text": [
      "running inner\n",
      "a=10, b=20\n",
      "running my_func\n"
     ]
    }
   ],
   "source": [
    "my_func()"
   ]
  },
  {
   "cell_type": "code",
   "execution_count": 61,
   "id": "8dde68c5-75ea-4be5-98f0-fc28bb0f107b",
   "metadata": {},
   "outputs": [
    {
     "name": "stdout",
     "output_type": "stream",
     "text": [
      "running dec_factory\n",
      "running dec\n"
     ]
    }
   ],
   "source": [
    "@dec_factory(100, 200)\n",
    "def my_func():\n",
    "    print('running my_func')"
   ]
  },
  {
   "cell_type": "code",
   "execution_count": 62,
   "id": "153f6de2-5476-41a7-9b92-82c428bdb383",
   "metadata": {},
   "outputs": [
    {
     "name": "stdout",
     "output_type": "stream",
     "text": [
      "running inner\n",
      "a=100, b=200\n",
      "running my_func\n"
     ]
    }
   ],
   "source": [
    "my_func()"
   ]
  },
  {
   "cell_type": "code",
   "execution_count": 63,
   "id": "5048db93-769a-4147-b152-bc7c3b806bba",
   "metadata": {},
   "outputs": [
    {
     "name": "stdout",
     "output_type": "stream",
     "text": [
      "running dec_factory\n",
      "running dec\n"
     ]
    }
   ],
   "source": [
    "def my_func():\n",
    "    print('running my_func')\n",
    "\n",
    "my_func = dec_factory(150, 250)(my_func)"
   ]
  },
  {
   "cell_type": "code",
   "execution_count": 64,
   "id": "e05e4c98-1080-4b6e-93b6-e804f9a2483e",
   "metadata": {},
   "outputs": [
    {
     "name": "stdout",
     "output_type": "stream",
     "text": [
      "running inner\n",
      "a=150, b=250\n",
      "running my_func\n"
     ]
    }
   ],
   "source": [
    "my_func()"
   ]
  },
  {
   "cell_type": "code",
   "execution_count": 79,
   "id": "1a2ce6fa-7545-4248-93a0-8d665346d9a8",
   "metadata": {},
   "outputs": [
    {
     "name": "stdout",
     "output_type": "stream",
     "text": [
      "0 0\n",
      "running dec_factory\n",
      "running dec\n",
      "running inner\n",
      "a=0, b=0\n",
      "running my_func\n",
      "None\n",
      "\n",
      "0 1\n",
      "running dec_factory\n",
      "running dec\n",
      "running inner\n",
      "a=0, b=1\n",
      "running my_func\n",
      "None\n",
      "\n",
      "1 0\n",
      "running dec_factory\n",
      "running dec\n",
      "running inner\n",
      "a=1, b=0\n",
      "running my_func\n",
      "None\n",
      "\n",
      "1 1\n",
      "running dec_factory\n",
      "running dec\n",
      "running inner\n",
      "a=1, b=1\n",
      "running my_func\n",
      "None\n",
      "\n"
     ]
    }
   ],
   "source": [
    "# my exploring\n",
    "for a in range(2):\n",
    "    for b in range(2):\n",
    "        print(a,b)\n",
    "        \n",
    "        def my_func():\n",
    "            print('running my_func')\n",
    "            \n",
    "        my_func = dec_factory(a,b)(my_func)\n",
    "        print(my_func())\n",
    "        print()"
   ]
  },
  {
   "cell_type": "code",
   "execution_count": null,
   "id": "4527382a-49c8-45e6-873e-aedff5b579d6",
   "metadata": {},
   "outputs": [],
   "source": []
  },
  {
   "cell_type": "code",
   "execution_count": null,
   "id": "0ddf8f80-511a-4b7f-b090-bc8125df8e73",
   "metadata": {},
   "outputs": [],
   "source": []
  },
  {
   "cell_type": "markdown",
   "id": "4ab423bb-019a-4fda-b3db-f5e1acf0beba",
   "metadata": {},
   "source": [
    "Make timed decorator a decorator factory"
   ]
  },
  {
   "cell_type": "code",
   "execution_count": 80,
   "id": "11485584-eaa2-4bba-9f3a-2186755897d5",
   "metadata": {},
   "outputs": [],
   "source": [
    "# original decorator\n",
    "def timed(fn, reps):\n",
    "    from time import perf_counter\n",
    "\n",
    "    def inner(*args, **kwargs):\n",
    "        total_elapsed = 0\n",
    "        for i in range(reps):\n",
    "            start = perf_counter()\n",
    "            result = fn(*args, **kwargs)\n",
    "            end = perf_counter()\n",
    "            time_elapsed =  end - start\n",
    "            total_elapsed += time_elapsed\n",
    "        avg_elapsed = total_elapsed / reps\n",
    "        print(f'Avg run time over {reps} iterations: {avg_elapsed:.6f}s / {avg_elapsed*1000:.6f}ms')\n",
    "        return result\n",
    "\n",
    "    return inner "
   ]
  },
  {
   "cell_type": "code",
   "execution_count": 81,
   "id": "2f07f3e1-8379-4843-ae39-4d1acc5ca2e4",
   "metadata": {},
   "outputs": [],
   "source": [
    "def dec_factory(reps):\n",
    "    def timed(fn):\n",
    "        from time import perf_counter\n",
    "    \n",
    "        def inner(*args, **kwargs):\n",
    "            total_elapsed = 0\n",
    "            for i in range(reps):\n",
    "                start = perf_counter()\n",
    "                result = fn(*args, **kwargs)\n",
    "                end = perf_counter()\n",
    "                time_elapsed =  end - start\n",
    "                total_elapsed += time_elapsed\n",
    "                \n",
    "            avg_elapsed = total_elapsed / reps\n",
    "            print(f'Avg run time over {reps} iterations: {avg_elapsed:.6f}s / {avg_elapsed*1000:.6f}ms')\n",
    "            return result\n",
    "        return inner\n",
    "    return timed"
   ]
  },
  {
   "cell_type": "code",
   "execution_count": 84,
   "id": "642116dd-da36-4a56-b906-8f426c7a4970",
   "metadata": {},
   "outputs": [],
   "source": [
    "def calc_fib_recurse(n):\n",
    "    return 1 if n < 3 else calc_fib_recurse(n-1) + calc_fib_recurse(n-2)"
   ]
  },
  {
   "cell_type": "code",
   "execution_count": 89,
   "id": "3db934a2-4754-45dd-b57b-75dadc6516b3",
   "metadata": {},
   "outputs": [],
   "source": [
    "@dec_factory(10)\n",
    "def fib(n):\n",
    "    return calc_fib_recurse(n)"
   ]
  },
  {
   "cell_type": "code",
   "execution_count": 90,
   "id": "a4fff8af-9cfa-4a92-ae70-f353b76f3fc5",
   "metadata": {},
   "outputs": [
    {
     "name": "stdout",
     "output_type": "stream",
     "text": [
      "Avg run time over 10 iterations: 0.025808s / 25.808314ms\n"
     ]
    },
    {
     "data": {
      "text/plain": [
       "317811"
      ]
     },
     "execution_count": 90,
     "metadata": {},
     "output_type": "execute_result"
    }
   ],
   "source": [
    "fib(28)"
   ]
  },
  {
   "cell_type": "markdown",
   "id": "34daead4-a598-4dc1-9a00-df7a41558488",
   "metadata": {},
   "source": [
    "Clean up decoratory factory"
   ]
  },
  {
   "cell_type": "code",
   "execution_count": 96,
   "id": "069a8af2-da1a-4a7b-874c-bad835653a82",
   "metadata": {},
   "outputs": [],
   "source": [
    "def timed(reps):\n",
    "    def dec(fn):\n",
    "        from time import perf_counter\n",
    "    \n",
    "        def inner(*args, **kwargs):\n",
    "            total_elapsed = 0\n",
    "            for i in range(reps):\n",
    "                start = perf_counter()\n",
    "                result = fn(*args, **kwargs)\n",
    "                end = perf_counter()\n",
    "                time_elapsed =  end - start\n",
    "                total_elapsed += time_elapsed\n",
    "                \n",
    "            avg_elapsed = total_elapsed / reps\n",
    "            print(f'Avg run time over {reps} reps: {avg_elapsed:.6f}s / {avg_elapsed*1000:.6f}ms')\n",
    "            return result\n",
    "        return inner\n",
    "    return dec"
   ]
  },
  {
   "cell_type": "code",
   "execution_count": 97,
   "id": "43e4cc40-aaea-46ad-b4cb-5214335f2740",
   "metadata": {},
   "outputs": [],
   "source": [
    "@timed(reps=15)\n",
    "def fib(n):\n",
    "    return calc_fib_recurse(n)"
   ]
  },
  {
   "cell_type": "code",
   "execution_count": 98,
   "id": "5e60131b-f56f-46e7-9475-6e9ad8f372a1",
   "metadata": {},
   "outputs": [
    {
     "name": "stdout",
     "output_type": "stream",
     "text": [
      "Avg run time over 15 reps: 0.028781s / 28.780974ms\n"
     ]
    },
    {
     "data": {
      "text/plain": [
       "317811"
      ]
     },
     "execution_count": 98,
     "metadata": {},
     "output_type": "execute_result"
    }
   ],
   "source": [
    "fib(28)"
   ]
  },
  {
   "cell_type": "markdown",
   "id": "ab0a8863-d5fd-498a-b6a2-9c70337568a8",
   "metadata": {},
   "source": [
    "Add additional functionaliy"
   ]
  },
  {
   "cell_type": "code",
   "execution_count": 171,
   "id": "2fb0c09c-2041-403e-a773-88883e12d65e",
   "metadata": {},
   "outputs": [],
   "source": [
    "from functools import wraps\n",
    "def timed(reps=1):\n",
    "    def decorator(fn):\n",
    "        from time import perf_counter\n",
    "\n",
    "        @wraps(fn)\n",
    "        def inner(*args, **kwargs):\n",
    "            total_elapsed = 0\n",
    "            elapsed_times = []\n",
    "            for i in range(reps):\n",
    "                start = perf_counter()\n",
    "                result = fn(*args, **kwargs)\n",
    "                end = perf_counter()\n",
    "                elapsed_time =  end - start\n",
    "                elapsed_times.append(elapsed_time)\n",
    "                \n",
    "            min_elapsed_time = min(elapsed_times)\n",
    "            avg_elapsed_time = sum(elapsed_times) / len(elapsed_times)\n",
    "            max_elapsed_time = max(elapsed_times)\n",
    "            \n",
    "            print(f'Number iterations {reps}')\n",
    "            print(f'Elapsed times:')\n",
    "            print(f'  min: \\t{min_elapsed_time:.6f}s / {min_elapsed_time*1000:.6f}ms')\n",
    "            print(f'  avg: \\t{avg_elapsed_time:.6f}s / {avg_elapsed_time*1000:.6f}ms')\n",
    "            print(f'  max: \\t{max_elapsed_time:.6f}s / {max_elapsed_time*1000:.6f}ms')\n",
    "            enum_et = [et for et in enumerate(elapsed_times)]\n",
    "            sorted_et = sorted(enum_et, key=lambda et: et[1])\n",
    "            for i, et in sorted_et:\n",
    "                print(f'  {i}: \\t{et:.6f}s / {et*1000:.6f}ms')\n",
    "            return result\n",
    "        return inner\n",
    "    return decorator"
   ]
  },
  {
   "cell_type": "code",
   "execution_count": 172,
   "id": "2934cdc3-b417-4b1f-a267-759544b5c229",
   "metadata": {},
   "outputs": [],
   "source": [
    "def calc_fib_recurse(n):\n",
    "    return 1 if n < 3 else calc_fib_recurse(n-1) + calc_fib_recurse(n-2)"
   ]
  },
  {
   "cell_type": "code",
   "execution_count": 173,
   "id": "4506901c-2a73-4764-af19-c0f93fb4daa5",
   "metadata": {},
   "outputs": [],
   "source": [
    "@timed(reps=10)\n",
    "def fib(n):\n",
    "    return calc_fib_recurse(n)"
   ]
  },
  {
   "cell_type": "code",
   "execution_count": 174,
   "id": "c1c50871-28ba-4311-87d4-e9e5be978b40",
   "metadata": {},
   "outputs": [
    {
     "name": "stdout",
     "output_type": "stream",
     "text": [
      "Number iterations 10\n",
      "Elapsed times:\n",
      "  min: \t0.025608s / 25.607520ms\n",
      "  avg: \t0.031918s / 31.917897ms\n",
      "  max: \t0.039613s / 39.612780ms\n",
      "  7: \t0.025608s / 25.607520ms\n",
      "  4: \t0.026856s / 26.856450ms\n",
      "  9: \t0.027134s / 27.134460ms\n",
      "  5: \t0.029239s / 29.238750ms\n",
      "  6: \t0.029487s / 29.486790ms\n",
      "  0: \t0.032585s / 32.585490ms\n",
      "  8: \t0.035451s / 35.451180ms\n",
      "  3: \t0.035478s / 35.478270ms\n",
      "  2: \t0.037727s / 37.727280ms\n",
      "  1: \t0.039613s / 39.612780ms\n"
     ]
    },
    {
     "data": {
      "text/plain": [
       "317811"
      ]
     },
     "execution_count": 174,
     "metadata": {},
     "output_type": "execute_result"
    }
   ],
   "source": [
    "fib(28)"
   ]
  },
  {
   "cell_type": "code",
   "execution_count": 175,
   "id": "95b32be9-2aea-4910-80ef-b657cf0adef6",
   "metadata": {},
   "outputs": [
    {
     "name": "stdout",
     "output_type": "stream",
     "text": [
      "value: <function fib at 0x7f737cf1dee0>\n",
      "type: function\n",
      "signature: def fib(n)\n",
      "source code:\n",
      "@timed(reps=10)\n",
      "def fib(n):\n",
      "    return calc_fib_recurse(n)\n",
      "\n"
     ]
    }
   ],
   "source": [
    "wat.code / fib"
   ]
  },
  {
   "cell_type": "markdown",
   "id": "b65c6a13-9e3a-4ead-b368-6bc354f4d233",
   "metadata": {},
   "source": [
    "Extra:\n",
    "Decorator factory template"
   ]
  },
  {
   "cell_type": "code",
   "execution_count": null,
   "id": "60789e7d-dced-4791-a243-f93178b306fe",
   "metadata": {},
   "outputs": [],
   "source": [
    "from functools import wraps\n",
    "\n",
    "# Decorator with parameters\n",
    "def decorator_factory(arg):\n",
    "  def decorator(func):\n",
    "    @wraps(func) # For preserving the metadata of func.\n",
    "    def wrapper(*args,**kwargs):\n",
    "      # Do stuff before func possibly using arg...\n",
    "      result = func(*args,**kwargs)\n",
    "      # Do stuff after func possibly using arg...\n",
    "      return result\n",
    "    return wrapper\n",
    "  return decorator\n",
    "\n",
    "# Decorator function\n",
    "@decoratr_factory(arg='x')\n",
    "def foo(bar):\n",
    "    return bar\n",
    "\n",
    "# Execute function\n",
    "foo()\n",
    "\n",
    "    "
   ]
  },
  {
   "cell_type": "code",
   "execution_count": null,
   "id": "93e62987-4e10-4c27-b4aa-dff1e60f80ef",
   "metadata": {},
   "outputs": [],
   "source": []
  }
 ],
 "metadata": {
  "kernelspec": {
   "display_name": "Python 3 (ipykernel)",
   "language": "python",
   "name": "python3"
  },
  "language_info": {
   "codemirror_mode": {
    "name": "ipython",
    "version": 3
   },
   "file_extension": ".py",
   "mimetype": "text/x-python",
   "name": "python",
   "nbconvert_exporter": "python",
   "pygments_lexer": "ipython3",
   "version": "3.13.1"
  }
 },
 "nbformat": 4,
 "nbformat_minor": 5
}
