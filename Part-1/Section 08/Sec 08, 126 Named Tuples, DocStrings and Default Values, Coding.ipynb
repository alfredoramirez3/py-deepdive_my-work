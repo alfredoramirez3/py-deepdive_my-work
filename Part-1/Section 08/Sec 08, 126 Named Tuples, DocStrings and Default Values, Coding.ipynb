{
 "cells": [
  {
   "cell_type": "markdown",
   "id": "e0ccdde4-7eb2-4852-839b-c28d31976898",
   "metadata": {},
   "source": [
    "### Section 8: Tuples as Data Structures and Named Tuples\n",
    "126. Named Tuples - DocStrings and Default Values - Coding"
   ]
  },
  {
   "cell_type": "code",
   "execution_count": 4,
   "id": "2e37e9cf-e68f-4d52-b32a-be1257f611c7",
   "metadata": {},
   "outputs": [],
   "source": [
    "from collections import namedtuple"
   ]
  },
  {
   "cell_type": "markdown",
   "id": "698d0083-2282-4b47-9ce7-1cb6ff24acca",
   "metadata": {},
   "source": [
    "#### Adding DocStrings to Named Tuples"
   ]
  },
  {
   "cell_type": "code",
   "execution_count": 5,
   "id": "005c974e-c5aa-44ea-be3b-13cb45443914",
   "metadata": {},
   "outputs": [],
   "source": [
    "Point2D = namedtuple('Point2D', 'x y')"
   ]
  },
  {
   "cell_type": "code",
   "execution_count": 6,
   "id": "52efea92-b0d8-4f90-9006-b196c26620c6",
   "metadata": {
    "scrolled": true
   },
   "outputs": [
    {
     "name": "stdout",
     "output_type": "stream",
     "text": [
      "Help on class Point2D in module __main__:\n",
      "\n",
      "class Point2D(builtins.tuple)\n",
      " |  Point2D(x, y)\n",
      " |\n",
      " |  Point2D(x, y)\n",
      " |\n",
      " |  Method resolution order:\n",
      " |      Point2D\n",
      " |      builtins.tuple\n",
      " |      builtins.object\n",
      " |\n",
      " |  Methods defined here:\n",
      " |\n",
      " |  __getnewargs__(self) from collections.Point2D\n",
      " |      Return self as a plain tuple.  Used by copy and pickle.\n",
      " |\n",
      " |  __replace__ = _replace(self, /, **kwds)\n",
      " |\n",
      " |  __repr__(self) from collections.Point2D\n",
      " |      Return a nicely formatted representation string\n",
      " |\n",
      " |  _asdict(self) from collections.Point2D\n",
      " |      Return a new dict which maps field names to their values.\n",
      " |\n",
      " |  _replace(self, /, **kwds) from collections.Point2D\n",
      " |      Return a new Point2D object replacing specified fields with new values\n",
      " |\n",
      " |  ----------------------------------------------------------------------\n",
      " |  Class methods defined here:\n",
      " |\n",
      " |  _make(iterable) from collections.Point2D\n",
      " |      Make a new Point2D object from a sequence or iterable\n",
      " |\n",
      " |  ----------------------------------------------------------------------\n",
      " |  Static methods defined here:\n",
      " |\n",
      " |  __new__(_cls, x, y) from namedtuple_Point2D.Point2D\n",
      " |      Create new instance of Point2D(x, y)\n",
      " |\n",
      " |  ----------------------------------------------------------------------\n",
      " |  Data descriptors defined here:\n",
      " |\n",
      " |  x\n",
      " |      Alias for field number 0\n",
      " |\n",
      " |  y\n",
      " |      Alias for field number 1\n",
      " |\n",
      " |  ----------------------------------------------------------------------\n",
      " |  Data and other attributes defined here:\n",
      " |\n",
      " |  __match_args__ = ('x', 'y')\n",
      " |\n",
      " |  _field_defaults = {}\n",
      " |\n",
      " |  _fields = ('x', 'y')\n",
      " |\n",
      " |  ----------------------------------------------------------------------\n",
      " |  Methods inherited from builtins.tuple:\n",
      " |\n",
      " |  __add__(self, value, /)\n",
      " |      Return self+value.\n",
      " |\n",
      " |  __contains__(self, key, /)\n",
      " |      Return bool(key in self).\n",
      " |\n",
      " |  __eq__(self, value, /)\n",
      " |      Return self==value.\n",
      " |\n",
      " |  __ge__(self, value, /)\n",
      " |      Return self>=value.\n",
      " |\n",
      " |  __getattribute__(self, name, /)\n",
      " |      Return getattr(self, name).\n",
      " |\n",
      " |  __getitem__(self, key, /)\n",
      " |      Return self[key].\n",
      " |\n",
      " |  __gt__(self, value, /)\n",
      " |      Return self>value.\n",
      " |\n",
      " |  __hash__(self, /)\n",
      " |      Return hash(self).\n",
      " |\n",
      " |  __iter__(self, /)\n",
      " |      Implement iter(self).\n",
      " |\n",
      " |  __le__(self, value, /)\n",
      " |      Return self<=value.\n",
      " |\n",
      " |  __len__(self, /)\n",
      " |      Return len(self).\n",
      " |\n",
      " |  __lt__(self, value, /)\n",
      " |      Return self<value.\n",
      " |\n",
      " |  __mul__(self, value, /)\n",
      " |      Return self*value.\n",
      " |\n",
      " |  __ne__(self, value, /)\n",
      " |      Return self!=value.\n",
      " |\n",
      " |  __rmul__(self, value, /)\n",
      " |      Return value*self.\n",
      " |\n",
      " |  count(self, value, /)\n",
      " |      Return number of occurrences of value.\n",
      " |\n",
      " |  index(self, value, start=0, stop=9223372036854775807, /)\n",
      " |      Return first index of value.\n",
      " |\n",
      " |      Raises ValueError if the value is not present.\n",
      " |\n",
      " |  ----------------------------------------------------------------------\n",
      " |  Class methods inherited from builtins.tuple:\n",
      " |\n",
      " |  __class_getitem__(object, /)\n",
      " |      See PEP 585\n",
      "\n"
     ]
    }
   ],
   "source": [
    "help(Point2D)"
   ]
  },
  {
   "cell_type": "code",
   "execution_count": 7,
   "id": "b2bb4e1f-936d-4380-bc5b-df1cef8be099",
   "metadata": {},
   "outputs": [],
   "source": [
    "Point2D.__doc__ = \"Represents a 2D Cartesian coordinate\""
   ]
  },
  {
   "cell_type": "code",
   "execution_count": 8,
   "id": "58a17190-d972-449f-bbe2-5e695f3a31f1",
   "metadata": {
    "collapsed": true,
    "jupyter": {
     "outputs_hidden": true
    }
   },
   "outputs": [
    {
     "name": "stdout",
     "output_type": "stream",
     "text": [
      "Help on class Point2D in module __main__:\n",
      "\n",
      "class Point2D(builtins.tuple)\n",
      " |  Point2D(x, y)\n",
      " |\n",
      " |  Represents a 2D Cartesian coordinate\n",
      " |\n",
      " |  Method resolution order:\n",
      " |      Point2D\n",
      " |      builtins.tuple\n",
      " |      builtins.object\n",
      " |\n",
      " |  Methods defined here:\n",
      " |\n",
      " |  __getnewargs__(self) from collections.Point2D\n",
      " |      Return self as a plain tuple.  Used by copy and pickle.\n",
      " |\n",
      " |  __replace__ = _replace(self, /, **kwds)\n",
      " |\n",
      " |  __repr__(self) from collections.Point2D\n",
      " |      Return a nicely formatted representation string\n",
      " |\n",
      " |  _asdict(self) from collections.Point2D\n",
      " |      Return a new dict which maps field names to their values.\n",
      " |\n",
      " |  _replace(self, /, **kwds) from collections.Point2D\n",
      " |      Return a new Point2D object replacing specified fields with new values\n",
      " |\n",
      " |  ----------------------------------------------------------------------\n",
      " |  Class methods defined here:\n",
      " |\n",
      " |  _make(iterable) from collections.Point2D\n",
      " |      Make a new Point2D object from a sequence or iterable\n",
      " |\n",
      " |  ----------------------------------------------------------------------\n",
      " |  Static methods defined here:\n",
      " |\n",
      " |  __new__(_cls, x, y) from namedtuple_Point2D.Point2D\n",
      " |      Create new instance of Point2D(x, y)\n",
      " |\n",
      " |  ----------------------------------------------------------------------\n",
      " |  Data descriptors defined here:\n",
      " |\n",
      " |  x\n",
      " |      Alias for field number 0\n",
      " |\n",
      " |  y\n",
      " |      Alias for field number 1\n",
      " |\n",
      " |  ----------------------------------------------------------------------\n",
      " |  Data and other attributes defined here:\n",
      " |\n",
      " |  __match_args__ = ('x', 'y')\n",
      " |\n",
      " |  _field_defaults = {}\n",
      " |\n",
      " |  _fields = ('x', 'y')\n",
      " |\n",
      " |  ----------------------------------------------------------------------\n",
      " |  Methods inherited from builtins.tuple:\n",
      " |\n",
      " |  __add__(self, value, /)\n",
      " |      Return self+value.\n",
      " |\n",
      " |  __contains__(self, key, /)\n",
      " |      Return bool(key in self).\n",
      " |\n",
      " |  __eq__(self, value, /)\n",
      " |      Return self==value.\n",
      " |\n",
      " |  __ge__(self, value, /)\n",
      " |      Return self>=value.\n",
      " |\n",
      " |  __getattribute__(self, name, /)\n",
      " |      Return getattr(self, name).\n",
      " |\n",
      " |  __getitem__(self, key, /)\n",
      " |      Return self[key].\n",
      " |\n",
      " |  __gt__(self, value, /)\n",
      " |      Return self>value.\n",
      " |\n",
      " |  __hash__(self, /)\n",
      " |      Return hash(self).\n",
      " |\n",
      " |  __iter__(self, /)\n",
      " |      Implement iter(self).\n",
      " |\n",
      " |  __le__(self, value, /)\n",
      " |      Return self<=value.\n",
      " |\n",
      " |  __len__(self, /)\n",
      " |      Return len(self).\n",
      " |\n",
      " |  __lt__(self, value, /)\n",
      " |      Return self<value.\n",
      " |\n",
      " |  __mul__(self, value, /)\n",
      " |      Return self*value.\n",
      " |\n",
      " |  __ne__(self, value, /)\n",
      " |      Return self!=value.\n",
      " |\n",
      " |  __rmul__(self, value, /)\n",
      " |      Return value*self.\n",
      " |\n",
      " |  count(self, value, /)\n",
      " |      Return number of occurrences of value.\n",
      " |\n",
      " |  index(self, value, start=0, stop=9223372036854775807, /)\n",
      " |      Return first index of value.\n",
      " |\n",
      " |      Raises ValueError if the value is not present.\n",
      " |\n",
      " |  ----------------------------------------------------------------------\n",
      " |  Class methods inherited from builtins.tuple:\n",
      " |\n",
      " |  __class_getitem__(object, /)\n",
      " |      See PEP 585\n",
      "\n"
     ]
    }
   ],
   "source": [
    "help(Point2D)"
   ]
  },
  {
   "cell_type": "markdown",
   "id": "d8ac65d6-f268-499a-8b0f-b268546b8419",
   "metadata": {},
   "source": [
    "Add docstrings to the properties"
   ]
  },
  {
   "cell_type": "code",
   "execution_count": 9,
   "id": "0deac81e-4f86-4fbf-b2eb-90d3a58b1e69",
   "metadata": {},
   "outputs": [],
   "source": [
    "Point2D.x.__doc__ = 'x-coordinate'\n",
    "Point2D.y.__doc__ = \"y-coordinate\""
   ]
  },
  {
   "cell_type": "code",
   "execution_count": 10,
   "id": "ac3fed44-1ed8-4a65-b4d6-b73703ef5e1f",
   "metadata": {
    "scrolled": true
   },
   "outputs": [
    {
     "name": "stdout",
     "output_type": "stream",
     "text": [
      "Help on class Point2D in module __main__:\n",
      "\n",
      "class Point2D(builtins.tuple)\n",
      " |  Point2D(x, y)\n",
      " |\n",
      " |  Represents a 2D Cartesian coordinate\n",
      " |\n",
      " |  Method resolution order:\n",
      " |      Point2D\n",
      " |      builtins.tuple\n",
      " |      builtins.object\n",
      " |\n",
      " |  Methods defined here:\n",
      " |\n",
      " |  __getnewargs__(self) from collections.Point2D\n",
      " |      Return self as a plain tuple.  Used by copy and pickle.\n",
      " |\n",
      " |  __replace__ = _replace(self, /, **kwds)\n",
      " |\n",
      " |  __repr__(self) from collections.Point2D\n",
      " |      Return a nicely formatted representation string\n",
      " |\n",
      " |  _asdict(self) from collections.Point2D\n",
      " |      Return a new dict which maps field names to their values.\n",
      " |\n",
      " |  _replace(self, /, **kwds) from collections.Point2D\n",
      " |      Return a new Point2D object replacing specified fields with new values\n",
      " |\n",
      " |  ----------------------------------------------------------------------\n",
      " |  Class methods defined here:\n",
      " |\n",
      " |  _make(iterable) from collections.Point2D\n",
      " |      Make a new Point2D object from a sequence or iterable\n",
      " |\n",
      " |  ----------------------------------------------------------------------\n",
      " |  Static methods defined here:\n",
      " |\n",
      " |  __new__(_cls, x, y) from namedtuple_Point2D.Point2D\n",
      " |      Create new instance of Point2D(x, y)\n",
      " |\n",
      " |  ----------------------------------------------------------------------\n",
      " |  Data descriptors defined here:\n",
      " |\n",
      " |  x\n",
      " |      x-coordinate\n",
      " |\n",
      " |  y\n",
      " |      y-coordinate\n",
      " |\n",
      " |  ----------------------------------------------------------------------\n",
      " |  Data and other attributes defined here:\n",
      " |\n",
      " |  __match_args__ = ('x', 'y')\n",
      " |\n",
      " |  _field_defaults = {}\n",
      " |\n",
      " |  _fields = ('x', 'y')\n",
      " |\n",
      " |  ----------------------------------------------------------------------\n",
      " |  Methods inherited from builtins.tuple:\n",
      " |\n",
      " |  __add__(self, value, /)\n",
      " |      Return self+value.\n",
      " |\n",
      " |  __contains__(self, key, /)\n",
      " |      Return bool(key in self).\n",
      " |\n",
      " |  __eq__(self, value, /)\n",
      " |      Return self==value.\n",
      " |\n",
      " |  __ge__(self, value, /)\n",
      " |      Return self>=value.\n",
      " |\n",
      " |  __getattribute__(self, name, /)\n",
      " |      Return getattr(self, name).\n",
      " |\n",
      " |  __getitem__(self, key, /)\n",
      " |      Return self[key].\n",
      " |\n",
      " |  __gt__(self, value, /)\n",
      " |      Return self>value.\n",
      " |\n",
      " |  __hash__(self, /)\n",
      " |      Return hash(self).\n",
      " |\n",
      " |  __iter__(self, /)\n",
      " |      Implement iter(self).\n",
      " |\n",
      " |  __le__(self, value, /)\n",
      " |      Return self<=value.\n",
      " |\n",
      " |  __len__(self, /)\n",
      " |      Return len(self).\n",
      " |\n",
      " |  __lt__(self, value, /)\n",
      " |      Return self<value.\n",
      " |\n",
      " |  __mul__(self, value, /)\n",
      " |      Return self*value.\n",
      " |\n",
      " |  __ne__(self, value, /)\n",
      " |      Return self!=value.\n",
      " |\n",
      " |  __rmul__(self, value, /)\n",
      " |      Return value*self.\n",
      " |\n",
      " |  count(self, value, /)\n",
      " |      Return number of occurrences of value.\n",
      " |\n",
      " |  index(self, value, start=0, stop=9223372036854775807, /)\n",
      " |      Return first index of value.\n",
      " |\n",
      " |      Raises ValueError if the value is not present.\n",
      " |\n",
      " |  ----------------------------------------------------------------------\n",
      " |  Class methods inherited from builtins.tuple:\n",
      " |\n",
      " |  __class_getitem__(object, /)\n",
      " |      See PEP 585\n",
      "\n"
     ]
    }
   ],
   "source": [
    "help(Point2D)"
   ]
  },
  {
   "cell_type": "markdown",
   "id": "61ef1158-9076-43e9-af5f-fdd54b6104e1",
   "metadata": {},
   "source": [
    "#### Adding Default Values to Named Tuples"
   ]
  },
  {
   "cell_type": "markdown",
   "id": "ac262f89-51c1-477c-9a96-52fea5e56df1",
   "metadata": {},
   "source": [
    "#### Using a Prototype"
   ]
  },
  {
   "cell_type": "code",
   "execution_count": 11,
   "id": "e11a6f12-7409-42f7-8c9f-e5ec68a241b0",
   "metadata": {},
   "outputs": [],
   "source": [
    "Vector = namedtuple('Vector', 'x1 y1 x2 y2 origin_x origin_y')"
   ]
  },
  {
   "cell_type": "code",
   "execution_count": 12,
   "id": "1ebb307a-5629-4b3e-9689-14665752ee61",
   "metadata": {},
   "outputs": [
    {
     "data": {
      "text/plain": [
       "__main__.Vector"
      ]
     },
     "execution_count": 12,
     "metadata": {},
     "output_type": "execute_result"
    }
   ],
   "source": [
    "Vector"
   ]
  },
  {
   "cell_type": "code",
   "execution_count": 13,
   "id": "0b6ca6ba-d993-4318-a5b1-67aff85ffdbc",
   "metadata": {},
   "outputs": [],
   "source": [
    "vector_zero_origin = Vector(x1=None, y1=None, x2=None, y2=None, origin_x=0, origin_y=0)"
   ]
  },
  {
   "cell_type": "code",
   "execution_count": 14,
   "id": "7fe1e66f-e64f-45e9-98f0-528f119a0afe",
   "metadata": {},
   "outputs": [
    {
     "data": {
      "text/plain": [
       "Vector(x1=None, y1=None, x2=None, y2=None, origin_x=0, origin_y=0)"
      ]
     },
     "execution_count": 14,
     "metadata": {},
     "output_type": "execute_result"
    }
   ],
   "source": [
    "vector_zero_origin"
   ]
  },
  {
   "cell_type": "markdown",
   "id": "ee811e8e-56c3-4bc2-b256-6363e406f66d",
   "metadata": {},
   "source": [
    "vector_zero_origin is a prototype of a vector with 0, 0 for the origin"
   ]
  },
  {
   "cell_type": "markdown",
   "id": "b84ff7f2-676d-4eba-b17d-746ad0f85965",
   "metadata": {},
   "source": [
    "To create new vectors with 0, 0 as the default origin, use vector_zero_origin with `_replace`"
   ]
  },
  {
   "cell_type": "code",
   "execution_count": 15,
   "id": "71828123-d1bb-4c57-9716-31682ee4ced9",
   "metadata": {},
   "outputs": [],
   "source": [
    "v1 = vector_zero_origin._replace(x1=1, y1=1, x2=10, y2=10)"
   ]
  },
  {
   "cell_type": "code",
   "execution_count": 16,
   "id": "8291a067-e71f-4fad-8711-2f4e4aaaaa4b",
   "metadata": {},
   "outputs": [
    {
     "data": {
      "text/plain": [
       "Vector(x1=1, y1=1, x2=10, y2=10, origin_x=0, origin_y=0)"
      ]
     },
     "execution_count": 16,
     "metadata": {},
     "output_type": "execute_result"
    }
   ],
   "source": [
    "v1"
   ]
  },
  {
   "cell_type": "markdown",
   "id": "3da54ba2-33ff-4f2c-a810-fc2f2e615aaf",
   "metadata": {},
   "source": [
    "#### Now using `__new__` "
   ]
  },
  {
   "cell_type": "code",
   "execution_count": 17,
   "id": "6dd3f0b6-754b-497a-a262-b35f249cf914",
   "metadata": {},
   "outputs": [
    {
     "data": {
      "text/plain": [
       "__main__.Vector"
      ]
     },
     "execution_count": 17,
     "metadata": {},
     "output_type": "execute_result"
    }
   ],
   "source": [
    "Vector"
   ]
  },
  {
   "cell_type": "code",
   "execution_count": 18,
   "id": "6376d4c3-dde7-4696-8ee2-5102b34ed3cc",
   "metadata": {},
   "outputs": [],
   "source": [
    "# default values are right aligned with the parameters\n",
    "Vector.__new__.__defaults__ = (0, 0)"
   ]
  },
  {
   "cell_type": "code",
   "execution_count": 19,
   "id": "89f31619-f2bb-439d-8061-cbd81a13115f",
   "metadata": {},
   "outputs": [
    {
     "data": {
      "text/plain": [
       "__main__.Vector"
      ]
     },
     "execution_count": 19,
     "metadata": {},
     "output_type": "execute_result"
    }
   ],
   "source": [
    "Vector"
   ]
  },
  {
   "cell_type": "code",
   "execution_count": 20,
   "id": "c142386a-e3bc-4a0f-a0cd-145f17727f51",
   "metadata": {},
   "outputs": [],
   "source": [
    "v1 = Vector(0, 0, 10, 10, -10, -10)"
   ]
  },
  {
   "cell_type": "code",
   "execution_count": 21,
   "id": "c6c56ca4-924d-482c-a25a-b0d630ae16b7",
   "metadata": {},
   "outputs": [
    {
     "data": {
      "text/plain": [
       "Vector(x1=0, y1=0, x2=10, y2=10, origin_x=-10, origin_y=-10)"
      ]
     },
     "execution_count": 21,
     "metadata": {},
     "output_type": "execute_result"
    }
   ],
   "source": [
    "v1"
   ]
  },
  {
   "cell_type": "code",
   "execution_count": 22,
   "id": "8d655722-06c4-4a33-8b1f-a7b21c7b6c5a",
   "metadata": {},
   "outputs": [],
   "source": [
    "v2 = Vector(5, 5, 20, 20)"
   ]
  },
  {
   "cell_type": "code",
   "execution_count": 23,
   "id": "de0c8a40-691f-40eb-b6c3-e581fe02f9fd",
   "metadata": {},
   "outputs": [
    {
     "data": {
      "text/plain": [
       "Vector(x1=5, y1=5, x2=20, y2=20, origin_x=0, origin_y=0)"
      ]
     },
     "execution_count": 23,
     "metadata": {},
     "output_type": "execute_result"
    }
   ],
   "source": [
    "v2"
   ]
  },
  {
   "cell_type": "code",
   "execution_count": null,
   "id": "6f9555a8-91c0-4a4f-af11-6374bb1f9824",
   "metadata": {},
   "outputs": [],
   "source": []
  }
 ],
 "metadata": {
  "kernelspec": {
   "display_name": "Python 3 (ipykernel)",
   "language": "python",
   "name": "python3"
  },
  "language_info": {
   "codemirror_mode": {
    "name": "ipython",
    "version": 3
   },
   "file_extension": ".py",
   "mimetype": "text/x-python",
   "name": "python",
   "nbconvert_exporter": "python",
   "pygments_lexer": "ipython3",
   "version": "3.13.1"
  }
 },
 "nbformat": 4,
 "nbformat_minor": 5
}
