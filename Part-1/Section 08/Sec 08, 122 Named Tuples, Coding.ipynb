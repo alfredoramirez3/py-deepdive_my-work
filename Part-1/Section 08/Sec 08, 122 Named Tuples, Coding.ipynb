{
 "cells": [
  {
   "cell_type": "markdown",
   "id": "3ce93f5a-ee87-409c-b0de-77eec9179e5e",
   "metadata": {},
   "source": [
    "#### Section 8, 122. Named Tuples - Lecture"
   ]
  },
  {
   "cell_type": "markdown",
   "id": "22e9177e-a19f-4182-8e5d-f4d3e3f7f9cc",
   "metadata": {},
   "source": [
    "### Named Tuples"
   ]
  },
  {
   "cell_type": "code",
   "execution_count": 1,
   "id": "263e9d99-5481-4274-83a2-486b2cbe3f37",
   "metadata": {},
   "outputs": [],
   "source": [
    "class Point3D:\n",
    "    def __init__(self, x, y, z):\n",
    "        self.x = x\n",
    "        self.y = y\n",
    "        self.z = z\n",
    "\n",
    "    #def __repr__ # to get a nice representation"
   ]
  },
  {
   "cell_type": "code",
   "execution_count": 2,
   "id": "b86538d8-cc93-46a1-a2b2-41fa7db9afb8",
   "metadata": {},
   "outputs": [],
   "source": [
    "# namedtuple is a function, a class factory\n",
    "from collections import namedtuple"
   ]
  },
  {
   "cell_type": "code",
   "execution_count": 3,
   "id": "51b2d663-6352-44f9-9d31-f0aa96f6b14f",
   "metadata": {},
   "outputs": [],
   "source": [
    "# We have a pointer to the class\n",
    "Point2D = namedtuple('Point2D', ['x', 'y'])"
   ]
  },
  {
   "cell_type": "code",
   "execution_count": 4,
   "id": "0544e26a-eec0-4246-ae72-a1b9b43153eb",
   "metadata": {},
   "outputs": [
    {
     "data": {
      "text/plain": [
       "__main__.Point2D"
      ]
     },
     "execution_count": 4,
     "metadata": {},
     "output_type": "execute_result"
    }
   ],
   "source": [
    "Point2D"
   ]
  },
  {
   "cell_type": "code",
   "execution_count": 5,
   "id": "5baf8e57-10eb-4cb7-8630-e472a826da80",
   "metadata": {},
   "outputs": [
    {
     "data": {
      "text/plain": [
       "type"
      ]
     },
     "execution_count": 5,
     "metadata": {},
     "output_type": "execute_result"
    }
   ],
   "source": [
    "type(Point2D)"
   ]
  },
  {
   "cell_type": "code",
   "execution_count": 6,
   "id": "c14dbd0f-9704-4fa3-a54d-6fc6ea0c9c4f",
   "metadata": {},
   "outputs": [],
   "source": [
    "pt1 = Point2D(10, 20)"
   ]
  },
  {
   "cell_type": "code",
   "execution_count": 7,
   "id": "35c7351b-1389-4094-815a-f28401dc7fc5",
   "metadata": {},
   "outputs": [
    {
     "data": {
      "text/plain": [
       "Point2D(x=10, y=20)"
      ]
     },
     "execution_count": 7,
     "metadata": {},
     "output_type": "execute_result"
    }
   ],
   "source": [
    "pt1"
   ]
  },
  {
   "cell_type": "code",
   "execution_count": 8,
   "id": "3dbac3aa-46c7-4f75-8a56-bd3df4198118",
   "metadata": {},
   "outputs": [
    {
     "data": {
      "text/plain": [
       "(10, 20)"
      ]
     },
     "execution_count": 8,
     "metadata": {},
     "output_type": "execute_result"
    }
   ],
   "source": [
    "pt1.x, pt1.y"
   ]
  },
  {
   "cell_type": "code",
   "execution_count": 9,
   "id": "faf1701d-df59-41d8-97a9-95560b8d3ee8",
   "metadata": {},
   "outputs": [],
   "source": [
    "pt3d_1 = Point3D(10, 20, 30)"
   ]
  },
  {
   "cell_type": "code",
   "execution_count": 10,
   "id": "af89b4c0-0f89-4507-b028-d91d0154d622",
   "metadata": {},
   "outputs": [
    {
     "data": {
      "text/plain": [
       "<__main__.Point3D at 0x7f33d4106900>"
      ]
     },
     "execution_count": 10,
     "metadata": {},
     "output_type": "execute_result"
    }
   ],
   "source": [
    "pt3d_1"
   ]
  },
  {
   "cell_type": "code",
   "execution_count": 11,
   "id": "406e26e4-e444-42d8-b032-55b0741c4cfc",
   "metadata": {},
   "outputs": [
    {
     "data": {
      "text/plain": [
       "(10, 20, 30)"
      ]
     },
     "execution_count": 11,
     "metadata": {},
     "output_type": "execute_result"
    }
   ],
   "source": [
    "pt3d_1.x, pt3d_1.y, pt3d_1.z"
   ]
  },
  {
   "cell_type": "code",
   "execution_count": 12,
   "id": "e6bb4176-3f7a-4181-a33d-a5888a4cb8e3",
   "metadata": {},
   "outputs": [],
   "source": [
    "Pt2D = namedtuple('Point2D', ('x', 'y'))"
   ]
  },
  {
   "cell_type": "code",
   "execution_count": 13,
   "id": "efb3f5a9-8b81-41bd-95e9-76d4fb9488cd",
   "metadata": {},
   "outputs": [],
   "source": [
    "pt2 = Pt2D(10, 20)"
   ]
  },
  {
   "cell_type": "code",
   "execution_count": 14,
   "id": "15bfcd6f-837b-420a-b164-4c8113ba9c65",
   "metadata": {},
   "outputs": [
    {
     "data": {
      "text/plain": [
       "Point2D(x=10, y=20)"
      ]
     },
     "execution_count": 14,
     "metadata": {},
     "output_type": "execute_result"
    }
   ],
   "source": [
    "# Note, representation is 'Point2D' the class name, not Pt2D the variable name\n",
    "pt2"
   ]
  },
  {
   "cell_type": "code",
   "execution_count": 15,
   "id": "82eaca62-4874-4959-8169-f49413cd6a11",
   "metadata": {},
   "outputs": [
    {
     "data": {
      "text/plain": [
       "(10, 20)"
      ]
     },
     "execution_count": 15,
     "metadata": {},
     "output_type": "execute_result"
    }
   ],
   "source": [
    "pt2.x, pt2.y"
   ]
  },
  {
   "cell_type": "code",
   "execution_count": 16,
   "id": "27e0b176-b3bc-442c-afb2-487d1fdfb6fe",
   "metadata": {},
   "outputs": [],
   "source": [
    "p = Point2D(x=10, y=20)"
   ]
  },
  {
   "cell_type": "code",
   "execution_count": 17,
   "id": "23c81211-c8ce-4509-8573-7ad18f0edc92",
   "metadata": {},
   "outputs": [
    {
     "data": {
      "text/plain": [
       "Point2D(x=10, y=20)"
      ]
     },
     "execution_count": 17,
     "metadata": {},
     "output_type": "execute_result"
    }
   ],
   "source": [
    "p"
   ]
  },
  {
   "cell_type": "code",
   "execution_count": 18,
   "id": "c93e59ba-7475-4133-901e-c9891ca2aed8",
   "metadata": {},
   "outputs": [
    {
     "data": {
      "text/plain": [
       "True"
      ]
     },
     "execution_count": 18,
     "metadata": {},
     "output_type": "execute_result"
    }
   ],
   "source": [
    "isinstance(p, tuple)"
   ]
  },
  {
   "cell_type": "code",
   "execution_count": 19,
   "id": "3bed291e-8dcb-4f31-b71e-786ba8c7e365",
   "metadata": {},
   "outputs": [],
   "source": [
    "pt1 = Point2D(10, 20)\n",
    "pt2 = Point2D(10, 20)"
   ]
  },
  {
   "cell_type": "code",
   "execution_count": 20,
   "id": "a8dbfa4f-5823-4754-99c7-4e325d2d6192",
   "metadata": {},
   "outputs": [
    {
     "data": {
      "text/plain": [
       "False"
      ]
     },
     "execution_count": 20,
     "metadata": {},
     "output_type": "execute_result"
    }
   ],
   "source": [
    "pt1 is pt2"
   ]
  },
  {
   "cell_type": "code",
   "execution_count": 21,
   "id": "8fbb919b-cf56-4c19-b073-9e151e96ee90",
   "metadata": {},
   "outputs": [
    {
     "data": {
      "text/plain": [
       "True"
      ]
     },
     "execution_count": 21,
     "metadata": {},
     "output_type": "execute_result"
    }
   ],
   "source": [
    "pt1 == pt2"
   ]
  },
  {
   "cell_type": "code",
   "execution_count": 22,
   "id": "75b5595d-a045-46ab-9c85-97978f5a6660",
   "metadata": {},
   "outputs": [],
   "source": [
    "pt1 = Point3D(10, 20, 30)\n",
    "pt2 = Point3D(10, 20, 30)"
   ]
  },
  {
   "cell_type": "code",
   "execution_count": 23,
   "id": "783c2cb4-a71f-4efc-9f68-940da4859090",
   "metadata": {},
   "outputs": [
    {
     "data": {
      "text/plain": [
       "False"
      ]
     },
     "execution_count": 23,
     "metadata": {},
     "output_type": "execute_result"
    }
   ],
   "source": [
    "pt1 is pt2"
   ]
  },
  {
   "cell_type": "code",
   "execution_count": 24,
   "id": "92a9506f-72cb-4c83-acaf-563b7436816d",
   "metadata": {},
   "outputs": [
    {
     "data": {
      "text/plain": [
       "False"
      ]
     },
     "execution_count": 24,
     "metadata": {},
     "output_type": "execute_result"
    }
   ],
   "source": [
    "pt1 == pt2"
   ]
  },
  {
   "cell_type": "code",
   "execution_count": 25,
   "id": "34fe8f3b-1039-4d18-9389-c0aa9e1090ed",
   "metadata": {},
   "outputs": [],
   "source": [
    "class Point3D:\n",
    "    def __init__(self, x, y, z):\n",
    "        self.x = x\n",
    "        self.y = y\n",
    "        self.z = z\n",
    "\n",
    "    def __repr__(self):\n",
    "        return f\"{self.__class__.__name__}(x={self.x}, y={self.y}, z={self.z}\"\n",
    "\n",
    "    def __eq__(self, other):\n",
    "        if isinstance(other, Point3D):\n",
    "            return self.x == other.x and self.y == other.y and self.z == other.z\n",
    "        else:\n",
    "            return False"
   ]
  },
  {
   "cell_type": "code",
   "execution_count": 26,
   "id": "a8e53da8-97e9-488d-b25e-8adf12655dd2",
   "metadata": {},
   "outputs": [],
   "source": [
    "pt1 = Point3D(10, 20, 30)\n",
    "pt2 = Point3D(10, 20, 30)"
   ]
  },
  {
   "cell_type": "code",
   "execution_count": 27,
   "id": "9724bdb7-5207-4baa-9ca0-8ff1f2433e51",
   "metadata": {},
   "outputs": [
    {
     "data": {
      "text/plain": [
       "Point3D(x=10, y=20, z=30"
      ]
     },
     "execution_count": 27,
     "metadata": {},
     "output_type": "execute_result"
    }
   ],
   "source": [
    "pt1"
   ]
  },
  {
   "cell_type": "code",
   "execution_count": 28,
   "id": "d6186649-cabd-46e3-9b6e-d3a7755d8824",
   "metadata": {},
   "outputs": [
    {
     "data": {
      "text/plain": [
       "Point3D(x=10, y=20, z=30"
      ]
     },
     "execution_count": 28,
     "metadata": {},
     "output_type": "execute_result"
    }
   ],
   "source": [
    "pt2"
   ]
  },
  {
   "cell_type": "code",
   "execution_count": 29,
   "id": "123cd84e-4ee0-41bb-a016-57686494ce64",
   "metadata": {},
   "outputs": [
    {
     "data": {
      "text/plain": [
       "True"
      ]
     },
     "execution_count": 29,
     "metadata": {},
     "output_type": "execute_result"
    }
   ],
   "source": [
    "pt1 == pt2"
   ]
  },
  {
   "cell_type": "code",
   "execution_count": 30,
   "id": "37de747b-16ae-4b72-b118-676cddfde78b",
   "metadata": {},
   "outputs": [
    {
     "data": {
      "text/plain": [
       "False"
      ]
     },
     "execution_count": 30,
     "metadata": {},
     "output_type": "execute_result"
    }
   ],
   "source": [
    "pt1 is pt2"
   ]
  },
  {
   "cell_type": "code",
   "execution_count": 31,
   "id": "09052870-6302-4173-9f45-851f1af82e45",
   "metadata": {},
   "outputs": [],
   "source": [
    "pt1 = Point2D(10, 20)\n",
    "pt2 = Point3D(10, 20, 30)"
   ]
  },
  {
   "cell_type": "code",
   "execution_count": 32,
   "id": "f152702b-e874-4718-acf0-62b2accc6ba5",
   "metadata": {},
   "outputs": [
    {
     "data": {
      "text/plain": [
       "20"
      ]
     },
     "execution_count": 32,
     "metadata": {},
     "output_type": "execute_result"
    }
   ],
   "source": [
    "# pt1 is based on Point2D which is an iterable, and we can perform an aggregate function\n",
    "max(pt1)"
   ]
  },
  {
   "cell_type": "code",
   "execution_count": 33,
   "id": "bddeff06-a03b-4fae-80f4-443f150dafc5",
   "metadata": {},
   "outputs": [
    {
     "ename": "TypeError",
     "evalue": "'Point3D' object is not iterable",
     "output_type": "error",
     "traceback": [
      "\u001b[31m---------------------------------------------------------------------------\u001b[39m",
      "\u001b[31mTypeError\u001b[39m                                 Traceback (most recent call last)",
      "\u001b[36mCell\u001b[39m\u001b[36m \u001b[39m\u001b[32mIn[33]\u001b[39m\u001b[32m, line 3\u001b[39m\n\u001b[32m      1\u001b[39m \u001b[38;5;66;03m# pt2 is based on Point3D which is an instance of a class which is not an iterable and \u001b[39;00m\n\u001b[32m      2\u001b[39m \u001b[38;5;66;03m# we cannot perform an aggregate function by default\u001b[39;00m\n\u001b[32m----> \u001b[39m\u001b[32m3\u001b[39m \u001b[38;5;28;43mmax\u001b[39;49m\u001b[43m(\u001b[49m\u001b[43mpt2\u001b[49m\u001b[43m)\u001b[49m\n",
      "\u001b[31mTypeError\u001b[39m: 'Point3D' object is not iterable"
     ]
    }
   ],
   "source": [
    "# pt2 is based on Point3D which is an instance of a class which is not an iterable and \n",
    "# we cannot perform an aggregate function by default\n",
    "max(pt2)"
   ]
  },
  {
   "cell_type": "code",
   "execution_count": 34,
   "id": "b3ae8186-c8be-4108-934d-95dc39fdf819",
   "metadata": {},
   "outputs": [
    {
     "data": {
      "text/plain": [
       "30"
      ]
     },
     "execution_count": 34,
     "metadata": {},
     "output_type": "execute_result"
    }
   ],
   "source": [
    "# we can create a tuple of the values which is an iterable and can then perform an aggregation\n",
    "max(pt2.x, pt2.y, pt2.z)"
   ]
  },
  {
   "cell_type": "markdown",
   "id": "e8680cba-e59a-4b7c-8f6f-c7c63a730eec",
   "metadata": {},
   "source": [
    "`a = a.x, a.y`\n",
    "\n",
    "`b = b.x, b.y`\n",
    "\n",
    "\n",
    "`a.b = a.x * b.x + a.y + b.y`"
   ]
  },
  {
   "cell_type": "code",
   "execution_count": 35,
   "id": "79b013d8-60cc-469b-97ba-c551256940b5",
   "metadata": {},
   "outputs": [],
   "source": [
    "def dot_product_3d(a, b):\n",
    "    return a.x * b.x + a.y * b.y + a.z * b.z"
   ]
  },
  {
   "cell_type": "code",
   "execution_count": 36,
   "id": "ad72b3ba-a119-4ade-bafc-dc0f7cddc19b",
   "metadata": {},
   "outputs": [],
   "source": [
    "pt1 = Point3D(1, 2, 3)\n",
    "pt2 = Point3D(1, 1, 1)"
   ]
  },
  {
   "cell_type": "code",
   "execution_count": 37,
   "id": "50f47508-24b0-4bcd-ba0a-955ae3573b76",
   "metadata": {},
   "outputs": [
    {
     "data": {
      "text/plain": [
       "6"
      ]
     },
     "execution_count": 37,
     "metadata": {},
     "output_type": "execute_result"
    }
   ],
   "source": [
    "dot_product_3d(pt1, pt2)"
   ]
  },
  {
   "cell_type": "code",
   "execution_count": 38,
   "id": "f767eb18-0944-40fb-8cdf-08e4c991a5a2",
   "metadata": {},
   "outputs": [],
   "source": [
    "a = (10, 20)\n",
    "b = (1, 1)"
   ]
  },
  {
   "cell_type": "code",
   "execution_count": 39,
   "id": "f327763d-4821-449b-a96a-235e09c9af05",
   "metadata": {},
   "outputs": [
    {
     "data": {
      "text/plain": [
       "[(10, 1), (20, 1)]"
      ]
     },
     "execution_count": 39,
     "metadata": {},
     "output_type": "execute_result"
    }
   ],
   "source": [
    "list(zip(a, b))"
   ]
  },
  {
   "cell_type": "code",
   "execution_count": 40,
   "id": "8ee349a2-39f8-41ee-ac99-74c77a8ffcbc",
   "metadata": {},
   "outputs": [
    {
     "data": {
      "text/plain": [
       "30"
      ]
     },
     "execution_count": 40,
     "metadata": {},
     "output_type": "execute_result"
    }
   ],
   "source": [
    "sum([e[0] * e[1] for e in zip(a, b)])"
   ]
  },
  {
   "cell_type": "code",
   "execution_count": 41,
   "id": "3e7e9cdb-ee61-4a16-b99a-9a69592baa4e",
   "metadata": {},
   "outputs": [
    {
     "data": {
      "text/plain": [
       "30"
      ]
     },
     "execution_count": 41,
     "metadata": {},
     "output_type": "execute_result"
    }
   ],
   "source": [
    "sum(e[0] * e[1] for e in zip(a, b))"
   ]
  },
  {
   "cell_type": "code",
   "execution_count": 42,
   "id": "8d0aad44-050f-43ea-98df-2b5caede0281",
   "metadata": {},
   "outputs": [],
   "source": [
    "def dot_product(a, b):\n",
    "    return sum(e[0] * e[1] for e in zip(a, b))"
   ]
  },
  {
   "cell_type": "code",
   "execution_count": 43,
   "id": "a474b29b-b2d3-4abf-b49f-f5e9d30684dd",
   "metadata": {},
   "outputs": [
    {
     "data": {
      "text/plain": [
       "30"
      ]
     },
     "execution_count": 43,
     "metadata": {},
     "output_type": "execute_result"
    }
   ],
   "source": [
    "dot_product(a, b)"
   ]
  },
  {
   "cell_type": "code",
   "execution_count": 44,
   "id": "df6444e8-e555-4c58-970c-03f2ea0ca9f5",
   "metadata": {},
   "outputs": [],
   "source": [
    "pt1 = Point2D(10, 20)\n",
    "pt2 = Point2D(1, 1)"
   ]
  },
  {
   "cell_type": "code",
   "execution_count": 45,
   "id": "63bb546d-78b2-4e77-9fd6-4c1d319c9f7a",
   "metadata": {},
   "outputs": [
    {
     "data": {
      "text/plain": [
       "30"
      ]
     },
     "execution_count": 45,
     "metadata": {},
     "output_type": "execute_result"
    }
   ],
   "source": [
    "dot_product(pt1, pt2)"
   ]
  },
  {
   "cell_type": "code",
   "execution_count": 46,
   "id": "4b1abc59-e9e9-462b-b686-5396f435e923",
   "metadata": {},
   "outputs": [],
   "source": [
    "Vector3D = namedtuple('Vector3D', 'x y z')"
   ]
  },
  {
   "cell_type": "code",
   "execution_count": 47,
   "id": "ec831d96-7367-4c8f-adaf-66eea18034d1",
   "metadata": {},
   "outputs": [],
   "source": [
    "v1 = Vector3D(1, 2, 3)\n",
    "v2 = Vector3D(1, 1, 1)"
   ]
  },
  {
   "cell_type": "code",
   "execution_count": 48,
   "id": "6144c66d-73dc-467c-809e-2dd6b9325c91",
   "metadata": {},
   "outputs": [
    {
     "data": {
      "text/plain": [
       "6"
      ]
     },
     "execution_count": 48,
     "metadata": {},
     "output_type": "execute_result"
    }
   ],
   "source": [
    "dot_product(v1, v2)"
   ]
  },
  {
   "cell_type": "code",
   "execution_count": 49,
   "id": "072d04ee-787a-4382-9168-221b5d364fde",
   "metadata": {},
   "outputs": [
    {
     "data": {
      "text/plain": [
       "(1, 2, 3)"
      ]
     },
     "execution_count": 49,
     "metadata": {},
     "output_type": "execute_result"
    }
   ],
   "source": [
    "v1[0], v1[1], v1[2]"
   ]
  },
  {
   "cell_type": "code",
   "execution_count": 50,
   "id": "7b48a247-715a-489d-aaf8-68610b8a1f0e",
   "metadata": {},
   "outputs": [],
   "source": [
    "Circle = namedtuple('Circle', 'center_x, center_y, radius')"
   ]
  },
  {
   "cell_type": "code",
   "execution_count": 51,
   "id": "f3b5d124-18d8-4028-80a3-fb6b0eb67dfe",
   "metadata": {},
   "outputs": [],
   "source": [
    "circle_1 = Circle(0, 0, 10)\n",
    "circle_2 = Circle(center_x=10, center_y=20, radius=100)"
   ]
  },
  {
   "cell_type": "code",
   "execution_count": 52,
   "id": "4a7b9328-6efb-4802-9041-bfd64bcc6b46",
   "metadata": {},
   "outputs": [
    {
     "data": {
      "text/plain": [
       "Circle(center_x=0, center_y=0, radius=10)"
      ]
     },
     "execution_count": 52,
     "metadata": {},
     "output_type": "execute_result"
    }
   ],
   "source": [
    "circle_1"
   ]
  },
  {
   "cell_type": "code",
   "execution_count": 53,
   "id": "686eea1f-e796-425d-81ce-6fb62e4fe366",
   "metadata": {},
   "outputs": [
    {
     "data": {
      "text/plain": [
       "('center_x', 'center_y', 'radius')"
      ]
     },
     "execution_count": 53,
     "metadata": {},
     "output_type": "execute_result"
    }
   ],
   "source": [
    "Circle._fields"
   ]
  },
  {
   "cell_type": "code",
   "execution_count": 54,
   "id": "288eddcf-4bc8-42bc-af9b-40c3e1c33e50",
   "metadata": {
    "scrolled": true
   },
   "outputs": [
    {
     "data": {
      "text/plain": [
       "['__add__',\n",
       " '__class__',\n",
       " '__class_getitem__',\n",
       " '__contains__',\n",
       " '__delattr__',\n",
       " '__dir__',\n",
       " '__doc__',\n",
       " '__eq__',\n",
       " '__format__',\n",
       " '__ge__',\n",
       " '__getattribute__',\n",
       " '__getitem__',\n",
       " '__getnewargs__',\n",
       " '__getstate__',\n",
       " '__gt__',\n",
       " '__hash__',\n",
       " '__init__',\n",
       " '__init_subclass__',\n",
       " '__iter__',\n",
       " '__le__',\n",
       " '__len__',\n",
       " '__lt__',\n",
       " '__match_args__',\n",
       " '__module__',\n",
       " '__mul__',\n",
       " '__ne__',\n",
       " '__new__',\n",
       " '__reduce__',\n",
       " '__reduce_ex__',\n",
       " '__replace__',\n",
       " '__repr__',\n",
       " '__rmul__',\n",
       " '__setattr__',\n",
       " '__sizeof__',\n",
       " '__slots__',\n",
       " '__str__',\n",
       " '__subclasshook__',\n",
       " '_asdict',\n",
       " '_field_defaults',\n",
       " '_fields',\n",
       " '_make',\n",
       " '_replace',\n",
       " 'center_x',\n",
       " 'center_y',\n",
       " 'count',\n",
       " 'index',\n",
       " 'radius']"
      ]
     },
     "execution_count": 54,
     "metadata": {},
     "output_type": "execute_result"
    }
   ],
   "source": [
    "dir(Circle)"
   ]
  },
  {
   "cell_type": "code",
   "execution_count": 55,
   "id": "d4b55462-ceed-433e-8786-ae4b565cf463",
   "metadata": {},
   "outputs": [
    {
     "data": {
      "text/plain": [
       "tuple"
      ]
     },
     "execution_count": 55,
     "metadata": {},
     "output_type": "execute_result"
    }
   ],
   "source": [
    "type(Circle._fields)"
   ]
  },
  {
   "cell_type": "code",
   "execution_count": 56,
   "id": "76e3b1c9-79ab-4c8a-a5c0-a40e6641dbc7",
   "metadata": {},
   "outputs": [
    {
     "data": {
      "text/plain": [
       "__main__.Circle"
      ]
     },
     "execution_count": 56,
     "metadata": {},
     "output_type": "execute_result"
    }
   ],
   "source": [
    "Circle"
   ]
  },
  {
   "cell_type": "code",
   "execution_count": 57,
   "id": "096af7fc-caa9-4776-8235-5c84548df2f7",
   "metadata": {},
   "outputs": [
    {
     "ename": "AttributeError",
     "evalue": "type object 'Circle' has no attribute '_source'",
     "output_type": "error",
     "traceback": [
      "\u001b[31m---------------------------------------------------------------------------\u001b[39m",
      "\u001b[31mAttributeError\u001b[39m                            Traceback (most recent call last)",
      "\u001b[36mCell\u001b[39m\u001b[36m \u001b[39m\u001b[32mIn[57]\u001b[39m\u001b[32m, line 1\u001b[39m\n\u001b[32m----> \u001b[39m\u001b[32m1\u001b[39m \u001b[43mCircle\u001b[49m\u001b[43m.\u001b[49m\u001b[43m_source\u001b[49m\n",
      "\u001b[31mAttributeError\u001b[39m: type object 'Circle' has no attribute '_source'"
     ]
    }
   ],
   "source": [
    "Circle._source"
   ]
  },
  {
   "cell_type": "code",
   "execution_count": 58,
   "id": "ab3613c2-796c-46ca-879d-a047db07672e",
   "metadata": {},
   "outputs": [
    {
     "data": {
      "text/plain": [
       "('center_x', 'center_y', 'radius')"
      ]
     },
     "execution_count": 58,
     "metadata": {},
     "output_type": "execute_result"
    }
   ],
   "source": [
    "Circle._fields"
   ]
  },
  {
   "cell_type": "code",
   "execution_count": 61,
   "id": "2705752c-e70e-495d-96e5-88cf778b7211",
   "metadata": {},
   "outputs": [
    {
     "data": {
      "text/plain": [
       "{'center_x': 0, 'center_y': 0, 'radius': 10}"
      ]
     },
     "execution_count": 61,
     "metadata": {},
     "output_type": "execute_result"
    }
   ],
   "source": [
    "circle_1._asdict()"
   ]
  },
  {
   "cell_type": "code",
   "execution_count": 62,
   "id": "f6276c8f-2aa2-42cc-9a3e-354c3c51f5b1",
   "metadata": {},
   "outputs": [
    {
     "data": {
      "text/plain": [
       "dict"
      ]
     },
     "execution_count": 62,
     "metadata": {},
     "output_type": "execute_result"
    }
   ],
   "source": [
    "type(circle_1._asdict())"
   ]
  },
  {
   "cell_type": "code",
   "execution_count": null,
   "id": "41d970bc-c6ba-497b-9131-109861e3db0a",
   "metadata": {},
   "outputs": [],
   "source": []
  }
 ],
 "metadata": {
  "kernelspec": {
   "display_name": "Python 3 (ipykernel)",
   "language": "python",
   "name": "python3"
  },
  "language_info": {
   "codemirror_mode": {
    "name": "ipython",
    "version": 3
   },
   "file_extension": ".py",
   "mimetype": "text/x-python",
   "name": "python",
   "nbconvert_exporter": "python",
   "pygments_lexer": "ipython3",
   "version": "3.13.1"
  }
 },
 "nbformat": 4,
 "nbformat_minor": 5
}
