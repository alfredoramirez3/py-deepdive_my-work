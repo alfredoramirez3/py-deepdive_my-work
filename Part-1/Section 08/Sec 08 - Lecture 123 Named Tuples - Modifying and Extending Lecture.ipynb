{
 "cells": [
  {
   "cell_type": "markdown",
   "id": "e229356a-8761-48d5-814a-e055a0da96cb",
   "metadata": {},
   "source": [
    "### Section 08, Lecture 123. Named Tuples - Modifying and Extending - Lecture"
   ]
  },
  {
   "cell_type": "code",
   "execution_count": null,
   "id": "18d6f672-348d-41f0-bb55-9336614f90de",
   "metadata": {},
   "outputs": [],
   "source": []
  }
 ],
 "metadata": {
  "kernelspec": {
   "display_name": "Python 3 (ipykernel)",
   "language": "python",
   "name": "python3"
  },
  "language_info": {
   "codemirror_mode": {
    "name": "ipython",
    "version": 3
   },
   "file_extension": ".py",
   "mimetype": "text/x-python",
   "name": "python",
   "nbconvert_exporter": "python",
   "pygments_lexer": "ipython3",
   "version": "3.13.1"
  }
 },
 "nbformat": 4,
 "nbformat_minor": 5
}
