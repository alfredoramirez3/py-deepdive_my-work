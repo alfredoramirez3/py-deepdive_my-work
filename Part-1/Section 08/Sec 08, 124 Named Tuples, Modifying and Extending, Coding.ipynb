{
 "cells": [
  {
   "cell_type": "markdown",
   "id": "a8714ac5-2562-4d38-8ccc-e55728626402",
   "metadata": {},
   "source": [
    "### Section 8, 124. Named Tuples - Modifying and Extending - Coding"
   ]
  },
  {
   "cell_type": "markdown",
   "id": "765bee8c-c0e2-47b2-b103-d2e47a360272",
   "metadata": {},
   "source": [
    "#### Modifying namedtuples"
   ]
  },
  {
   "cell_type": "code",
   "execution_count": 3,
   "id": "b194fee8-94e0-4604-a5bd-87a5b845c27f",
   "metadata": {},
   "outputs": [],
   "source": [
    "from collections import namedtuple"
   ]
  },
  {
   "cell_type": "code",
   "execution_count": 4,
   "id": "133aaf27-2b55-4622-83d0-92dc140ab1db",
   "metadata": {},
   "outputs": [],
   "source": [
    "Point2D = namedtuple('Point2D', 'x y')"
   ]
  },
  {
   "cell_type": "code",
   "execution_count": 5,
   "id": "a63380a3-4d9e-4139-9466-6e4c12b61282",
   "metadata": {},
   "outputs": [],
   "source": [
    "origin = Point2D(10, 0)"
   ]
  },
  {
   "cell_type": "markdown",
   "id": "bf263171-5349-438a-9e16-73a9ae2dbfd2",
   "metadata": {},
   "source": [
    "a namedtuple object is **immutable**"
   ]
  },
  {
   "cell_type": "code",
   "execution_count": 7,
   "id": "b3f0bbb6-a2ad-465a-bf44-efe04fe052d7",
   "metadata": {},
   "outputs": [
    {
     "ename": "AttributeError",
     "evalue": "can't set attribute",
     "output_type": "error",
     "traceback": [
      "\u001b[31m---------------------------------------------------------------------------\u001b[39m",
      "\u001b[31mAttributeError\u001b[39m                            Traceback (most recent call last)",
      "\u001b[36mCell\u001b[39m\u001b[36m \u001b[39m\u001b[32mIn[7]\u001b[39m\u001b[32m, line 1\u001b[39m\n\u001b[32m----> \u001b[39m\u001b[32m1\u001b[39m \u001b[43morigin\u001b[49m\u001b[43m.\u001b[49m\u001b[43mx\u001b[49m = \u001b[32m0\u001b[39m\n",
      "\u001b[31mAttributeError\u001b[39m: can't set attribute"
     ]
    }
   ],
   "source": [
    "origin.x = 0"
   ]
  },
  {
   "cell_type": "markdown",
   "id": "2873694d-3b64-4ac1-b8b9-0858e515abb2",
   "metadata": {},
   "source": [
    "So, to make a change assign to a new namedtuple"
   ]
  },
  {
   "cell_type": "code",
   "execution_count": 9,
   "id": "5e6c5209-20ae-47c0-bf98-057fee30c4e7",
   "metadata": {},
   "outputs": [],
   "source": [
    "origin = Point2D(0, origin.y)"
   ]
  },
  {
   "cell_type": "code",
   "execution_count": 10,
   "id": "7a68bfa0-c92a-4965-94bc-86ad2c0c6262",
   "metadata": {},
   "outputs": [
    {
     "data": {
      "text/plain": [
       "Point2D(x=0, y=0)"
      ]
     },
     "execution_count": 10,
     "metadata": {},
     "output_type": "execute_result"
    }
   ],
   "source": [
    "origin"
   ]
  },
  {
   "cell_type": "markdown",
   "id": "0fee98c6-5b13-4d6c-89f3-ff90443aefbb",
   "metadata": {},
   "source": [
    "This can become unwieldly when there are a large number of properties"
   ]
  },
  {
   "cell_type": "code",
   "execution_count": 11,
   "id": "7d4e27a1-7fea-4043-881d-de686fef71c6",
   "metadata": {},
   "outputs": [],
   "source": [
    "Stock = namedtuple('Stock', 'symbol year month day open high low close')"
   ]
  },
  {
   "cell_type": "code",
   "execution_count": 12,
   "id": "b2b08b40-410b-4691-8f7a-e19aad672dfc",
   "metadata": {},
   "outputs": [],
   "source": [
    "djia = Stock('DJIA', 2018, 1, 25, 26_313, 26_458, 26_260, 26_393)"
   ]
  },
  {
   "cell_type": "markdown",
   "id": "7b7fd161-6ff8-4d44-9f18-f968ab6b7b76",
   "metadata": {},
   "source": [
    "To update the `close` property, we could write"
   ]
  },
  {
   "cell_type": "code",
   "execution_count": 13,
   "id": "e0adbbb5-d662-422e-a14f-f04d1dbb9ddc",
   "metadata": {},
   "outputs": [],
   "source": [
    "djia = Stock(djia.symbol, djia.year, djia.month, djia.day, \n",
    "                  djia.open, djia.high, djia.low, 26_394)"
   ]
  },
  {
   "cell_type": "markdown",
   "id": "df00a5c2-172a-49ed-82ed-e4f57842a616",
   "metadata": {},
   "source": [
    "An alternative, since `close` is the last property collect all but the last property"
   ]
  },
  {
   "cell_type": "code",
   "execution_count": 14,
   "id": "b6500cee-0d71-49e3-a2b9-9e63e34ab3c7",
   "metadata": {},
   "outputs": [],
   "source": [
    "*value, _ = djia"
   ]
  },
  {
   "cell_type": "code",
   "execution_count": 15,
   "id": "7b81b712-6efc-464c-bb75-605e501a40fa",
   "metadata": {},
   "outputs": [
    {
     "data": {
      "text/plain": [
       "['DJIA', 2018, 1, 25, 26313, 26458, 26260]"
      ]
     },
     "execution_count": 15,
     "metadata": {},
     "output_type": "execute_result"
    }
   ],
   "source": [
    "value"
   ]
  },
  {
   "cell_type": "code",
   "execution_count": 18,
   "id": "5fb4dda0-1113-4767-900a-db7e9add0630",
   "metadata": {},
   "outputs": [],
   "source": [
    "djia = Stock(*value, 26_394)"
   ]
  },
  {
   "cell_type": "code",
   "execution_count": 19,
   "id": "f7dc9438-e4ed-43f0-b568-b7b1947fbb54",
   "metadata": {},
   "outputs": [
    {
     "data": {
      "text/plain": [
       "Stock(symbol='DJIA', year=2018, month=1, day=25, open=26313, high=26458, low=26260, close=26394)"
      ]
     },
     "execution_count": 19,
     "metadata": {},
     "output_type": "execute_result"
    }
   ],
   "source": [
    "djia"
   ]
  },
  {
   "cell_type": "markdown",
   "id": "fa254ac4-9cf2-4f81-8666-07e799fe6dfb",
   "metadata": {},
   "source": [
    "This was an improvement, but if changing a property in the middle or two or more properties?\n",
    "\n",
    "*first, month, *last = djia **will not work!**"
   ]
  },
  {
   "cell_type": "markdown",
   "id": "1b4c3b53-041e-495d-bc8b-f13713aeddd7",
   "metadata": {},
   "source": [
    "Using **slicing**"
   ]
  },
  {
   "cell_type": "code",
   "execution_count": 23,
   "id": "df57181e-8885-4f3c-b94f-fb4966ad6a1c",
   "metadata": {},
   "outputs": [],
   "source": [
    "values = djia[:3] + (26,) + djia[4:]"
   ]
  },
  {
   "cell_type": "code",
   "execution_count": 24,
   "id": "16650aa3-dd52-4a2e-9ba5-d2c716357a55",
   "metadata": {},
   "outputs": [
    {
     "data": {
      "text/plain": [
       "('DJIA', 2018, 1, 26, 26313, 26458, 26260, 26394)"
      ]
     },
     "execution_count": 24,
     "metadata": {},
     "output_type": "execute_result"
    }
   ],
   "source": [
    "values"
   ]
  },
  {
   "cell_type": "code",
   "execution_count": 25,
   "id": "2ace0407-0e6c-4302-b740-1e7abc18e749",
   "metadata": {},
   "outputs": [],
   "source": [
    "djia2 = Stock(*values)"
   ]
  },
  {
   "cell_type": "code",
   "execution_count": 26,
   "id": "9235535b-7dae-4526-ae43-87e4293b7fee",
   "metadata": {},
   "outputs": [
    {
     "data": {
      "text/plain": [
       "Stock(symbol='DJIA', year=2018, month=1, day=26, open=26313, high=26458, low=26260, close=26394)"
      ]
     },
     "execution_count": 26,
     "metadata": {},
     "output_type": "execute_result"
    }
   ],
   "source": [
    "djia2"
   ]
  },
  {
   "cell_type": "markdown",
   "id": "c6dda6b1-e570-42ee-be01-defc2fd6dc26",
   "metadata": {},
   "source": [
    "This works, but it's cumbersome"
   ]
  },
  {
   "cell_type": "markdown",
   "id": "ed761043-ef82-4858-a256-6725bb464ffe",
   "metadata": {},
   "source": [
    "An alternative to unpacking values is to use the `_make` class"
   ]
  },
  {
   "cell_type": "code",
   "execution_count": 27,
   "id": "cee1cd44-8105-455f-b807-13f60b1bf15c",
   "metadata": {},
   "outputs": [],
   "source": [
    "djia4 = Stock._make(values)"
   ]
  },
  {
   "cell_type": "code",
   "execution_count": 28,
   "id": "1c4c9d31-4070-4e44-b486-cb05a56c3005",
   "metadata": {},
   "outputs": [
    {
     "data": {
      "text/plain": [
       "Stock(symbol='DJIA', year=2018, month=1, day=26, open=26313, high=26458, low=26260, close=26394)"
      ]
     },
     "execution_count": 28,
     "metadata": {},
     "output_type": "execute_result"
    }
   ],
   "source": [
    "djia4"
   ]
  },
  {
   "cell_type": "markdown",
   "id": "1493b1db-d537-497d-be75-c0c4bac943f9",
   "metadata": {},
   "source": [
    "There is a better way.\n",
    "\n",
    "The namedtuple implementation provides an instance method `_replace` which take keyword-only arguments."
   ]
  },
  {
   "cell_type": "code",
   "execution_count": 29,
   "id": "6b23811a-fd04-4fd8-85dc-5ba23179e20a",
   "metadata": {},
   "outputs": [
    {
     "data": {
      "text/plain": [
       "Stock(symbol='DJIA', year=2018, month=1, day=25, open=26313, high=26458, low=26260, close=26394)"
      ]
     },
     "execution_count": 29,
     "metadata": {},
     "output_type": "execute_result"
    }
   ],
   "source": [
    "djia"
   ]
  },
  {
   "cell_type": "code",
   "execution_count": 30,
   "id": "0260a4f9-4aa7-4a8f-a184-571bc5828911",
   "metadata": {},
   "outputs": [],
   "source": [
    "djia5 = djia._replace(year=2019, day=16)"
   ]
  },
  {
   "cell_type": "code",
   "execution_count": 31,
   "id": "38beddc0-4bee-4bb4-853b-5c2611d58124",
   "metadata": {},
   "outputs": [
    {
     "data": {
      "text/plain": [
       "Stock(symbol='DJIA', year=2019, month=1, day=16, open=26313, high=26458, low=26260, close=26394)"
      ]
     },
     "execution_count": 31,
     "metadata": {},
     "output_type": "execute_result"
    }
   ],
   "source": [
    "djia5"
   ]
  },
  {
   "cell_type": "markdown",
   "id": "2cdad02c-bf01-4f21-ac67-dbe3a87fd0d3",
   "metadata": {},
   "source": [
    "#### Extending namedtuples"
   ]
  },
  {
   "cell_type": "code",
   "execution_count": 33,
   "id": "b9a4c205-b18d-406f-b43e-f09f243e0f30",
   "metadata": {},
   "outputs": [],
   "source": [
    "from collections import namedtuple"
   ]
  },
  {
   "cell_type": "code",
   "execution_count": 34,
   "id": "514e5bf4-5bc3-4060-b987-0f32fdb57104",
   "metadata": {},
   "outputs": [],
   "source": [
    "Point2D = namedtuple('Point2D', 'x y')"
   ]
  },
  {
   "cell_type": "markdown",
   "id": "78f0d6ee-0196-4a95-9b97-ff20b23a3322",
   "metadata": {},
   "source": [
    "A 3D point class could be created"
   ]
  },
  {
   "cell_type": "code",
   "execution_count": 35,
   "id": "6302abe4-1737-4328-9a63-83b4556d82d9",
   "metadata": {},
   "outputs": [],
   "source": [
    "Point3D = namedtuple('Point3D', 'x y z')"
   ]
  },
  {
   "cell_type": "markdown",
   "id": "0949e4bc-7a68-4319-96f5-2dfe0a729fef",
   "metadata": {},
   "source": [
    "Creating a new class adding field(s) to the original class can be a little more difficult\n",
    "\n",
    "Such as, the Stock class"
   ]
  },
  {
   "cell_type": "code",
   "execution_count": 36,
   "id": "c0075d94-52e6-4203-85d2-7e817793635e",
   "metadata": {},
   "outputs": [],
   "source": [
    "StockExt = namedtuple('StockExt', \n",
    "                      '''symbol year month day open high low \n",
    "                      close previous_close''')"
   ]
  },
  {
   "cell_type": "markdown",
   "id": "5319a42c-c94e-4561-a3a3-dff8b8aedf0d",
   "metadata": {},
   "source": [
    "We can leverage the _fields property:"
   ]
  },
  {
   "cell_type": "code",
   "execution_count": 37,
   "id": "0f3b2abc-64de-44ad-abae-2eda8c36969a",
   "metadata": {},
   "outputs": [
    {
     "data": {
      "text/plain": [
       "('symbol', 'year', 'month', 'day', 'open', 'high', 'low', 'close')"
      ]
     },
     "execution_count": 37,
     "metadata": {},
     "output_type": "execute_result"
    }
   ],
   "source": [
    "Stock._fields"
   ]
  },
  {
   "cell_type": "code",
   "execution_count": 40,
   "id": "ef98c640-536d-4a27-9d62-b5f805652ca5",
   "metadata": {},
   "outputs": [
    {
     "data": {
      "text/plain": [
       "('symbol',\n",
       " 'year',\n",
       " 'month',\n",
       " 'day',\n",
       " 'open',\n",
       " 'high',\n",
       " 'low',\n",
       " 'close',\n",
       " 'previous_close')"
      ]
     },
     "execution_count": 40,
     "metadata": {},
     "output_type": "execute_result"
    }
   ],
   "source": [
    "new_fields = Stock._fields + ('previous_close',)\n",
    "new_fields"
   ]
  },
  {
   "cell_type": "code",
   "execution_count": 42,
   "id": "7bd2325d-bd82-4711-b5bb-23d3600a4a9b",
   "metadata": {},
   "outputs": [],
   "source": [
    "StockExt = namedtuple('StockExt', new_fields)"
   ]
  },
  {
   "cell_type": "code",
   "execution_count": 44,
   "id": "8a885526-7a3a-453c-88ca-63acbaed9916",
   "metadata": {},
   "outputs": [
    {
     "data": {
      "text/plain": [
       "('symbol',\n",
       " 'year',\n",
       " 'month',\n",
       " 'day',\n",
       " 'open',\n",
       " 'high',\n",
       " 'low',\n",
       " 'close',\n",
       " 'previous_close')"
      ]
     },
     "execution_count": 44,
     "metadata": {},
     "output_type": "execute_result"
    }
   ],
   "source": [
    "StockExt._fields"
   ]
  },
  {
   "cell_type": "markdown",
   "id": "01e6be58-105d-45ff-803a-8c1d2fcbada1",
   "metadata": {},
   "source": [
    "Using a string instead of a tuple"
   ]
  },
  {
   "cell_type": "code",
   "execution_count": 46,
   "id": "2673f628-28a9-43c4-9feb-0e8963587066",
   "metadata": {},
   "outputs": [
    {
     "data": {
      "text/plain": [
       "'symbol year month day open high low close previous_close'"
      ]
     },
     "execution_count": 46,
     "metadata": {},
     "output_type": "execute_result"
    }
   ],
   "source": [
    "new_fields = ' '.join(Stock._fields) + ' previous_close'\n",
    "new_fields"
   ]
  },
  {
   "cell_type": "code",
   "execution_count": 47,
   "id": "1a2d3181-ddcf-43ae-a461-75752356735e",
   "metadata": {},
   "outputs": [
    {
     "data": {
      "text/plain": [
       "('symbol',\n",
       " 'year',\n",
       " 'month',\n",
       " 'day',\n",
       " 'open',\n",
       " 'high',\n",
       " 'low',\n",
       " 'close',\n",
       " 'previous_close')"
      ]
     },
     "execution_count": 47,
     "metadata": {},
     "output_type": "execute_result"
    }
   ],
   "source": [
    "StockExt = namedtuple('StockExt', new_fields)\n",
    "StockExt._fields"
   ]
  },
  {
   "cell_type": "code",
   "execution_count": 48,
   "id": "9ab15cb0-2eb9-4fec-ab71-ff256034f5d4",
   "metadata": {},
   "outputs": [
    {
     "data": {
      "text/plain": [
       "Stock(symbol='DJIA', year=2018, month=1, day=25, open=26313, high=26458, low=26260, close=26394)"
      ]
     },
     "execution_count": 48,
     "metadata": {},
     "output_type": "execute_result"
    }
   ],
   "source": [
    "djia"
   ]
  },
  {
   "cell_type": "code",
   "execution_count": 49,
   "id": "21cbf067-eb3d-4567-97ce-4faaf8fe0563",
   "metadata": {},
   "outputs": [],
   "source": [
    "djia_ext = StockExt(*djia, 25_000)"
   ]
  },
  {
   "cell_type": "code",
   "execution_count": 50,
   "id": "61836865-6c70-4acf-8751-6fda72eb22fe",
   "metadata": {},
   "outputs": [
    {
     "data": {
      "text/plain": [
       "StockExt(symbol='DJIA', year=2018, month=1, day=25, open=26313, high=26458, low=26260, close=26394, previous_close=25000)"
      ]
     },
     "execution_count": 50,
     "metadata": {},
     "output_type": "execute_result"
    }
   ],
   "source": [
    "djia_ext"
   ]
  },
  {
   "cell_type": "markdown",
   "id": "0ec926d0-3cf3-4a3d-b7e8-6d75f635a3c1",
   "metadata": {},
   "source": [
    "Using the `_make` class method"
   ]
  },
  {
   "cell_type": "code",
   "execution_count": 52,
   "id": "f7f8557e-5899-42ee-84f9-2631a5786988",
   "metadata": {},
   "outputs": [
    {
     "name": "stdout",
     "output_type": "stream",
     "text": [
      "('DJIA', 2018, 1, 25, 26313, 26458, 26260, 26394, 25000)\n"
     ]
    },
    {
     "data": {
      "text/plain": [
       "StockExt(symbol='DJIA', year=2018, month=1, day=25, open=26313, high=26458, low=26260, close=26394, previous_close=25000)"
      ]
     },
     "execution_count": 52,
     "metadata": {},
     "output_type": "execute_result"
    }
   ],
   "source": [
    "values_ext = djia + (25_000,)\n",
    "print(values_ext)\n",
    "\n",
    "djia_ext = StockExt._make(values_ext)\n",
    "djia_ext"
   ]
  },
  {
   "cell_type": "code",
   "execution_count": null,
   "id": "62698d3a-0cd6-4334-a368-39627101acbc",
   "metadata": {},
   "outputs": [],
   "source": []
  }
 ],
 "metadata": {
  "kernelspec": {
   "display_name": "Python 3 (ipykernel)",
   "language": "python",
   "name": "python3"
  },
  "language_info": {
   "codemirror_mode": {
    "name": "ipython",
    "version": 3
   },
   "file_extension": ".py",
   "mimetype": "text/x-python",
   "name": "python",
   "nbconvert_exporter": "python",
   "pygments_lexer": "ipython3",
   "version": "3.13.1"
  }
 },
 "nbformat": 4,
 "nbformat_minor": 5
}
