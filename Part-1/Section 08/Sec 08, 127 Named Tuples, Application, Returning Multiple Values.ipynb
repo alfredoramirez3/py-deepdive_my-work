{
 "cells": [
  {
   "cell_type": "markdown",
   "id": "c6e29c5d-e626-422b-8847-cd4211910171",
   "metadata": {},
   "source": [
    "### Section 8, 127. Named Tuples, Application, Returning Multiple Values"
   ]
  },
  {
   "cell_type": "code",
   "execution_count": 1,
   "id": "660062e7-5a77-4742-bec7-ecd43c35fc72",
   "metadata": {},
   "outputs": [],
   "source": [
    "from random import randint, random"
   ]
  },
  {
   "cell_type": "code",
   "execution_count": 2,
   "id": "04aecce5-9f46-49aa-b64f-233956480c66",
   "metadata": {},
   "outputs": [],
   "source": [
    "def random_color():\n",
    "    red = randint(0, 255)\n",
    "    green = randint(0, 255)\n",
    "    blue = randint(0, 255)\n",
    "    alpha = round(random(), 2)\n",
    "    return red, green, blue, alpha,"
   ]
  },
  {
   "cell_type": "code",
   "execution_count": 3,
   "id": "4cec0734-cae6-4716-b6fd-4b3352aa8063",
   "metadata": {},
   "outputs": [
    {
     "data": {
      "text/plain": [
       "(7, 196, 55, 0.07)"
      ]
     },
     "execution_count": 3,
     "metadata": {},
     "output_type": "execute_result"
    }
   ],
   "source": [
    "random_color()"
   ]
  },
  {
   "cell_type": "code",
   "execution_count": 4,
   "id": "a4b83b43-a79e-4343-bcb4-dcea21d045cf",
   "metadata": {},
   "outputs": [
    {
     "name": "stdout",
     "output_type": "stream",
     "text": [
      "red=136, green=120, blue=155, alpha=0.87\n"
     ]
    }
   ],
   "source": [
    "red, green, blue, alpha = random_color()\n",
    "print(f'{red=}, {green=}, {blue=}, {alpha=}')"
   ]
  },
  {
   "cell_type": "markdown",
   "id": "29d63ea1-1273-4ed8-a295-47e8f77fcb4d",
   "metadata": {},
   "source": [
    "Using a namedtuple"
   ]
  },
  {
   "cell_type": "code",
   "execution_count": 5,
   "id": "0f02cf5e-8b60-4d65-9069-7a828cd3a9ce",
   "metadata": {},
   "outputs": [],
   "source": [
    "from collections import namedtuple"
   ]
  },
  {
   "cell_type": "code",
   "execution_count": 7,
   "id": "a0c3a467-d1a0-44e4-bb86-1b8f1dced468",
   "metadata": {},
   "outputs": [],
   "source": [
    "Color = namedtuple('Color', 'red green blue alpha')\n",
    "\n",
    "def random_color():\n",
    "    red = randint(0, 255)\n",
    "    green = randint(0, 255)\n",
    "    blue = randint(0, 255)\n",
    "    alpha = round(random(), 2)\n",
    "    return Color(red, green, blue, alpha)"
   ]
  },
  {
   "cell_type": "code",
   "execution_count": null,
   "id": "db866d0b-00a5-4315-8cbd-314216915a24",
   "metadata": {},
   "outputs": [],
   "source": [
    "color = random_color()"
   ]
  }
 ],
 "metadata": {
  "kernelspec": {
   "display_name": "Python 3 (ipykernel)",
   "language": "python",
   "name": "python3"
  },
  "language_info": {
   "codemirror_mode": {
    "name": "ipython",
    "version": 3
   },
   "file_extension": ".py",
   "mimetype": "text/x-python",
   "name": "python",
   "nbconvert_exporter": "python",
   "pygments_lexer": "ipython3",
   "version": "3.13.1"
  }
 },
 "nbformat": 4,
 "nbformat_minor": 5
}
