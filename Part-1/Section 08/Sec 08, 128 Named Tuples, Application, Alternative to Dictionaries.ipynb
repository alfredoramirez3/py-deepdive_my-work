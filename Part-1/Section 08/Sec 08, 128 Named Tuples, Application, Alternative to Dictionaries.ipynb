{
 "cells": [
  {
   "cell_type": "markdown",
   "id": "357d1e5b-ced7-4a4b-a5bd-487c3cb4cdb4",
   "metadata": {},
   "source": [
    "### Section 08, 128 Named Tuples, Application, Alternative to dictionaries"
   ]
  },
  {
   "cell_type": "markdown",
   "id": "ed33cee0-4e60-48ed-ba24-f0bb152c58f9",
   "metadata": {},
   "source": [
    "Note, this only works for dictionaries with `string` keys."
   ]
  },
  {
   "cell_type": "code",
   "execution_count": 1,
   "id": "b1d390fa-6195-468e-a62d-549a984f93cf",
   "metadata": {},
   "outputs": [],
   "source": [
    "from collections import namedtuple"
   ]
  },
  {
   "cell_type": "code",
   "execution_count": 2,
   "id": "4be2804a-0576-4db2-b8c0-fdf09158ac29",
   "metadata": {},
   "outputs": [],
   "source": [
    "data_dict = dict(key1=100, key2=200, key3=300)"
   ]
  },
  {
   "cell_type": "code",
   "execution_count": 5,
   "id": "12864431-d58d-4fea-90b7-db0c762cca4b",
   "metadata": {},
   "outputs": [],
   "source": [
    "Data = namedtuple('Data', data_dict.keys())"
   ]
  },
  {
   "cell_type": "code",
   "execution_count": 7,
   "id": "97d9e79d-8199-43c8-a04d-8c8e9e201c60",
   "metadata": {},
   "outputs": [
    {
     "data": {
      "text/plain": [
       "('key1', 'key2', 'key3')"
      ]
     },
     "execution_count": 7,
     "metadata": {},
     "output_type": "execute_result"
    }
   ],
   "source": [
    "Data._fields"
   ]
  },
  {
   "cell_type": "code",
   "execution_count": 9,
   "id": "fadc7d74-c6d0-46f3-bbcf-f14de75af387",
   "metadata": {},
   "outputs": [],
   "source": [
    "d1 = Data(*data_dict.values())"
   ]
  },
  {
   "cell_type": "code",
   "execution_count": 10,
   "id": "54f16005-fde8-4fcf-8f8d-f1df5a62947d",
   "metadata": {},
   "outputs": [
    {
     "data": {
      "text/plain": [
       "Data(key1=100, key2=200, key3=300)"
      ]
     },
     "execution_count": 10,
     "metadata": {},
     "output_type": "execute_result"
    }
   ],
   "source": [
    "d1"
   ]
  },
  {
   "cell_type": "markdown",
   "id": "9b95c944-7019-4686-9be6-08898ee8262b",
   "metadata": {},
   "source": [
    "Now create a dict with the same keys, but in a different order"
   ]
  },
  {
   "cell_type": "code",
   "execution_count": 11,
   "id": "d939844a-0807-40ed-940d-7fea53fedddb",
   "metadata": {},
   "outputs": [],
   "source": [
    "data_dict_2 = dict(key1=100, key3=300, key2=200)"
   ]
  },
  {
   "cell_type": "code",
   "execution_count": 12,
   "id": "e7ef01c3-323b-4c18-8763-663c835264ff",
   "metadata": {},
   "outputs": [],
   "source": [
    "d2 = Data(*data_dict_2.values())"
   ]
  },
  {
   "cell_type": "code",
   "execution_count": 13,
   "id": "80457b2d-fa85-48bc-98d8-7a01cb8d1cb7",
   "metadata": {},
   "outputs": [
    {
     "data": {
      "text/plain": [
       "Data(key1=100, key2=300, key3=200)"
      ]
     },
     "execution_count": 13,
     "metadata": {},
     "output_type": "execute_result"
    }
   ],
   "source": [
    "d2"
   ]
  },
  {
   "cell_type": "markdown",
   "id": "c957903d-d52b-4e20-8fe1-5da01a80f42a",
   "metadata": {},
   "source": [
    "This didn't work\n",
    "\n",
    "Instead unpack the dictionary itself"
   ]
  },
  {
   "cell_type": "code",
   "execution_count": 15,
   "id": "a056239e-c331-454d-b03a-d8e81fd8b2e1",
   "metadata": {},
   "outputs": [
    {
     "data": {
      "text/plain": [
       "{'key1': 100, 'key3': 300, 'key2': 200}"
      ]
     },
     "execution_count": 15,
     "metadata": {},
     "output_type": "execute_result"
    }
   ],
   "source": [
    "data_dict_2"
   ]
  },
  {
   "cell_type": "code",
   "execution_count": 26,
   "id": "f65baa42-d51b-45d5-9b7f-91b2c7886a90",
   "metadata": {},
   "outputs": [
    {
     "name": "stdout",
     "output_type": "stream",
     "text": [
      "<class 'dict'>\n",
      "<class 'tuple'>\n",
      "('key1', 100)\n",
      "<class 'tuple'>\n",
      "('key3', 300)\n",
      "<class 'tuple'>\n",
      "('key2', 200)\n"
     ]
    }
   ],
   "source": [
    "def output_kws(**kwargs):\n",
    "    # return kwargs, len(kwargs)\n",
    "    print(type(kwargs))\n",
    "    for kw in kwargs.items():\n",
    "        print(type(kw))\n",
    "        print(kw)\n",
    "    \n",
    "# **data_dict_2\n",
    "# str(**data_dict_2)\n",
    "output_kws(**data_dict_2)"
   ]
  },
  {
   "cell_type": "code",
   "execution_count": 17,
   "id": "6b7708af-6648-456c-a9c9-ba2cedebc13b",
   "metadata": {},
   "outputs": [],
   "source": [
    "d2 = Data(**data_dict_2)"
   ]
  },
  {
   "cell_type": "code",
   "execution_count": 18,
   "id": "97222115-01fa-4d3c-bfac-efaa1e98c706",
   "metadata": {},
   "outputs": [
    {
     "data": {
      "text/plain": [
       "Data(key1=100, key2=200, key3=300)"
      ]
     },
     "execution_count": 18,
     "metadata": {},
     "output_type": "execute_result"
    }
   ],
   "source": [
    "d2"
   ]
  },
  {
   "cell_type": "code",
   "execution_count": 25,
   "id": "b22d7068-ffdb-4b66-aa23-adb1cd2dc7b0",
   "metadata": {},
   "outputs": [
    {
     "ename": "TypeError",
     "evalue": "Data.__new__() missing 2 required positional arguments: 'key2' and 'key3'",
     "output_type": "error",
     "traceback": [
      "\u001b[31m---------------------------------------------------------------------------\u001b[39m",
      "\u001b[31mTypeError\u001b[39m                                 Traceback (most recent call last)",
      "\u001b[36mCell\u001b[39m\u001b[36m \u001b[39m\u001b[32mIn[25]\u001b[39m\u001b[32m, line 1\u001b[39m\n\u001b[32m----> \u001b[39m\u001b[32m1\u001b[39m d2 = \u001b[43mData\u001b[49m\u001b[43m(\u001b[49m\u001b[43mdata_dict_2\u001b[49m\u001b[43m)\u001b[49m\n",
      "\u001b[31mTypeError\u001b[39m: Data.__new__() missing 2 required positional arguments: 'key2' and 'key3'"
     ]
    }
   ],
   "source": [
    "d2 = Data(data_dict_2)"
   ]
  },
  {
   "cell_type": "markdown",
   "id": "b7b8eb66-0eb0-45ee-8191-2a610f7e167a",
   "metadata": {},
   "source": [
    "The pattern to create a named tuple from a single dictionary d:\n",
    "\n",
    "`1. Struct = namedtuple('Struct', d.keys())`\n",
    "\n",
    "`2. data = Struct(**d)`"
   ]
  },
  {
   "cell_type": "code",
   "execution_count": 27,
   "id": "2fbd44d0-d9cf-4036-aa9f-2d8739c6ffc4",
   "metadata": {},
   "outputs": [
    {
     "data": {
      "text/plain": [
       "Ellipsis"
      ]
     },
     "execution_count": 27,
     "metadata": {},
     "output_type": "execute_result"
    }
   ],
   "source": [
    "..."
   ]
  },
  {
   "cell_type": "code",
   "execution_count": null,
   "id": "914a2371-01c9-492d-9983-d70950ec6a9b",
   "metadata": {},
   "outputs": [],
   "source": []
  }
 ],
 "metadata": {
  "kernelspec": {
   "display_name": "Python 3 (ipykernel)",
   "language": "python",
   "name": "python3"
  },
  "language_info": {
   "codemirror_mode": {
    "name": "ipython",
    "version": 3
   },
   "file_extension": ".py",
   "mimetype": "text/x-python",
   "name": "python",
   "nbconvert_exporter": "python",
   "pygments_lexer": "ipython3",
   "version": "3.13.1"
  }
 },
 "nbformat": 4,
 "nbformat_minor": 5
}
