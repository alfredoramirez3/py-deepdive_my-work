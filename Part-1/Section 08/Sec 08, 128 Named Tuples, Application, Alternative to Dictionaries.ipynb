{
 "cells": [
  {
   "cell_type": "markdown",
   "id": "0f53637d-4169-429f-8480-1144aeb66ece",
   "metadata": {},
   "source": [
    "### Section 8, 128. Named Tuples - Application - Alternative to Dictionaries"
   ]
  },
  {
   "cell_type": "markdown",
   "id": "0704807d-4aa9-4684-b080-d3bc6362eff4",
   "metadata": {},
   "source": [
    "Note, only works for dictionaries with `string` keys."
   ]
  },
  {
   "cell_type": "code",
   "execution_count": 1,
   "id": "c86e3c0e-9625-4ff5-832a-2d6c697f7ea5",
   "metadata": {},
   "outputs": [],
   "source": [
    "from collections import namedtuple"
   ]
  },
  {
   "cell_type": "code",
   "execution_count": 2,
   "id": "0a4ec250-ed6c-43e5-a8e3-d3f8db31e75c",
   "metadata": {},
   "outputs": [],
   "source": [
    "data_dict = dict(key1=100, key2=200, key3=300)"
   ]
  },
  {
   "cell_type": "code",
   "execution_count": 3,
   "id": "eddd5394-4955-41bd-babf-cd08019d06c3",
   "metadata": {},
   "outputs": [
    {
     "data": {
      "text/plain": [
       "{'key1': 100, 'key2': 200, 'key3': 300}"
      ]
     },
     "execution_count": 3,
     "metadata": {},
     "output_type": "execute_result"
    }
   ],
   "source": [
    "data_dict"
   ]
  },
  {
   "cell_type": "code",
   "execution_count": 4,
   "id": "30cf4e40-dbbf-4e82-ae9e-273d02995126",
   "metadata": {},
   "outputs": [],
   "source": [
    "Data = namedtuple('Data', data_dict.keys())"
   ]
  },
  {
   "cell_type": "code",
   "execution_count": 6,
   "id": "7004ba2a-e1b2-4858-86d3-62f58ad649cd",
   "metadata": {},
   "outputs": [
    {
     "data": {
      "text/plain": [
       "('key1', 'key2', 'key3')"
      ]
     },
     "execution_count": 6,
     "metadata": {},
     "output_type": "execute_result"
    }
   ],
   "source": [
    "Data._fields"
   ]
  },
  {
   "cell_type": "markdown",
   "id": "af54ef40-706a-4d33-a48c-0d82baa9d198",
   "metadata": {},
   "source": [
    "We can create an instance of the `Data` namedtuple using the data in the `data_dict` dictionary.\n",
    "\n",
    "We could try the following (bad idea):"
   ]
  },
  {
   "cell_type": "code",
   "execution_count": 13,
   "id": "42e883be-e353-460e-a7c4-eb03c1f1b01c",
   "metadata": {},
   "outputs": [
    {
     "name": "stdout",
     "output_type": "stream",
     "text": [
      "dict_values([100, 200, 300])\n",
      "<class 'dict_values'>\n"
     ]
    }
   ],
   "source": [
    "values = data_dict.values()\n",
    "print(values)\n",
    "print(type(values))"
   ]
  },
  {
   "cell_type": "code",
   "execution_count": 14,
   "id": "7e1cb8e6-8756-40df-bbe1-7aed1a5d74da",
   "metadata": {},
   "outputs": [],
   "source": [
    "d1 = Data(*data_dict.values())"
   ]
  },
  {
   "cell_type": "code",
   "execution_count": 15,
   "id": "1817fec0-592a-4ce0-be32-bc384bbb94ef",
   "metadata": {},
   "outputs": [
    {
     "data": {
      "text/plain": [
       "Data(key1=100, key2=200, key3=300)"
      ]
     },
     "execution_count": 15,
     "metadata": {},
     "output_type": "execute_result"
    }
   ],
   "source": [
    "d1"
   ]
  },
  {
   "cell_type": "markdown",
   "id": "eced6351-39db-4ace-9189-032f10fa4c12",
   "metadata": {},
   "source": [
    "This looks like it worked.\n",
    "\n",
    "Now consider this second dictionary, where we do not create the keys in the same order."
   ]
  },
  {
   "cell_type": "code",
   "execution_count": 16,
   "id": "8cdbc93b-342d-4a1f-8ac2-009f17f07848",
   "metadata": {},
   "outputs": [],
   "source": [
    "data_dict_2 = dict(key1=100, key3=300, key2=200)"
   ]
  },
  {
   "cell_type": "code",
   "execution_count": 17,
   "id": "231899ae-d347-4e17-a6d3-1448936b7650",
   "metadata": {},
   "outputs": [],
   "source": [
    "d2 = Data(*data_dict_2.values())"
   ]
  },
  {
   "cell_type": "code",
   "execution_count": 18,
   "id": "f52fc5a7-8f7b-4a2d-a3c6-0b1fa256d65e",
   "metadata": {},
   "outputs": [
    {
     "data": {
      "text/plain": [
       "Data(key1=100, key2=300, key3=200)"
      ]
     },
     "execution_count": 18,
     "metadata": {},
     "output_type": "execute_result"
    }
   ],
   "source": [
    "d2"
   ]
  },
  {
   "cell_type": "markdown",
   "id": "34d090d8-2e32-4236-b2fc-f66562327f54",
   "metadata": {},
   "source": [
    "Obviously wrong.\n",
    "\n",
    "We cannot guarantee that the order of the values() will be in the same order as the keys in the named tuple.\n",
    "\n",
    "Instead, unpack the dictionary itself, resulting in keyword arguments."
   ]
  },
  {
   "cell_type": "code",
   "execution_count": 19,
   "id": "036ef2ef-7944-48a3-bb6f-505bacde21d2",
   "metadata": {},
   "outputs": [],
   "source": [
    "d2 = Data(**data_dict_2)"
   ]
  },
  {
   "cell_type": "code",
   "execution_count": 20,
   "id": "b2fb5677-6742-4d06-ac1c-77672ffb767b",
   "metadata": {},
   "outputs": [
    {
     "data": {
      "text/plain": [
       "Data(key1=100, key2=200, key3=300)"
      ]
     },
     "execution_count": 20,
     "metadata": {},
     "output_type": "execute_result"
    }
   ],
   "source": [
    "d2"
   ]
  },
  {
   "cell_type": "markdown",
   "id": "a388b94e-bf1b-4734-9ffa-1763f67ad68d",
   "metadata": {},
   "source": [
    "So, the pattern to create a named tuple from a single dictionary:\n",
    "\n",
    "For any dictionary `d` we can create a named tuple class and insert data into it as follows:\n",
    "\n",
    "- `Struct = namedtuple('Struct', d.keys())`\n",
    "- `data = Struct(**d)`"
   ]
  },
  {
   "cell_type": "code",
   "execution_count": 21,
   "id": "976843f8-3708-49b0-8e97-defe4113230c",
   "metadata": {},
   "outputs": [],
   "source": [
    "data_dict = dict(first_name='John', last_name='Cleese', age=42, complaint='dead parrot')"
   ]
  },
  {
   "cell_type": "code",
   "execution_count": 22,
   "id": "571eb366-44ba-4c82-b30c-d21e3ff5ed9d",
   "metadata": {},
   "outputs": [
    {
     "data": {
      "text/plain": [
       "{'first_name': 'John',\n",
       " 'last_name': 'Cleese',\n",
       " 'age': 42,\n",
       " 'complaint': 'dead parrot'}"
      ]
     },
     "execution_count": 22,
     "metadata": {},
     "output_type": "execute_result"
    }
   ],
   "source": [
    "data_dict"
   ]
  },
  {
   "cell_type": "code",
   "execution_count": 23,
   "id": "a47c0bd9-7cf8-4e4c-a589-8ee299b145f1",
   "metadata": {},
   "outputs": [
    {
     "data": {
      "text/plain": [
       "dict_keys(['first_name', 'last_name', 'age', 'complaint'])"
      ]
     },
     "execution_count": 23,
     "metadata": {},
     "output_type": "execute_result"
    }
   ],
   "source": [
    "data_dict.keys()"
   ]
  },
  {
   "cell_type": "code",
   "execution_count": 24,
   "id": "08fe11c2-5613-415e-a5ee-3f4fc3a30476",
   "metadata": {},
   "outputs": [
    {
     "data": {
      "text/plain": [
       "dict_keys"
      ]
     },
     "execution_count": 24,
     "metadata": {},
     "output_type": "execute_result"
    }
   ],
   "source": [
    "type(data_dict.keys())"
   ]
  },
  {
   "cell_type": "code",
   "execution_count": 25,
   "id": "d1f1cd19-8ec5-4378-909a-43ab3239132f",
   "metadata": {},
   "outputs": [
    {
     "data": {
      "text/plain": [
       "['age', 'complaint', 'first_name', 'last_name']"
      ]
     },
     "execution_count": 25,
     "metadata": {},
     "output_type": "execute_result"
    }
   ],
   "source": [
    "sorted(data_dict.keys())"
   ]
  },
  {
   "cell_type": "code",
   "execution_count": 26,
   "id": "88f6cc2c-9d1a-40b8-a82f-11c87f852511",
   "metadata": {},
   "outputs": [],
   "source": [
    "Struct = namedtuple('Struct', sorted(data_dict.keys()))"
   ]
  },
  {
   "cell_type": "code",
   "execution_count": 28,
   "id": "f869a573-e2bc-4d51-9209-cbc5f46b3ae6",
   "metadata": {},
   "outputs": [
    {
     "data": {
      "text/plain": [
       "('age', 'complaint', 'first_name', 'last_name')"
      ]
     },
     "execution_count": 28,
     "metadata": {},
     "output_type": "execute_result"
    }
   ],
   "source": [
    "Struct._fields"
   ]
  },
  {
   "cell_type": "markdown",
   "id": "8ceeaba6-d2a8-48f8-9f9e-2b1dd424338c",
   "metadata": {},
   "source": [
    "We can still put the correct values from the dictionary into the correct slots of the named tuple by unpacking the dictionary instead of the values:"
   ]
  },
  {
   "cell_type": "code",
   "execution_count": 29,
   "id": "1391ddfc-cd59-4dc1-b9f2-ebb5204241b6",
   "metadata": {},
   "outputs": [],
   "source": [
    "d1 = Struct(**data_dict)"
   ]
  },
  {
   "cell_type": "code",
   "execution_count": 30,
   "id": "243cc42b-1295-4584-94a8-d373def94cde",
   "metadata": {},
   "outputs": [
    {
     "data": {
      "text/plain": [
       "Struct(age=42, complaint='dead parrot', first_name='John', last_name='Cleese')"
      ]
     },
     "execution_count": 30,
     "metadata": {},
     "output_type": "execute_result"
    }
   ],
   "source": [
    "d1"
   ]
  },
  {
   "cell_type": "markdown",
   "id": "8846422f-d05e-42a8-9ffe-8b9eeb6fb0dc",
   "metadata": {},
   "source": [
    "Since this is now a named tuple we can access the data using the field name:"
   ]
  },
  {
   "cell_type": "code",
   "execution_count": 31,
   "id": "7e0bd56d-6fad-444a-b7fb-560f071144a2",
   "metadata": {},
   "outputs": [
    {
     "data": {
      "text/plain": [
       "'dead parrot'"
      ]
     },
     "execution_count": 31,
     "metadata": {},
     "output_type": "execute_result"
    }
   ],
   "source": [
    "d1.complaint"
   ]
  },
  {
   "cell_type": "markdown",
   "id": "ea7ef98b-1749-4886-8ff2-8fa1da1f4939",
   "metadata": {},
   "source": [
    "instead of how we would have done it with the dictionary:"
   ]
  },
  {
   "cell_type": "code",
   "execution_count": 32,
   "id": "c17d953f-0a82-437d-a649-92bb94e58b7d",
   "metadata": {},
   "outputs": [
    {
     "data": {
      "text/plain": [
       "'dead parrot'"
      ]
     },
     "execution_count": 32,
     "metadata": {},
     "output_type": "execute_result"
    }
   ],
   "source": [
    "data_dict['complaint']"
   ]
  },
  {
   "cell_type": "markdown",
   "id": "2094cc29-b502-4abb-8df1-36b74700eecb",
   "metadata": {},
   "source": [
    "Pointing out that with dictionaries often end up with code where the key is stored in some variable and the referenced this way:"
   ]
  },
  {
   "cell_type": "code",
   "execution_count": 33,
   "id": "49b0739e-cb95-40e1-9d5d-a4d55af53da8",
   "metadata": {},
   "outputs": [
    {
     "data": {
      "text/plain": [
       "42"
      ]
     },
     "execution_count": 33,
     "metadata": {},
     "output_type": "execute_result"
    }
   ],
   "source": [
    "key_name = 'age'\n",
    "data_dict[key_name]"
   ]
  },
  {
   "cell_type": "markdown",
   "id": "254edf4d-6414-477e-b535-7259c590e9b7",
   "metadata": {},
   "source": [
    "We cannot use this approach directly with named tuples.\n",
    "\n",
    "For example this will not work:"
   ]
  },
  {
   "cell_type": "code",
   "execution_count": 34,
   "id": "2db9bcb3-da9e-4f22-bb5f-e11e13e0291d",
   "metadata": {},
   "outputs": [
    {
     "ename": "AttributeError",
     "evalue": "'Struct' object has no attribute 'key_name'",
     "output_type": "error",
     "traceback": [
      "\u001b[31m---------------------------------------------------------------------------\u001b[39m",
      "\u001b[31mAttributeError\u001b[39m                            Traceback (most recent call last)",
      "\u001b[36mCell\u001b[39m\u001b[36m \u001b[39m\u001b[32mIn[34]\u001b[39m\u001b[32m, line 2\u001b[39m\n\u001b[32m      1\u001b[39m key_name = \u001b[33m'\u001b[39m\u001b[33mage\u001b[39m\u001b[33m'\u001b[39m\n\u001b[32m----> \u001b[39m\u001b[32m2\u001b[39m \u001b[43md1\u001b[49m\u001b[43m.\u001b[49m\u001b[43mkey_name\u001b[49m\n",
      "\u001b[31mAttributeError\u001b[39m: 'Struct' object has no attribute 'key_name'"
     ]
    }
   ],
   "source": [
    "key_name = 'age'\n",
    "d1.key_name"
   ]
  },
  {
   "cell_type": "markdown",
   "id": "361cf6cc-c99b-4954-9a2c-3733c017d8ac",
   "metadata": {},
   "source": [
    "However, we can use the `getattr` function:"
   ]
  },
  {
   "cell_type": "code",
   "execution_count": 36,
   "id": "6ed24836-eb8d-4647-8ef3-f89d823fcaf1",
   "metadata": {},
   "outputs": [
    {
     "data": {
      "text/plain": [
       "42"
      ]
     },
     "execution_count": 36,
     "metadata": {},
     "output_type": "execute_result"
    }
   ],
   "source": [
    "key_name = 'age'\n",
    "getattr(d1, key_name)"
   ]
  },
  {
   "cell_type": "markdown",
   "id": "41abb8f8-b795-467a-9bb5-423cced5f02c",
   "metadata": {},
   "source": [
    "The dictionary has a `get` method that can specify a default value to return if the key does not exist"
   ]
  },
  {
   "cell_type": "code",
   "execution_count": 38,
   "id": "d223cdf0-c723-4b24-ad5f-01b851bdb6a6",
   "metadata": {},
   "outputs": [
    {
     "data": {
      "text/plain": [
       "(42, None)"
      ]
     },
     "execution_count": 38,
     "metadata": {},
     "output_type": "execute_result"
    }
   ],
   "source": [
    "data_dict.get('age', None), data_dict.get('invalid_key', None)"
   ]
  },
  {
   "cell_type": "markdown",
   "id": "b4e4441f-dc3c-409c-a784-534680700fc8",
   "metadata": {},
   "source": [
    "The same can be done with the `getattr` function:"
   ]
  },
  {
   "cell_type": "code",
   "execution_count": 39,
   "id": "37133ac6-a866-495c-bc64-00ae45e3ec01",
   "metadata": {},
   "outputs": [
    {
     "data": {
      "text/plain": [
       "(42, None)"
      ]
     },
     "execution_count": 39,
     "metadata": {},
     "output_type": "execute_result"
    }
   ],
   "source": [
    "getattr(d1, 'age', None), getattr(d1, 'invalid_field', None)"
   ]
  },
  {
   "cell_type": "markdown",
   "id": "5131b747-efda-4d4a-b073-309236864408",
   "metadata": {},
   "source": [
    "Now this is not very useful if you are only working with a single instance of a dictionary that has the same set of keys.\n",
    "\n",
    "You do not want to create a new named tuple for every instance of a dictionary that would be way too much overhead.\n",
    "\n",
    "But in cases where you have a collection of dictionaries that share a common set of keys, this can be very useful. As long as you are willing to live with the fact that you now have immutable structures."
   ]
  },
  {
   "cell_type": "markdown",
   "id": "c5b23347-663a-4549-9738-48d6bc0aa32e",
   "metadata": {},
   "source": [
    "Let's suppose we have this data list:"
   ]
  },
  {
   "cell_type": "code",
   "execution_count": 40,
   "id": "9bd18ec9-5795-41fe-a88f-39d057d38f1f",
   "metadata": {},
   "outputs": [],
   "source": [
    "data_list = [\n",
    "    {'key1': 1, 'key2': 2},\n",
    "    {'key1': 3, 'key2': 4},\n",
    "    {'key1': 5, 'key2': 6, 'key3': 7},\n",
    "    {'key2': 100}\n",
    "]"
   ]
  },
  {
   "cell_type": "code",
   "execution_count": 41,
   "id": "0c2b1556-a52f-49bd-a035-fbb51f2938a6",
   "metadata": {},
   "outputs": [
    {
     "data": {
      "text/plain": [
       "[{'key1': 1, 'key2': 2},\n",
       " {'key1': 3, 'key2': 4},\n",
       " {'key1': 5, 'key2': 6, 'key3': 7},\n",
       " {'key2': 100}]"
      ]
     },
     "execution_count": 41,
     "metadata": {},
     "output_type": "execute_result"
    }
   ],
   "source": [
    "data_list"
   ]
  },
  {
   "cell_type": "markdown",
   "id": "1b174663-5346-44b8-9325-1cbdce4443a7",
   "metadata": {},
   "source": [
    "First we need to figure out all the possible keys that have been used in the dictionaries in this list.\n",
    "\n",
    "The easiest way to do this is to extract all the keys of all the dictionaries and then make a `set out of them, to eliminate duplicate key name:\n",
    "\n",
    "We could do it this way, using a simple loop:"
   ]
  },
  {
   "cell_type": "code",
   "execution_count": 43,
   "id": "1b024312-7e24-445a-8ea4-9cc220751258",
   "metadata": {},
   "outputs": [],
   "source": [
    "keys = set()\n",
    "for d in data_list:\n",
    "    for key in d.keys():\n",
    "        # print(key)\n",
    "        keys.add(key)"
   ]
  },
  {
   "cell_type": "code",
   "execution_count": 46,
   "id": "79d17e01-2c49-4b74-8d68-c1d23bdb8f56",
   "metadata": {},
   "outputs": [
    {
     "data": {
      "text/plain": [
       "{'key1', 'key2', 'key3'}"
      ]
     },
     "execution_count": 46,
     "metadata": {},
     "output_type": "execute_result"
    }
   ],
   "source": [
    "keys"
   ]
  },
  {
   "cell_type": "markdown",
   "id": "ec86f120-a7ff-47cc-9b82-b18924a64c3f",
   "metadata": {},
   "source": [
    "A more efficient way would be to use a comprehension:"
   ]
  },
  {
   "cell_type": "code",
   "execution_count": 60,
   "id": "c52d6fd2-5d69-4b1c-b20c-db841e1bb6e7",
   "metadata": {},
   "outputs": [],
   "source": [
    "keys = set().union(*(dict_.keys() for dict_ in data_list))"
   ]
  },
  {
   "cell_type": "code",
   "execution_count": 61,
   "id": "ffd38cad-f5cd-4a09-b07e-a4859445a59c",
   "metadata": {},
   "outputs": [
    {
     "data": {
      "text/plain": [
       "{'key1', 'key2', 'key3'}"
      ]
     },
     "execution_count": 61,
     "metadata": {},
     "output_type": "execute_result"
    }
   ],
   "source": [
    "keys"
   ]
  },
  {
   "cell_type": "code",
   "execution_count": null,
   "id": "54e31298-8df9-4c50-adfd-19a9d0a4ce54",
   "metadata": {},
   "outputs": [],
   "source": []
  },
  {
   "cell_type": "markdown",
   "id": "1f29232e-f61b-458e-9de0-c9c07f0fa31b",
   "metadata": {},
   "source": [
    "exploratory code"
   ]
  },
  {
   "cell_type": "code",
   "execution_count": 55,
   "id": "0e71478a-f4e5-46a7-a8b3-843964fd0c3b",
   "metadata": {},
   "outputs": [],
   "source": [
    "def func(*args):\n",
    "    print(*args)\n"
   ]
  },
  {
   "cell_type": "code",
   "execution_count": 56,
   "id": "234591ea-b0e2-4fc9-9b84-03ad048061d9",
   "metadata": {},
   "outputs": [
    {
     "name": "stdout",
     "output_type": "stream",
     "text": [
      "1 2 3\n"
     ]
    }
   ],
   "source": [
    "func(1, 2, 3)"
   ]
  },
  {
   "cell_type": "code",
   "execution_count": 59,
   "id": "16a8fc21-fe59-46af-bc3b-c5ad2f5e576a",
   "metadata": {},
   "outputs": [
    {
     "name": "stdout",
     "output_type": "stream",
     "text": [
      "dict_keys(['key1', 'key2']) dict_keys(['key1', 'key2']) dict_keys(['key1', 'key2', 'key3']) dict_keys(['key2'])\n"
     ]
    }
   ],
   "source": [
    "func(*(dict_.keys() for dict_ in data_list))"
   ]
  },
  {
   "cell_type": "code",
   "execution_count": null,
   "id": "aac8d81c-2ea7-4962-9806-ffc05940cbe4",
   "metadata": {},
   "outputs": [],
   "source": []
  },
  {
   "cell_type": "markdown",
   "id": "8e6b1786-afbd-4e4d-a5f4-f888a288b446",
   "metadata": {},
   "source": [
    "Now we can create a named tuple with the keys as fields:"
   ]
  },
  {
   "cell_type": "code",
   "execution_count": 62,
   "id": "315bb60d-a84a-4a2f-98e8-5fd7bf04b192",
   "metadata": {},
   "outputs": [],
   "source": [
    "Struct = namedtuple('Struct', keys)"
   ]
  },
  {
   "cell_type": "code",
   "execution_count": 64,
   "id": "5120fef3-45aa-49ff-98b2-56947cf128e6",
   "metadata": {},
   "outputs": [
    {
     "data": {
      "text/plain": [
       "('key2', 'key3', 'key1')"
      ]
     },
     "execution_count": 64,
     "metadata": {},
     "output_type": "execute_result"
    }
   ],
   "source": [
    "Struct._fields"
   ]
  },
  {
   "cell_type": "markdown",
   "id": "5a560484-a085-4028-aecf-be2936cc1f2e",
   "metadata": {},
   "source": [
    "Sets do not preserve order, so we can create the named tuple with the keys sorted:"
   ]
  },
  {
   "cell_type": "code",
   "execution_count": 65,
   "id": "38342034-879a-478e-afb2-a7bfc81a58cd",
   "metadata": {},
   "outputs": [],
   "source": [
    "Struct = namedtuple('Struct', sorted(keys))"
   ]
  },
  {
   "cell_type": "code",
   "execution_count": 66,
   "id": "cc647336-ed43-46de-81fe-4fe285322105",
   "metadata": {},
   "outputs": [
    {
     "data": {
      "text/plain": [
       "('key1', 'key2', 'key3')"
      ]
     },
     "execution_count": 66,
     "metadata": {},
     "output_type": "execute_result"
    }
   ],
   "source": [
    "Struct._fields"
   ]
  },
  {
   "cell_type": "markdown",
   "id": "557ec9c2-fb2f-47e2-814d-e8316a15087c",
   "metadata": {},
   "source": [
    "We need to provide default values, since the dictionaries do not have all the keys.\n",
    "\n",
    "We'll set the default values to `None`."
   ]
  },
  {
   "cell_type": "code",
   "execution_count": 67,
   "id": "ebb2e930-9380-4755-aebb-6702e9863b18",
   "metadata": {},
   "outputs": [],
   "source": [
    "Struct.__new__.__defaults__ = (None,) * len(Struct._fields)"
   ]
  },
  {
   "cell_type": "code",
   "execution_count": 69,
   "id": "3a85f773-3cf4-46d4-bdca-01a151b9d2c2",
   "metadata": {
    "collapsed": true,
    "jupyter": {
     "outputs_hidden": true
    }
   },
   "outputs": [
    {
     "name": "stdout",
     "output_type": "stream",
     "text": [
      "Help on class Struct in module __main__:\n",
      "\n",
      "class Struct(builtins.tuple)\n",
      " |  Struct(key1=None, key2=None, key3=None)\n",
      " |\n",
      " |  Struct(key1, key2, key3)\n",
      " |\n",
      " |  Method resolution order:\n",
      " |      Struct\n",
      " |      builtins.tuple\n",
      " |      builtins.object\n",
      " |\n",
      " |  Methods defined here:\n",
      " |\n",
      " |  __getnewargs__(self) from collections.Struct\n",
      " |      Return self as a plain tuple.  Used by copy and pickle.\n",
      " |\n",
      " |  __replace__ = _replace(self, /, **kwds)\n",
      " |\n",
      " |  __repr__(self) from collections.Struct\n",
      " |      Return a nicely formatted representation string\n",
      " |\n",
      " |  _asdict(self) from collections.Struct\n",
      " |      Return a new dict which maps field names to their values.\n",
      " |\n",
      " |  _replace(self, /, **kwds) from collections.Struct\n",
      " |      Return a new Struct object replacing specified fields with new values\n",
      " |\n",
      " |  ----------------------------------------------------------------------\n",
      " |  Class methods defined here:\n",
      " |\n",
      " |  _make(iterable) from collections.Struct\n",
      " |      Make a new Struct object from a sequence or iterable\n",
      " |\n",
      " |  ----------------------------------------------------------------------\n",
      " |  Static methods defined here:\n",
      " |\n",
      " |  __new__(_cls, key1=None, key2=None, key3=None) from namedtuple_Struct.Struct\n",
      " |      Create new instance of Struct(key1, key2, key3)\n",
      " |\n",
      " |  ----------------------------------------------------------------------\n",
      " |  Data descriptors defined here:\n",
      " |\n",
      " |  key1\n",
      " |      Alias for field number 0\n",
      " |\n",
      " |  key2\n",
      " |      Alias for field number 1\n",
      " |\n",
      " |  key3\n",
      " |      Alias for field number 2\n",
      " |\n",
      " |  ----------------------------------------------------------------------\n",
      " |  Data and other attributes defined here:\n",
      " |\n",
      " |  __match_args__ = ('key1', 'key2', 'key3')\n",
      " |\n",
      " |  _field_defaults = {}\n",
      " |\n",
      " |  _fields = ('key1', 'key2', 'key3')\n",
      " |\n",
      " |  ----------------------------------------------------------------------\n",
      " |  Methods inherited from builtins.tuple:\n",
      " |\n",
      " |  __add__(self, value, /)\n",
      " |      Return self+value.\n",
      " |\n",
      " |  __contains__(self, key, /)\n",
      " |      Return bool(key in self).\n",
      " |\n",
      " |  __eq__(self, value, /)\n",
      " |      Return self==value.\n",
      " |\n",
      " |  __ge__(self, value, /)\n",
      " |      Return self>=value.\n",
      " |\n",
      " |  __getattribute__(self, name, /)\n",
      " |      Return getattr(self, name).\n",
      " |\n",
      " |  __getitem__(self, key, /)\n",
      " |      Return self[key].\n",
      " |\n",
      " |  __gt__(self, value, /)\n",
      " |      Return self>value.\n",
      " |\n",
      " |  __hash__(self, /)\n",
      " |      Return hash(self).\n",
      " |\n",
      " |  __iter__(self, /)\n",
      " |      Implement iter(self).\n",
      " |\n",
      " |  __le__(self, value, /)\n",
      " |      Return self<=value.\n",
      " |\n",
      " |  __len__(self, /)\n",
      " |      Return len(self).\n",
      " |\n",
      " |  __lt__(self, value, /)\n",
      " |      Return self<value.\n",
      " |\n",
      " |  __mul__(self, value, /)\n",
      " |      Return self*value.\n",
      " |\n",
      " |  __ne__(self, value, /)\n",
      " |      Return self!=value.\n",
      " |\n",
      " |  __rmul__(self, value, /)\n",
      " |      Return value*self.\n",
      " |\n",
      " |  count(self, value, /)\n",
      " |      Return number of occurrences of value.\n",
      " |\n",
      " |  index(self, value, start=0, stop=9223372036854775807, /)\n",
      " |      Return first index of value.\n",
      " |\n",
      " |      Raises ValueError if the value is not present.\n",
      " |\n",
      " |  ----------------------------------------------------------------------\n",
      " |  Class methods inherited from builtins.tuple:\n",
      " |\n",
      " |  __class_getitem__(object, /)\n",
      " |      See PEP 585\n",
      "\n"
     ]
    }
   ],
   "source": [
    "help(Struct)"
   ]
  },
  {
   "cell_type": "code",
   "execution_count": 73,
   "id": "ec3489f7-89e6-45b1-a124-27ec0ace86f9",
   "metadata": {},
   "outputs": [
    {
     "data": {
      "text/plain": [
       "[{'key1': 1, 'key2': 2},\n",
       " {'key1': 3, 'key2': 4},\n",
       " {'key1': 5, 'key2': 6, 'key3': 7},\n",
       " {'key2': 100}]"
      ]
     },
     "execution_count": 73,
     "metadata": {},
     "output_type": "execute_result"
    }
   ],
   "source": [
    "data_list"
   ]
  },
  {
   "cell_type": "code",
   "execution_count": 74,
   "id": "efb71139-d716-48a6-95ba-d5bbd2d6993e",
   "metadata": {},
   "outputs": [],
   "source": [
    "tuple_list = [Struct(**dict_) for dict_ in data_list]"
   ]
  },
  {
   "cell_type": "code",
   "execution_count": 75,
   "id": "bba7b98b-cc26-4b2e-b8f9-e6278a958036",
   "metadata": {},
   "outputs": [
    {
     "data": {
      "text/plain": [
       "[Struct(key1=1, key2=2, key3=None),\n",
       " Struct(key1=3, key2=4, key3=None),\n",
       " Struct(key1=5, key2=6, key3=7),\n",
       " Struct(key1=None, key2=100, key3=None)]"
      ]
     },
     "execution_count": 75,
     "metadata": {},
     "output_type": "execute_result"
    }
   ],
   "source": [
    "tuple_list"
   ]
  },
  {
   "cell_type": "markdown",
   "id": "ed4c8801-c671-4373-8769-e88b4c55a220",
   "metadata": {},
   "source": [
    "Finally, package up the code in a function that takes an iterable of dictionaries, or an arbitrary number of dictionaries as positional arguments, and returns a list of named tuples:"
   ]
  },
  {
   "cell_type": "code",
   "execution_count": 81,
   "id": "4e6aa782-fc5f-438d-80ea-823cdff4515a",
   "metadata": {},
   "outputs": [],
   "source": [
    "def tuplify_dicts(dicts):\n",
    "    keys = {key for dict_ in dicts for key in dict_.keys()}\n",
    "    Struct = namedtuple('Struct', sorted(keys))\n",
    "    Struct.__new__.__defaults__ = (None,) * len(Struct._fields)\n",
    "    return [Struct(**dict_) for dict_ in dicts]"
   ]
  },
  {
   "cell_type": "code",
   "execution_count": 82,
   "id": "e2d3b558-6a66-4cff-b225-674bc77bb2d5",
   "metadata": {},
   "outputs": [
    {
     "data": {
      "text/plain": [
       "[Struct(key1=1, key2=2, key3=None),\n",
       " Struct(key1=3, key2=4, key3=None),\n",
       " Struct(key1=5, key2=6, key3=7),\n",
       " Struct(key1=None, key2=100, key3=None)]"
      ]
     },
     "execution_count": 82,
     "metadata": {},
     "output_type": "execute_result"
    }
   ],
   "source": [
    "tuplify_dicts(data_list)"
   ]
  },
  {
   "cell_type": "markdown",
   "id": "c1e49203-efe7-4800-ad15-a4d5e094f9e5",
   "metadata": {},
   "source": [
    "Note, this is great code.\n",
    "\n",
    "Will be useful in **many situations!**"
   ]
  },
  {
   "cell_type": "code",
   "execution_count": null,
   "id": "fec25dee-e662-4462-b257-8b6f6276065c",
   "metadata": {},
   "outputs": [],
   "source": []
  },
  {
   "cell_type": "code",
   "execution_count": null,
   "id": "25ad6c26-3b43-481a-8b4a-d2be8f32114d",
   "metadata": {},
   "outputs": [],
   "source": []
  }
 ],
 "metadata": {
  "kernelspec": {
   "display_name": "Python 3 (ipykernel)",
   "language": "python",
   "name": "python3"
  },
  "language_info": {
   "codemirror_mode": {
    "name": "ipython",
    "version": 3
   },
   "file_extension": ".py",
   "mimetype": "text/x-python",
   "name": "python",
   "nbconvert_exporter": "python",
   "pygments_lexer": "ipython3",
   "version": "3.13.1"
  }
 },
 "nbformat": 4,
 "nbformat_minor": 5
}
