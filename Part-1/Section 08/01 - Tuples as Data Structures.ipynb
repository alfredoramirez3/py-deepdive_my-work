{
 "cells": [
  {
   "cell_type": "markdown",
   "id": "eb22ca79-6bcb-439b-91de-2fd247ad6a31",
   "metadata": {},
   "source": [
    "## Tuples as Data Structures"
   ]
  },
  {
   "cell_type": "code",
   "execution_count": 1,
   "id": "d0509df2-0da9-49dc-823c-ab15b85cad97",
   "metadata": {},
   "outputs": [
    {
     "data": {
      "text/plain": [
       "Ellipsis"
      ]
     },
     "execution_count": 1,
     "metadata": {},
     "output_type": "execute_result"
    }
   ],
   "source": [
    "..."
   ]
  },
  {
   "cell_type": "code",
   "execution_count": 2,
   "id": "559b75ae-5e81-4ebf-8f63-e6a4a8828267",
   "metadata": {},
   "outputs": [],
   "source": [
    "a = 'a', 10, 20"
   ]
  },
  {
   "cell_type": "code",
   "execution_count": 5,
   "id": "ff35b60b-282d-4857-8fd1-5d1b095da308",
   "metadata": {},
   "outputs": [],
   "source": [
    "x, y, z = a"
   ]
  },
  {
   "cell_type": "code",
   "execution_count": 6,
   "id": "d9e19554-e27c-4958-89d3-895fe7e66582",
   "metadata": {},
   "outputs": [
    {
     "data": {
      "text/plain": [
       "'a'"
      ]
     },
     "execution_count": 6,
     "metadata": {},
     "output_type": "execute_result"
    }
   ],
   "source": [
    "x"
   ]
  },
  {
   "cell_type": "code",
   "execution_count": 7,
   "id": "fc20c59b-2c14-4882-9fd5-1a3965b3d743",
   "metadata": {},
   "outputs": [],
   "source": [
    "b = 10, 20, 30, 40, 50, 60"
   ]
  },
  {
   "cell_type": "code",
   "execution_count": 8,
   "id": "867d0de5-d9c6-43ec-89f8-3f8ed282064e",
   "metadata": {},
   "outputs": [],
   "source": [
    "f, *_, l = b"
   ]
  },
  {
   "cell_type": "code",
   "execution_count": 9,
   "id": "5b686a27-18ff-4620-bd89-72be7db34c86",
   "metadata": {},
   "outputs": [
    {
     "data": {
      "text/plain": [
       "10"
      ]
     },
     "execution_count": 9,
     "metadata": {},
     "output_type": "execute_result"
    }
   ],
   "source": [
    "f"
   ]
  },
  {
   "cell_type": "code",
   "execution_count": 10,
   "id": "ab23722a-8fc6-48fc-8b15-98c786a0c895",
   "metadata": {},
   "outputs": [
    {
     "data": {
      "text/plain": [
       "60"
      ]
     },
     "execution_count": 10,
     "metadata": {},
     "output_type": "execute_result"
    }
   ],
   "source": [
    "l"
   ]
  },
  {
   "cell_type": "code",
   "execution_count": 11,
   "id": "7a5a27a1-1c13-4abc-87f2-d5e1e61308a8",
   "metadata": {},
   "outputs": [],
   "source": [
    "london = 'London', 'UK', 8_780_000\n",
    "new_york = 'New York', 'USA', 8_500_000\n",
    "beijing = 'Beijing', 'Chiina', 21_000_000"
   ]
  },
  {
   "cell_type": "code",
   "execution_count": 12,
   "id": "bccdf8cf-84b8-45d8-b831-cebe3398cd16",
   "metadata": {},
   "outputs": [],
   "source": [
    "cities = [london, new_york, beijing]"
   ]
  },
  {
   "cell_type": "code",
   "execution_count": 13,
   "id": "a3a4de62-4d52-475d-93c3-eb74a3824486",
   "metadata": {},
   "outputs": [
    {
     "name": "stdout",
     "output_type": "stream",
     "text": [
      "38280000\n"
     ]
    }
   ],
   "source": [
    "total = 0\n",
    "for city in cities:\n",
    "    total += city[2]\n",
    "print(total)"
   ]
  },
  {
   "cell_type": "code",
   "execution_count": 14,
   "id": "1b97abff-17ec-4ddf-b4d6-7196988fa444",
   "metadata": {},
   "outputs": [
    {
     "data": {
      "text/plain": [
       "38280000"
      ]
     },
     "execution_count": 14,
     "metadata": {},
     "output_type": "execute_result"
    }
   ],
   "source": [
    "sum([city[2] for city in cities])"
   ]
  },
  {
   "cell_type": "code",
   "execution_count": 17,
   "id": "4ac56036-9e33-46d5-bb1f-65c914d65d34",
   "metadata": {},
   "outputs": [
    {
     "data": {
      "text/plain": [
       "38280000"
      ]
     },
     "execution_count": 17,
     "metadata": {},
     "output_type": "execute_result"
    }
   ],
   "source": [
    "sum(city[2] for city in cities)"
   ]
  },
  {
   "cell_type": "code",
   "execution_count": 20,
   "id": "97ddb4eb-c21c-4a2a-b4c4-e120b8cc86da",
   "metadata": {},
   "outputs": [],
   "source": [
    "record = 'DJIA', 2018, 1, 19, 25_987, 26_072, 25_942, 26_072"
   ]
  },
  {
   "cell_type": "code",
   "execution_count": 23,
   "id": "5ec76f3a-fb1c-44fb-abb1-f78785af75c5",
   "metadata": {},
   "outputs": [],
   "source": [
    "symbol, year, month, day, open_, high, low, close = record"
   ]
  },
  {
   "cell_type": "code",
   "execution_count": 24,
   "id": "e83e7cbd-0115-4b8b-a49d-04c7afc93f78",
   "metadata": {},
   "outputs": [
    {
     "data": {
      "text/plain": [
       "25987"
      ]
     },
     "execution_count": 24,
     "metadata": {},
     "output_type": "execute_result"
    }
   ],
   "source": [
    "open_"
   ]
  },
  {
   "cell_type": "code",
   "execution_count": 26,
   "id": "eb596297-1f7b-4357-8a3a-5b2079b2f83d",
   "metadata": {},
   "outputs": [],
   "source": [
    "symbol, *_, close_ = record"
   ]
  },
  {
   "cell_type": "code",
   "execution_count": 27,
   "id": "1ab6cd02-e466-41da-8896-52fa0048230e",
   "metadata": {},
   "outputs": [
    {
     "data": {
      "text/plain": [
       "('DJIA', 26072)"
      ]
     },
     "execution_count": 27,
     "metadata": {},
     "output_type": "execute_result"
    }
   ],
   "source": [
    "symbol, close_"
   ]
  },
  {
   "cell_type": "code",
   "execution_count": null,
   "id": "8089ef18-98a6-43d7-bd32-91697480d662",
   "metadata": {},
   "outputs": [],
   "source": []
  }
 ],
 "metadata": {
  "kernelspec": {
   "display_name": "Python 3 (ipykernel)",
   "language": "python",
   "name": "python3"
  },
  "language_info": {
   "codemirror_mode": {
    "name": "ipython",
    "version": 3
   },
   "file_extension": ".py",
   "mimetype": "text/x-python",
   "name": "python",
   "nbconvert_exporter": "python",
   "pygments_lexer": "ipython3",
   "version": "3.13.1"
  }
 },
 "nbformat": 4,
 "nbformat_minor": 5
}
