{
 "cells": [
  {
   "cell_type": "markdown",
   "id": "d183d67b-44d7-4beb-a15b-607c5a1addc9",
   "metadata": {},
   "source": [
    "### my functions"
   ]
  },
  {
   "cell_type": "code",
   "execution_count": 11,
   "id": "51b08959-5ae5-4e2a-b94d-40eb3da5cbb3",
   "metadata": {},
   "outputs": [],
   "source": [
    "def get_symbol_info(symbol):\n",
    "    \"\"\"\n",
    "    # Example usage:\n",
    "    my_var = 42\n",
    "\n",
    "    # Output: ['my_var']\n",
    "    print(get_variable_info(42)) \n",
    "    \"\"\"\n",
    "    names = []\n",
    "    i = 0\n",
    "    for name, value in globals().items():\n",
    "        if value == symbol and not name.startswith(\"_\"):\n",
    "            # item = (name, value, id(name))\n",
    "            item = {'i': i, 'symbol': name, 'value': value, 'id': id(name)}\n",
    "            names.append(item)\n",
    "            i+=1\n",
    "    return names\n"
   ]
  },
  {
   "cell_type": "code",
   "execution_count": 12,
   "id": "f6216a39-9397-461f-bce0-f3d86c51f05d",
   "metadata": {},
   "outputs": [],
   "source": [
    "def print_globals():    \n",
    "    g = globals()\n",
    "    for i, item in enumerate(g):\n",
    "        # print(f'{i}: item:{item}')\n",
    "        try:\n",
    "            print(f'{i}: \"symbol\":{item[0]}, \"value\":{item[1]}, \"id\":{id(item[0])}')\n",
    "        except IndexError:\n",
    "            print(f'{i}: \"symbol\":{item[0]}, id\":{id(item[0])}')\n"
   ]
  },
  {
   "cell_type": "markdown",
   "id": "65de9c1a-c6b4-41a0-86dd-e9dfaadf358e",
   "metadata": {},
   "source": [
    "### code along"
   ]
  },
  {
   "cell_type": "markdown",
   "id": "48fff478-1247-499a-b926-e9b6f9260b2e",
   "metadata": {},
   "source": [
    "### What is a Module?"
   ]
  },
  {
   "cell_type": "code",
   "execution_count": null,
   "id": "f7f47664-d6c8-4e81-8fdd-de6d9debcd74",
   "metadata": {},
   "outputs": [],
   "source": [
    "print_globals()"
   ]
  },
  {
   "cell_type": "code",
   "execution_count": null,
   "id": "700537e0-2e3f-4cf9-922b-f7951375ee72",
   "metadata": {},
   "outputs": [],
   "source": [
    "def func():\n",
    "    a = 10\n",
    "    return a"
   ]
  },
  {
   "cell_type": "code",
   "execution_count": null,
   "id": "523a10f0-bb6f-4add-afc3-24b72de6f339",
   "metadata": {},
   "outputs": [],
   "source": [
    "func"
   ]
  },
  {
   "cell_type": "code",
   "execution_count": null,
   "id": "94282e02-aaad-488b-97dc-ed1364888d38",
   "metadata": {},
   "outputs": [],
   "source": [
    "id(func)"
   ]
  },
  {
   "cell_type": "code",
   "execution_count": null,
   "id": "91babbe6-a033-44fa-9443-0e654ed64337",
   "metadata": {},
   "outputs": [],
   "source": [
    "get_symbol_info(func)"
   ]
  },
  {
   "cell_type": "code",
   "execution_count": null,
   "id": "8b4edd19-1d8b-4441-a478-02eada239438",
   "metadata": {},
   "outputs": [],
   "source": [
    "print_globals()"
   ]
  },
  {
   "cell_type": "code",
   "execution_count": null,
   "id": "c01f81cd-21ea-4004-bf9d-452a99f2ffb8",
   "metadata": {},
   "outputs": [],
   "source": [
    "globals()"
   ]
  },
  {
   "cell_type": "code",
   "execution_count": null,
   "id": "df76912b-7bc8-4bed-9d16-1cce77377ecb",
   "metadata": {},
   "outputs": [],
   "source": [
    "print(len(globals()))\n",
    "g = globals()\n",
    "# print(len(g))\n",
    "# g\n",
    "\n",
    "for i, item in enumerate(g.items()):\n",
    "    print(i, item, '\\n')"
   ]
  },
  {
   "cell_type": "code",
   "execution_count": null,
   "id": "c0197a43-d0c2-4e8d-89da-3b173a2ece8f",
   "metadata": {},
   "outputs": [],
   "source": []
  },
  {
   "cell_type": "code",
   "execution_count": null,
   "id": "63f7687d-a86d-409f-8ae5-a07aa0fab9ec",
   "metadata": {},
   "outputs": [],
   "source": []
  },
  {
   "cell_type": "code",
   "execution_count": null,
   "id": "f67938d6-a03c-4a5d-89b2-4949ebdb1786",
   "metadata": {},
   "outputs": [],
   "source": []
  },
  {
   "cell_type": "code",
   "execution_count": 2,
   "id": "2221cafa-6daa-4682-8f28-e1201b7ce5fd",
   "metadata": {},
   "outputs": [],
   "source": [
    "import math"
   ]
  },
  {
   "cell_type": "code",
   "execution_count": 3,
   "id": "94234fd0-d63a-41d3-9ac5-e2ad1c5ae686",
   "metadata": {},
   "outputs": [
    {
     "data": {
      "text/plain": [
       "<module 'math' (built-in)>"
      ]
     },
     "execution_count": 3,
     "metadata": {},
     "output_type": "execute_result"
    }
   ],
   "source": [
    "math"
   ]
  },
  {
   "cell_type": "code",
   "execution_count": 4,
   "id": "f855236a-2f4a-4868-a10d-63b2883c91ea",
   "metadata": {},
   "outputs": [],
   "source": [
    "import fractions"
   ]
  },
  {
   "cell_type": "code",
   "execution_count": 5,
   "id": "624f3b1b-d3f5-4648-aff7-86282f30230a",
   "metadata": {},
   "outputs": [
    {
     "data": {
      "text/plain": [
       "<module 'fractions' from '/home/ar3/.local/share/uv/python/cpython-3.13.1-linux-x86_64-gnu/lib/python3.13/fractions.py'>"
      ]
     },
     "execution_count": 5,
     "metadata": {},
     "output_type": "execute_result"
    }
   ],
   "source": [
    "fractions"
   ]
  },
  {
   "cell_type": "code",
   "execution_count": 6,
   "id": "c10edd98-4d29-460a-b233-595e1d527b38",
   "metadata": {},
   "outputs": [],
   "source": [
    "junk = math"
   ]
  },
  {
   "cell_type": "code",
   "execution_count": 7,
   "id": "d9a5b431-0752-4648-9c61-4646b49151be",
   "metadata": {},
   "outputs": [
    {
     "data": {
      "text/plain": [
       "1.4142135623730951"
      ]
     },
     "execution_count": 7,
     "metadata": {},
     "output_type": "execute_result"
    }
   ],
   "source": [
    "junk.sqrt(2)"
   ]
  },
  {
   "cell_type": "code",
   "execution_count": 8,
   "id": "ce020309-2508-409d-9fd2-3ea6084601ae",
   "metadata": {},
   "outputs": [
    {
     "data": {
      "text/plain": [
       "True"
      ]
     },
     "execution_count": 8,
     "metadata": {},
     "output_type": "execute_result"
    }
   ],
   "source": [
    "junk is math"
   ]
  },
  {
   "cell_type": "code",
   "execution_count": 9,
   "id": "6463f913-6d9f-4204-a316-11aa37bc6927",
   "metadata": {
    "scrolled": true
   },
   "outputs": [
    {
     "data": {
      "text/plain": [
       "{'__name__': '__main__',\n",
       " '__doc__': 'Automatically created module for IPython interactive environment',\n",
       " '__package__': None,\n",
       " '__loader__': None,\n",
       " '__spec__': None,\n",
       " '__builtin__': <module 'builtins' (built-in)>,\n",
       " '__builtins__': <module 'builtins' (built-in)>,\n",
       " '_ih': ['',\n",
       "  'import math',\n",
       "  'import math',\n",
       "  'math',\n",
       "  'import fractions',\n",
       "  'fractions',\n",
       "  'junk = math',\n",
       "  'junk.sqrt(2)',\n",
       "  'junk is math',\n",
       "  'globals()'],\n",
       " '_oh': {3: <module 'math' (built-in)>,\n",
       "  5: <module 'fractions' from '/home/ar3/.local/share/uv/python/cpython-3.13.1-linux-x86_64-gnu/lib/python3.13/fractions.py'>,\n",
       "  7: 1.4142135623730951,\n",
       "  8: True},\n",
       " '_dh': [PosixPath('/home/ar3/projs/udemy/udemy_python-deepdive/udemy-my_work/part-1')],\n",
       " 'In': ['',\n",
       "  'import math',\n",
       "  'import math',\n",
       "  'math',\n",
       "  'import fractions',\n",
       "  'fractions',\n",
       "  'junk = math',\n",
       "  'junk.sqrt(2)',\n",
       "  'junk is math',\n",
       "  'globals()'],\n",
       " 'Out': {3: <module 'math' (built-in)>,\n",
       "  5: <module 'fractions' from '/home/ar3/.local/share/uv/python/cpython-3.13.1-linux-x86_64-gnu/lib/python3.13/fractions.py'>,\n",
       "  7: 1.4142135623730951,\n",
       "  8: True},\n",
       " 'get_ipython': <bound method InteractiveShell.get_ipython of <ipykernel.zmqshell.ZMQInteractiveShell object at 0x7f46e45a9940>>,\n",
       " 'exit': <IPython.core.autocall.ZMQExitAutocall at 0x7f46e43d9a90>,\n",
       " 'quit': <IPython.core.autocall.ZMQExitAutocall at 0x7f46e43d9a90>,\n",
       " 'open': <function _io.open(file, mode='r', buffering=-1, encoding=None, errors=None, newline=None, closefd=True, opener=None)>,\n",
       " '_': True,\n",
       " '__': 1.4142135623730951,\n",
       " '___': <module 'fractions' from '/home/ar3/.local/share/uv/python/cpython-3.13.1-linux-x86_64-gnu/lib/python3.13/fractions.py'>,\n",
       " '__session__': '/home/ar3/projs/udemy/udemy_python-deepdive/udemy-my_work/part-1/part-1_sec-9_01_what-is-a-module.ipynb',\n",
       " '_i': 'junk is math',\n",
       " '_ii': 'junk.sqrt(2)',\n",
       " '_iii': 'junk = math',\n",
       " '_i1': 'import math',\n",
       " 'math': <module 'math' (built-in)>,\n",
       " '_i2': 'import math',\n",
       " '_i3': 'math',\n",
       " '_3': <module 'math' (built-in)>,\n",
       " '_i4': 'import fractions',\n",
       " 'fractions': <module 'fractions' from '/home/ar3/.local/share/uv/python/cpython-3.13.1-linux-x86_64-gnu/lib/python3.13/fractions.py'>,\n",
       " '_i5': 'fractions',\n",
       " '_5': <module 'fractions' from '/home/ar3/.local/share/uv/python/cpython-3.13.1-linux-x86_64-gnu/lib/python3.13/fractions.py'>,\n",
       " '_i6': 'junk = math',\n",
       " 'junk': <module 'math' (built-in)>,\n",
       " '_i7': 'junk.sqrt(2)',\n",
       " '_7': 1.4142135623730951,\n",
       " '_i8': 'junk is math',\n",
       " '_8': True,\n",
       " '_i9': 'globals()'}"
      ]
     },
     "execution_count": 9,
     "metadata": {},
     "output_type": "execute_result"
    }
   ],
   "source": [
    "globals()"
   ]
  },
  {
   "cell_type": "code",
   "execution_count": 13,
   "id": "2b0f3242-4840-4b05-b927-8378325a8887",
   "metadata": {},
   "outputs": [
    {
     "data": {
      "text/plain": [
       "[{'i': 0,\n",
       "  'symbol': 'math',\n",
       "  'value': <module 'math' (built-in)>,\n",
       "  'id': 139942565681728},\n",
       " {'i': 1,\n",
       "  'symbol': 'junk',\n",
       "  'value': <module 'math' (built-in)>,\n",
       "  'id': 139942541048928}]"
      ]
     },
     "execution_count": 13,
     "metadata": {},
     "output_type": "execute_result"
    }
   ],
   "source": [
    "get_symbol_info(junk)"
   ]
  },
  {
   "cell_type": "code",
   "execution_count": 14,
   "id": "11065a85-b31f-47d5-bc07-4c3a3736536e",
   "metadata": {},
   "outputs": [
    {
     "data": {
      "text/plain": [
       "<module 'math' (built-in)>"
      ]
     },
     "execution_count": 14,
     "metadata": {},
     "output_type": "execute_result"
    }
   ],
   "source": [
    "globals()['math']"
   ]
  },
  {
   "cell_type": "code",
   "execution_count": 15,
   "id": "294ef0bd-7c16-49cc-8413-5c9d23ef44e8",
   "metadata": {},
   "outputs": [],
   "source": [
    "mod_math = globals()['math']"
   ]
  },
  {
   "cell_type": "code",
   "execution_count": 16,
   "id": "0f363354-0d66-44af-8fbb-03b96298516f",
   "metadata": {},
   "outputs": [
    {
     "data": {
      "text/plain": [
       "1.4142135623730951"
      ]
     },
     "execution_count": 16,
     "metadata": {},
     "output_type": "execute_result"
    }
   ],
   "source": [
    "mod_math.sqrt(2)"
   ]
  },
  {
   "cell_type": "code",
   "execution_count": null,
   "id": "ef4fb6d0-1b4a-4846-8840-580887df9f4e",
   "metadata": {},
   "outputs": [],
   "source": [
    "import sys"
   ]
  },
  {
   "cell_type": "code",
   "execution_count": null,
   "id": "e445be49-0fe3-4506-bab0-76f9f57599ef",
   "metadata": {},
   "outputs": [],
   "source": [
    "sys.modules"
   ]
  },
  {
   "cell_type": "code",
   "execution_count": null,
   "id": "372cfb2b-73b3-4f24-973a-912d477bec8e",
   "metadata": {},
   "outputs": [],
   "source": [
    "type(sys.modules)"
   ]
  },
  {
   "cell_type": "code",
   "execution_count": null,
   "id": "24b889a2-7da8-4b1e-9561-87247168186f",
   "metadata": {},
   "outputs": [],
   "source": [
    "id(math)"
   ]
  },
  {
   "cell_type": "code",
   "execution_count": null,
   "id": "a8fab4f4-1c31-4efe-85a4-e3a4397e80da",
   "metadata": {},
   "outputs": [],
   "source": [
    "id(sys.modules['math'])"
   ]
  },
  {
   "cell_type": "code",
   "execution_count": null,
   "id": "058d64fa-6b6d-4e6d-ad3d-ac21d1de9288",
   "metadata": {},
   "outputs": [],
   "source": [
    "math.__name__"
   ]
  },
  {
   "cell_type": "code",
   "execution_count": null,
   "id": "6eb20d8d-58b1-4f24-97ef-d71cc8d17061",
   "metadata": {
    "scrolled": true
   },
   "outputs": [],
   "source": [
    "math.__dict__"
   ]
  },
  {
   "cell_type": "markdown",
   "id": "83596e64-6cdc-4118-af97-8d8abc06782c",
   "metadata": {},
   "source": []
  },
  {
   "cell_type": "code",
   "execution_count": null,
   "id": "602ce638-2613-4f28-8a8d-cb404fc57166",
   "metadata": {},
   "outputs": [],
   "source": [
    "import wat"
   ]
  },
  {
   "cell_type": "code",
   "execution_count": null,
   "id": "ae5352dc-3648-4e68-b8ed-555cc59299a3",
   "metadata": {},
   "outputs": [],
   "source": [
    "wat / math"
   ]
  },
  {
   "cell_type": "code",
   "execution_count": null,
   "id": "347de3f1-3caf-4190-bf40-4e8763888138",
   "metadata": {},
   "outputs": [],
   "source": []
  },
  {
   "cell_type": "code",
   "execution_count": null,
   "id": "02b45f3c-972e-4a5c-a3ab-28747f0bccab",
   "metadata": {},
   "outputs": [],
   "source": []
  }
 ],
 "metadata": {
  "kernelspec": {
   "display_name": "Python 3 (ipykernel)",
   "language": "python",
   "name": "python3"
  },
  "language_info": {
   "codemirror_mode": {
    "name": "ipython",
    "version": 3
   },
   "file_extension": ".py",
   "mimetype": "text/x-python",
   "name": "python",
   "nbconvert_exporter": "python",
   "pygments_lexer": "ipython3",
   "version": "3.13.1"
  }
 },
 "nbformat": 4,
 "nbformat_minor": 5
}
