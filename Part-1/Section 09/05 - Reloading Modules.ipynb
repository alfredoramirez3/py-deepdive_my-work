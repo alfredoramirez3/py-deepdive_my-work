{
 "cells": [
  {
   "cell_type": "markdown",
   "id": "d13ee346-200d-45df-89f6-76d54dde0dbc",
   "metadata": {},
   "source": [
    "## Reloading Modules"
   ]
  },
  {
   "cell_type": "code",
   "execution_count": null,
   "id": "aa3b57fb-dd1e-4658-8948-8c26a2f19155",
   "metadata": {},
   "outputs": [],
   "source": []
  }
 ],
 "metadata": {
  "kernelspec": {
   "display_name": "Python 3 (ipykernel)",
   "language": "python",
   "name": "python3"
  },
  "language_info": {
   "codemirror_mode": {
    "name": "ipython",
    "version": 3
   },
   "file_extension": ".py",
   "mimetype": "text/x-python",
   "name": "python",
   "nbconvert_exporter": "python",
   "pygments_lexer": "ipython3",
   "version": "3.13.1"
  }
 },
 "nbformat": 4,
 "nbformat_minor": 5
}
