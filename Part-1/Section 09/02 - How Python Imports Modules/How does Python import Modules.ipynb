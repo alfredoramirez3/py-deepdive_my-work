{
 "cells": [
  {
   "cell_type": "code",
   "execution_count": 1,
   "id": "98dc2f0f-1c32-4d43-a7a6-5ebc67f8f465",
   "metadata": {},
   "outputs": [],
   "source": [
    "import sys"
   ]
  },
  {
   "cell_type": "code",
   "execution_count": 2,
   "id": "5fb5383f-0dd4-4933-8b41-79eddc440707",
   "metadata": {},
   "outputs": [
    {
     "data": {
      "text/plain": [
       "'/home/ar3/.cache/uv/archive-v0/CupMv1r2gICX8CLLrn1Xl'"
      ]
     },
     "execution_count": 2,
     "metadata": {},
     "output_type": "execute_result"
    }
   ],
   "source": [
    "sys.prefix"
   ]
  },
  {
   "cell_type": "code",
   "execution_count": 3,
   "id": "02a477de-23e6-46db-b6a9-1c912dd59175",
   "metadata": {},
   "outputs": [
    {
     "data": {
      "text/plain": [
       "'/home/ar3/.cache/uv/archive-v0/CupMv1r2gICX8CLLrn1Xl'"
      ]
     },
     "execution_count": 3,
     "metadata": {},
     "output_type": "execute_result"
    }
   ],
   "source": [
    "sys.exec_prefix"
   ]
  },
  {
   "cell_type": "code",
   "execution_count": 4,
   "id": "2d8e90ac-69d4-4b24-9806-d995f9d2a266",
   "metadata": {},
   "outputs": [
    {
     "data": {
      "text/plain": [
       "['/home/ar3/.local/share/uv/python/cpython-3.13.1-linux-x86_64-gnu/lib/python313.zip',\n",
       " '/home/ar3/.local/share/uv/python/cpython-3.13.1-linux-x86_64-gnu/lib/python3.13',\n",
       " '/home/ar3/.local/share/uv/python/cpython-3.13.1-linux-x86_64-gnu/lib/python3.13/lib-dynload',\n",
       " '',\n",
       " '/home/ar3/.cache/uv/archive-v0/CupMv1r2gICX8CLLrn1Xl/lib/python3.13/site-packages',\n",
       " '/home/ar3/projects/learning/udemy/udemy_python-deepdive/udemy-my_work/.venv/lib/python3.13/site-packages']"
      ]
     },
     "execution_count": 4,
     "metadata": {},
     "output_type": "execute_result"
    }
   ],
   "source": [
    "sys.path"
   ]
  },
  {
   "cell_type": "code",
   "execution_count": null,
   "id": "6b7ffaad-6e9c-4a5d-baff-961df40aef01",
   "metadata": {},
   "outputs": [],
   "source": []
  }
 ],
 "metadata": {
  "kernelspec": {
   "display_name": "Python 3 (ipykernel)",
   "language": "python",
   "name": "python3"
  },
  "language_info": {
   "codemirror_mode": {
    "name": "ipython",
    "version": 3
   },
   "file_extension": ".py",
   "mimetype": "text/x-python",
   "name": "python",
   "nbconvert_exporter": "python",
   "pygments_lexer": "ipython3",
   "version": "3.13.1"
  }
 },
 "nbformat": 4,
 "nbformat_minor": 5
}
