{
 "cells": [
  {
   "cell_type": "markdown",
   "id": "f40d63fe-fae7-4296-bbc0-87c878976a30",
   "metadata": {},
   "source": [
    "### Decorator Application (Decorator Class)"
   ]
  },
  {
   "cell_type": "code",
   "execution_count": 9,
   "id": "61f37538-75c8-4b9a-b704-27b4e873cb2a",
   "metadata": {},
   "outputs": [],
   "source": [
    "# my imports\n",
    "import wat"
   ]
  },
  {
   "cell_type": "markdown",
   "id": "8c61c070-68fa-44b5-acf5-42893fa1d0d3",
   "metadata": {},
   "source": [
    "Function based Decorator."
   ]
  },
  {
   "cell_type": "code",
   "execution_count": 33,
   "id": "aaa90d6c-7f9e-48ff-90dd-0bda79aa44c1",
   "metadata": {},
   "outputs": [],
   "source": [
    "def dec_fac(a, b):\n",
    "    def dec(fn):\n",
    "        def inner(*args, **kwargs):\n",
    "            # a, b are nonlocal variables from dec_fac\n",
    "            print(f'decorated function call: a={a}, b={b}')\n",
    "            # fn is a nonlocal variable from dec\n",
    "            return fn(*args, **kwargs)\n",
    "        return inner\n",
    "    return dec\n",
    "    "
   ]
  },
  {
   "cell_type": "markdown",
   "id": "a2b51035-1e3a-47a0-bc49-408ae41d1a6c",
   "metadata": {},
   "source": [
    "Decorate with @"
   ]
  },
  {
   "cell_type": "code",
   "execution_count": 34,
   "id": "3c3022d2-544b-4185-b75f-7095f17870e0",
   "metadata": {},
   "outputs": [],
   "source": [
    "@dec_fac(10, 20)\n",
    "def my_func(s):\n",
    "    print(f'Hello {s}') "
   ]
  },
  {
   "cell_type": "code",
   "execution_count": 35,
   "id": "ce3b7607-d184-42e0-b46a-f514f413929a",
   "metadata": {},
   "outputs": [
    {
     "name": "stdout",
     "output_type": "stream",
     "text": [
      "decorated function call: a=10, b=20\n",
      "Hello World!\n"
     ]
    }
   ],
   "source": [
    "my_func('World!')"
   ]
  },
  {
   "cell_type": "code",
   "execution_count": 36,
   "id": "ff4eb4c7-06c5-42e3-9693-84170016f615",
   "metadata": {},
   "outputs": [
    {
     "name": "stdout",
     "output_type": "stream",
     "text": [
      "value: <function dec_fac.<locals>.dec.<locals>.inner at 0x7f1445419ee0>\n",
      "type: function\n",
      "signature: def inner(*args, **kwargs)\n",
      "source code:\n",
      "        def inner(*args, **kwargs):\n",
      "            # a, b are nonlocal variables from dec_fac\n",
      "            print(f'decorated function call: a={a}, b={b}')\n",
      "            # fn is a nonlocal variable from dec\n",
      "            return fn(*args, **kwargs)\n",
      "\n"
     ]
    }
   ],
   "source": [
    "wat.code / my_func"
   ]
  },
  {
   "cell_type": "markdown",
   "id": "b5659f41-cc75-46bb-b666-6c4b6d882919",
   "metadata": {},
   "source": [
    "Decorate with function syntax"
   ]
  },
  {
   "cell_type": "code",
   "execution_count": 37,
   "id": "dbda6b8a-b7b5-4a98-970b-c89a0d4c5c12",
   "metadata": {},
   "outputs": [],
   "source": [
    "def my_func(s):\n",
    "    print(f'Hello {s}') \n",
    "\n",
    "my_func = dec_fac(100, 200)(my_func)"
   ]
  },
  {
   "cell_type": "code",
   "execution_count": 38,
   "id": "00881fb3-17aa-4ab0-8208-aafb8c4159c9",
   "metadata": {},
   "outputs": [
    {
     "name": "stdout",
     "output_type": "stream",
     "text": [
      "decorated function call: a=100, b=200\n",
      "Hello World!\n"
     ]
    }
   ],
   "source": [
    "my_func('World!')"
   ]
  },
  {
   "cell_type": "code",
   "execution_count": 39,
   "id": "8f4694df-640d-440d-8447-3432969ede15",
   "metadata": {},
   "outputs": [
    {
     "name": "stdout",
     "output_type": "stream",
     "text": [
      "value: <function dec_fac.<locals>.dec.<locals>.inner at 0x7f1445419ee0>\n",
      "type: function\n",
      "signature: def inner(*args, **kwargs)\n",
      "source code:\n",
      "        def inner(*args, **kwargs):\n",
      "            # a, b are nonlocal variables from dec_fac\n",
      "            print(f'decorated function call: a={a}, b={b}')\n",
      "            # fn is a nonlocal variable from dec\n",
      "            return fn(*args, **kwargs)\n",
      "\n"
     ]
    }
   ],
   "source": [
    "wat.code / my_func"
   ]
  },
  {
   "cell_type": "markdown",
   "id": "01d3cc33-aed3-45a8-bd05-0bb15a1770e1",
   "metadata": {},
   "source": [
    "Decorators/factory can also be created from a Class.\n",
    "A Class can be callable by implementing the `__call__` dunder method."
   ]
  },
  {
   "cell_type": "code",
   "execution_count": 54,
   "id": "17959647-a627-43c0-9958-fbaf84c22420",
   "metadata": {},
   "outputs": [],
   "source": [
    "class MyClass:\n",
    "    def __init__(self, a, b):\n",
    "        self.a = a\n",
    "        self.b = b\n",
    "\n",
    "    def __call__(self, c):\n",
    "        print(f'An instance of MyClass called: a={self.a}, b={self.b}, c={c}')"
   ]
  },
  {
   "cell_type": "code",
   "execution_count": 59,
   "id": "a176b2fa-bc69-4d27-8634-933abfa70012",
   "metadata": {},
   "outputs": [],
   "source": [
    "obj = MyClass(10, 20)"
   ]
  },
  {
   "cell_type": "code",
   "execution_count": 60,
   "id": "d9ca1604-8fe9-4e48-b32d-e52b6d1a841a",
   "metadata": {},
   "outputs": [
    {
     "data": {
      "text/plain": [
       "<__main__.MyClass at 0x7f14455dccd0>"
      ]
     },
     "execution_count": 60,
     "metadata": {},
     "output_type": "execute_result"
    }
   ],
   "source": [
    "obj"
   ]
  },
  {
   "cell_type": "code",
   "execution_count": 63,
   "id": "ab038f4e-6733-4467-91b5-ed6185053661",
   "metadata": {},
   "outputs": [
    {
     "name": "stdout",
     "output_type": "stream",
     "text": [
      "An instance of MyClass called: a=10, b=20, c=100\n"
     ]
    }
   ],
   "source": [
    "obj.__call__(100)"
   ]
  },
  {
   "cell_type": "code",
   "execution_count": 64,
   "id": "7e1683d1-8782-40d2-9308-398ccd4818d9",
   "metadata": {},
   "outputs": [
    {
     "name": "stdout",
     "output_type": "stream",
     "text": [
      "An instance of MyClass called: a=10, b=20, c=100\n"
     ]
    }
   ],
   "source": [
    "obj(100)"
   ]
  },
  {
   "cell_type": "code",
   "execution_count": 65,
   "id": "b4271da3-98a3-4964-b3f4-0edc727d4697",
   "metadata": {},
   "outputs": [
    {
     "name": "stdout",
     "output_type": "stream",
     "text": [
      "value: <__main__.MyClass object at 0x7f14455dccd0>\n",
      "type: __main__.MyClass\n",
      "signature: …(c)\n",
      "source code:\n",
      "failed to get source code: <class 'TypeError'>: module, class, method, function, traceback, frame, or code object was expected, got MyClass\n",
      "\n",
      "Public attributes:\n",
      "  a: int = 10\n",
      "  b: int = 20\n"
     ]
    }
   ],
   "source": [
    "wat.code / obj"
   ]
  },
  {
   "cell_type": "code",
   "execution_count": null,
   "id": "84125717-220d-4e10-9d86-a1aaedcb07bf",
   "metadata": {},
   "outputs": [],
   "source": []
  },
  {
   "cell_type": "code",
   "execution_count": 67,
   "id": "e6368000-3a04-4a1f-9cc0-8bc796d3b88b",
   "metadata": {},
   "outputs": [],
   "source": [
    "class MyClass:\n",
    "    def __init__(self, a, b):\n",
    "        self.a = a\n",
    "        self.b = b\n",
    "\n",
    "    def __call__(self, fn):\n",
    "        def inner(*args, **kwargs):\n",
    "            # a, b are nonlocal variables from dec_fac\n",
    "            print(f'decorated function call: a={self.a}, b={self.b}')\n",
    "            # fn is a nonlocal variable from dec\n",
    "            return fn(*args, **kwargs)\n",
    "        return inner"
   ]
  },
  {
   "cell_type": "code",
   "execution_count": 68,
   "id": "72eaa734-24d1-451a-930a-eaf95434d11f",
   "metadata": {},
   "outputs": [],
   "source": [
    "@MyClass(10, 20)\n",
    "def my_func(s):\n",
    "    print(f'Hello {s}')"
   ]
  },
  {
   "cell_type": "code",
   "execution_count": 69,
   "id": "3968d8f1-c547-46f6-8cc5-e2f390dffc81",
   "metadata": {},
   "outputs": [
    {
     "name": "stdout",
     "output_type": "stream",
     "text": [
      "decorated function call: a=10, b=20\n",
      "Hello World\n"
     ]
    }
   ],
   "source": [
    "my_func('World')"
   ]
  },
  {
   "cell_type": "code",
   "execution_count": 70,
   "id": "8552879a-78fe-44e6-8d6d-f0b9ed91a770",
   "metadata": {},
   "outputs": [
    {
     "name": "stdout",
     "output_type": "stream",
     "text": [
      "value: <function MyClass.__call__.<locals>.inner at 0x7f144548ec00>\n",
      "type: function\n",
      "signature: def inner(*args, **kwargs)\n",
      "source code:\n",
      "        def inner(*args, **kwargs):\n",
      "            # a, b are nonlocal variables from dec_fac\n",
      "            print(f'decorated function call: a={self.a}, b={self.b}')\n",
      "            # fn is a nonlocal variable from dec\n",
      "            return fn(*args, **kwargs)\n",
      "\n"
     ]
    }
   ],
   "source": [
    "wat.code / my_func"
   ]
  },
  {
   "cell_type": "code",
   "execution_count": 93,
   "id": "0923a546-e266-4451-9f29-de27cbe35f75",
   "metadata": {},
   "outputs": [
    {
     "name": "stdout",
     "output_type": "stream",
     "text": [
      "\n",
      "0:\n",
      "a=1, b=2\n",
      "decorated function call: a=1, b=2\n",
      "Hello World!\n",
      "\n",
      "1:\n",
      "a=10, b=20\n",
      "decorated function call: a=10, b=20\n",
      "Hello World!\n",
      "\n",
      "2:\n",
      "a=100, b=200\n",
      "decorated function call: a=100, b=200\n",
      "Hello World!\n"
     ]
    }
   ],
   "source": [
    "l = [(1, 2),(10, 20),(100, 200)]\n",
    "for i,(a,b) in enumerate(l):\n",
    "    print(f'\\n{i}:')\n",
    "    print(f'a={a}, b={b}')\n",
    "\n",
    "    # function is decorated in place\n",
    "    # original function is lost\n",
    "    @MyClass(a,b)\n",
    "    def my_func(s):\n",
    "        print(f'Hello {s}')\n",
    "\n",
    "    my_func('World!')\n",
    "    # my_func(f'World iteration={i}')\n",
    "    "
   ]
  },
  {
   "cell_type": "code",
   "execution_count": 94,
   "id": "3dd588f7-c6d8-40b7-b20a-db0b8302195e",
   "metadata": {},
   "outputs": [],
   "source": [
    "obj = MyClass(10, 20)\n",
    "\n",
    "def my_func(s):\n",
    "    print(f'Hello {s}')\n",
    "\n",
    "my_func = obj(my_func)"
   ]
  },
  {
   "cell_type": "code",
   "execution_count": 95,
   "id": "307f01dd-c3dd-4f0c-86e2-b5ae21a7586b",
   "metadata": {},
   "outputs": [
    {
     "name": "stdout",
     "output_type": "stream",
     "text": [
      "decorated function call: a=10, b=20\n",
      "Hello World\n"
     ]
    }
   ],
   "source": [
    "my_func('World')"
   ]
  },
  {
   "cell_type": "code",
   "execution_count": 99,
   "id": "0a80028b-a84c-42d3-a071-ffc7bc4a4af8",
   "metadata": {},
   "outputs": [
    {
     "name": "stdout",
     "output_type": "stream",
     "text": [
      "\n",
      "0:\n",
      "a=1, b=2\n",
      "decorated function call: a=1, b=2\n",
      "Hello World!\n",
      "\n",
      "1:\n",
      "a=10, b=20\n",
      "decorated function call: a=10, b=20\n",
      "Hello World!\n",
      "\n",
      "2:\n",
      "a=100, b=200\n",
      "decorated function call: a=100, b=200\n",
      "Hello World!\n"
     ]
    }
   ],
   "source": [
    "def my_func(s):\n",
    "    print(f'Hello {s}')\n",
    "    \n",
    "list_args = [(1, 2),(10, 20),(100, 200)]\n",
    "\n",
    "for i,(a,b) in enumerate(list_args):\n",
    "    obj = MyClass(a,b)\n",
    "    # local decorated function is created\n",
    "    # original function remains intact\n",
    "    func = obj(my_func)\n",
    "    \n",
    "    print(f'\\n{i}:')\n",
    "    print(f'a={a}, b={b}')\n",
    "    func('World!')\n"
   ]
  },
  {
   "cell_type": "code",
   "execution_count": 102,
   "id": "30fc06f9-a607-45ea-923f-c393f6a2e99b",
   "metadata": {},
   "outputs": [
    {
     "name": "stdout",
     "output_type": "stream",
     "text": [
      "value: <function MyClass.__call__.<locals>.inner at 0x7f144535dc60>\n",
      "type: function\n",
      "signature: def inner(*args, **kwargs)\n",
      "source code:\n",
      "        def inner(*args, **kwargs):\n",
      "            # a, b are nonlocal variables from dec_fac\n",
      "            print(f'decorated function call: a={self.a}, b={self.b}')\n",
      "            # fn is a nonlocal variable from dec\n",
      "            return fn(*args, **kwargs)\n",
      "\n"
     ]
    }
   ],
   "source": [
    "wat.code / func"
   ]
  },
  {
   "cell_type": "code",
   "execution_count": null,
   "id": "13fa447c-2d2a-4607-bd54-23df11723b0e",
   "metadata": {},
   "outputs": [],
   "source": []
  }
 ],
 "metadata": {
  "kernelspec": {
   "display_name": "Python 3 (ipykernel)",
   "language": "python",
   "name": "python3"
  },
  "language_info": {
   "codemirror_mode": {
    "name": "ipython",
    "version": 3
   },
   "file_extension": ".py",
   "mimetype": "text/x-python",
   "name": "python",
   "nbconvert_exporter": "python",
   "pygments_lexer": "ipython3",
   "version": "3.13.1"
  }
 },
 "nbformat": 4,
 "nbformat_minor": 5
}
