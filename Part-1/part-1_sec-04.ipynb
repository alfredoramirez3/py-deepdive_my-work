{
 "cells": [
  {
   "cell_type": "code",
   "execution_count": 1,
   "id": "2a032342-5fb5-490b-91aa-f692db5fdd4c",
   "metadata": {},
   "outputs": [],
   "source": [
    "# Boolean truth values 0(False), 1(True): bool\n",
    "# Integer Numbers: int\n",
    "# Rational Numbers: fractions.Fraction\n",
    "# Real Numbers: float, decimal.Decimal\n",
    "# Complex Numbers: complex\n",
    "\n",
    "# Integer Numbers subset of Rational Numbers subset of Real Numbers subset of Complex Numbers\n",
    "# Python introduces fifth numeric type: Boolean Values"
   ]
  },
  {
   "cell_type": "markdown",
   "id": "2ac5f6e9-8731-48e3-9fe1-f276d540185f",
   "metadata": {},
   "source": [
    "## 01 - Integers - Data Type"
   ]
  },
  {
   "cell_type": "code",
   "execution_count": 2,
   "id": "a3ed6128-b712-49f6-a83a-24ecae2985b9",
   "metadata": {},
   "outputs": [
    {
     "name": "stdout",
     "output_type": "stream",
     "text": [
      "<class 'int'>\n"
     ]
    }
   ],
   "source": [
    "print(type(100))"
   ]
  },
  {
   "cell_type": "code",
   "execution_count": 3,
   "id": "5fab7a7f-1b85-403b-b001-39d398f3e539",
   "metadata": {},
   "outputs": [],
   "source": [
    "import sys"
   ]
  },
  {
   "cell_type": "code",
   "execution_count": 4,
   "id": "408e5791-5bea-4a39-ae9f-6cb2173c50ad",
   "metadata": {},
   "outputs": [
    {
     "data": {
      "text/plain": [
       "28"
      ]
     },
     "execution_count": 4,
     "metadata": {},
     "output_type": "execute_result"
    }
   ],
   "source": [
    "sys.getsizeof(0)"
   ]
  },
  {
   "cell_type": "code",
   "execution_count": 5,
   "id": "b677bdc2-3484-461e-960e-83490bc6f251",
   "metadata": {},
   "outputs": [
    {
     "data": {
      "text/plain": [
       "28"
      ]
     },
     "execution_count": 5,
     "metadata": {},
     "output_type": "execute_result"
    }
   ],
   "source": [
    "sys.getsizeof(1)"
   ]
  },
  {
   "cell_type": "code",
   "execution_count": 6,
   "id": "320082b7-49f5-49b1-a46f-deec121a198c",
   "metadata": {},
   "outputs": [
    {
     "data": {
      "text/plain": [
       "160"
      ]
     },
     "execution_count": 6,
     "metadata": {},
     "output_type": "execute_result"
    }
   ],
   "source": [
    "sys.getsizeof(2**1000)"
   ]
  },
  {
   "cell_type": "code",
   "execution_count": 7,
   "id": "f5213746-dcf9-48dc-b3e5-2df355606a00",
   "metadata": {},
   "outputs": [
    {
     "data": {
      "text/plain": [
       "10715086071862673209484250490600018105614048117055336074437503883703510511249361224931983788156958581275946729175531468251871452856923140435984577574698574803934567774824230985421074605062371141877954182153046474983581941267398767559165543946077062914571196477686542167660429831652624386837205668069376"
      ]
     },
     "execution_count": 7,
     "metadata": {},
     "output_type": "execute_result"
    }
   ],
   "source": [
    "2**1000"
   ]
  },
  {
   "cell_type": "code",
   "execution_count": 9,
   "id": "06e3b137-f706-48da-802d-7983f55d827e",
   "metadata": {},
   "outputs": [
    {
     "data": {
      "text/plain": [
       "1073741824"
      ]
     },
     "execution_count": 9,
     "metadata": {},
     "output_type": "execute_result"
    }
   ],
   "source": [
    "1*2**30"
   ]
  },
  {
   "cell_type": "code",
   "execution_count": 10,
   "id": "b8ad4c52-ad2f-4384-8690-c8500e065da4",
   "metadata": {},
   "outputs": [],
   "source": [
    "import time"
   ]
  },
  {
   "cell_type": "code",
   "execution_count": 11,
   "id": "0f8acbf0-43b8-4003-8685-cf3d8ac2b919",
   "metadata": {},
   "outputs": [],
   "source": [
    "def calc(a):\n",
    "    for i in range(10_000_000):\n",
    "        a * 2"
   ]
  },
  {
   "cell_type": "code",
   "execution_count": 13,
   "id": "1575fc1b-e182-4433-b83c-ba6c1eb07a34",
   "metadata": {},
   "outputs": [
    {
     "name": "stdout",
     "output_type": "stream",
     "text": [
      "0.2651251429997501\n"
     ]
    }
   ],
   "source": [
    "start = time.perf_counter()\n",
    "calc(10)\n",
    "end = time.perf_counter()\n",
    "print(end - start)"
   ]
  },
  {
   "cell_type": "code",
   "execution_count": 14,
   "id": "8c60ecd3-1f33-4a59-9cac-a229a2ac2ec3",
   "metadata": {},
   "outputs": [
    {
     "name": "stdout",
     "output_type": "stream",
     "text": [
      "0.5671994220001579\n"
     ]
    }
   ],
   "source": [
    "start = time.perf_counter()\n",
    "calc(2**100)\n",
    "end = time.perf_counter()\n",
    "print(end - start)"
   ]
  },
  {
   "cell_type": "code",
   "execution_count": 15,
   "id": "cb0edd8f-ec05-47aa-8c0f-1506dafa44e3",
   "metadata": {},
   "outputs": [
    {
     "name": "stdout",
     "output_type": "stream",
     "text": [
      "4.070984871000292\n"
     ]
    }
   ],
   "source": [
    "start = time.perf_counter()\n",
    "calc(2**10_000)\n",
    "end = time.perf_counter()\n",
    "print(end - start)"
   ]
  },
  {
   "cell_type": "code",
   "execution_count": null,
   "id": "9d5d1d22-d8b6-45e8-b19e-4c480a40b79f",
   "metadata": {},
   "outputs": [],
   "source": []
  },
  {
   "cell_type": "markdown",
   "id": "5f2313d0-f5e5-4983-a9a8-cd8101823b81",
   "metadata": {},
   "source": [
    "## 02 - Integers - Operations"
   ]
  },
  {
   "cell_type": "code",
   "execution_count": 16,
   "id": "8c13f669-d736-41e5-9c54-24776c52be9c",
   "metadata": {},
   "outputs": [],
   "source": [
    "# int + int -> int\n",
    "# int - int -> int\n",
    "# int * int -> int\n",
    "# int ** int -> int\n",
    "# int / int -> float"
   ]
  },
  {
   "cell_type": "code",
   "execution_count": 20,
   "id": "6c442c3c-46a9-4b94-a512-0c0080c0b036",
   "metadata": {},
   "outputs": [
    {
     "name": "stdout",
     "output_type": "stream",
     "text": [
      "0.75\n"
     ]
    },
    {
     "data": {
      "text/plain": [
       "float"
      ]
     },
     "execution_count": 20,
     "metadata": {},
     "output_type": "execute_result"
    }
   ],
   "source": [
    "print(3 / 4)\n",
    "type(3 / 4)"
   ]
  },
  {
   "cell_type": "code",
   "execution_count": 21,
   "id": "a17080cf-5533-4b6e-88ec-4297ba820ccd",
   "metadata": {},
   "outputs": [
    {
     "name": "stdout",
     "output_type": "stream",
     "text": [
      "1.0\n"
     ]
    },
    {
     "data": {
      "text/plain": [
       "float"
      ]
     },
     "execution_count": 21,
     "metadata": {},
     "output_type": "execute_result"
    }
   ],
   "source": [
    "print(3 / 3)\n",
    "type(3 / 3)"
   ]
  },
  {
   "cell_type": "code",
   "execution_count": 22,
   "id": "34eb4c9b-75a4-4075-8900-1377d2123acb",
   "metadata": {},
   "outputs": [
    {
     "data": {
      "text/plain": [
       "38"
      ]
     },
     "execution_count": 22,
     "metadata": {},
     "output_type": "execute_result"
    }
   ],
   "source": [
    "155 // 4"
   ]
  },
  {
   "cell_type": "code",
   "execution_count": 23,
   "id": "c53237ee-44cd-4683-8c10-8c49689e97ca",
   "metadata": {},
   "outputs": [
    {
     "data": {
      "text/plain": [
       "3"
      ]
     },
     "execution_count": 23,
     "metadata": {},
     "output_type": "execute_result"
    }
   ],
   "source": [
    "155 % 4"
   ]
  },
  {
   "cell_type": "code",
   "execution_count": 30,
   "id": "d7562bc3-3b1c-48ce-80dc-88e3aff60de5",
   "metadata": {},
   "outputs": [
    {
     "data": {
      "text/plain": [
       "['__doc__',\n",
       " '__file__',\n",
       " '__loader__',\n",
       " '__name__',\n",
       " '__package__',\n",
       " '__spec__',\n",
       " 'acos',\n",
       " 'acosh',\n",
       " 'asin',\n",
       " 'asinh',\n",
       " 'atan',\n",
       " 'atan2',\n",
       " 'atanh',\n",
       " 'cbrt',\n",
       " 'ceil',\n",
       " 'comb',\n",
       " 'copysign',\n",
       " 'cos',\n",
       " 'cosh',\n",
       " 'degrees',\n",
       " 'dist',\n",
       " 'e',\n",
       " 'erf',\n",
       " 'erfc',\n",
       " 'exp',\n",
       " 'exp2',\n",
       " 'expm1',\n",
       " 'fabs',\n",
       " 'factorial',\n",
       " 'floor',\n",
       " 'fmod',\n",
       " 'frexp',\n",
       " 'fsum',\n",
       " 'gamma',\n",
       " 'gcd',\n",
       " 'hypot',\n",
       " 'inf',\n",
       " 'isclose',\n",
       " 'isfinite',\n",
       " 'isinf',\n",
       " 'isnan',\n",
       " 'isqrt',\n",
       " 'lcm',\n",
       " 'ldexp',\n",
       " 'lgamma',\n",
       " 'log',\n",
       " 'log10',\n",
       " 'log1p',\n",
       " 'log2',\n",
       " 'modf',\n",
       " 'nan',\n",
       " 'nextafter',\n",
       " 'perm',\n",
       " 'pi',\n",
       " 'pow',\n",
       " 'prod',\n",
       " 'radians',\n",
       " 'remainder',\n",
       " 'sin',\n",
       " 'sinh',\n",
       " 'sqrt',\n",
       " 'sumprod',\n",
       " 'tan',\n",
       " 'tanh',\n",
       " 'tau',\n",
       " 'trunc',\n",
       " 'ulp']"
      ]
     },
     "execution_count": 30,
     "metadata": {},
     "output_type": "execute_result"
    }
   ],
   "source": [
    "import math\n",
    "dir(math)\n",
    "# print(floor(3.14))\n",
    "# print(floor(-3.14))"
   ]
  },
  {
   "cell_type": "code",
   "execution_count": 32,
   "id": "d6b47003-6405-4072-aafd-34b843611282",
   "metadata": {},
   "outputs": [
    {
     "name": "stdout",
     "output_type": "stream",
     "text": [
      "Help on built-in function fmod in module math:\n",
      "\n",
      "fmod(x, y, /)\n",
      "    Return fmod(x, y), according to platform C.\n",
      "\n",
      "    x % y may differ.\n",
      "\n"
     ]
    }
   ],
   "source": [
    "help(math.fmod)"
   ]
  },
  {
   "cell_type": "code",
   "execution_count": 34,
   "id": "9b7fa097-3e93-4514-a60d-291fb60f5fbc",
   "metadata": {},
   "outputs": [
    {
     "name": "stdout",
     "output_type": "stream",
     "text": [
      "Help on built-in function floor in module math:\n",
      "\n",
      "floor(x, /)\n",
      "    Return the floor of x as an Integral.\n",
      "\n",
      "    This is the largest integer <= x.\n",
      "\n"
     ]
    }
   ],
   "source": [
    "help(math.floor)"
   ]
  },
  {
   "cell_type": "code",
   "execution_count": 38,
   "id": "2dd6c42c-f94f-4063-a6f7-3a1688a7e641",
   "metadata": {},
   "outputs": [
    {
     "name": "stdout",
     "output_type": "stream",
     "text": [
      "Help on built-in function modf in module math:\n",
      "\n",
      "modf(x, /)\n",
      "    Return the fractional and integer parts of x.\n",
      "\n",
      "    Both results carry the sign of x and are floats.\n",
      "\n"
     ]
    }
   ],
   "source": [
    "help(math.modf)"
   ]
  },
  {
   "cell_type": "code",
   "execution_count": 35,
   "id": "83695d88-2803-4345-8824-0f6ec8f79749",
   "metadata": {},
   "outputs": [
    {
     "data": {
      "text/plain": [
       "3"
      ]
     },
     "execution_count": 35,
     "metadata": {},
     "output_type": "execute_result"
    }
   ],
   "source": [
    "math.floor(3.14)"
   ]
  },
  {
   "cell_type": "code",
   "execution_count": 36,
   "id": "860f972c-da37-4e08-843b-9d85560fb434",
   "metadata": {},
   "outputs": [
    {
     "data": {
      "text/plain": [
       "-4"
      ]
     },
     "execution_count": 36,
     "metadata": {},
     "output_type": "execute_result"
    }
   ],
   "source": [
    "math.floor(-3.14)"
   ]
  },
  {
   "cell_type": "code",
   "execution_count": 37,
   "id": "09cb4f5c-763c-4b83-98fb-4b179f5547a4",
   "metadata": {},
   "outputs": [
    {
     "data": {
      "text/plain": [
       "1.0"
      ]
     },
     "execution_count": 37,
     "metadata": {},
     "output_type": "execute_result"
    }
   ],
   "source": [
    "math.fmod(4, 3)"
   ]
  },
  {
   "cell_type": "code",
   "execution_count": 39,
   "id": "a5432f14-0d4a-4512-8d31-86e85b0bbebd",
   "metadata": {},
   "outputs": [
    {
     "data": {
      "text/plain": [
       "-34"
      ]
     },
     "execution_count": 39,
     "metadata": {},
     "output_type": "execute_result"
    }
   ],
   "source": [
    "-135 // 4"
   ]
  },
  {
   "cell_type": "code",
   "execution_count": 40,
   "id": "29c24c86-3938-4ad6-ae8f-8e85654b0fa1",
   "metadata": {},
   "outputs": [
    {
     "data": {
      "text/plain": [
       "1"
      ]
     },
     "execution_count": 40,
     "metadata": {},
     "output_type": "execute_result"
    }
   ],
   "source": [
    "-135 % 4"
   ]
  },
  {
   "cell_type": "code",
   "execution_count": 41,
   "id": "4f106239-093e-4dfb-aa21-8f1127b9bd8b",
   "metadata": {},
   "outputs": [
    {
     "data": {
      "text/plain": [
       "-135"
      ]
     },
     "execution_count": 41,
     "metadata": {},
     "output_type": "execute_result"
    }
   ],
   "source": [
    "(-34 * 4) + 1"
   ]
  },
  {
   "cell_type": "code",
   "execution_count": null,
   "id": "8346f8c7-df22-4450-b9f9-9556c2e5c6d1",
   "metadata": {},
   "outputs": [],
   "source": []
  },
  {
   "cell_type": "markdown",
   "id": "6ae4324b-b2da-4a27-9c55-766559f17ec7",
   "metadata": {},
   "source": [
    "## 03 - Integers - Constructors and Bases"
   ]
  },
  {
   "cell_type": "code",
   "execution_count": 42,
   "id": "c28546e4-c828-49a9-8f85-4e577728a4f5",
   "metadata": {
    "collapsed": true,
    "jupyter": {
     "outputs_hidden": true
    },
    "scrolled": true
   },
   "outputs": [
    {
     "name": "stdout",
     "output_type": "stream",
     "text": [
      "Help on class int in module builtins:\n",
      "\n",
      "class int(object)\n",
      " |  int([x]) -> integer\n",
      " |  int(x, base=10) -> integer\n",
      " |\n",
      " |  Convert a number or string to an integer, or return 0 if no arguments\n",
      " |  are given.  If x is a number, return x.__int__().  For floating point\n",
      " |  numbers, this truncates towards zero.\n",
      " |\n",
      " |  If x is not a number or if base is given, then x must be a string,\n",
      " |  bytes, or bytearray instance representing an integer literal in the\n",
      " |  given base.  The literal can be preceded by '+' or '-' and be surrounded\n",
      " |  by whitespace.  The base defaults to 10.  Valid bases are 0 and 2-36.\n",
      " |  Base 0 means to interpret the base from the string as an integer literal.\n",
      " |  >>> int('0b100', base=0)\n",
      " |  4\n",
      " |\n",
      " |  Built-in subclasses:\n",
      " |      bool\n",
      " |\n",
      " |  Methods defined here:\n",
      " |\n",
      " |  __abs__(self, /)\n",
      " |      abs(self)\n",
      " |\n",
      " |  __add__(self, value, /)\n",
      " |      Return self+value.\n",
      " |\n",
      " |  __and__(self, value, /)\n",
      " |      Return self&value.\n",
      " |\n",
      " |  __bool__(self, /)\n",
      " |      True if self else False\n",
      " |\n",
      " |  __ceil__(...)\n",
      " |      Ceiling of an Integral returns itself.\n",
      " |\n",
      " |  __divmod__(self, value, /)\n",
      " |      Return divmod(self, value).\n",
      " |\n",
      " |  __eq__(self, value, /)\n",
      " |      Return self==value.\n",
      " |\n",
      " |  __float__(self, /)\n",
      " |      float(self)\n",
      " |\n",
      " |  __floor__(...)\n",
      " |      Flooring an Integral returns itself.\n",
      " |\n",
      " |  __floordiv__(self, value, /)\n",
      " |      Return self//value.\n",
      " |\n",
      " |  __format__(self, format_spec, /)\n",
      " |      Convert to a string according to format_spec.\n",
      " |\n",
      " |  __ge__(self, value, /)\n",
      " |      Return self>=value.\n",
      " |\n",
      " |  __getattribute__(self, name, /)\n",
      " |      Return getattr(self, name).\n",
      " |\n",
      " |  __getnewargs__(self, /)\n",
      " |\n",
      " |  __gt__(self, value, /)\n",
      " |      Return self>value.\n",
      " |\n",
      " |  __hash__(self, /)\n",
      " |      Return hash(self).\n",
      " |\n",
      " |  __index__(self, /)\n",
      " |      Return self converted to an integer, if self is suitable for use as an index into a list.\n",
      " |\n",
      " |  __int__(self, /)\n",
      " |      int(self)\n",
      " |\n",
      " |  __invert__(self, /)\n",
      " |      ~self\n",
      " |\n",
      " |  __le__(self, value, /)\n",
      " |      Return self<=value.\n",
      " |\n",
      " |  __lshift__(self, value, /)\n",
      " |      Return self<<value.\n",
      " |\n",
      " |  __lt__(self, value, /)\n",
      " |      Return self<value.\n",
      " |\n",
      " |  __mod__(self, value, /)\n",
      " |      Return self%value.\n",
      " |\n",
      " |  __mul__(self, value, /)\n",
      " |      Return self*value.\n",
      " |\n",
      " |  __ne__(self, value, /)\n",
      " |      Return self!=value.\n",
      " |\n",
      " |  __neg__(self, /)\n",
      " |      -self\n",
      " |\n",
      " |  __or__(self, value, /)\n",
      " |      Return self|value.\n",
      " |\n",
      " |  __pos__(self, /)\n",
      " |      +self\n",
      " |\n",
      " |  __pow__(self, value, mod=None, /)\n",
      " |      Return pow(self, value, mod).\n",
      " |\n",
      " |  __radd__(self, value, /)\n",
      " |      Return value+self.\n",
      " |\n",
      " |  __rand__(self, value, /)\n",
      " |      Return value&self.\n",
      " |\n",
      " |  __rdivmod__(self, value, /)\n",
      " |      Return divmod(value, self).\n",
      " |\n",
      " |  __repr__(self, /)\n",
      " |      Return repr(self).\n",
      " |\n",
      " |  __rfloordiv__(self, value, /)\n",
      " |      Return value//self.\n",
      " |\n",
      " |  __rlshift__(self, value, /)\n",
      " |      Return value<<self.\n",
      " |\n",
      " |  __rmod__(self, value, /)\n",
      " |      Return value%self.\n",
      " |\n",
      " |  __rmul__(self, value, /)\n",
      " |      Return value*self.\n",
      " |\n",
      " |  __ror__(self, value, /)\n",
      " |      Return value|self.\n",
      " |\n",
      " |  __round__(...)\n",
      " |      Rounding an Integral returns itself.\n",
      " |\n",
      " |      Rounding with an ndigits argument also returns an integer.\n",
      " |\n",
      " |  __rpow__(self, value, mod=None, /)\n",
      " |      Return pow(value, self, mod).\n",
      " |\n",
      " |  __rrshift__(self, value, /)\n",
      " |      Return value>>self.\n",
      " |\n",
      " |  __rshift__(self, value, /)\n",
      " |      Return self>>value.\n",
      " |\n",
      " |  __rsub__(self, value, /)\n",
      " |      Return value-self.\n",
      " |\n",
      " |  __rtruediv__(self, value, /)\n",
      " |      Return value/self.\n",
      " |\n",
      " |  __rxor__(self, value, /)\n",
      " |      Return value^self.\n",
      " |\n",
      " |  __sizeof__(self, /)\n",
      " |      Returns size in memory, in bytes.\n",
      " |\n",
      " |  __sub__(self, value, /)\n",
      " |      Return self-value.\n",
      " |\n",
      " |  __truediv__(self, value, /)\n",
      " |      Return self/value.\n",
      " |\n",
      " |  __trunc__(...)\n",
      " |      Truncating an Integral returns itself.\n",
      " |\n",
      " |  __xor__(self, value, /)\n",
      " |      Return self^value.\n",
      " |\n",
      " |  as_integer_ratio(self, /)\n",
      " |      Return a pair of integers, whose ratio is equal to the original int.\n",
      " |\n",
      " |      The ratio is in lowest terms and has a positive denominator.\n",
      " |\n",
      " |      >>> (10).as_integer_ratio()\n",
      " |      (10, 1)\n",
      " |      >>> (-10).as_integer_ratio()\n",
      " |      (-10, 1)\n",
      " |      >>> (0).as_integer_ratio()\n",
      " |      (0, 1)\n",
      " |\n",
      " |  bit_count(self, /)\n",
      " |      Number of ones in the binary representation of the absolute value of self.\n",
      " |\n",
      " |      Also known as the population count.\n",
      " |\n",
      " |      >>> bin(13)\n",
      " |      '0b1101'\n",
      " |      >>> (13).bit_count()\n",
      " |      3\n",
      " |\n",
      " |  bit_length(self, /)\n",
      " |      Number of bits necessary to represent self in binary.\n",
      " |\n",
      " |      >>> bin(37)\n",
      " |      '0b100101'\n",
      " |      >>> (37).bit_length()\n",
      " |      6\n",
      " |\n",
      " |  conjugate(...)\n",
      " |      Returns self, the complex conjugate of any int.\n",
      " |\n",
      " |  is_integer(self, /)\n",
      " |      Returns True. Exists for duck type compatibility with float.is_integer.\n",
      " |\n",
      " |  to_bytes(self, /, length=1, byteorder='big', *, signed=False)\n",
      " |      Return an array of bytes representing an integer.\n",
      " |\n",
      " |      length\n",
      " |        Length of bytes object to use.  An OverflowError is raised if the\n",
      " |        integer is not representable with the given number of bytes.  Default\n",
      " |        is length 1.\n",
      " |      byteorder\n",
      " |        The byte order used to represent the integer.  If byteorder is 'big',\n",
      " |        the most significant byte is at the beginning of the byte array.  If\n",
      " |        byteorder is 'little', the most significant byte is at the end of the\n",
      " |        byte array.  To request the native byte order of the host system, use\n",
      " |        `sys.byteorder' as the byte order value.  Default is to use 'big'.\n",
      " |      signed\n",
      " |        Determines whether two's complement is used to represent the integer.\n",
      " |        If signed is False and a negative integer is given, an OverflowError\n",
      " |        is raised.\n",
      " |\n",
      " |  ----------------------------------------------------------------------\n",
      " |  Class methods defined here:\n",
      " |\n",
      " |  from_bytes(bytes, byteorder='big', *, signed=False) from builtins.type\n",
      " |      Return the integer represented by the given array of bytes.\n",
      " |\n",
      " |      bytes\n",
      " |        Holds the array of bytes to convert.  The argument must either\n",
      " |        support the buffer protocol or be an iterable object producing bytes.\n",
      " |        Bytes and bytearray are examples of built-in objects that support the\n",
      " |        buffer protocol.\n",
      " |      byteorder\n",
      " |        The byte order used to represent the integer.  If byteorder is 'big',\n",
      " |        the most significant byte is at the beginning of the byte array.  If\n",
      " |        byteorder is 'little', the most significant byte is at the end of the\n",
      " |        byte array.  To request the native byte order of the host system, use\n",
      " |        `sys.byteorder' as the byte order value.  Default is to use 'big'.\n",
      " |      signed\n",
      " |        Indicates whether two's complement is used to represent the integer.\n",
      " |\n",
      " |  ----------------------------------------------------------------------\n",
      " |  Static methods defined here:\n",
      " |\n",
      " |  __new__(*args, **kwargs) from builtins.type\n",
      " |      Create and return a new object.  See help(type) for accurate signature.\n",
      " |\n",
      " |  ----------------------------------------------------------------------\n",
      " |  Data descriptors defined here:\n",
      " |\n",
      " |  denominator\n",
      " |      the denominator of a rational number in lowest terms\n",
      " |\n",
      " |  imag\n",
      " |      the imaginary part of a complex number\n",
      " |\n",
      " |  numerator\n",
      " |      the numerator of a rational number in lowest terms\n",
      " |\n",
      " |  real\n",
      " |      the real part of a complex number\n",
      "\n"
     ]
    }
   ],
   "source": [
    "help(int)"
   ]
  },
  {
   "cell_type": "code",
   "execution_count": 43,
   "id": "31075d8d-c314-4bcd-b497-e33e817c0aae",
   "metadata": {},
   "outputs": [
    {
     "data": {
      "text/plain": [
       "1"
      ]
     },
     "execution_count": 43,
     "metadata": {},
     "output_type": "execute_result"
    }
   ],
   "source": [
    "int(True)"
   ]
  },
  {
   "cell_type": "code",
   "execution_count": 44,
   "id": "b489cf52-2b99-4d74-a62b-a724a90677c1",
   "metadata": {},
   "outputs": [
    {
     "data": {
      "text/plain": [
       "0"
      ]
     },
     "execution_count": 44,
     "metadata": {},
     "output_type": "execute_result"
    }
   ],
   "source": [
    "int(False)"
   ]
  },
  {
   "cell_type": "code",
   "execution_count": 45,
   "id": "09f62fda-48b4-4fec-a00c-c571cb058741",
   "metadata": {},
   "outputs": [
    {
     "data": {
      "text/plain": [
       "123"
      ]
     },
     "execution_count": 45,
     "metadata": {},
     "output_type": "execute_result"
    }
   ],
   "source": [
    "int(\"123\")"
   ]
  },
  {
   "cell_type": "code",
   "execution_count": 46,
   "id": "f58b0994-6a73-4e32-a9cd-ec48d7297f1b",
   "metadata": {},
   "outputs": [
    {
     "data": {
      "text/plain": [
       "10"
      ]
     },
     "execution_count": 46,
     "metadata": {},
     "output_type": "execute_result"
    }
   ],
   "source": [
    "int(\"1010\", 2)"
   ]
  },
  {
   "cell_type": "code",
   "execution_count": 47,
   "id": "edd4d355-dc7e-42d1-8d01-db507726ff9f",
   "metadata": {},
   "outputs": [
    {
     "data": {
      "text/plain": [
       "10"
      ]
     },
     "execution_count": 47,
     "metadata": {},
     "output_type": "execute_result"
    }
   ],
   "source": [
    "int(\"1010\", base=2)"
   ]
  },
  {
   "cell_type": "code",
   "execution_count": 48,
   "id": "b9e44bf5-fe78-417c-bc58-bdef46304bbc",
   "metadata": {},
   "outputs": [
    {
     "data": {
      "text/plain": [
       "41263"
      ]
     },
     "execution_count": 48,
     "metadata": {},
     "output_type": "execute_result"
    }
   ],
   "source": [
    "int(\"A12F\", base=16)"
   ]
  },
  {
   "cell_type": "code",
   "execution_count": 49,
   "id": "7f1e2065-3b3c-4c83-b8ce-2ee3fe99d3b0",
   "metadata": {},
   "outputs": [
    {
     "data": {
      "text/plain": [
       "41263"
      ]
     },
     "execution_count": 49,
     "metadata": {},
     "output_type": "execute_result"
    }
   ],
   "source": [
    "int(\"a12f\", base=16)"
   ]
  },
  {
   "cell_type": "code",
   "execution_count": 50,
   "id": "7955c6dd-1766-4e7d-9b32-2b5cdc2b24d1",
   "metadata": {},
   "outputs": [
    {
     "data": {
      "text/plain": [
       "'0xa'"
      ]
     },
     "execution_count": 50,
     "metadata": {},
     "output_type": "execute_result"
    }
   ],
   "source": [
    "hex(10)"
   ]
  },
  {
   "cell_type": "code",
   "execution_count": 51,
   "id": "deabe429-d794-4f79-a2da-4eaf7202c934",
   "metadata": {},
   "outputs": [
    {
     "data": {
      "text/plain": [
       "'0o12'"
      ]
     },
     "execution_count": 51,
     "metadata": {},
     "output_type": "execute_result"
    }
   ],
   "source": [
    "oct(10)"
   ]
  },
  {
   "cell_type": "code",
   "execution_count": 52,
   "id": "13641645-5ed9-4bfc-beca-d4dd1438ec34",
   "metadata": {},
   "outputs": [
    {
     "data": {
      "text/plain": [
       "'0b1010'"
      ]
     },
     "execution_count": 52,
     "metadata": {},
     "output_type": "execute_result"
    }
   ],
   "source": [
    "bin(10)"
   ]
  },
  {
   "cell_type": "code",
   "execution_count": 53,
   "id": "9a365508-afa3-46c9-9485-4d8012a2b3f5",
   "metadata": {},
   "outputs": [],
   "source": [
    "a = 0b1010"
   ]
  },
  {
   "cell_type": "code",
   "execution_count": 54,
   "id": "cefeef74-257a-4173-9f70-22d65cd71624",
   "metadata": {},
   "outputs": [
    {
     "data": {
      "text/plain": [
       "10"
      ]
     },
     "execution_count": 54,
     "metadata": {},
     "output_type": "execute_result"
    }
   ],
   "source": [
    "a"
   ]
  },
  {
   "cell_type": "code",
   "execution_count": 55,
   "id": "ffa27371-7969-41aa-b254-033c89182443",
   "metadata": {},
   "outputs": [],
   "source": [
    "a = 0o10"
   ]
  },
  {
   "cell_type": "code",
   "execution_count": 56,
   "id": "3cf0900c-cc5e-41f7-9cd8-9934f3b19eae",
   "metadata": {},
   "outputs": [
    {
     "data": {
      "text/plain": [
       "8"
      ]
     },
     "execution_count": 56,
     "metadata": {},
     "output_type": "execute_result"
    }
   ],
   "source": [
    "a"
   ]
  },
  {
   "cell_type": "code",
   "execution_count": 58,
   "id": "85b580c0-bef2-4964-aad3-c01c2728acc3",
   "metadata": {},
   "outputs": [],
   "source": [
    "a = 0x11"
   ]
  },
  {
   "cell_type": "code",
   "execution_count": 59,
   "id": "d8663468-071a-4caf-979a-698ae8cabca4",
   "metadata": {},
   "outputs": [
    {
     "data": {
      "text/plain": [
       "17"
      ]
     },
     "execution_count": 59,
     "metadata": {},
     "output_type": "execute_result"
    }
   ],
   "source": [
    "a"
   ]
  },
  {
   "cell_type": "code",
   "execution_count": 62,
   "id": "36faefdb-d157-4637-ae90-e3b86ccb1d3d",
   "metadata": {},
   "outputs": [],
   "source": [
    "# n: number (base 10)\n",
    "# b: base (target base)\n",
    "# n = b * (n // b) + n % b\n",
    "# n = (n // b) * b + n % b"
   ]
  },
  {
   "cell_type": "code",
   "execution_count": null,
   "id": "a4a39161-0bba-4337-b3a9-9706e8528492",
   "metadata": {},
   "outputs": [],
   "source": [
    "# n = 232 b = 5\n",
    "# 232 = (232 // 5) * 5 + 232 % 5 = 46 * 5 + 2\n",
    "#     = [46 x 5|1] + [2 x 5|0]\n",
    "#     = [(( 46 // 5) x 5|1) + 46 % 5|0] + [2 x 5|0]\n",
    "#     = [(9 x 5 + 1) x 5|1] + [2 x 5|0]\n",
    "#     = [9 x 5|2] + [1 x 5|1] + [2 x 5|0]\n",
    "#     = [1 x 5 + 4] x 5|2 + [1 x 5|1] + [2 x 5|0]\n",
    "#     = [1 x 5] x 5|2 + [4 x 5|2] + [1 x 5|1] + [2 x 5|0]\n",
    "#     = [1 x 5|3] + [4 x 5|2] + [1 x 5|1] + [2 x 5|0]\n",
    "#     = [0 x 5|4] + [1 x 5|3] + [4 x 5|2] + [1 x 5|1] + [2 x 5|0]"
   ]
  },
  {
   "cell_type": "code",
   "execution_count": null,
   "id": "7d4dc5f7-d30d-44e9-9c8f-27dc62f89852",
   "metadata": {},
   "outputs": [],
   "source": [
    "# Base Change Algorithm\n",
    "# n = base 10 number, number >= 0\n",
    "# b = base, base >= 2\n",
    "# if b < 2 or n < 0: raise exception\n",
    "# return digits in a list\n",
    "# if n == 0: return [0];\n",
    "# digits = []\n",
    "# while n > 0:\n",
    "#    m = n % b\n",
    "#    n = n // b\n",
    "#    digits.insert(0, m)\n",
    "\n",
    "# n = 232\n",
    "# b = 5\n",
    "# digits -> [1,4,1,2]\n",
    "\n",
    "# n = 1485\n",
    "# b = 16\n",
    "# digits -> [5,12,13]"
   ]
  },
  {
   "cell_type": "code",
   "execution_count": 9,
   "id": "2c9b8145-5748-43de-8700-f030824be5fb",
   "metadata": {},
   "outputs": [
    {
     "name": "stdout",
     "output_type": "stream",
     "text": [
      "13\n",
      "92\n",
      "[13]\n",
      "\n",
      "12\n",
      "[12, 13]\n",
      "\n",
      "5\n",
      "0\n",
      "[5, 12, 13]\n",
      "\n",
      "Done\n"
     ]
    }
   ],
   "source": [
    "n = 1485\n",
    "b = 16\n",
    "digits = []\n",
    "\n",
    "if n:\n",
    "    m = n % b\n",
    "    n = n // b\n",
    "    digits.insert(0,m)\n",
    "    print(m)\n",
    "    print(n)\n",
    "    print(digits)\n",
    "    print()\n",
    "else:\n",
    "    print(\"Done\")\n",
    "\n",
    "if n:\n",
    "    m = n % b\n",
    "    n = n // b\n",
    "    digits.insert(0,m)\n",
    "    print(m)\n",
    "    print(digits)\n",
    "    print()\n",
    "else:\n",
    "    print(\"Done\")    \n",
    "\n",
    "if n:\n",
    "    m = n % b\n",
    "    n = n // b\n",
    "    digits.insert(0,m)\n",
    "    print(m)\n",
    "    print(n)\n",
    "    print(digits)\n",
    "    print()\n",
    "else:\n",
    "    print(\"Done\")    \n",
    "\n",
    "if n:\n",
    "    m = n % b\n",
    "    n = n // b\n",
    "    digits.insert(0,m)\n",
    "    print(m)\n",
    "    print(n)\n",
    "    print(digits)\n",
    "    print()\n",
    "else:\n",
    "    print(\"Done\")    "
   ]
  },
  {
   "cell_type": "code",
   "execution_count": 10,
   "id": "90f848e0-e4a4-4c44-b27c-bb51343ab351",
   "metadata": {},
   "outputs": [
    {
     "name": "stdout",
     "output_type": "stream",
     "text": [
      "13\n",
      "92\n",
      "[13]\n",
      "\n",
      "12\n",
      "5\n",
      "[12, 13]\n",
      "\n",
      "5\n",
      "0\n",
      "[5, 12, 13]\n",
      "\n"
     ]
    }
   ],
   "source": [
    "n = 1485\n",
    "b = 16\n",
    "digits = []\n",
    "\n",
    "while n > 0:\n",
    "    m = n % b\n",
    "    n = n // b\n",
    "    digits.insert(0,m)\n",
    "    print(m)\n",
    "    print(n)\n",
    "    print(digits)\n",
    "    print()"
   ]
  },
  {
   "cell_type": "code",
   "execution_count": 17,
   "id": "a099cd42-55af-45c9-84e2-5ff2117f6f35",
   "metadata": {},
   "outputs": [
    {
     "name": "stdout",
     "output_type": "stream",
     "text": [
      "number:\t1485\n",
      "base:\t16\n",
      "digits:\t[5, 12, 13]\n"
     ]
    }
   ],
   "source": [
    "n = 1485\n",
    "b = 16\n",
    "digits = []\n",
    "\n",
    "print(f\"number:\\t{n}\")\n",
    "print(f\"base:\\t{b}\")\n",
    "while n > 0:\n",
    "    m = n % b\n",
    "    n = n // b\n",
    "    digits.insert(0,m)\n",
    "    # print(m)\n",
    "    # print(n)\n",
    "    # print(digits)\n",
    "    # print()\n",
    "\n",
    "print(f\"digits:\\t{digits}\")"
   ]
  },
  {
   "cell_type": "code",
   "execution_count": null,
   "id": "ad3c85cb-775b-4962-8629-854346af4a49",
   "metadata": {},
   "outputs": [],
   "source": [
    "# Encodings\n",
    "# 0 -> 0\n",
    "# ...\n",
    "# 9 -> 9\n",
    "# 10 -> A\n",
    "# ...\n",
    "# 36 -> Z\n",
    "\n",
    "# Python uses 0-9 and a-z, case insensitive and\n",
    "#  therefore limited to to base <= 36\n",
    "\n",
    "# The simplest way is a list of digits to encode, is to create a string with as many\n",
    "#  characters as needed, and use their index, ordinal position, for out encoding map\n",
    "\n",
    "# base b, b >= 2\n",
    "# map = ' ... ' of length of b\n",
    "# digits = [ ... ]\n",
    "# encoding = map[digits[0]] + map[digits[1]] + ...\n",
    "\n",
    "\n",
    "# Example: Base 12\n",
    "# map = '0123456789ABC'\n",
    "# digits = [4,11,3,12]\n",
    "# encoding = '4B3C'\n",
    "\n",
    "# Encoding Algorithm\n",
    "# digits = [ ... ]\n",
    "# map = ' ... '\n",
    "#\n",
    "# encoding = ''\n",
    "# for d in digits:\n",
    "#    encoding += map[d]"
   ]
  },
  {
   "cell_type": "code",
   "execution_count": 19,
   "id": "34afe332-89f7-47d0-80f7-55461aa69aa0",
   "metadata": {},
   "outputs": [
    {
     "name": "stdout",
     "output_type": "stream",
     "text": [
      "[5, 12, 13]\n",
      "5cd\n"
     ]
    }
   ],
   "source": [
    "map = '0123456789abcdef'\n",
    "\n",
    "# below not efficient\n",
    "encoding = ''\n",
    "for d in digits:\n",
    "    encoding += map[d]\n",
    "\n",
    "print(digits)    \n",
    "print(encoding)"
   ]
  },
  {
   "cell_type": "code",
   "execution_count": 39,
   "id": "5b147678-fbfe-4d70-8270-a65c732dbfb4",
   "metadata": {},
   "outputs": [
    {
     "name": "stdout",
     "output_type": "stream",
     "text": [
      "[5, 12, 13]\n",
      "['5', 'c', 'd']\n",
      "5cd\n"
     ]
    }
   ],
   "source": [
    "# more efficient\n",
    "print(digits)\n",
    "\n",
    "map = '0123456789abcdef'\n",
    "encoding = [map[d] for d in digits] # list\n",
    "print(encoding)\n",
    "\n",
    "encoding = ''.join([map[d] for d in digits]) # string\n",
    "print(encoding)"
   ]
  },
  {
   "cell_type": "markdown",
   "id": "3be81e0a-bc92-46fb-89f7-52cb588d598e",
   "metadata": {},
   "source": [
    "### Integers: Constructors and Bases - Coding"
   ]
  },
  {
   "cell_type": "code",
   "execution_count": 40,
   "id": "08b71fb4-84a0-4110-9167-e4863a4eac36",
   "metadata": {},
   "outputs": [
    {
     "data": {
      "text/plain": [
       "int"
      ]
     },
     "execution_count": 40,
     "metadata": {},
     "output_type": "execute_result"
    }
   ],
   "source": [
    "type(10)"
   ]
  },
  {
   "cell_type": "code",
   "execution_count": 41,
   "id": "42b2fdf2-125a-4b43-aa1c-ae3c5c767eec",
   "metadata": {},
   "outputs": [
    {
     "name": "stdout",
     "output_type": "stream",
     "text": [
      "Help on class int in module builtins:\n",
      "\n",
      "class int(object)\n",
      " |  int([x]) -> integer\n",
      " |  int(x, base=10) -> integer\n",
      " |\n",
      " |  Convert a number or string to an integer, or return 0 if no arguments\n",
      " |  are given.  If x is a number, return x.__int__().  For floating point\n",
      " |  numbers, this truncates towards zero.\n",
      " |\n",
      " |  If x is not a number or if base is given, then x must be a string,\n",
      " |  bytes, or bytearray instance representing an integer literal in the\n",
      " |  given base.  The literal can be preceded by '+' or '-' and be surrounded\n",
      " |  by whitespace.  The base defaults to 10.  Valid bases are 0 and 2-36.\n",
      " |  Base 0 means to interpret the base from the string as an integer literal.\n",
      " |  >>> int('0b100', base=0)\n",
      " |  4\n",
      " |\n",
      " |  Built-in subclasses:\n",
      " |      bool\n",
      " |\n",
      " |  Methods defined here:\n",
      " |\n",
      " |  __abs__(self, /)\n",
      " |      abs(self)\n",
      " |\n",
      " |  __add__(self, value, /)\n",
      " |      Return self+value.\n",
      " |\n",
      " |  __and__(self, value, /)\n",
      " |      Return self&value.\n",
      " |\n",
      " |  __bool__(self, /)\n",
      " |      True if self else False\n",
      " |\n",
      " |  __ceil__(...)\n",
      " |      Ceiling of an Integral returns itself.\n",
      " |\n",
      " |  __divmod__(self, value, /)\n",
      " |      Return divmod(self, value).\n",
      " |\n",
      " |  __eq__(self, value, /)\n",
      " |      Return self==value.\n",
      " |\n",
      " |  __float__(self, /)\n",
      " |      float(self)\n",
      " |\n",
      " |  __floor__(...)\n",
      " |      Flooring an Integral returns itself.\n",
      " |\n",
      " |  __floordiv__(self, value, /)\n",
      " |      Return self//value.\n",
      " |\n",
      " |  __format__(self, format_spec, /)\n",
      " |      Convert to a string according to format_spec.\n",
      " |\n",
      " |  __ge__(self, value, /)\n",
      " |      Return self>=value.\n",
      " |\n",
      " |  __getattribute__(self, name, /)\n",
      " |      Return getattr(self, name).\n",
      " |\n",
      " |  __getnewargs__(self, /)\n",
      " |\n",
      " |  __gt__(self, value, /)\n",
      " |      Return self>value.\n",
      " |\n",
      " |  __hash__(self, /)\n",
      " |      Return hash(self).\n",
      " |\n",
      " |  __index__(self, /)\n",
      " |      Return self converted to an integer, if self is suitable for use as an index into a list.\n",
      " |\n",
      " |  __int__(self, /)\n",
      " |      int(self)\n",
      " |\n",
      " |  __invert__(self, /)\n",
      " |      ~self\n",
      " |\n",
      " |  __le__(self, value, /)\n",
      " |      Return self<=value.\n",
      " |\n",
      " |  __lshift__(self, value, /)\n",
      " |      Return self<<value.\n",
      " |\n",
      " |  __lt__(self, value, /)\n",
      " |      Return self<value.\n",
      " |\n",
      " |  __mod__(self, value, /)\n",
      " |      Return self%value.\n",
      " |\n",
      " |  __mul__(self, value, /)\n",
      " |      Return self*value.\n",
      " |\n",
      " |  __ne__(self, value, /)\n",
      " |      Return self!=value.\n",
      " |\n",
      " |  __neg__(self, /)\n",
      " |      -self\n",
      " |\n",
      " |  __or__(self, value, /)\n",
      " |      Return self|value.\n",
      " |\n",
      " |  __pos__(self, /)\n",
      " |      +self\n",
      " |\n",
      " |  __pow__(self, value, mod=None, /)\n",
      " |      Return pow(self, value, mod).\n",
      " |\n",
      " |  __radd__(self, value, /)\n",
      " |      Return value+self.\n",
      " |\n",
      " |  __rand__(self, value, /)\n",
      " |      Return value&self.\n",
      " |\n",
      " |  __rdivmod__(self, value, /)\n",
      " |      Return divmod(value, self).\n",
      " |\n",
      " |  __repr__(self, /)\n",
      " |      Return repr(self).\n",
      " |\n",
      " |  __rfloordiv__(self, value, /)\n",
      " |      Return value//self.\n",
      " |\n",
      " |  __rlshift__(self, value, /)\n",
      " |      Return value<<self.\n",
      " |\n",
      " |  __rmod__(self, value, /)\n",
      " |      Return value%self.\n",
      " |\n",
      " |  __rmul__(self, value, /)\n",
      " |      Return value*self.\n",
      " |\n",
      " |  __ror__(self, value, /)\n",
      " |      Return value|self.\n",
      " |\n",
      " |  __round__(...)\n",
      " |      Rounding an Integral returns itself.\n",
      " |\n",
      " |      Rounding with an ndigits argument also returns an integer.\n",
      " |\n",
      " |  __rpow__(self, value, mod=None, /)\n",
      " |      Return pow(value, self, mod).\n",
      " |\n",
      " |  __rrshift__(self, value, /)\n",
      " |      Return value>>self.\n",
      " |\n",
      " |  __rshift__(self, value, /)\n",
      " |      Return self>>value.\n",
      " |\n",
      " |  __rsub__(self, value, /)\n",
      " |      Return value-self.\n",
      " |\n",
      " |  __rtruediv__(self, value, /)\n",
      " |      Return value/self.\n",
      " |\n",
      " |  __rxor__(self, value, /)\n",
      " |      Return value^self.\n",
      " |\n",
      " |  __sizeof__(self, /)\n",
      " |      Returns size in memory, in bytes.\n",
      " |\n",
      " |  __sub__(self, value, /)\n",
      " |      Return self-value.\n",
      " |\n",
      " |  __truediv__(self, value, /)\n",
      " |      Return self/value.\n",
      " |\n",
      " |  __trunc__(...)\n",
      " |      Truncating an Integral returns itself.\n",
      " |\n",
      " |  __xor__(self, value, /)\n",
      " |      Return self^value.\n",
      " |\n",
      " |  as_integer_ratio(self, /)\n",
      " |      Return a pair of integers, whose ratio is equal to the original int.\n",
      " |\n",
      " |      The ratio is in lowest terms and has a positive denominator.\n",
      " |\n",
      " |      >>> (10).as_integer_ratio()\n",
      " |      (10, 1)\n",
      " |      >>> (-10).as_integer_ratio()\n",
      " |      (-10, 1)\n",
      " |      >>> (0).as_integer_ratio()\n",
      " |      (0, 1)\n",
      " |\n",
      " |  bit_count(self, /)\n",
      " |      Number of ones in the binary representation of the absolute value of self.\n",
      " |\n",
      " |      Also known as the population count.\n",
      " |\n",
      " |      >>> bin(13)\n",
      " |      '0b1101'\n",
      " |      >>> (13).bit_count()\n",
      " |      3\n",
      " |\n",
      " |  bit_length(self, /)\n",
      " |      Number of bits necessary to represent self in binary.\n",
      " |\n",
      " |      >>> bin(37)\n",
      " |      '0b100101'\n",
      " |      >>> (37).bit_length()\n",
      " |      6\n",
      " |\n",
      " |  conjugate(...)\n",
      " |      Returns self, the complex conjugate of any int.\n",
      " |\n",
      " |  is_integer(self, /)\n",
      " |      Returns True. Exists for duck type compatibility with float.is_integer.\n",
      " |\n",
      " |  to_bytes(self, /, length=1, byteorder='big', *, signed=False)\n",
      " |      Return an array of bytes representing an integer.\n",
      " |\n",
      " |      length\n",
      " |        Length of bytes object to use.  An OverflowError is raised if the\n",
      " |        integer is not representable with the given number of bytes.  Default\n",
      " |        is length 1.\n",
      " |      byteorder\n",
      " |        The byte order used to represent the integer.  If byteorder is 'big',\n",
      " |        the most significant byte is at the beginning of the byte array.  If\n",
      " |        byteorder is 'little', the most significant byte is at the end of the\n",
      " |        byte array.  To request the native byte order of the host system, use\n",
      " |        `sys.byteorder' as the byte order value.  Default is to use 'big'.\n",
      " |      signed\n",
      " |        Determines whether two's complement is used to represent the integer.\n",
      " |        If signed is False and a negative integer is given, an OverflowError\n",
      " |        is raised.\n",
      " |\n",
      " |  ----------------------------------------------------------------------\n",
      " |  Class methods defined here:\n",
      " |\n",
      " |  from_bytes(bytes, byteorder='big', *, signed=False) from builtins.type\n",
      " |      Return the integer represented by the given array of bytes.\n",
      " |\n",
      " |      bytes\n",
      " |        Holds the array of bytes to convert.  The argument must either\n",
      " |        support the buffer protocol or be an iterable object producing bytes.\n",
      " |        Bytes and bytearray are examples of built-in objects that support the\n",
      " |        buffer protocol.\n",
      " |      byteorder\n",
      " |        The byte order used to represent the integer.  If byteorder is 'big',\n",
      " |        the most significant byte is at the beginning of the byte array.  If\n",
      " |        byteorder is 'little', the most significant byte is at the end of the\n",
      " |        byte array.  To request the native byte order of the host system, use\n",
      " |        `sys.byteorder' as the byte order value.  Default is to use 'big'.\n",
      " |      signed\n",
      " |        Indicates whether two's complement is used to represent the integer.\n",
      " |\n",
      " |  ----------------------------------------------------------------------\n",
      " |  Static methods defined here:\n",
      " |\n",
      " |  __new__(*args, **kwargs) from builtins.type\n",
      " |      Create and return a new object.  See help(type) for accurate signature.\n",
      " |\n",
      " |  ----------------------------------------------------------------------\n",
      " |  Data descriptors defined here:\n",
      " |\n",
      " |  denominator\n",
      " |      the denominator of a rational number in lowest terms\n",
      " |\n",
      " |  imag\n",
      " |      the imaginary part of a complex number\n",
      " |\n",
      " |  numerator\n",
      " |      the numerator of a rational number in lowest terms\n",
      " |\n",
      " |  real\n",
      " |      the real part of a complex number\n",
      "\n"
     ]
    }
   ],
   "source": [
    "help(int)"
   ]
  },
  {
   "cell_type": "code",
   "execution_count": 46,
   "id": "f4e764f8-692e-413b-bbfb-da12e26b2662",
   "metadata": {},
   "outputs": [
    {
     "data": {
      "text/plain": [
       "b'\\x00\\n'"
      ]
     },
     "execution_count": 46,
     "metadata": {},
     "output_type": "execute_result"
    }
   ],
   "source": [
    "int(10).to_bytes(2,'big')"
   ]
  },
  {
   "cell_type": "code",
   "execution_count": 47,
   "id": "34e0dd4d-d7d5-4bd5-98bb-b281b0d5ccad",
   "metadata": {},
   "outputs": [],
   "source": [
    "import fractions"
   ]
  },
  {
   "cell_type": "code",
   "execution_count": 48,
   "id": "3831b24d-1228-4580-bbc4-cb3fded9b95c",
   "metadata": {},
   "outputs": [],
   "source": [
    "a = fractions.Fraction(22, 7)"
   ]
  },
  {
   "cell_type": "code",
   "execution_count": 49,
   "id": "3bbdb92a-5164-4f57-8fc7-a04de31db639",
   "metadata": {},
   "outputs": [
    {
     "data": {
      "text/plain": [
       "Fraction(22, 7)"
      ]
     },
     "execution_count": 49,
     "metadata": {},
     "output_type": "execute_result"
    }
   ],
   "source": [
    "a"
   ]
  },
  {
   "cell_type": "code",
   "execution_count": 50,
   "id": "cf709ec6-e899-43ab-a3fd-1527ead010a8",
   "metadata": {},
   "outputs": [
    {
     "data": {
      "text/plain": [
       "3.142857142857143"
      ]
     },
     "execution_count": 50,
     "metadata": {},
     "output_type": "execute_result"
    }
   ],
   "source": [
    "float(a)"
   ]
  },
  {
   "cell_type": "code",
   "execution_count": 51,
   "id": "13fba2e1-b68d-4600-a44a-36b85004e05e",
   "metadata": {},
   "outputs": [
    {
     "data": {
      "text/plain": [
       "3"
      ]
     },
     "execution_count": 51,
     "metadata": {},
     "output_type": "execute_result"
    }
   ],
   "source": [
    "int(a)"
   ]
  },
  {
   "cell_type": "code",
   "execution_count": 52,
   "id": "7e7d9c95-d9b1-4d84-b398-67712014412d",
   "metadata": {},
   "outputs": [
    {
     "data": {
      "text/plain": [
       "5"
      ]
     },
     "execution_count": 52,
     "metadata": {},
     "output_type": "execute_result"
    }
   ],
   "source": [
    "int('101', 2)"
   ]
  },
  {
   "cell_type": "code",
   "execution_count": 53,
   "id": "2cde47fa-3c7a-480a-9f4e-4faae60da2ae",
   "metadata": {},
   "outputs": [
    {
     "data": {
      "text/plain": [
       "255"
      ]
     },
     "execution_count": 53,
     "metadata": {},
     "output_type": "execute_result"
    }
   ],
   "source": [
    "int(\"FF\", 16)"
   ]
  },
  {
   "cell_type": "code",
   "execution_count": 54,
   "id": "137791a5-f314-499f-8b67-4e7518b4a7b0",
   "metadata": {},
   "outputs": [
    {
     "data": {
      "text/plain": [
       "'0xff'"
      ]
     },
     "execution_count": 54,
     "metadata": {},
     "output_type": "execute_result"
    }
   ],
   "source": [
    "hex(255)"
   ]
  },
  {
   "cell_type": "code",
   "execution_count": 55,
   "id": "3646098e-0113-49a0-b753-01a2d124f501",
   "metadata": {},
   "outputs": [
    {
     "data": {
      "text/plain": [
       "'0b1010'"
      ]
     },
     "execution_count": 55,
     "metadata": {},
     "output_type": "execute_result"
    }
   ],
   "source": [
    "bin(10)"
   ]
  },
  {
   "cell_type": "code",
   "execution_count": 56,
   "id": "894c1de7-27cb-45cd-9e9b-c651901eae7f",
   "metadata": {},
   "outputs": [],
   "source": [
    "a = int('101',2)"
   ]
  },
  {
   "cell_type": "code",
   "execution_count": 57,
   "id": "fef273c1-5aa7-432a-ba49-1f1021b6610f",
   "metadata": {},
   "outputs": [],
   "source": [
    "b = 0b101"
   ]
  },
  {
   "cell_type": "code",
   "execution_count": 58,
   "id": "7ba70c68-0c07-4714-abc9-596da573dd37",
   "metadata": {},
   "outputs": [
    {
     "data": {
      "text/plain": [
       "5"
      ]
     },
     "execution_count": 58,
     "metadata": {},
     "output_type": "execute_result"
    }
   ],
   "source": [
    "a"
   ]
  },
  {
   "cell_type": "code",
   "execution_count": 59,
   "id": "20667173-dd11-4105-9dfe-a2eb55628e43",
   "metadata": {},
   "outputs": [
    {
     "data": {
      "text/plain": [
       "5"
      ]
     },
     "execution_count": 59,
     "metadata": {},
     "output_type": "execute_result"
    }
   ],
   "source": [
    "b"
   ]
  },
  {
   "cell_type": "code",
   "execution_count": 61,
   "id": "65b831ef-c96a-4df2-a6a7-092631945326",
   "metadata": {},
   "outputs": [],
   "source": [
    "def from_base10(n, b):\n",
    "    if b < 2:\n",
    "        raise ValueError('Base b must be >= 2')\n",
    "    if n < 0:\n",
    "        raise ValueError('Number n must be >= 0')\n",
    "    if n == 0:\n",
    "        return [0]\n",
    "    digits = []\n",
    "    while n > 0:\n",
    "        # m = n % b\n",
    "        # n = n // b\n",
    "        n, m = divmod(n, b)\n",
    "        digits.insert(0, m)\n",
    "    return digits"
   ]
  },
  {
   "cell_type": "code",
   "execution_count": 63,
   "id": "9329d6e1-b914-4dea-b215-08456cc85414",
   "metadata": {},
   "outputs": [
    {
     "name": "stdout",
     "output_type": "stream",
     "text": [
      "[1, 1, 3]\n"
     ]
    }
   ],
   "source": [
    "d = from_base10(33, 5)\n",
    "print(d)"
   ]
  },
  {
   "cell_type": "code",
   "execution_count": 67,
   "id": "216ebe7e-2cfe-4d0e-ab5e-ab51d4d0faa0",
   "metadata": {},
   "outputs": [
    {
     "name": "stdout",
     "output_type": "stream",
     "text": [
      "[1, 0, 1, 0]\n"
     ]
    }
   ],
   "source": [
    "print(from_base10(10, 2))"
   ]
  },
  {
   "cell_type": "code",
   "execution_count": 73,
   "id": "09c1dd18-c9e0-43d1-8d78-9cc5cae09ce7",
   "metadata": {},
   "outputs": [
    {
     "name": "stdout",
     "output_type": "stream",
     "text": [
      "[1, 0, 1, 0]\n",
      "1010\n"
     ]
    }
   ],
   "source": [
    "d = from_base10(10,2)\n",
    "print(d)\n",
    "print(''.join(str(x) for x in d))"
   ]
  },
  {
   "cell_type": "code",
   "execution_count": 75,
   "id": "7a6b0959-0994-4fd5-9e57-d20630b23af2",
   "metadata": {},
   "outputs": [
    {
     "data": {
      "text/plain": [
       "'0x1010'"
      ]
     },
     "execution_count": 75,
     "metadata": {},
     "output_type": "execute_result"
    }
   ],
   "source": [
    "'0x' + ''.join(str(x) for x in from_base10(10,2))"
   ]
  },
  {
   "cell_type": "code",
   "execution_count": 79,
   "id": "7293e90e-5ae8-48db-ba30-6e4857693cb7",
   "metadata": {},
   "outputs": [],
   "source": [
    "def digits_to_bin_str(digits):\n",
    "    return'0x' + '' .join(str(x) for x in d)"
   ]
  },
  {
   "cell_type": "code",
   "execution_count": 80,
   "id": "5abc7b4c-e86a-47e2-9199-defc62ead599",
   "metadata": {},
   "outputs": [
    {
     "data": {
      "text/plain": [
       "'0x1010'"
      ]
     },
     "execution_count": 80,
     "metadata": {},
     "output_type": "execute_result"
    }
   ],
   "source": [
    "digits_to_bin_str(d)"
   ]
  },
  {
   "cell_type": "code",
   "execution_count": 81,
   "id": "9c2a781e-f082-41ee-9f55-eb3b2e91039b",
   "metadata": {},
   "outputs": [
    {
     "data": {
      "text/plain": [
       "[15, 15]"
      ]
     },
     "execution_count": 81,
     "metadata": {},
     "output_type": "execute_result"
    }
   ],
   "source": [
    "from_base10(255, 16)"
   ]
  },
  {
   "cell_type": "code",
   "execution_count": 87,
   "id": "f361bde6-1941-4b85-a2a9-a2f91b8cb675",
   "metadata": {},
   "outputs": [],
   "source": [
    "def encode(digits, digit_map):\n",
    "    if max(digits) >= len(digit_map):\n",
    "        raise ValueError(\"digit_map is not long to encode the digits\")\n",
    "    #encoding = ''\n",
    "    #for d in digits:\n",
    "    #    encoding += digit_map[d]\n",
    "    #return encoding\n",
    "    return ''.join([digit_map[d] for d in digits])"
   ]
  },
  {
   "cell_type": "code",
   "execution_count": 88,
   "id": "01a07d78-6c6a-4feb-9271-aeb1af44661a",
   "metadata": {},
   "outputs": [
    {
     "data": {
      "text/plain": [
       "'FF'"
      ]
     },
     "execution_count": 88,
     "metadata": {},
     "output_type": "execute_result"
    }
   ],
   "source": [
    "encode([15, 15], '0123456789ABCDEF')"
   ]
  },
  {
   "cell_type": "code",
   "execution_count": 94,
   "id": "ce41dd6a-e81a-45df-a8ff-e5a125283291",
   "metadata": {},
   "outputs": [],
   "source": [
    "def rebase_from10(number, base):\n",
    "    digit_map = '0123456789ABCDEFGHIJKLMNOPQURSTUVWXYZ'\n",
    "    if base < 2 or base > 36:\n",
    "        raise ValueError(\"base must be between 2 and 36 inclusive\")\n",
    "    digits = from_base10(number, base)\n",
    "    return encode(digits, digit_map)"
   ]
  },
  {
   "cell_type": "code",
   "execution_count": 95,
   "id": "19d680be-2905-46b5-be6b-5044d1f7ff9f",
   "metadata": {},
   "outputs": [
    {
     "data": {
      "text/plain": [
       "'FF'"
      ]
     },
     "execution_count": 95,
     "metadata": {},
     "output_type": "execute_result"
    }
   ],
   "source": [
    "rebase_from10(255, 16)"
   ]
  },
  {
   "cell_type": "markdown",
   "id": "8f861f5f-b268-4460-90c7-34b770b8c24a",
   "metadata": {},
   "source": [
    "## 04 - Rational Numbers"
   ]
  },
  {
   "cell_type": "code",
   "execution_count": 103,
   "id": "bb70d092-d4fc-43c8-8d13-e20ba55eb899",
   "metadata": {},
   "outputs": [],
   "source": [
    "from fractions import Fraction"
   ]
  },
  {
   "cell_type": "code",
   "execution_count": 104,
   "id": "b0d3b2b5-a7f1-41e4-a618-b228fb7ca170",
   "metadata": {},
   "outputs": [
    {
     "name": "stdout",
     "output_type": "stream",
     "text": [
      "Help on class Fraction in module fractions:\n",
      "\n",
      "class Fraction(numbers.Rational)\n",
      " |  Fraction(numerator=0, denominator=None)\n",
      " |\n",
      " |  This class implements rational numbers.\n",
      " |\n",
      " |  In the two-argument form of the constructor, Fraction(8, 6) will\n",
      " |  produce a rational number equivalent to 4/3. Both arguments must\n",
      " |  be Rational. The numerator defaults to 0 and the denominator\n",
      " |  defaults to 1 so that Fraction(3) == 3 and Fraction() == 0.\n",
      " |\n",
      " |  Fractions can also be constructed from:\n",
      " |\n",
      " |    - numeric strings similar to those accepted by the\n",
      " |      float constructor (for example, '-2.3' or '1e10')\n",
      " |\n",
      " |    - strings of the form '123/456'\n",
      " |\n",
      " |    - float and Decimal instances\n",
      " |\n",
      " |    - other Rational instances (including integers)\n",
      " |\n",
      " |  Method resolution order:\n",
      " |      Fraction\n",
      " |      numbers.Rational\n",
      " |      numbers.Real\n",
      " |      numbers.Complex\n",
      " |      numbers.Number\n",
      " |      builtins.object\n",
      " |\n",
      " |  Methods defined here:\n",
      " |\n",
      " |  __abs__(a)\n",
      " |      abs(a)\n",
      " |\n",
      " |  __add__(a, b)\n",
      " |      a + b\n",
      " |\n",
      " |  __bool__(a)\n",
      " |      a != 0\n",
      " |\n",
      " |  __ceil__(a)\n",
      " |      math.ceil(a)\n",
      " |\n",
      " |  __copy__(self)\n",
      " |\n",
      " |  __deepcopy__(self, memo)\n",
      " |\n",
      " |  __divmod__(a, b)\n",
      " |      (a // b, a % b)\n",
      " |\n",
      " |  __eq__(a, b)\n",
      " |      a == b\n",
      " |\n",
      " |  __floor__(a)\n",
      " |      math.floor(a)\n",
      " |\n",
      " |  __floordiv__(a, b)\n",
      " |      a // b\n",
      " |\n",
      " |  __format__(self, format_spec, /)\n",
      " |      Format this fraction according to the given format specification.\n",
      " |\n",
      " |  __ge__(a, b)\n",
      " |      a >= b\n",
      " |\n",
      " |  __gt__(a, b)\n",
      " |      a > b\n",
      " |\n",
      " |  __hash__(self)\n",
      " |      hash(self)\n",
      " |\n",
      " |  __int__(a, _index=<built-in function index>)\n",
      " |      int(a)\n",
      " |\n",
      " |  __le__(a, b)\n",
      " |      a <= b\n",
      " |\n",
      " |  __lt__(a, b)\n",
      " |      a < b\n",
      " |\n",
      " |  __mod__(a, b)\n",
      " |      a % b\n",
      " |\n",
      " |  __mul__(a, b)\n",
      " |      a * b\n",
      " |\n",
      " |  __neg__(a)\n",
      " |      -a\n",
      " |\n",
      " |  __pos__(a)\n",
      " |      +a: Coerces a subclass instance to Fraction\n",
      " |\n",
      " |  __pow__(a, b)\n",
      " |      a ** b\n",
      " |\n",
      " |      If b is not an integer, the result will be a float or complex\n",
      " |      since roots are generally irrational. If b is an integer, the\n",
      " |      result will be rational.\n",
      " |\n",
      " |  __radd__(b, a)\n",
      " |      a + b\n",
      " |\n",
      " |  __rdivmod__(b, a)\n",
      " |      (a // b, a % b)\n",
      " |\n",
      " |  __reduce__(self)\n",
      " |      Helper for pickle.\n",
      " |\n",
      " |  __repr__(self)\n",
      " |      repr(self)\n",
      " |\n",
      " |  __rfloordiv__(b, a)\n",
      " |      a // b\n",
      " |\n",
      " |  __rmod__(b, a)\n",
      " |      a % b\n",
      " |\n",
      " |  __rmul__(b, a)\n",
      " |      a * b\n",
      " |\n",
      " |  __round__(self, ndigits=None)\n",
      " |      round(self, ndigits)\n",
      " |\n",
      " |      Rounds half toward even.\n",
      " |\n",
      " |  __rpow__(b, a)\n",
      " |      a ** b\n",
      " |\n",
      " |  __rsub__(b, a)\n",
      " |      a - b\n",
      " |\n",
      " |  __rtruediv__(b, a)\n",
      " |      a / b\n",
      " |\n",
      " |  __str__(self)\n",
      " |      str(self)\n",
      " |\n",
      " |  __sub__(a, b)\n",
      " |      a - b\n",
      " |\n",
      " |  __truediv__(a, b)\n",
      " |      a / b\n",
      " |\n",
      " |  __trunc__(a)\n",
      " |      math.trunc(a)\n",
      " |\n",
      " |  as_integer_ratio(self)\n",
      " |      Return a pair of integers, whose ratio is equal to the original Fraction.\n",
      " |\n",
      " |      The ratio is in lowest terms and has a positive denominator.\n",
      " |\n",
      " |  is_integer(self)\n",
      " |      Return True if the Fraction is an integer.\n",
      " |\n",
      " |  limit_denominator(self, max_denominator=1000000)\n",
      " |      Closest Fraction to self with denominator at most max_denominator.\n",
      " |\n",
      " |      >>> Fraction('3.141592653589793').limit_denominator(10)\n",
      " |      Fraction(22, 7)\n",
      " |      >>> Fraction('3.141592653589793').limit_denominator(100)\n",
      " |      Fraction(311, 99)\n",
      " |      >>> Fraction(4321, 8765).limit_denominator(10000)\n",
      " |      Fraction(4321, 8765)\n",
      " |\n",
      " |  ----------------------------------------------------------------------\n",
      " |  Class methods defined here:\n",
      " |\n",
      " |  from_decimal(dec) from abc.ABCMeta\n",
      " |      Converts a finite Decimal instance to a rational number, exactly.\n",
      " |\n",
      " |  from_float(f) from abc.ABCMeta\n",
      " |      Converts a finite float to a rational number, exactly.\n",
      " |\n",
      " |      Beware that Fraction.from_float(0.3) != Fraction(3, 10).\n",
      " |\n",
      " |  ----------------------------------------------------------------------\n",
      " |  Static methods defined here:\n",
      " |\n",
      " |  __new__(cls, numerator=0, denominator=None)\n",
      " |      Constructs a Rational.\n",
      " |\n",
      " |      Takes a string like '3/2' or '1.5', another Rational instance, a\n",
      " |      numerator/denominator pair, or a float.\n",
      " |\n",
      " |      Examples\n",
      " |      --------\n",
      " |\n",
      " |      >>> Fraction(10, -8)\n",
      " |      Fraction(-5, 4)\n",
      " |      >>> Fraction(Fraction(1, 7), 5)\n",
      " |      Fraction(1, 35)\n",
      " |      >>> Fraction(Fraction(1, 7), Fraction(2, 3))\n",
      " |      Fraction(3, 14)\n",
      " |      >>> Fraction('314')\n",
      " |      Fraction(314, 1)\n",
      " |      >>> Fraction('-35/4')\n",
      " |      Fraction(-35, 4)\n",
      " |      >>> Fraction('3.1415') # conversion from numeric string\n",
      " |      Fraction(6283, 2000)\n",
      " |      >>> Fraction('-47e-2') # string may include a decimal exponent\n",
      " |      Fraction(-47, 100)\n",
      " |      >>> Fraction(1.47)  # direct construction from float (exact conversion)\n",
      " |      Fraction(6620291452234629, 4503599627370496)\n",
      " |      >>> Fraction(2.25)\n",
      " |      Fraction(9, 4)\n",
      " |      >>> Fraction(Decimal('1.47'))\n",
      " |      Fraction(147, 100)\n",
      " |\n",
      " |  ----------------------------------------------------------------------\n",
      " |  Readonly properties defined here:\n",
      " |\n",
      " |  denominator\n",
      " |\n",
      " |  numerator\n",
      " |\n",
      " |  ----------------------------------------------------------------------\n",
      " |  Data and other attributes defined here:\n",
      " |\n",
      " |  __abstractmethods__ = frozenset()\n",
      " |\n",
      " |  ----------------------------------------------------------------------\n",
      " |  Methods inherited from numbers.Rational:\n",
      " |\n",
      " |  __float__(self)\n",
      " |      float(self) = self.numerator / self.denominator\n",
      " |\n",
      " |      It's important that this conversion use the integer's \"true\"\n",
      " |      division rather than casting one side to float before dividing\n",
      " |      so that ratios of huge integers convert without overflowing.\n",
      " |\n",
      " |  ----------------------------------------------------------------------\n",
      " |  Methods inherited from numbers.Real:\n",
      " |\n",
      " |  __complex__(self)\n",
      " |      complex(self) == complex(float(self), 0)\n",
      " |\n",
      " |  conjugate(self)\n",
      " |      Conjugate is a no-op for Reals.\n",
      " |\n",
      " |  ----------------------------------------------------------------------\n",
      " |  Readonly properties inherited from numbers.Real:\n",
      " |\n",
      " |  imag\n",
      " |      Real numbers have no imaginary component.\n",
      " |\n",
      " |  real\n",
      " |      Real numbers are their real component.\n",
      "\n"
     ]
    }
   ],
   "source": [
    "help(Fraction)"
   ]
  },
  {
   "cell_type": "code",
   "execution_count": 105,
   "id": "4f103cef-6ca5-40df-a41f-041baa947bad",
   "metadata": {},
   "outputs": [
    {
     "data": {
      "text/plain": [
       "Fraction(1, 8)"
      ]
     },
     "execution_count": 105,
     "metadata": {},
     "output_type": "execute_result"
    }
   ],
   "source": [
    "Fraction(0.125)"
   ]
  },
  {
   "cell_type": "code",
   "execution_count": 106,
   "id": "233fcfa7-7ffe-4ef3-ad59-fcae49a39613",
   "metadata": {},
   "outputs": [
    {
     "data": {
      "text/plain": [
       "Fraction(22, 7)"
      ]
     },
     "execution_count": 106,
     "metadata": {},
     "output_type": "execute_result"
    }
   ],
   "source": [
    "Fraction('22/7')"
   ]
  },
  {
   "cell_type": "code",
   "execution_count": 107,
   "id": "cfcdf3cd-a642-4240-a357-b6d4073133e6",
   "metadata": {},
   "outputs": [
    {
     "data": {
      "text/plain": [
       "Fraction(1, 56)"
      ]
     },
     "execution_count": 107,
     "metadata": {},
     "output_type": "execute_result"
    }
   ],
   "source": [
    "Fraction('1/7') - Fraction('1/8')"
   ]
  },
  {
   "cell_type": "code",
   "execution_count": 108,
   "id": "687e345f-a04e-4f0a-a624-39c97e5d83a7",
   "metadata": {},
   "outputs": [
    {
     "data": {
      "text/plain": [
       "0.017857142857142856"
      ]
     },
     "execution_count": 108,
     "metadata": {},
     "output_type": "execute_result"
    }
   ],
   "source": [
    "float(Fraction('1/7') - Fraction('1/8'))"
   ]
  },
  {
   "cell_type": "code",
   "execution_count": 109,
   "id": "a5fc7843-2aaf-47ea-9852-a4acd8c5d299",
   "metadata": {},
   "outputs": [
    {
     "data": {
      "text/plain": [
       "Fraction(1, 3)"
      ]
     },
     "execution_count": 109,
     "metadata": {},
     "output_type": "execute_result"
    }
   ],
   "source": [
    "Fraction('2/3') * Fraction('1/2')"
   ]
  },
  {
   "cell_type": "code",
   "execution_count": 112,
   "id": "981f9253-da31-404b-a450-95fe5fef43d9",
   "metadata": {},
   "outputs": [
    {
     "name": "stdout",
     "output_type": "stream",
     "text": [
      "22\n"
     ]
    },
    {
     "data": {
      "text/plain": [
       "7"
      ]
     },
     "execution_count": 112,
     "metadata": {},
     "output_type": "execute_result"
    }
   ],
   "source": [
    "x = Fraction('22/7')\n",
    "print(x.numerator)\n",
    "x.denominator"
   ]
  },
  {
   "cell_type": "code",
   "execution_count": 113,
   "id": "157d398b-b6d8-4d7c-986b-821455289a52",
   "metadata": {},
   "outputs": [],
   "source": [
    "import math"
   ]
  },
  {
   "cell_type": "code",
   "execution_count": 117,
   "id": "d2b9c298-71d1-4933-b647-973a12659e93",
   "metadata": {},
   "outputs": [
    {
     "data": {
      "text/plain": [
       "Fraction(884279719003555, 281474976710656)"
      ]
     },
     "execution_count": 117,
     "metadata": {},
     "output_type": "execute_result"
    }
   ],
   "source": [
    "x = Fraction(math.pi)\n",
    "x"
   ]
  },
  {
   "cell_type": "code",
   "execution_count": 119,
   "id": "079785c1-04f2-4f12-be2f-b269fee1fb66",
   "metadata": {},
   "outputs": [
    {
     "data": {
      "text/plain": [
       "Fraction(6369051672525773, 4503599627370496)"
      ]
     },
     "execution_count": 119,
     "metadata": {},
     "output_type": "execute_result"
    }
   ],
   "source": [
    "y = Fraction(math.sqrt(2))\n",
    "y"
   ]
  },
  {
   "cell_type": "code",
   "execution_count": 120,
   "id": "8b465d79-dfa5-41df-9bcf-47f5d5a5b8f2",
   "metadata": {},
   "outputs": [
    {
     "data": {
      "text/plain": [
       "Fraction(5404319552844595, 18014398509481984)"
      ]
     },
     "execution_count": 120,
     "metadata": {},
     "output_type": "execute_result"
    }
   ],
   "source": [
    "Fraction(0.3)"
   ]
  },
  {
   "cell_type": "code",
   "execution_count": 121,
   "id": "4ac47937-ac84-415f-ac74-4a00e3d305bf",
   "metadata": {},
   "outputs": [
    {
     "data": {
      "text/plain": [
       "'0.30000'"
      ]
     },
     "execution_count": 121,
     "metadata": {},
     "output_type": "execute_result"
    }
   ],
   "source": [
    "format(0.3, '.5f')"
   ]
  },
  {
   "cell_type": "code",
   "execution_count": 122,
   "id": "5e98d76d-e2dc-48e3-ae6c-7a312757be4b",
   "metadata": {},
   "outputs": [
    {
     "data": {
      "text/plain": [
       "'0.2999999999999999888977698'"
      ]
     },
     "execution_count": 122,
     "metadata": {},
     "output_type": "execute_result"
    }
   ],
   "source": [
    "format(0.3, '.25f')"
   ]
  },
  {
   "cell_type": "code",
   "execution_count": 124,
   "id": "5e34c50f-2271-4341-9d14-f122683b43df",
   "metadata": {},
   "outputs": [
    {
     "data": {
      "text/plain": [
       "Fraction(884279719003555, 281474976710656)"
      ]
     },
     "execution_count": 124,
     "metadata": {},
     "output_type": "execute_result"
    }
   ],
   "source": [
    "x = Fraction(math.pi)\n",
    "x"
   ]
  },
  {
   "cell_type": "code",
   "execution_count": 125,
   "id": "8468b809-b44b-4ee5-ac45-8e38ccc81f13",
   "metadata": {},
   "outputs": [
    {
     "data": {
      "text/plain": [
       "Fraction(22, 7)"
      ]
     },
     "execution_count": 125,
     "metadata": {},
     "output_type": "execute_result"
    }
   ],
   "source": [
    "x.limit_denominator(10)"
   ]
  },
  {
   "cell_type": "code",
   "execution_count": 126,
   "id": "b6a8279d-99f9-4425-92cd-2bde10d27e39",
   "metadata": {},
   "outputs": [
    {
     "data": {
      "text/plain": [
       "Fraction(311, 99)"
      ]
     },
     "execution_count": 126,
     "metadata": {},
     "output_type": "execute_result"
    }
   ],
   "source": [
    "x.limit_denominator(100)"
   ]
  },
  {
   "cell_type": "code",
   "execution_count": 127,
   "id": "a5de55fd-954f-4b9b-adbd-3b11a848ee85",
   "metadata": {},
   "outputs": [
    {
     "data": {
      "text/plain": [
       "3.1414141414141414"
      ]
     },
     "execution_count": 127,
     "metadata": {},
     "output_type": "execute_result"
    }
   ],
   "source": [
    "float(x.limit_denominator(100))"
   ]
  },
  {
   "cell_type": "code",
   "execution_count": 128,
   "id": "551ba84a-cc74-4ed4-acc1-20acff05cd18",
   "metadata": {},
   "outputs": [
    {
     "data": {
      "text/plain": [
       "3.141592653589793"
      ]
     },
     "execution_count": 128,
     "metadata": {},
     "output_type": "execute_result"
    }
   ],
   "source": [
    "math.pi"
   ]
  },
  {
   "cell_type": "code",
   "execution_count": 129,
   "id": "0abc2b79-2fab-41e7-a84c-e385ce0e050d",
   "metadata": {},
   "outputs": [
    {
     "data": {
      "text/plain": [
       "3.142857142857143"
      ]
     },
     "execution_count": 129,
     "metadata": {},
     "output_type": "execute_result"
    }
   ],
   "source": [
    "float(x.limit_denominator(10))"
   ]
  },
  {
   "cell_type": "code",
   "execution_count": 132,
   "id": "62665dec-589e-4ae1-933c-1388919deae5",
   "metadata": {},
   "outputs": [
    {
     "name": "stdout",
     "output_type": "stream",
     "text": [
      "311/99\n"
     ]
    },
    {
     "data": {
      "text/plain": [
       "3.1415929203539825"
      ]
     },
     "execution_count": 132,
     "metadata": {},
     "output_type": "execute_result"
    }
   ],
   "source": [
    "print(x.limit_denominator(100))\n",
    "float(x.limit_denominator(1000))"
   ]
  },
  {
   "cell_type": "code",
   "execution_count": null,
   "id": "66499733-0e7f-4d2d-979a-56278370e700",
   "metadata": {},
   "outputs": [],
   "source": []
  }
 ],
 "metadata": {
  "kernelspec": {
   "display_name": "Python 3 (ipykernel)",
   "language": "python",
   "name": "python3"
  },
  "language_info": {
   "codemirror_mode": {
    "name": "ipython",
    "version": 3
   },
   "file_extension": ".py",
   "mimetype": "text/x-python",
   "name": "python",
   "nbconvert_exporter": "python",
   "pygments_lexer": "ipython3",
   "version": "3.12.2"
  }
 },
 "nbformat": 4,
 "nbformat_minor": 5
}
