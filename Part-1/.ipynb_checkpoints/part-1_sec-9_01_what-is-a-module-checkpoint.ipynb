{
 "cells": [
  {
   "cell_type": "markdown",
   "id": "d183d67b-44d7-4beb-a15b-607c5a1addc9",
   "metadata": {},
   "source": [
    "### my functions"
   ]
  },
  {
   "cell_type": "code",
   "execution_count": 2,
   "id": "51b08959-5ae5-4e2a-b94d-40eb3da5cbb3",
   "metadata": {},
   "outputs": [
    {
     "name": "stdout",
     "output_type": "stream",
     "text": [
      "['my_var']\n"
     ]
    }
   ],
   "source": [
    "def get_variable_name(symbol):\n",
    "    names = []\n",
    "    for name, value in globals().items():\n",
    "        if value == symbol and not name.startswith(\"_\"):\n",
    "            names.append(name)\n",
    "    return names\n",
    "\n",
    "# Example usage:\n",
    "my_var = 42\n",
    "\n",
    "# Output: ['my_var']\n",
    "print(get_variable_name(42))  \n"
   ]
  },
  {
   "cell_type": "markdown",
   "id": "65de9c1a-c6b4-41a0-86dd-e9dfaadf358e",
   "metadata": {},
   "source": [
    "### follow along code"
   ]
  },
  {
   "cell_type": "code",
   "execution_count": null,
   "id": "2221cafa-6daa-4682-8f28-e1201b7ce5fd",
   "metadata": {},
   "outputs": [],
   "source": [
    "import math"
   ]
  },
  {
   "cell_type": "code",
   "execution_count": null,
   "id": "94234fd0-d63a-41d3-9ac5-e2ad1c5ae686",
   "metadata": {},
   "outputs": [],
   "source": [
    "math"
   ]
  },
  {
   "cell_type": "code",
   "execution_count": null,
   "id": "f855236a-2f4a-4868-a10d-63b2883c91ea",
   "metadata": {},
   "outputs": [],
   "source": [
    "import fractions"
   ]
  },
  {
   "cell_type": "code",
   "execution_count": null,
   "id": "624f3b1b-d3f5-4648-aff7-86282f30230a",
   "metadata": {},
   "outputs": [],
   "source": [
    "fractions"
   ]
  },
  {
   "cell_type": "code",
   "execution_count": null,
   "id": "c10edd98-4d29-460a-b233-595e1d527b38",
   "metadata": {},
   "outputs": [],
   "source": [
    "junk = math"
   ]
  },
  {
   "cell_type": "code",
   "execution_count": null,
   "id": "d9a5b431-0752-4648-9c61-4646b49151be",
   "metadata": {},
   "outputs": [],
   "source": [
    "junk.sqrt(2)"
   ]
  },
  {
   "cell_type": "code",
   "execution_count": null,
   "id": "ce020309-2508-409d-9fd2-3ea6084601ae",
   "metadata": {},
   "outputs": [],
   "source": [
    "junk is math"
   ]
  },
  {
   "cell_type": "code",
   "execution_count": null,
   "id": "6463f913-6d9f-4204-a316-11aa37bc6927",
   "metadata": {
    "scrolled": true
   },
   "outputs": [],
   "source": [
    "globals()"
   ]
  },
  {
   "cell_type": "code",
   "execution_count": null,
   "id": "2b0f3242-4840-4b05-b927-8378325a8887",
   "metadata": {},
   "outputs": [],
   "source": [
    "get_variable_name(junk)"
   ]
  },
  {
   "cell_type": "code",
   "execution_count": null,
   "id": "11065a85-b31f-47d5-bc07-4c3a3736536e",
   "metadata": {},
   "outputs": [],
   "source": [
    "globals()['math']"
   ]
  },
  {
   "cell_type": "code",
   "execution_count": null,
   "id": "294ef0bd-7c16-49cc-8413-5c9d23ef44e8",
   "metadata": {},
   "outputs": [],
   "source": [
    "mod_math = globals()['math']"
   ]
  },
  {
   "cell_type": "code",
   "execution_count": null,
   "id": "0f363354-0d66-44af-8fbb-03b96298516f",
   "metadata": {},
   "outputs": [],
   "source": [
    "mod_math.sqrt(2)"
   ]
  },
  {
   "cell_type": "code",
   "execution_count": null,
   "id": "ef4fb6d0-1b4a-4846-8840-580887df9f4e",
   "metadata": {},
   "outputs": [],
   "source": [
    "import sys"
   ]
  },
  {
   "cell_type": "code",
   "execution_count": null,
   "id": "e445be49-0fe3-4506-bab0-76f9f57599ef",
   "metadata": {},
   "outputs": [],
   "source": [
    "sys.modules"
   ]
  },
  {
   "cell_type": "code",
   "execution_count": null,
   "id": "372cfb2b-73b3-4f24-973a-912d477bec8e",
   "metadata": {},
   "outputs": [],
   "source": [
    "type(sys.modules)"
   ]
  },
  {
   "cell_type": "code",
   "execution_count": null,
   "id": "24b889a2-7da8-4b1e-9561-87247168186f",
   "metadata": {},
   "outputs": [],
   "source": [
    "id(math)"
   ]
  },
  {
   "cell_type": "code",
   "execution_count": null,
   "id": "a8fab4f4-1c31-4efe-85a4-e3a4397e80da",
   "metadata": {},
   "outputs": [],
   "source": [
    "id(sys.modules['math'])"
   ]
  },
  {
   "cell_type": "code",
   "execution_count": null,
   "id": "058d64fa-6b6d-4e6d-ad3d-ac21d1de9288",
   "metadata": {},
   "outputs": [],
   "source": [
    "math.__name__"
   ]
  },
  {
   "cell_type": "code",
   "execution_count": null,
   "id": "6eb20d8d-58b1-4f24-97ef-d71cc8d17061",
   "metadata": {
    "scrolled": true
   },
   "outputs": [],
   "source": [
    "math.__dict__"
   ]
  },
  {
   "cell_type": "markdown",
   "id": "83596e64-6cdc-4118-af97-8d8abc06782c",
   "metadata": {},
   "source": []
  },
  {
   "cell_type": "code",
   "execution_count": null,
   "id": "602ce638-2613-4f28-8a8d-cb404fc57166",
   "metadata": {},
   "outputs": [],
   "source": [
    "import wat"
   ]
  },
  {
   "cell_type": "code",
   "execution_count": null,
   "id": "ae5352dc-3648-4e68-b8ed-555cc59299a3",
   "metadata": {},
   "outputs": [],
   "source": [
    "wat / math"
   ]
  },
  {
   "cell_type": "code",
   "execution_count": null,
   "id": "347de3f1-3caf-4190-bf40-4e8763888138",
   "metadata": {},
   "outputs": [],
   "source": []
  },
  {
   "cell_type": "code",
   "execution_count": null,
   "id": "02b45f3c-972e-4a5c-a3ab-28747f0bccab",
   "metadata": {},
   "outputs": [],
   "source": []
  }
 ],
 "metadata": {
  "kernelspec": {
   "display_name": "Python 3 (ipykernel)",
   "language": "python",
   "name": "python3"
  },
  "language_info": {
   "codemirror_mode": {
    "name": "ipython",
    "version": 3
   },
   "file_extension": ".py",
   "mimetype": "text/x-python",
   "name": "python",
   "nbconvert_exporter": "python",
   "pygments_lexer": "ipython3",
   "version": "3.13.1"
  }
 },
 "nbformat": 4,
 "nbformat_minor": 5
}
