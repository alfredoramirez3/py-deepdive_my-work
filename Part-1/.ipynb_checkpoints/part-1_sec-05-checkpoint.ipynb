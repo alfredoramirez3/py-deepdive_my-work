{
 "cells": [
  {
   "cell_type": "markdown",
   "id": "3e817c63-efb7-4bba-8155-04625cf66286",
   "metadata": {},
   "source": [
    "## Function Parameters\n",
    "    Arguments vs Parameters\n",
    "    Positional vs Keyword-Only Arguments\n",
    "    Optional Arguments via Defaults\n",
    "    Unpacking Iterables and Function Arguments\n",
    "    Extended Unpacking\n",
    "    Variable Number of Positional and Keyword-Only Arguments\n",
    "    "
   ]
  },
  {
   "cell_type": "markdown",
   "id": "c35f325b-c966-49cf-9936-d7afed6d6af6",
   "metadata": {},
   "source": [
    "### Arguments vs Parameters\n",
    "    def my_func(a, b):\n",
    "        pass\n",
    "\n",
    "    in this context, a and b are called parameters of my_func\n",
    "    a and b are variables, local to my_func\n",
    "\n",
    "    When we call the function:\n",
    "    x = 10\n",
    "    y = 'a'\n",
    "    my_func(x, y)\n",
    "    x and y are called arguments\n",
    "    x and y are passed by reference, i.e., the memory addresses of x and y are passed\n",
    "    "
   ]
  },
  {
   "cell_type": "markdown",
   "id": "5559a437-8b73-4e77-8837-47e9009c4d14",
   "metadata": {},
   "source": [
    "### Positional and Keyword Arguments"
   ]
  },
  {
   "cell_type": "code",
   "execution_count": 2,
   "id": "704419eb-090b-49e6-8d0c-ba5dc42927c1",
   "metadata": {},
   "outputs": [],
   "source": [
    "def my_func(a, b):\n",
    "    print(a,b)\n",
    "    return None"
   ]
  },
  {
   "cell_type": "code",
   "execution_count": 6,
   "id": "94c86c5c-61e8-4657-a65f-768c2cb2f744",
   "metadata": {},
   "outputs": [
    {
     "name": "stdout",
     "output_type": "stream",
     "text": [
      "10 20\n"
     ]
    }
   ],
   "source": [
    "my_func(10, 20) # positional"
   ]
  },
  {
   "cell_type": "code",
   "execution_count": 7,
   "id": "61607633-c297-48a9-a574-af4fb7d5b59c",
   "metadata": {},
   "outputs": [
    {
     "name": "stdout",
     "output_type": "stream",
     "text": [
      "20 10\n"
     ]
    }
   ],
   "source": [
    "my_func(20, 10) # positional"
   ]
  },
  {
   "cell_type": "code",
   "execution_count": 8,
   "id": "4119c158-9992-4c51-95de-7644176bbca0",
   "metadata": {},
   "outputs": [
    {
     "name": "stdout",
     "output_type": "stream",
     "text": [
      "1 2\n"
     ]
    }
   ],
   "source": [
    "my_func(b=2, a=1) # by keywork"
   ]
  },
  {
   "cell_type": "code",
   "execution_count": 23,
   "id": "46199ba2-56b5-4f8e-abfe-31c63d8a8637",
   "metadata": {},
   "outputs": [],
   "source": [
    "def my_func(a, b=100):\n",
    "    #print(a)\n",
    "    #if a is None:\n",
    "    #    raise TypeError('a value for parameter a is required')\n",
    "    print(a, b)\n",
    "    return None"
   ]
  },
  {
   "cell_type": "code",
   "execution_count": 24,
   "id": "54a131a7-b0b0-490e-b585-5f2c3762a30d",
   "metadata": {},
   "outputs": [
    {
     "name": "stdout",
     "output_type": "stream",
     "text": [
      "1 2\n"
     ]
    }
   ],
   "source": [
    "my_func(1, 2)"
   ]
  },
  {
   "cell_type": "code",
   "execution_count": 25,
   "id": "5e4603b7-36eb-40eb-a05d-b47e0be92505",
   "metadata": {},
   "outputs": [
    {
     "name": "stdout",
     "output_type": "stream",
     "text": [
      "1 100\n"
     ]
    }
   ],
   "source": [
    "my_func(1)"
   ]
  },
  {
   "cell_type": "code",
   "execution_count": 26,
   "id": "b069564d-77a5-42d8-b981-8bb42bdcff0e",
   "metadata": {},
   "outputs": [
    {
     "ename": "TypeError",
     "evalue": "my_func() missing 1 required positional argument: 'a'",
     "output_type": "error",
     "traceback": [
      "\u001b[0;31m---------------------------------------------------------------------------\u001b[0m",
      "\u001b[0;31mTypeError\u001b[0m                                 Traceback (most recent call last)",
      "Cell \u001b[0;32mIn[26], line 1\u001b[0m\n\u001b[0;32m----> 1\u001b[0m my_func()\n",
      "\u001b[0;31mTypeError\u001b[0m: my_func() missing 1 required positional argument: 'a'"
     ]
    }
   ],
   "source": [
    "my_func()"
   ]
  },
  {
   "cell_type": "code",
   "execution_count": 27,
   "id": "116f9964-fab3-4e3a-8397-cc3aa3cbfb54",
   "metadata": {},
   "outputs": [
    {
     "ename": "SyntaxError",
     "evalue": "parameter without a default follows parameter with a default (692433793.py, line 1)",
     "output_type": "error",
     "traceback": [
      "\u001b[0;36m  Cell \u001b[0;32mIn[27], line 1\u001b[0;36m\u001b[0m\n\u001b[0;31m    def my_func(a, b=100, c):\u001b[0m\n\u001b[0m                          ^\u001b[0m\n\u001b[0;31mSyntaxError\u001b[0m\u001b[0;31m:\u001b[0m parameter without a default follows parameter with a default\n"
     ]
    }
   ],
   "source": [
    "def my_func(a, b=100, c):\n",
    "    print(a, b, c)\n",
    "    return None"
   ]
  },
  {
   "cell_type": "markdown",
   "id": "42f95bdf-ed00-4126-ad7a-5f5593d18414",
   "metadata": {},
   "source": [
    "### Coding exercise"
   ]
  },
  {
   "cell_type": "code",
   "execution_count": 46,
   "id": "66952102-1590-454d-a697-9f76ba7d10ea",
   "metadata": {},
   "outputs": [],
   "source": [
    "def my_func(a, b, c):\n",
    "    print(f'a:{a}, b:{b}, c:{c}')\n",
    "    return None"
   ]
  },
  {
   "cell_type": "code",
   "execution_count": 37,
   "id": "b064e431-4fd2-456b-8204-ad0715731c79",
   "metadata": {},
   "outputs": [],
   "source": [
    "def print_ret(ret):\n",
    "    print(f'ret: {ret}')"
   ]
  },
  {
   "cell_type": "code",
   "execution_count": 38,
   "id": "f408cc8c-9881-49e2-afc4-1c9a221cfc82",
   "metadata": {},
   "outputs": [
    {
     "name": "stdout",
     "output_type": "stream",
     "text": [
      "a:1, b:2, c:3\n",
      "ret: None\n"
     ]
    }
   ],
   "source": [
    "ret = my_func(1, 2, 3)\n",
    "print_ret(ret)"
   ]
  },
  {
   "cell_type": "code",
   "execution_count": 39,
   "id": "c553a28a-e50b-40fa-aee5-6ef1ab5e2cf9",
   "metadata": {},
   "outputs": [],
   "source": [
    "def my_func(a, b=2, c=3):\n",
    "    print(f'a:{a}, b:{b}, c:{c}')\n",
    "    return None"
   ]
  },
  {
   "cell_type": "code",
   "execution_count": 41,
   "id": "e9e62ab9-48b3-40be-9149-9566b23b8c2a",
   "metadata": {},
   "outputs": [
    {
     "name": "stdout",
     "output_type": "stream",
     "text": [
      "a:10, b:20, c:30\n",
      "ret: None\n"
     ]
    }
   ],
   "source": [
    "ret = my_func(10, 20, 30)\n",
    "print_ret(ret)"
   ]
  },
  {
   "cell_type": "code",
   "execution_count": 42,
   "id": "2cd43dc7-d71b-4a58-a1db-63c6037e9d54",
   "metadata": {},
   "outputs": [
    {
     "name": "stdout",
     "output_type": "stream",
     "text": [
      "a:10, b:2, c:3\n",
      "ret: None\n"
     ]
    }
   ],
   "source": [
    "ret = my_func(10)\n",
    "print_ret(ret)"
   ]
  },
  {
   "cell_type": "code",
   "execution_count": 47,
   "id": "0865d838-414f-40a4-84ce-e63d140d7974",
   "metadata": {},
   "outputs": [
    {
     "name": "stdout",
     "output_type": "stream",
     "text": [
      "a:10, b:20, c:30\n",
      "ret: None\n"
     ]
    }
   ],
   "source": [
    "print_ret(my_func(c=30, b=20, a=10))"
   ]
  },
  {
   "cell_type": "markdown",
   "id": "77571867-166d-4aab-a3b9-87054efa014a",
   "metadata": {},
   "source": [
    "### Unpacking Iterables"
   ]
  },
  {
   "cell_type": "code",
   "execution_count": 48,
   "id": "9b23d5b4-36db-45d9-9d86-39f81ea32ae6",
   "metadata": {},
   "outputs": [
    {
     "data": {
      "text/plain": [
       "tuple"
      ]
     },
     "execution_count": 48,
     "metadata": {},
     "output_type": "execute_result"
    }
   ],
   "source": [
    "t = (1, 2, 3)\n",
    "type(t)"
   ]
  },
  {
   "cell_type": "code",
   "execution_count": 49,
   "id": "5298711b-d3ff-4667-b3d6-61411a25ccd2",
   "metadata": {},
   "outputs": [
    {
     "data": {
      "text/plain": [
       "tuple"
      ]
     },
     "execution_count": 49,
     "metadata": {},
     "output_type": "execute_result"
    }
   ],
   "source": [
    "t = 1, 2, 3\n",
    "type(t)"
   ]
  },
  {
   "cell_type": "code",
   "execution_count": 53,
   "id": "d1a61873-ea77-48be-889a-5b1872ac3e26",
   "metadata": {},
   "outputs": [
    {
     "name": "stdout",
     "output_type": "stream",
     "text": [
      "<class 'tuple'>\n",
      "(1, 2, 3)\n"
     ]
    }
   ],
   "source": [
    "t = tuple([1, 2, 3])\n",
    "print(type(t))\n",
    "print(t)"
   ]
  },
  {
   "cell_type": "code",
   "execution_count": 54,
   "id": "2a544e29-a662-4714-9138-30158361b87c",
   "metadata": {},
   "outputs": [
    {
     "data": {
      "text/plain": [
       "tuple"
      ]
     },
     "execution_count": 54,
     "metadata": {},
     "output_type": "execute_result"
    }
   ],
   "source": [
    "t = 1,\n",
    "type(t)"
   ]
  },
  {
   "cell_type": "code",
   "execution_count": 55,
   "id": "95060eb7-3f79-46e8-bbb3-a7afcd4815ea",
   "metadata": {},
   "outputs": [
    {
     "data": {
      "text/plain": [
       "tuple"
      ]
     },
     "execution_count": 55,
     "metadata": {},
     "output_type": "execute_result"
    }
   ],
   "source": [
    "t = ()\n",
    "type(t)"
   ]
  },
  {
   "cell_type": "code",
   "execution_count": 56,
   "id": "b6249886-3841-4947-acc8-febd388e0944",
   "metadata": {},
   "outputs": [
    {
     "data": {
      "text/plain": [
       "tuple"
      ]
     },
     "execution_count": 56,
     "metadata": {},
     "output_type": "execute_result"
    }
   ],
   "source": [
    "t = tuple()\n",
    "type(t)"
   ]
  },
  {
   "cell_type": "code",
   "execution_count": 58,
   "id": "3d240a9e-284b-4f8a-9f7b-9af042988a99",
   "metadata": {},
   "outputs": [
    {
     "data": {
      "text/plain": [
       "0"
      ]
     },
     "execution_count": 58,
     "metadata": {},
     "output_type": "execute_result"
    }
   ],
   "source": [
    "len(t)"
   ]
  },
  {
   "cell_type": "code",
   "execution_count": null,
   "id": "f7e2f144-d814-45f7-bde7-67f7847edfa2",
   "metadata": {},
   "outputs": [],
   "source": [
    "### Packed Values is any iterable"
   ]
  },
  {
   "cell_type": "code",
   "execution_count": 59,
   "id": "918cd34b-121a-454b-8f7a-19209ec83a3b",
   "metadata": {},
   "outputs": [
    {
     "name": "stdout",
     "output_type": "stream",
     "text": [
      "1 2 3\n"
     ]
    }
   ],
   "source": [
    "a, b, c = [1, 2, 3]\n",
    "print(a, b, c)"
   ]
  },
  {
   "cell_type": "code",
   "execution_count": 60,
   "id": "7d5f7dfc-2bb7-4aeb-983c-eaf698cd3d85",
   "metadata": {},
   "outputs": [
    {
     "ename": "ValueError",
     "evalue": "too many values to unpack (expected 2)",
     "output_type": "error",
     "traceback": [
      "\u001b[0;31m---------------------------------------------------------------------------\u001b[0m",
      "\u001b[0;31mValueError\u001b[0m                                Traceback (most recent call last)",
      "Cell \u001b[0;32mIn[60], line 1\u001b[0m\n\u001b[0;32m----> 1\u001b[0m a, b \u001b[38;5;241m=\u001b[39m [\u001b[38;5;241m1\u001b[39m, \u001b[38;5;241m2\u001b[39m, \u001b[38;5;241m3\u001b[39m]\n\u001b[1;32m      2\u001b[0m \u001b[38;5;28mprint\u001b[39m(a, b)\n",
      "\u001b[0;31mValueError\u001b[0m: too many values to unpack (expected 2)"
     ]
    }
   ],
   "source": [
    "a, b = [1, 2, 3]\n",
    "print(a, b)"
   ]
  },
  {
   "cell_type": "code",
   "execution_count": 62,
   "id": "c0157ffb-492c-43cc-9554-abdaff9b0193",
   "metadata": {},
   "outputs": [
    {
     "name": "stdout",
     "output_type": "stream",
     "text": [
      "1 [2, 3]\n"
     ]
    }
   ],
   "source": [
    "a, *b = [1, 2, 3]\n",
    "print(a, b)"
   ]
  },
  {
   "cell_type": "code",
   "execution_count": 63,
   "id": "77b40b30-e2fb-4fe5-8c74-e625e9cd788e",
   "metadata": {},
   "outputs": [
    {
     "name": "stdout",
     "output_type": "stream",
     "text": [
      "1 [2, 3]\n"
     ]
    }
   ],
   "source": [
    "a, *b = 1, 2, 3\n",
    "print(a, b)"
   ]
  },
  {
   "cell_type": "code",
   "execution_count": 65,
   "id": "abc869a6-4aae-4ea8-b564-532d76cd9b97",
   "metadata": {},
   "outputs": [
    {
     "name": "stdout",
     "output_type": "stream",
     "text": [
      "one two three\n"
     ]
    }
   ],
   "source": [
    "e1, e2, e3 = 'one two three'.split()\n",
    "print(e1, e2, e3)"
   ]
  },
  {
   "cell_type": "markdown",
   "id": "4f4070be-ad47-48e1-af15-060ef955b3ae",
   "metadata": {},
   "source": [
    "### Unpacking Sets and Dictionaries"
   ]
  },
  {
   "cell_type": "code",
   "execution_count": 72,
   "id": "d13afcab-dfad-47b5-804f-46a3896b17d2",
   "metadata": {},
   "outputs": [],
   "source": [
    "d = {'key1': 'one', 'key2': 'two', 'key3': 'three'}"
   ]
  },
  {
   "cell_type": "code",
   "execution_count": 73,
   "id": "6f615a2c-2203-4338-9567-74e3860a2aab",
   "metadata": {},
   "outputs": [
    {
     "name": "stdout",
     "output_type": "stream",
     "text": [
      "key1 key2 key3\n"
     ]
    }
   ],
   "source": [
    "a, b, c = d\n",
    "print(a, b, c)"
   ]
  },
  {
   "cell_type": "code",
   "execution_count": 74,
   "id": "c1a82940-e50e-47e5-bcb7-0a7f0ce3c37f",
   "metadata": {},
   "outputs": [
    {
     "name": "stdout",
     "output_type": "stream",
     "text": [
      "('key1', 'one') ('key2', 'two') ('key3', 'three')\n"
     ]
    }
   ],
   "source": [
    "a, b, c = d.items()\n",
    "print(a, b, c)"
   ]
  },
  {
   "cell_type": "code",
   "execution_count": 76,
   "id": "a2c85044-6366-4866-99df-fa2afb5eba3a",
   "metadata": {},
   "outputs": [
    {
     "data": {
      "text/plain": [
       "{'k': 'one', 'e': 'one', 'y': 'one', '1': 'one'}"
      ]
     },
     "execution_count": 76,
     "metadata": {},
     "output_type": "execute_result"
    }
   ],
   "source": [
    "d.fromkeys(*a)"
   ]
  },
  {
   "cell_type": "markdown",
   "id": "4649e7c0-ae0e-4174-8351-54a6ea34e92c",
   "metadata": {},
   "source": [
    "### Unpacking Iterables - Code"
   ]
  },
  {
   "cell_type": "code",
   "execution_count": 77,
   "id": "8c4ffaa8-533b-49ee-b701-b7372bf59629",
   "metadata": {},
   "outputs": [],
   "source": [
    "a = 1, 2, 3"
   ]
  },
  {
   "cell_type": "code",
   "execution_count": 78,
   "id": "e9749eda-1cee-4097-88f1-309d0481f50f",
   "metadata": {},
   "outputs": [
    {
     "data": {
      "text/plain": [
       "tuple"
      ]
     },
     "execution_count": 78,
     "metadata": {},
     "output_type": "execute_result"
    }
   ],
   "source": [
    "type(a)"
   ]
  },
  {
   "cell_type": "code",
   "execution_count": 80,
   "id": "4ece3fa5-a2f7-4530-8096-2db02d928337",
   "metadata": {},
   "outputs": [
    {
     "name": "stdout",
     "output_type": "stream",
     "text": [
      "()\n"
     ]
    }
   ],
   "source": [
    "a = tuple()\n",
    "type(a)\n",
    "print(a)"
   ]
  },
  {
   "cell_type": "code",
   "execution_count": 81,
   "id": "a6418631-8253-4497-859a-7bce7ffff0a8",
   "metadata": {},
   "outputs": [],
   "source": [
    "a, b = 1, 2"
   ]
  },
  {
   "cell_type": "code",
   "execution_count": 82,
   "id": "c8311810-2525-4e44-88bf-3049bcca7f95",
   "metadata": {},
   "outputs": [],
   "source": [
    "x = 1\n",
    "y = 2"
   ]
  },
  {
   "cell_type": "code",
   "execution_count": 84,
   "id": "e6473308-ad3f-4a81-b9cf-fe4f759f93dd",
   "metadata": {},
   "outputs": [
    {
     "name": "stdout",
     "output_type": "stream",
     "text": [
      "93843517713704\n",
      "93843517713736\n",
      "93843517713704\n",
      "93843517713736\n"
     ]
    }
   ],
   "source": [
    "print(id(a))\n",
    "print(id(b))\n",
    "print(id(x))\n",
    "print(id(y))"
   ]
  },
  {
   "cell_type": "code",
   "execution_count": 85,
   "id": "0044a438-1dd9-46b2-97d7-d407eeb6fe80",
   "metadata": {},
   "outputs": [],
   "source": [
    "s = {'p', 'y', 't', 'h', 'o', 'n'}"
   ]
  },
  {
   "cell_type": "code",
   "execution_count": 86,
   "id": "f110429f-1592-4f95-b7d4-457253af2fa3",
   "metadata": {},
   "outputs": [
    {
     "name": "stdout",
     "output_type": "stream",
     "text": [
      "{'y', 'o', 'p', 't', 'n', 'h'}\n"
     ]
    }
   ],
   "source": [
    "print(s)"
   ]
  },
  {
   "cell_type": "code",
   "execution_count": 88,
   "id": "a2d88d9c-371f-47c9-8b4e-ea0e1eee7701",
   "metadata": {},
   "outputs": [
    {
     "name": "stdout",
     "output_type": "stream",
     "text": [
      "y 93843517778120\n",
      "o 93843517777640\n",
      "p 93843517764192\n",
      "t 93843517777880\n",
      "n 93843517761848\n",
      "h 93843517777304\n"
     ]
    }
   ],
   "source": [
    "for e in s:\n",
    "    print(e, id(e))"
   ]
  },
  {
   "cell_type": "code",
   "execution_count": 89,
   "id": "0d0bced5-795f-4c33-ba45-a33db2ca4a4f",
   "metadata": {},
   "outputs": [],
   "source": [
    "x, *y = s"
   ]
  },
  {
   "cell_type": "code",
   "execution_count": 90,
   "id": "ef540289-f426-42c3-9abf-e78b7bc8929e",
   "metadata": {},
   "outputs": [
    {
     "name": "stdout",
     "output_type": "stream",
     "text": [
      "y\n",
      "['o', 'p', 't', 'n', 'h']\n"
     ]
    }
   ],
   "source": [
    "print(x)\n",
    "print(y)"
   ]
  },
  {
   "cell_type": "code",
   "execution_count": 93,
   "id": "e0484637-2cb2-4798-874f-8bb2d7e693b0",
   "metadata": {},
   "outputs": [
    {
     "data": {
      "text/plain": [
       "{'a': 1, 'b': 2, 'c': 3}"
      ]
     },
     "execution_count": 93,
     "metadata": {},
     "output_type": "execute_result"
    }
   ],
   "source": [
    "d = {'a':1, 'b':2, 'c':3}\n",
    "d"
   ]
  },
  {
   "cell_type": "code",
   "execution_count": 94,
   "id": "f58331ff-18fd-4f8e-b775-39dd7ecebac3",
   "metadata": {},
   "outputs": [
    {
     "name": "stdout",
     "output_type": "stream",
     "text": [
      "a\n",
      "b\n",
      "c\n"
     ]
    }
   ],
   "source": [
    "for e in d:\n",
    "    print(e)"
   ]
  },
  {
   "cell_type": "code",
   "execution_count": 95,
   "id": "6c95572d-40c4-4573-8a49-43fdfb5dd72c",
   "metadata": {},
   "outputs": [],
   "source": [
    "a, b, c = d"
   ]
  },
  {
   "cell_type": "code",
   "execution_count": 96,
   "id": "a1dd40c4-0f2e-4316-a723-13a73e356b56",
   "metadata": {},
   "outputs": [
    {
     "data": {
      "text/plain": [
       "'a'"
      ]
     },
     "execution_count": 96,
     "metadata": {},
     "output_type": "execute_result"
    }
   ],
   "source": [
    "a"
   ]
  },
  {
   "cell_type": "code",
   "execution_count": 97,
   "id": "3ac4e26d-2625-45cf-8214-a3f41087607b",
   "metadata": {},
   "outputs": [
    {
     "data": {
      "text/plain": [
       "'b'"
      ]
     },
     "execution_count": 97,
     "metadata": {},
     "output_type": "execute_result"
    }
   ],
   "source": [
    "b"
   ]
  },
  {
   "cell_type": "code",
   "execution_count": 98,
   "id": "2c494021-e283-4538-8801-bf1f562fd999",
   "metadata": {},
   "outputs": [
    {
     "data": {
      "text/plain": [
       "'c'"
      ]
     },
     "execution_count": 98,
     "metadata": {},
     "output_type": "execute_result"
    }
   ],
   "source": [
    "c"
   ]
  },
  {
   "cell_type": "code",
   "execution_count": 99,
   "id": "4665d12c-823e-4ff2-92e3-13af8362b362",
   "metadata": {},
   "outputs": [
    {
     "data": {
      "text/plain": [
       "{'a': 1, 'b': 2, 'c': 3}"
      ]
     },
     "execution_count": 99,
     "metadata": {},
     "output_type": "execute_result"
    }
   ],
   "source": [
    "d"
   ]
  },
  {
   "cell_type": "code",
   "execution_count": 101,
   "id": "047f1797-af84-4a1a-80ca-f9601c93b1d6",
   "metadata": {},
   "outputs": [],
   "source": [
    "d = {'a':1, 'b':2, 'c':3, 'd':4}"
   ]
  },
  {
   "cell_type": "code",
   "execution_count": 102,
   "id": "dccd62e8-d97c-4a16-b3d6-41a6943670d0",
   "metadata": {},
   "outputs": [],
   "source": [
    "a, b, c, d = d"
   ]
  },
  {
   "cell_type": "code",
   "execution_count": 103,
   "id": "31d8b40d-6546-4c37-9ec1-30483dde6ae5",
   "metadata": {},
   "outputs": [
    {
     "data": {
      "text/plain": [
       "'a'"
      ]
     },
     "execution_count": 103,
     "metadata": {},
     "output_type": "execute_result"
    }
   ],
   "source": [
    "a"
   ]
  },
  {
   "cell_type": "code",
   "execution_count": 104,
   "id": "96f58236-cee8-46ab-baf7-ac65937fb747",
   "metadata": {},
   "outputs": [
    {
     "data": {
      "text/plain": [
       "'b'"
      ]
     },
     "execution_count": 104,
     "metadata": {},
     "output_type": "execute_result"
    }
   ],
   "source": [
    "b"
   ]
  },
  {
   "cell_type": "code",
   "execution_count": 105,
   "id": "225bf83d-8a52-4d76-944a-8910b1d607c7",
   "metadata": {},
   "outputs": [
    {
     "data": {
      "text/plain": [
       "'c'"
      ]
     },
     "execution_count": 105,
     "metadata": {},
     "output_type": "execute_result"
    }
   ],
   "source": [
    "c"
   ]
  },
  {
   "cell_type": "code",
   "execution_count": 106,
   "id": "8597966f-fc49-4285-944e-c2ed5bf3d7cb",
   "metadata": {},
   "outputs": [
    {
     "data": {
      "text/plain": [
       "'d'"
      ]
     },
     "execution_count": 106,
     "metadata": {},
     "output_type": "execute_result"
    }
   ],
   "source": [
    "d"
   ]
  },
  {
   "cell_type": "code",
   "execution_count": 108,
   "id": "6cde3e17-db8b-499f-8b1a-22ef65f103e3",
   "metadata": {},
   "outputs": [],
   "source": [
    "d = {'a':1, 'b':2, 'c':3, 'd':4}"
   ]
  },
  {
   "cell_type": "code",
   "execution_count": 117,
   "id": "6f78b52a-31cc-476e-a494-e02a7179f3e4",
   "metadata": {},
   "outputs": [
    {
     "name": "stdout",
     "output_type": "stream",
     "text": [
      "a\n",
      "b\n",
      "c\n",
      "d\n"
     ]
    }
   ],
   "source": [
    "for k in d:\n",
    "    print(k)"
   ]
  },
  {
   "cell_type": "code",
   "execution_count": 118,
   "id": "b5c675bc-e521-4901-b815-2ff6e9faa0b9",
   "metadata": {},
   "outputs": [
    {
     "name": "stdout",
     "output_type": "stream",
     "text": [
      "1\n",
      "2\n",
      "3\n",
      "4\n"
     ]
    }
   ],
   "source": [
    "for v in d.values():\n",
    "    print(v)"
   ]
  },
  {
   "cell_type": "code",
   "execution_count": 119,
   "id": "75cc6d79-37d1-4918-90be-b917d813bc5e",
   "metadata": {},
   "outputs": [
    {
     "name": "stdout",
     "output_type": "stream",
     "text": [
      "('a', 1)\n",
      "('b', 2)\n",
      "('c', 3)\n",
      "('d', 4)\n"
     ]
    }
   ],
   "source": [
    "for kv in d.items():\n",
    "    print(kv)"
   ]
  },
  {
   "cell_type": "code",
   "execution_count": 120,
   "id": "f262f58d-ae15-45fd-b074-06fd2c605efc",
   "metadata": {},
   "outputs": [
    {
     "name": "stdout",
     "output_type": "stream",
     "text": [
      "a 1\n",
      "b 2\n",
      "c 3\n",
      "d 4\n"
     ]
    }
   ],
   "source": [
    "for k,v in d.items():\n",
    "    print(k,v)"
   ]
  },
  {
   "cell_type": "markdown",
   "id": "7dffcd45-22fa-405b-8907-e2d2951eff10",
   "metadata": {},
   "source": [
    "### Extended Uppacking"
   ]
  },
  {
   "cell_type": "code",
   "execution_count": 122,
   "id": "d61238f0-cabb-4349-9ce7-def535a98655",
   "metadata": {},
   "outputs": [
    {
     "data": {
      "text/plain": [
       "[1, 2, 3, 4, 5, 6]"
      ]
     },
     "execution_count": 122,
     "metadata": {},
     "output_type": "execute_result"
    }
   ],
   "source": [
    "l = [1, 2, 3, 4, 5, 6]\n",
    "l"
   ]
  },
  {
   "cell_type": "code",
   "execution_count": 123,
   "id": "fcc49274-c02c-42b3-a2e2-30fce4182aad",
   "metadata": {},
   "outputs": [
    {
     "data": {
      "text/plain": [
       "[1, 2, 3, 4, 5, 6]"
      ]
     },
     "execution_count": 123,
     "metadata": {},
     "output_type": "execute_result"
    }
   ],
   "source": [
    "l = [e for e in range(1, 7)]\n",
    "l"
   ]
  },
  {
   "cell_type": "code",
   "execution_count": 124,
   "id": "a073199b-413c-47ef-ac71-f3e51a1beb0f",
   "metadata": {},
   "outputs": [
    {
     "name": "stdout",
     "output_type": "stream",
     "text": [
      "1\n",
      "[2, 3, 4, 5, 6]\n"
     ]
    }
   ],
   "source": [
    "a = l[0]\n",
    "b = l[1:]\n",
    "print(a)\n",
    "print(b)"
   ]
  },
  {
   "cell_type": "code",
   "execution_count": 127,
   "id": "24589d5d-5aa2-423d-a7ca-c3fbdddea441",
   "metadata": {},
   "outputs": [
    {
     "name": "stdout",
     "output_type": "stream",
     "text": [
      "1 [2, 3, 4, 5, 6]\n"
     ]
    }
   ],
   "source": [
    "a, *b = l\n",
    "print(a, b)"
   ]
  },
  {
   "cell_type": "code",
   "execution_count": 128,
   "id": "b6348936-340e-4ef0-ac47-8299519943c2",
   "metadata": {},
   "outputs": [
    {
     "name": "stdout",
     "output_type": "stream",
     "text": [
      "1 [2, 3, 4, 5] 6\n"
     ]
    }
   ],
   "source": [
    "a, *b, c = l\n",
    "print(a, b, c)"
   ]
  },
  {
   "cell_type": "code",
   "execution_count": 130,
   "id": "c8da56a3-fd0d-4b59-9da5-6c7adff3928f",
   "metadata": {},
   "outputs": [
    {
     "name": "stdout",
     "output_type": "stream",
     "text": [
      "1 [2, 3, 4, 5] 6\n"
     ]
    }
   ],
   "source": [
    "first, *middle, last = l\n",
    "print(first, middle, last)"
   ]
  },
  {
   "cell_type": "code",
   "execution_count": 134,
   "id": "242c94f9-f05d-4119-8efc-b84930a41eac",
   "metadata": {},
   "outputs": [],
   "source": [
    "lst = [e for e in range(1, 7)]"
   ]
  },
  {
   "cell_type": "code",
   "execution_count": 137,
   "id": "77ad969c-6cd9-483f-a307-316fe49f4c3b",
   "metadata": {},
   "outputs": [
    {
     "name": "stdout",
     "output_type": "stream",
     "text": [
      "1 6\n",
      "[2, 3, 4, 5]\n"
     ]
    }
   ],
   "source": [
    "first, *_, last = lst\n",
    "print(first, last)\n",
    "a = 1\n",
    "print(_)"
   ]
  },
  {
   "cell_type": "code",
   "execution_count": 138,
   "id": "8bc46173-e8e4-440a-8fec-519a5649c588",
   "metadata": {},
   "outputs": [],
   "source": [
    "l1 = [1, 2, 3]\n",
    "l2 = [4, 5, 6]"
   ]
  },
  {
   "cell_type": "code",
   "execution_count": 140,
   "id": "ffd04f16-ec85-452c-a884-727447599e72",
   "metadata": {},
   "outputs": [
    {
     "data": {
      "text/plain": [
       "[1, 2, 3, 4, 5, 6]"
      ]
     },
     "execution_count": 140,
     "metadata": {},
     "output_type": "execute_result"
    }
   ],
   "source": [
    "l = [*l1, *l2]\n",
    "l"
   ]
  },
  {
   "cell_type": "code",
   "execution_count": 141,
   "id": "776b355e-e0f5-4a00-ae27-583b65b8ac4f",
   "metadata": {},
   "outputs": [
    {
     "data": {
      "text/plain": [
       "[1, 2, 3, 4, 5, 6]"
      ]
     },
     "execution_count": 141,
     "metadata": {},
     "output_type": "execute_result"
    }
   ],
   "source": [
    "l1 + l2"
   ]
  },
  {
   "cell_type": "code",
   "execution_count": 143,
   "id": "d6bad8c1-c84f-4811-86fd-ceb7acd34b4a",
   "metadata": {},
   "outputs": [
    {
     "data": {
      "text/plain": [
       "[5, 6]"
      ]
     },
     "execution_count": 143,
     "metadata": {},
     "output_type": "execute_result"
    }
   ],
   "source": [
    "l1[:2]\n",
    "l2[-2:]"
   ]
  },
  {
   "cell_type": "code",
   "execution_count": 147,
   "id": "b650bc7b-703e-4666-9b86-5e3ed57d077e",
   "metadata": {},
   "outputs": [
    {
     "data": {
      "text/plain": [
       "[[1, 2], [5, 6]]"
      ]
     },
     "execution_count": 147,
     "metadata": {},
     "output_type": "execute_result"
    }
   ],
   "source": [
    "[l1[:2], l2[-2:]]"
   ]
  },
  {
   "cell_type": "code",
   "execution_count": 148,
   "id": "8b7086fe-8a56-4838-8095-5473cd36d721",
   "metadata": {},
   "outputs": [
    {
     "data": {
      "text/plain": [
       "[1, 2, 5, 6]"
      ]
     },
     "execution_count": 148,
     "metadata": {},
     "output_type": "execute_result"
    }
   ],
   "source": [
    "[*l1[:2], *l2[-2:]]"
   ]
  },
  {
   "cell_type": "code",
   "execution_count": 149,
   "id": "db277391-3a25-4191-9a9b-aea9f416bb06",
   "metadata": {},
   "outputs": [
    {
     "data": {
      "text/plain": [
       "(1, 2, 5, 6)"
      ]
     },
     "execution_count": 149,
     "metadata": {},
     "output_type": "execute_result"
    }
   ],
   "source": [
    "*l1[:2], *l2[-2:]"
   ]
  },
  {
   "cell_type": "markdown",
   "id": "3dc35109-d30b-4912-b31f-f010616d95f7",
   "metadata": {},
   "source": [
    "### Usage with unordered types`m"
   ]
  },
  {
   "cell_type": "code",
   "execution_count": 151,
   "id": "6231503c-6eb2-4aa3-8a39-0f4c6d13aea4",
   "metadata": {},
   "outputs": [
    {
     "name": "stdout",
     "output_type": "stream",
     "text": [
      "{'d', 10, 3, -99}\n"
     ]
    }
   ],
   "source": [
    "s = {10, -99, 3, 'd'}\n",
    "print(s)"
   ]
  },
  {
   "cell_type": "code",
   "execution_count": 152,
   "id": "5f359007-ef97-4966-934f-05f7282a7343",
   "metadata": {},
   "outputs": [
    {
     "name": "stdout",
     "output_type": "stream",
     "text": [
      "Help on built-in function print in module builtins:\n",
      "\n",
      "print(*args, sep=' ', end='\\n', file=None, flush=False)\n",
      "    Prints the values to a stream, or to sys.stdout by default.\n",
      "\n",
      "    sep\n",
      "      string inserted between values, default a space.\n",
      "    end\n",
      "      string appended after the last value, default a newline.\n",
      "    file\n",
      "      a file-like object (stream); defaults to the current sys.stdout.\n",
      "    flush\n",
      "      whether to forcibly flush the stream.\n",
      "\n"
     ]
    }
   ],
   "source": [
    "help(print)"
   ]
  },
  {
   "cell_type": "code",
   "execution_count": 165,
   "id": "b50c698b-1331-4d06-b980-2003400df115",
   "metadata": {},
   "outputs": [
    {
     "data": {
      "text/plain": [
       "(1, 2, 3)"
      ]
     },
     "execution_count": 165,
     "metadata": {},
     "output_type": "execute_result"
    }
   ],
   "source": [
    "*l1,"
   ]
  },
  {
   "cell_type": "code",
   "execution_count": 166,
   "id": "2b3506f6-3bdd-4551-a29d-0a7b0c0960f4",
   "metadata": {},
   "outputs": [
    {
     "data": {
      "text/plain": [
       "(1, 2, 3)"
      ]
     },
     "execution_count": 166,
     "metadata": {},
     "output_type": "execute_result"
    }
   ],
   "source": [
    "tuple(l1)"
   ]
  },
  {
   "cell_type": "code",
   "execution_count": 168,
   "id": "e52f3f2c-a8d7-47d0-8217-8a4d352144c4",
   "metadata": {},
   "outputs": [
    {
     "data": {
      "text/plain": [
       "(1, 2, 3)"
      ]
     },
     "execution_count": 168,
     "metadata": {},
     "output_type": "execute_result"
    }
   ],
   "source": [
    "[*l1,]"
   ]
  },
  {
   "cell_type": "code",
   "execution_count": 1,
   "id": "28856fa3-ec0a-4734-9f08-956ce832d364",
   "metadata": {},
   "outputs": [],
   "source": [
    "## Lost a lot of work because of a bad mv command!"
   ]
  },
  {
   "cell_type": "markdown",
   "id": "6749e9ec-c127-4894-ae26-c22eab40f16b",
   "metadata": {},
   "source": [
    "### 07 - Putting it all Together"
   ]
  },
  {
   "cell_type": "code",
   "execution_count": null,
   "id": "17ab6ba8-eafd-4c42-be73-dd83a7cf8fb2",
   "metadata": {},
   "outputs": [],
   "source": [
    "# Recap\n",
    "## positional arguments\n",
    "### specific may have default values\n",
    "## *args collects, and exhaust remaining positional argurment\n",
    "## * indicates the end of positional arguments, effectively exhausts\n",
    "## keyword-only arguments\n",
    "### after positional arguments\n",
    "### specific, may have default values\n",
    "## **kwargs"
   ]
  },
  {
   "cell_type": "code",
   "execution_count": null,
   "id": "7552ad17-ca64-4c21-b07e-e9848b45cd52",
   "metadata": {},
   "outputs": [],
   "source": [
    "# a, b, c=10     *args / *     kw1, kw2=100     **kwargs\n",
    "# ----------\n",
    "# positional parameters\n",
    "# can have default values\n",
    "# non-defaulted params are mandatory args\n",
    "#                 ---------\n",
    "#                 scoops up any additional positional arguments\n",
    "#                 * indicates no more positional arguments\n",
    "#                               -----------\n",
    "#                               specific keyword-only args\n",
    "#                               can have default values\n",
    "#                               non-defaulted params ae manatory args\n",
    "#                                 user must specify them using keywords\n",
    "#                                                 ---------\n",
    "#                                                 scoops up any additional keyword args\n"
   ]
  },
  {
   "cell_type": "code",
   "execution_count": 2,
   "id": "59582d09-ec55-4e16-9c3f-9a842336aaa9",
   "metadata": {},
   "outputs": [],
   "source": [
    "## A simple Timer function"
   ]
  },
  {
   "cell_type": "code",
   "execution_count": 3,
   "id": "fe5c8c92-6912-42e9-af2d-3e9322a554c6",
   "metadata": {},
   "outputs": [],
   "source": [
    "import time"
   ]
  },
  {
   "cell_type": "code",
   "execution_count": 4,
   "id": "84b971df-8730-43b7-9c40-6a60f8693f52",
   "metadata": {},
   "outputs": [],
   "source": [
    "def time_it(fn, *args, **kwargs):\n",
    "    print(args, kwargs)"
   ]
  },
  {
   "cell_type": "code",
   "execution_count": 5,
   "id": "5eb15359-5b0f-4a73-b443-4b84d4485036",
   "metadata": {},
   "outputs": [
    {
     "name": "stdout",
     "output_type": "stream",
     "text": [
      "(1, 2, 3) {'sep': ' - ', 'end': ' ***'}\n"
     ]
    }
   ],
   "source": [
    "time_it(print, 1, 2, 3, sep=' - ', end=' ***')"
   ]
  },
  {
   "cell_type": "code",
   "execution_count": 17,
   "id": "edade676-487d-4900-924f-9f7e31f8373e",
   "metadata": {},
   "outputs": [],
   "source": [
    "def time_it(fn, *args, rep=1, **kwargs):\n",
    "    for i in range(rep):\n",
    "        fn(*args, **kwargs)"
   ]
  },
  {
   "cell_type": "code",
   "execution_count": 19,
   "id": "c13c7d04-74d0-4f0b-9d5b-43cbc9231ff0",
   "metadata": {},
   "outputs": [
    {
     "name": "stdout",
     "output_type": "stream",
     "text": [
      "1 - 2 - 3 ***\n",
      "1 - 2 - 3 ***\n",
      "1 - 2 - 3 ***\n",
      "1 - 2 - 3 ***\n",
      "1 - 2 - 3 ***\n"
     ]
    }
   ],
   "source": [
    "time_it(print, 1, 2, 3, sep=' - ', end=' ***\\n', rep=5)"
   ]
  },
  {
   "cell_type": "code",
   "execution_count": 23,
   "id": "c6572f54-842f-4d86-a9fc-99fdeb40a9c4",
   "metadata": {},
   "outputs": [],
   "source": [
    "def time_it(fn, *args, rep=1, **kwargs):\n",
    "    start = time.perf_counter()\n",
    "    for i in range(rep):\n",
    "        fn(*args, **kwargs)\n",
    "    return (time.perf_counter() - start) / rep"
   ]
  },
  {
   "cell_type": "code",
   "execution_count": 24,
   "id": "96f1d24b-8284-4c0a-b91c-08e963cc4173",
   "metadata": {},
   "outputs": [
    {
     "name": "stdout",
     "output_type": "stream",
     "text": [
      "1 - 2 - 3 ***\n",
      "1 - 2 - 3 ***\n",
      "1 - 2 - 3 ***\n",
      "1 - 2 - 3 ***\n",
      "1 - 2 - 3 ***\n",
      "2.9879999783588573e-05\n"
     ]
    }
   ],
   "source": [
    "print(time_it(print, 1, 2, 3, sep=' - ', end=' ***\\n', rep=5))"
   ]
  },
  {
   "cell_type": "code",
   "execution_count": 31,
   "id": "044ba172-ed45-48ef-837c-262c8ffaa3cb",
   "metadata": {},
   "outputs": [],
   "source": [
    "def compute_powers_1(n, *, start=1, end):\n",
    "    '''\n",
    "    use for loop\n",
    "    '''\n",
    "    results = []\n",
    "    for i in range(start, end):\n",
    "        results.append(n ** i)\n",
    "    return results"
   ]
  },
  {
   "cell_type": "code",
   "execution_count": 32,
   "id": "e84a0ec6-8fd5-472f-bc46-04bec356a353",
   "metadata": {},
   "outputs": [
    {
     "data": {
      "text/plain": [
       "[5, 25, 125, 625, 3125, 15625, 78125, 390625, 1953125]"
      ]
     },
     "execution_count": 32,
     "metadata": {},
     "output_type": "execute_result"
    }
   ],
   "source": [
    "compute_powers_1(5, start=1, end=10)"
   ]
  },
  {
   "cell_type": "code",
   "execution_count": 33,
   "id": "92cc6f36-1664-4b25-8caf-d3269ba2d30c",
   "metadata": {},
   "outputs": [],
   "source": [
    "def compute_powers_2(n, *, start=1, end):\n",
    "    '''\n",
    "    use list comprehension\n",
    "    '''\n",
    "    return [n ** i for i in range(start, end)]"
   ]
  },
  {
   "cell_type": "code",
   "execution_count": 34,
   "id": "8a6d8d67-8c30-45e5-b27f-7468a3a43d00",
   "metadata": {},
   "outputs": [
    {
     "data": {
      "text/plain": [
       "[5, 25, 125, 625, 3125, 15625, 78125, 390625, 1953125]"
      ]
     },
     "execution_count": 34,
     "metadata": {},
     "output_type": "execute_result"
    }
   ],
   "source": [
    "compute_powers_2(5, start=1, end=10)"
   ]
  },
  {
   "cell_type": "code",
   "execution_count": 45,
   "id": "0f5f333c-fe6a-4892-9a7f-bb98028b6b23",
   "metadata": {},
   "outputs": [],
   "source": [
    "def compute_powers_3(n, *, start=1, end):\n",
    "    '''\n",
    "    use a generator expression\n",
    "    '''\n",
    "    return list(n**i for i in range(start, end))\n",
    "    "
   ]
  },
  {
   "cell_type": "code",
   "execution_count": 37,
   "id": "36085e56-76e1-4eb1-bcd2-c461d5e955ff",
   "metadata": {},
   "outputs": [
    {
     "data": {
      "text/plain": [
       "[5, 25, 125, 625, 3125, 15625, 78125, 390625, 1953125]"
      ]
     },
     "execution_count": 37,
     "metadata": {},
     "output_type": "execute_result"
    }
   ],
   "source": [
    "list(compute_powers_3(5, start=1, end=10))"
   ]
  },
  {
   "cell_type": "code",
   "execution_count": 42,
   "id": "f431f29c-a9d8-4283-a902-cf2e05cc3e70",
   "metadata": {},
   "outputs": [
    {
     "data": {
      "text/plain": [
       "0.45662996800019756"
      ]
     },
     "execution_count": 42,
     "metadata": {},
     "output_type": "execute_result"
    }
   ],
   "source": [
    "time_it(compute_powers_1, 2, start=1, end=20_000, rep=5)"
   ]
  },
  {
   "cell_type": "code",
   "execution_count": 43,
   "id": "1f811e8d-200d-44b7-b238-3150550a7849",
   "metadata": {},
   "outputs": [
    {
     "data": {
      "text/plain": [
       "0.4629119869998249"
      ]
     },
     "execution_count": 43,
     "metadata": {},
     "output_type": "execute_result"
    }
   ],
   "source": [
    "time_it(compute_powers_2, 2, start=1, end=20_000, rep=5)"
   ]
  },
  {
   "cell_type": "code",
   "execution_count": 46,
   "id": "63f212b8-97ef-46fe-a4bf-c2c65f780dd7",
   "metadata": {},
   "outputs": [
    {
     "data": {
      "text/plain": [
       "0.46035691979996046"
      ]
     },
     "execution_count": 46,
     "metadata": {},
     "output_type": "execute_result"
    }
   ],
   "source": [
    "time_it(compute_powers_3, 2, start=1, end=20_000, rep=5)"
   ]
  },
  {
   "cell_type": "code",
   "execution_count": null,
   "id": "d022c4b8-7dd0-4182-8fd4-3f00a6f5aa01",
   "metadata": {},
   "outputs": [],
   "source": []
  },
  {
   "cell_type": "markdown",
   "id": "dc968380-f66e-4706-909e-79e09cbc35d6",
   "metadata": {},
   "source": [
    "## 09 - Parameter Defaults - Beware"
   ]
  },
  {
   "cell_type": "code",
   "execution_count": 47,
   "id": "9ec8fb0c-74b6-40f2-9513-045f81b50864",
   "metadata": {},
   "outputs": [],
   "source": [
    "from datetime import datetime"
   ]
  },
  {
   "cell_type": "code",
   "execution_count": 49,
   "id": "58ac5988-02f4-4796-b57d-afa4094223c7",
   "metadata": {},
   "outputs": [
    {
     "name": "stderr",
     "output_type": "stream",
     "text": [
      "/tmp/ipykernel_22096/3983769260.py:1: DeprecationWarning: datetime.datetime.utcnow() is deprecated and scheduled for removal in a future version. Use timezone-aware objects to represent datetimes in UTC: datetime.datetime.now(datetime.UTC).\n",
      "  datetime.utcnow()\n"
     ]
    },
    {
     "data": {
      "text/plain": [
       "datetime.datetime(2024, 7, 19, 16, 13, 10, 440496)"
      ]
     },
     "execution_count": 49,
     "metadata": {},
     "output_type": "execute_result"
    }
   ],
   "source": [
    "datetime.utcnow()"
   ]
  },
  {
   "cell_type": "code",
   "execution_count": 55,
   "id": "68df8252-1765-4114-bc0b-1517289c8080",
   "metadata": {},
   "outputs": [
    {
     "name": "stdout",
     "output_type": "stream",
     "text": [
      "2024-07-19 16:16:36.557567+00:00\n"
     ]
    }
   ],
   "source": [
    "from datetime import datetime, timezone\n",
    "\n",
    "now_utc = datetime.now(timezone.utc)\n",
    "print(now_utc)"
   ]
  },
  {
   "cell_type": "code",
   "execution_count": 66,
   "id": "389a1758-a642-4c26-ab2d-47f133b268d5",
   "metadata": {},
   "outputs": [
    {
     "name": "stdout",
     "output_type": "stream",
     "text": [
      "2024-07-19 16:19:11.768822+00:00\n",
      "2024-07-19 11:19:11.768913\n"
     ]
    }
   ],
   "source": [
    "print(datetime.now(timezone.utc))\n",
    "print(datetime.now())"
   ]
  },
  {
   "cell_type": "code",
   "execution_count": null,
   "id": "55fdc2f0-8683-4aa2-8654-9d8b56f87849",
   "metadata": {},
   "outputs": [],
   "source": []
  },
  {
   "cell_type": "markdown",
   "id": "e108d377-74f3-4b4e-8a3b-12cc1b74588f",
   "metadata": {},
   "source": [
    "## 10 - Parameter Defaults - Beware 2"
   ]
  },
  {
   "cell_type": "code",
   "execution_count": 67,
   "id": "f0f77d4a-13ff-490f-8ce7-fd0fb4c7750e",
   "metadata": {},
   "outputs": [],
   "source": [
    "# ..."
   ]
  },
  {
   "cell_type": "code",
   "execution_count": null,
   "id": "91c48c85-ae1b-4293-882d-1fa71cc29578",
   "metadata": {},
   "outputs": [],
   "source": []
  },
  {
   "cell_type": "code",
   "execution_count": null,
   "id": "b58ab30e-94cd-4bb0-bf42-3c2fb21f0f0b",
   "metadata": {},
   "outputs": [],
   "source": []
  },
  {
   "cell_type": "code",
   "execution_count": null,
   "id": "9ca5e45c-2d57-4196-a18b-aab38c827c02",
   "metadata": {},
   "outputs": [],
   "source": []
  },
  {
   "cell_type": "code",
   "execution_count": null,
   "id": "e7f6f796-2878-4415-a498-5466444e2498",
   "metadata": {},
   "outputs": [],
   "source": []
  }
 ],
 "metadata": {
  "kernelspec": {
   "display_name": "Python 3 (ipykernel)",
   "language": "python",
   "name": "python3"
  },
  "language_info": {
   "codemirror_mode": {
    "name": "ipython",
    "version": 3
   },
   "file_extension": ".py",
   "mimetype": "text/x-python",
   "name": "python",
   "nbconvert_exporter": "python",
   "pygments_lexer": "ipython3",
   "version": "3.12.2"
  }
 },
 "nbformat": 4,
 "nbformat_minor": 5
}
